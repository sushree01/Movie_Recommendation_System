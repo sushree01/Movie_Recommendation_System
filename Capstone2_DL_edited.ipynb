{
 "cells": [
  {
   "cell_type": "code",
   "execution_count": 1,
   "id": "d1211e45",
   "metadata": {},
   "outputs": [],
   "source": [
    "import numpy as np\n",
    "import pandas as pd\n",
    "import matplotlib.pyplot as plt\n",
    "import seaborn as sns"
   ]
  },
  {
   "cell_type": "code",
   "execution_count": 2,
   "id": "033846f9",
   "metadata": {},
   "outputs": [],
   "source": [
    "from warnings import filterwarnings\n",
    "filterwarnings('ignore')"
   ]
  },
  {
   "cell_type": "code",
   "execution_count": 3,
   "id": "802d7746",
   "metadata": {},
   "outputs": [],
   "source": [
    "pd.options.display.max_columns=None"
   ]
  },
  {
   "cell_type": "code",
   "execution_count": 4,
   "id": "0c76cbf2",
   "metadata": {},
   "outputs": [],
   "source": [
    "import difflib\n",
    "from sklearn.feature_extraction.text import TfidfVectorizer\n",
    "from sklearn.metrics.pairwise import cosine_similarity"
   ]
  },
  {
   "cell_type": "code",
   "execution_count": 5,
   "id": "b4306794",
   "metadata": {},
   "outputs": [
    {
     "data": {
      "text/plain": [
       "(4803, 4)"
      ]
     },
     "execution_count": 5,
     "metadata": {},
     "output_type": "execute_result"
    }
   ],
   "source": [
    "df_credits=pd.read_csv('C:/Users/Sushree Jena/Desktop/imarticus/machine learning/Kaggle/archive/tmdb_5000_credits.csv')\n",
    "df_credits.shape"
   ]
  },
  {
   "cell_type": "code",
   "execution_count": 6,
   "id": "137382aa",
   "metadata": {},
   "outputs": [
    {
     "data": {
      "text/html": [
       "<div>\n",
       "<style scoped>\n",
       "    .dataframe tbody tr th:only-of-type {\n",
       "        vertical-align: middle;\n",
       "    }\n",
       "\n",
       "    .dataframe tbody tr th {\n",
       "        vertical-align: top;\n",
       "    }\n",
       "\n",
       "    .dataframe thead th {\n",
       "        text-align: right;\n",
       "    }\n",
       "</style>\n",
       "<table border=\"1\" class=\"dataframe\">\n",
       "  <thead>\n",
       "    <tr style=\"text-align: right;\">\n",
       "      <th></th>\n",
       "      <th>movie_id</th>\n",
       "      <th>title</th>\n",
       "      <th>cast</th>\n",
       "      <th>crew</th>\n",
       "    </tr>\n",
       "  </thead>\n",
       "  <tbody>\n",
       "    <tr>\n",
       "      <th>0</th>\n",
       "      <td>19995</td>\n",
       "      <td>Avatar</td>\n",
       "      <td>[{\"cast_id\": 242, \"character\": \"Jake Sully\", \"...</td>\n",
       "      <td>[{\"credit_id\": \"52fe48009251416c750aca23\", \"de...</td>\n",
       "    </tr>\n",
       "    <tr>\n",
       "      <th>1</th>\n",
       "      <td>285</td>\n",
       "      <td>Pirates of the Caribbean: At World's End</td>\n",
       "      <td>[{\"cast_id\": 4, \"character\": \"Captain Jack Spa...</td>\n",
       "      <td>[{\"credit_id\": \"52fe4232c3a36847f800b579\", \"de...</td>\n",
       "    </tr>\n",
       "    <tr>\n",
       "      <th>2</th>\n",
       "      <td>206647</td>\n",
       "      <td>Spectre</td>\n",
       "      <td>[{\"cast_id\": 1, \"character\": \"James Bond\", \"cr...</td>\n",
       "      <td>[{\"credit_id\": \"54805967c3a36829b5002c41\", \"de...</td>\n",
       "    </tr>\n",
       "    <tr>\n",
       "      <th>3</th>\n",
       "      <td>49026</td>\n",
       "      <td>The Dark Knight Rises</td>\n",
       "      <td>[{\"cast_id\": 2, \"character\": \"Bruce Wayne / Ba...</td>\n",
       "      <td>[{\"credit_id\": \"52fe4781c3a36847f81398c3\", \"de...</td>\n",
       "    </tr>\n",
       "    <tr>\n",
       "      <th>4</th>\n",
       "      <td>49529</td>\n",
       "      <td>John Carter</td>\n",
       "      <td>[{\"cast_id\": 5, \"character\": \"John Carter\", \"c...</td>\n",
       "      <td>[{\"credit_id\": \"52fe479ac3a36847f813eaa3\", \"de...</td>\n",
       "    </tr>\n",
       "  </tbody>\n",
       "</table>\n",
       "</div>"
      ],
      "text/plain": [
       "   movie_id                                     title  \\\n",
       "0     19995                                    Avatar   \n",
       "1       285  Pirates of the Caribbean: At World's End   \n",
       "2    206647                                   Spectre   \n",
       "3     49026                     The Dark Knight Rises   \n",
       "4     49529                               John Carter   \n",
       "\n",
       "                                                cast  \\\n",
       "0  [{\"cast_id\": 242, \"character\": \"Jake Sully\", \"...   \n",
       "1  [{\"cast_id\": 4, \"character\": \"Captain Jack Spa...   \n",
       "2  [{\"cast_id\": 1, \"character\": \"James Bond\", \"cr...   \n",
       "3  [{\"cast_id\": 2, \"character\": \"Bruce Wayne / Ba...   \n",
       "4  [{\"cast_id\": 5, \"character\": \"John Carter\", \"c...   \n",
       "\n",
       "                                                crew  \n",
       "0  [{\"credit_id\": \"52fe48009251416c750aca23\", \"de...  \n",
       "1  [{\"credit_id\": \"52fe4232c3a36847f800b579\", \"de...  \n",
       "2  [{\"credit_id\": \"54805967c3a36829b5002c41\", \"de...  \n",
       "3  [{\"credit_id\": \"52fe4781c3a36847f81398c3\", \"de...  \n",
       "4  [{\"credit_id\": \"52fe479ac3a36847f813eaa3\", \"de...  "
      ]
     },
     "execution_count": 6,
     "metadata": {},
     "output_type": "execute_result"
    }
   ],
   "source": [
    "df_credits.head()"
   ]
  },
  {
   "cell_type": "code",
   "execution_count": 7,
   "id": "3d113cb4",
   "metadata": {},
   "outputs": [
    {
     "data": {
      "text/plain": [
       "(4803, 20)"
      ]
     },
     "execution_count": 7,
     "metadata": {},
     "output_type": "execute_result"
    }
   ],
   "source": [
    "df_moviedata=pd.read_csv('C:/Users/Sushree Jena/Desktop/imarticus/machine learning/Kaggle/archive/tmdb_5000_movies.csv')\n",
    "df_moviedata.shape"
   ]
  },
  {
   "cell_type": "code",
   "execution_count": 8,
   "id": "8f5a3769",
   "metadata": {},
   "outputs": [
    {
     "data": {
      "text/html": [
       "<div>\n",
       "<style scoped>\n",
       "    .dataframe tbody tr th:only-of-type {\n",
       "        vertical-align: middle;\n",
       "    }\n",
       "\n",
       "    .dataframe tbody tr th {\n",
       "        vertical-align: top;\n",
       "    }\n",
       "\n",
       "    .dataframe thead th {\n",
       "        text-align: right;\n",
       "    }\n",
       "</style>\n",
       "<table border=\"1\" class=\"dataframe\">\n",
       "  <thead>\n",
       "    <tr style=\"text-align: right;\">\n",
       "      <th></th>\n",
       "      <th>budget</th>\n",
       "      <th>genres</th>\n",
       "      <th>homepage</th>\n",
       "      <th>id</th>\n",
       "      <th>keywords</th>\n",
       "      <th>original_language</th>\n",
       "      <th>original_title</th>\n",
       "      <th>overview</th>\n",
       "      <th>popularity</th>\n",
       "      <th>production_companies</th>\n",
       "      <th>production_countries</th>\n",
       "      <th>release_date</th>\n",
       "      <th>revenue</th>\n",
       "      <th>runtime</th>\n",
       "      <th>spoken_languages</th>\n",
       "      <th>status</th>\n",
       "      <th>tagline</th>\n",
       "      <th>title</th>\n",
       "      <th>vote_average</th>\n",
       "      <th>vote_count</th>\n",
       "    </tr>\n",
       "  </thead>\n",
       "  <tbody>\n",
       "    <tr>\n",
       "      <th>0</th>\n",
       "      <td>237000000</td>\n",
       "      <td>[{\"id\": 28, \"name\": \"Action\"}, {\"id\": 12, \"nam...</td>\n",
       "      <td>http://www.avatarmovie.com/</td>\n",
       "      <td>19995</td>\n",
       "      <td>[{\"id\": 1463, \"name\": \"culture clash\"}, {\"id\":...</td>\n",
       "      <td>en</td>\n",
       "      <td>Avatar</td>\n",
       "      <td>In the 22nd century, a paraplegic Marine is di...</td>\n",
       "      <td>150.437577</td>\n",
       "      <td>[{\"name\": \"Ingenious Film Partners\", \"id\": 289...</td>\n",
       "      <td>[{\"iso_3166_1\": \"US\", \"name\": \"United States o...</td>\n",
       "      <td>2009-12-10</td>\n",
       "      <td>2787965087</td>\n",
       "      <td>162.0</td>\n",
       "      <td>[{\"iso_639_1\": \"en\", \"name\": \"English\"}, {\"iso...</td>\n",
       "      <td>Released</td>\n",
       "      <td>Enter the World of Pandora.</td>\n",
       "      <td>Avatar</td>\n",
       "      <td>7.2</td>\n",
       "      <td>11800</td>\n",
       "    </tr>\n",
       "    <tr>\n",
       "      <th>1</th>\n",
       "      <td>300000000</td>\n",
       "      <td>[{\"id\": 12, \"name\": \"Adventure\"}, {\"id\": 14, \"...</td>\n",
       "      <td>http://disney.go.com/disneypictures/pirates/</td>\n",
       "      <td>285</td>\n",
       "      <td>[{\"id\": 270, \"name\": \"ocean\"}, {\"id\": 726, \"na...</td>\n",
       "      <td>en</td>\n",
       "      <td>Pirates of the Caribbean: At World's End</td>\n",
       "      <td>Captain Barbossa, long believed to be dead, ha...</td>\n",
       "      <td>139.082615</td>\n",
       "      <td>[{\"name\": \"Walt Disney Pictures\", \"id\": 2}, {\"...</td>\n",
       "      <td>[{\"iso_3166_1\": \"US\", \"name\": \"United States o...</td>\n",
       "      <td>2007-05-19</td>\n",
       "      <td>961000000</td>\n",
       "      <td>169.0</td>\n",
       "      <td>[{\"iso_639_1\": \"en\", \"name\": \"English\"}]</td>\n",
       "      <td>Released</td>\n",
       "      <td>At the end of the world, the adventure begins.</td>\n",
       "      <td>Pirates of the Caribbean: At World's End</td>\n",
       "      <td>6.9</td>\n",
       "      <td>4500</td>\n",
       "    </tr>\n",
       "    <tr>\n",
       "      <th>2</th>\n",
       "      <td>245000000</td>\n",
       "      <td>[{\"id\": 28, \"name\": \"Action\"}, {\"id\": 12, \"nam...</td>\n",
       "      <td>http://www.sonypictures.com/movies/spectre/</td>\n",
       "      <td>206647</td>\n",
       "      <td>[{\"id\": 470, \"name\": \"spy\"}, {\"id\": 818, \"name...</td>\n",
       "      <td>en</td>\n",
       "      <td>Spectre</td>\n",
       "      <td>A cryptic message from Bond’s past sends him o...</td>\n",
       "      <td>107.376788</td>\n",
       "      <td>[{\"name\": \"Columbia Pictures\", \"id\": 5}, {\"nam...</td>\n",
       "      <td>[{\"iso_3166_1\": \"GB\", \"name\": \"United Kingdom\"...</td>\n",
       "      <td>2015-10-26</td>\n",
       "      <td>880674609</td>\n",
       "      <td>148.0</td>\n",
       "      <td>[{\"iso_639_1\": \"fr\", \"name\": \"Fran\\u00e7ais\"},...</td>\n",
       "      <td>Released</td>\n",
       "      <td>A Plan No One Escapes</td>\n",
       "      <td>Spectre</td>\n",
       "      <td>6.3</td>\n",
       "      <td>4466</td>\n",
       "    </tr>\n",
       "    <tr>\n",
       "      <th>3</th>\n",
       "      <td>250000000</td>\n",
       "      <td>[{\"id\": 28, \"name\": \"Action\"}, {\"id\": 80, \"nam...</td>\n",
       "      <td>http://www.thedarkknightrises.com/</td>\n",
       "      <td>49026</td>\n",
       "      <td>[{\"id\": 849, \"name\": \"dc comics\"}, {\"id\": 853,...</td>\n",
       "      <td>en</td>\n",
       "      <td>The Dark Knight Rises</td>\n",
       "      <td>Following the death of District Attorney Harve...</td>\n",
       "      <td>112.312950</td>\n",
       "      <td>[{\"name\": \"Legendary Pictures\", \"id\": 923}, {\"...</td>\n",
       "      <td>[{\"iso_3166_1\": \"US\", \"name\": \"United States o...</td>\n",
       "      <td>2012-07-16</td>\n",
       "      <td>1084939099</td>\n",
       "      <td>165.0</td>\n",
       "      <td>[{\"iso_639_1\": \"en\", \"name\": \"English\"}]</td>\n",
       "      <td>Released</td>\n",
       "      <td>The Legend Ends</td>\n",
       "      <td>The Dark Knight Rises</td>\n",
       "      <td>7.6</td>\n",
       "      <td>9106</td>\n",
       "    </tr>\n",
       "    <tr>\n",
       "      <th>4</th>\n",
       "      <td>260000000</td>\n",
       "      <td>[{\"id\": 28, \"name\": \"Action\"}, {\"id\": 12, \"nam...</td>\n",
       "      <td>http://movies.disney.com/john-carter</td>\n",
       "      <td>49529</td>\n",
       "      <td>[{\"id\": 818, \"name\": \"based on novel\"}, {\"id\":...</td>\n",
       "      <td>en</td>\n",
       "      <td>John Carter</td>\n",
       "      <td>John Carter is a war-weary, former military ca...</td>\n",
       "      <td>43.926995</td>\n",
       "      <td>[{\"name\": \"Walt Disney Pictures\", \"id\": 2}]</td>\n",
       "      <td>[{\"iso_3166_1\": \"US\", \"name\": \"United States o...</td>\n",
       "      <td>2012-03-07</td>\n",
       "      <td>284139100</td>\n",
       "      <td>132.0</td>\n",
       "      <td>[{\"iso_639_1\": \"en\", \"name\": \"English\"}]</td>\n",
       "      <td>Released</td>\n",
       "      <td>Lost in our world, found in another.</td>\n",
       "      <td>John Carter</td>\n",
       "      <td>6.1</td>\n",
       "      <td>2124</td>\n",
       "    </tr>\n",
       "  </tbody>\n",
       "</table>\n",
       "</div>"
      ],
      "text/plain": [
       "      budget                                             genres  \\\n",
       "0  237000000  [{\"id\": 28, \"name\": \"Action\"}, {\"id\": 12, \"nam...   \n",
       "1  300000000  [{\"id\": 12, \"name\": \"Adventure\"}, {\"id\": 14, \"...   \n",
       "2  245000000  [{\"id\": 28, \"name\": \"Action\"}, {\"id\": 12, \"nam...   \n",
       "3  250000000  [{\"id\": 28, \"name\": \"Action\"}, {\"id\": 80, \"nam...   \n",
       "4  260000000  [{\"id\": 28, \"name\": \"Action\"}, {\"id\": 12, \"nam...   \n",
       "\n",
       "                                       homepage      id  \\\n",
       "0                   http://www.avatarmovie.com/   19995   \n",
       "1  http://disney.go.com/disneypictures/pirates/     285   \n",
       "2   http://www.sonypictures.com/movies/spectre/  206647   \n",
       "3            http://www.thedarkknightrises.com/   49026   \n",
       "4          http://movies.disney.com/john-carter   49529   \n",
       "\n",
       "                                            keywords original_language  \\\n",
       "0  [{\"id\": 1463, \"name\": \"culture clash\"}, {\"id\":...                en   \n",
       "1  [{\"id\": 270, \"name\": \"ocean\"}, {\"id\": 726, \"na...                en   \n",
       "2  [{\"id\": 470, \"name\": \"spy\"}, {\"id\": 818, \"name...                en   \n",
       "3  [{\"id\": 849, \"name\": \"dc comics\"}, {\"id\": 853,...                en   \n",
       "4  [{\"id\": 818, \"name\": \"based on novel\"}, {\"id\":...                en   \n",
       "\n",
       "                             original_title  \\\n",
       "0                                    Avatar   \n",
       "1  Pirates of the Caribbean: At World's End   \n",
       "2                                   Spectre   \n",
       "3                     The Dark Knight Rises   \n",
       "4                               John Carter   \n",
       "\n",
       "                                            overview  popularity  \\\n",
       "0  In the 22nd century, a paraplegic Marine is di...  150.437577   \n",
       "1  Captain Barbossa, long believed to be dead, ha...  139.082615   \n",
       "2  A cryptic message from Bond’s past sends him o...  107.376788   \n",
       "3  Following the death of District Attorney Harve...  112.312950   \n",
       "4  John Carter is a war-weary, former military ca...   43.926995   \n",
       "\n",
       "                                production_companies  \\\n",
       "0  [{\"name\": \"Ingenious Film Partners\", \"id\": 289...   \n",
       "1  [{\"name\": \"Walt Disney Pictures\", \"id\": 2}, {\"...   \n",
       "2  [{\"name\": \"Columbia Pictures\", \"id\": 5}, {\"nam...   \n",
       "3  [{\"name\": \"Legendary Pictures\", \"id\": 923}, {\"...   \n",
       "4        [{\"name\": \"Walt Disney Pictures\", \"id\": 2}]   \n",
       "\n",
       "                                production_countries release_date     revenue  \\\n",
       "0  [{\"iso_3166_1\": \"US\", \"name\": \"United States o...   2009-12-10  2787965087   \n",
       "1  [{\"iso_3166_1\": \"US\", \"name\": \"United States o...   2007-05-19   961000000   \n",
       "2  [{\"iso_3166_1\": \"GB\", \"name\": \"United Kingdom\"...   2015-10-26   880674609   \n",
       "3  [{\"iso_3166_1\": \"US\", \"name\": \"United States o...   2012-07-16  1084939099   \n",
       "4  [{\"iso_3166_1\": \"US\", \"name\": \"United States o...   2012-03-07   284139100   \n",
       "\n",
       "   runtime                                   spoken_languages    status  \\\n",
       "0    162.0  [{\"iso_639_1\": \"en\", \"name\": \"English\"}, {\"iso...  Released   \n",
       "1    169.0           [{\"iso_639_1\": \"en\", \"name\": \"English\"}]  Released   \n",
       "2    148.0  [{\"iso_639_1\": \"fr\", \"name\": \"Fran\\u00e7ais\"},...  Released   \n",
       "3    165.0           [{\"iso_639_1\": \"en\", \"name\": \"English\"}]  Released   \n",
       "4    132.0           [{\"iso_639_1\": \"en\", \"name\": \"English\"}]  Released   \n",
       "\n",
       "                                          tagline  \\\n",
       "0                     Enter the World of Pandora.   \n",
       "1  At the end of the world, the adventure begins.   \n",
       "2                           A Plan No One Escapes   \n",
       "3                                 The Legend Ends   \n",
       "4            Lost in our world, found in another.   \n",
       "\n",
       "                                      title  vote_average  vote_count  \n",
       "0                                    Avatar           7.2       11800  \n",
       "1  Pirates of the Caribbean: At World's End           6.9        4500  \n",
       "2                                   Spectre           6.3        4466  \n",
       "3                     The Dark Knight Rises           7.6        9106  \n",
       "4                               John Carter           6.1        2124  "
      ]
     },
     "execution_count": 8,
     "metadata": {},
     "output_type": "execute_result"
    }
   ],
   "source": [
    "df_moviedata.head()"
   ]
  },
  {
   "cell_type": "code",
   "execution_count": 9,
   "id": "d3233151",
   "metadata": {},
   "outputs": [],
   "source": [
    "df=pd.merge(df_moviedata,df_credits)\n",
    "df=df.drop('id',axis=1)"
   ]
  },
  {
   "cell_type": "code",
   "execution_count": 10,
   "id": "ff81e532",
   "metadata": {},
   "outputs": [
    {
     "data": {
      "text/plain": [
       "(4809, 22)"
      ]
     },
     "execution_count": 10,
     "metadata": {},
     "output_type": "execute_result"
    }
   ],
   "source": [
    "df.shape"
   ]
  },
  {
   "cell_type": "code",
   "execution_count": 11,
   "id": "75cbbf5a",
   "metadata": {
    "scrolled": true
   },
   "outputs": [
    {
     "data": {
      "text/html": [
       "<div>\n",
       "<style scoped>\n",
       "    .dataframe tbody tr th:only-of-type {\n",
       "        vertical-align: middle;\n",
       "    }\n",
       "\n",
       "    .dataframe tbody tr th {\n",
       "        vertical-align: top;\n",
       "    }\n",
       "\n",
       "    .dataframe thead th {\n",
       "        text-align: right;\n",
       "    }\n",
       "</style>\n",
       "<table border=\"1\" class=\"dataframe\">\n",
       "  <thead>\n",
       "    <tr style=\"text-align: right;\">\n",
       "      <th></th>\n",
       "      <th>budget</th>\n",
       "      <th>genres</th>\n",
       "      <th>homepage</th>\n",
       "      <th>keywords</th>\n",
       "      <th>original_language</th>\n",
       "      <th>original_title</th>\n",
       "      <th>overview</th>\n",
       "      <th>popularity</th>\n",
       "      <th>production_companies</th>\n",
       "      <th>production_countries</th>\n",
       "      <th>release_date</th>\n",
       "      <th>revenue</th>\n",
       "      <th>runtime</th>\n",
       "      <th>spoken_languages</th>\n",
       "      <th>status</th>\n",
       "      <th>tagline</th>\n",
       "      <th>title</th>\n",
       "      <th>vote_average</th>\n",
       "      <th>vote_count</th>\n",
       "      <th>movie_id</th>\n",
       "      <th>cast</th>\n",
       "      <th>crew</th>\n",
       "    </tr>\n",
       "  </thead>\n",
       "  <tbody>\n",
       "    <tr>\n",
       "      <th>0</th>\n",
       "      <td>237000000</td>\n",
       "      <td>[{\"id\": 28, \"name\": \"Action\"}, {\"id\": 12, \"nam...</td>\n",
       "      <td>http://www.avatarmovie.com/</td>\n",
       "      <td>[{\"id\": 1463, \"name\": \"culture clash\"}, {\"id\":...</td>\n",
       "      <td>en</td>\n",
       "      <td>Avatar</td>\n",
       "      <td>In the 22nd century, a paraplegic Marine is di...</td>\n",
       "      <td>150.437577</td>\n",
       "      <td>[{\"name\": \"Ingenious Film Partners\", \"id\": 289...</td>\n",
       "      <td>[{\"iso_3166_1\": \"US\", \"name\": \"United States o...</td>\n",
       "      <td>2009-12-10</td>\n",
       "      <td>2787965087</td>\n",
       "      <td>162.0</td>\n",
       "      <td>[{\"iso_639_1\": \"en\", \"name\": \"English\"}, {\"iso...</td>\n",
       "      <td>Released</td>\n",
       "      <td>Enter the World of Pandora.</td>\n",
       "      <td>Avatar</td>\n",
       "      <td>7.2</td>\n",
       "      <td>11800</td>\n",
       "      <td>19995</td>\n",
       "      <td>[{\"cast_id\": 242, \"character\": \"Jake Sully\", \"...</td>\n",
       "      <td>[{\"credit_id\": \"52fe48009251416c750aca23\", \"de...</td>\n",
       "    </tr>\n",
       "    <tr>\n",
       "      <th>1</th>\n",
       "      <td>300000000</td>\n",
       "      <td>[{\"id\": 12, \"name\": \"Adventure\"}, {\"id\": 14, \"...</td>\n",
       "      <td>http://disney.go.com/disneypictures/pirates/</td>\n",
       "      <td>[{\"id\": 270, \"name\": \"ocean\"}, {\"id\": 726, \"na...</td>\n",
       "      <td>en</td>\n",
       "      <td>Pirates of the Caribbean: At World's End</td>\n",
       "      <td>Captain Barbossa, long believed to be dead, ha...</td>\n",
       "      <td>139.082615</td>\n",
       "      <td>[{\"name\": \"Walt Disney Pictures\", \"id\": 2}, {\"...</td>\n",
       "      <td>[{\"iso_3166_1\": \"US\", \"name\": \"United States o...</td>\n",
       "      <td>2007-05-19</td>\n",
       "      <td>961000000</td>\n",
       "      <td>169.0</td>\n",
       "      <td>[{\"iso_639_1\": \"en\", \"name\": \"English\"}]</td>\n",
       "      <td>Released</td>\n",
       "      <td>At the end of the world, the adventure begins.</td>\n",
       "      <td>Pirates of the Caribbean: At World's End</td>\n",
       "      <td>6.9</td>\n",
       "      <td>4500</td>\n",
       "      <td>285</td>\n",
       "      <td>[{\"cast_id\": 4, \"character\": \"Captain Jack Spa...</td>\n",
       "      <td>[{\"credit_id\": \"52fe4232c3a36847f800b579\", \"de...</td>\n",
       "    </tr>\n",
       "    <tr>\n",
       "      <th>2</th>\n",
       "      <td>245000000</td>\n",
       "      <td>[{\"id\": 28, \"name\": \"Action\"}, {\"id\": 12, \"nam...</td>\n",
       "      <td>http://www.sonypictures.com/movies/spectre/</td>\n",
       "      <td>[{\"id\": 470, \"name\": \"spy\"}, {\"id\": 818, \"name...</td>\n",
       "      <td>en</td>\n",
       "      <td>Spectre</td>\n",
       "      <td>A cryptic message from Bond’s past sends him o...</td>\n",
       "      <td>107.376788</td>\n",
       "      <td>[{\"name\": \"Columbia Pictures\", \"id\": 5}, {\"nam...</td>\n",
       "      <td>[{\"iso_3166_1\": \"GB\", \"name\": \"United Kingdom\"...</td>\n",
       "      <td>2015-10-26</td>\n",
       "      <td>880674609</td>\n",
       "      <td>148.0</td>\n",
       "      <td>[{\"iso_639_1\": \"fr\", \"name\": \"Fran\\u00e7ais\"},...</td>\n",
       "      <td>Released</td>\n",
       "      <td>A Plan No One Escapes</td>\n",
       "      <td>Spectre</td>\n",
       "      <td>6.3</td>\n",
       "      <td>4466</td>\n",
       "      <td>206647</td>\n",
       "      <td>[{\"cast_id\": 1, \"character\": \"James Bond\", \"cr...</td>\n",
       "      <td>[{\"credit_id\": \"54805967c3a36829b5002c41\", \"de...</td>\n",
       "    </tr>\n",
       "    <tr>\n",
       "      <th>3</th>\n",
       "      <td>250000000</td>\n",
       "      <td>[{\"id\": 28, \"name\": \"Action\"}, {\"id\": 80, \"nam...</td>\n",
       "      <td>http://www.thedarkknightrises.com/</td>\n",
       "      <td>[{\"id\": 849, \"name\": \"dc comics\"}, {\"id\": 853,...</td>\n",
       "      <td>en</td>\n",
       "      <td>The Dark Knight Rises</td>\n",
       "      <td>Following the death of District Attorney Harve...</td>\n",
       "      <td>112.312950</td>\n",
       "      <td>[{\"name\": \"Legendary Pictures\", \"id\": 923}, {\"...</td>\n",
       "      <td>[{\"iso_3166_1\": \"US\", \"name\": \"United States o...</td>\n",
       "      <td>2012-07-16</td>\n",
       "      <td>1084939099</td>\n",
       "      <td>165.0</td>\n",
       "      <td>[{\"iso_639_1\": \"en\", \"name\": \"English\"}]</td>\n",
       "      <td>Released</td>\n",
       "      <td>The Legend Ends</td>\n",
       "      <td>The Dark Knight Rises</td>\n",
       "      <td>7.6</td>\n",
       "      <td>9106</td>\n",
       "      <td>49026</td>\n",
       "      <td>[{\"cast_id\": 2, \"character\": \"Bruce Wayne / Ba...</td>\n",
       "      <td>[{\"credit_id\": \"52fe4781c3a36847f81398c3\", \"de...</td>\n",
       "    </tr>\n",
       "    <tr>\n",
       "      <th>4</th>\n",
       "      <td>260000000</td>\n",
       "      <td>[{\"id\": 28, \"name\": \"Action\"}, {\"id\": 12, \"nam...</td>\n",
       "      <td>http://movies.disney.com/john-carter</td>\n",
       "      <td>[{\"id\": 818, \"name\": \"based on novel\"}, {\"id\":...</td>\n",
       "      <td>en</td>\n",
       "      <td>John Carter</td>\n",
       "      <td>John Carter is a war-weary, former military ca...</td>\n",
       "      <td>43.926995</td>\n",
       "      <td>[{\"name\": \"Walt Disney Pictures\", \"id\": 2}]</td>\n",
       "      <td>[{\"iso_3166_1\": \"US\", \"name\": \"United States o...</td>\n",
       "      <td>2012-03-07</td>\n",
       "      <td>284139100</td>\n",
       "      <td>132.0</td>\n",
       "      <td>[{\"iso_639_1\": \"en\", \"name\": \"English\"}]</td>\n",
       "      <td>Released</td>\n",
       "      <td>Lost in our world, found in another.</td>\n",
       "      <td>John Carter</td>\n",
       "      <td>6.1</td>\n",
       "      <td>2124</td>\n",
       "      <td>49529</td>\n",
       "      <td>[{\"cast_id\": 5, \"character\": \"John Carter\", \"c...</td>\n",
       "      <td>[{\"credit_id\": \"52fe479ac3a36847f813eaa3\", \"de...</td>\n",
       "    </tr>\n",
       "  </tbody>\n",
       "</table>\n",
       "</div>"
      ],
      "text/plain": [
       "      budget                                             genres  \\\n",
       "0  237000000  [{\"id\": 28, \"name\": \"Action\"}, {\"id\": 12, \"nam...   \n",
       "1  300000000  [{\"id\": 12, \"name\": \"Adventure\"}, {\"id\": 14, \"...   \n",
       "2  245000000  [{\"id\": 28, \"name\": \"Action\"}, {\"id\": 12, \"nam...   \n",
       "3  250000000  [{\"id\": 28, \"name\": \"Action\"}, {\"id\": 80, \"nam...   \n",
       "4  260000000  [{\"id\": 28, \"name\": \"Action\"}, {\"id\": 12, \"nam...   \n",
       "\n",
       "                                       homepage  \\\n",
       "0                   http://www.avatarmovie.com/   \n",
       "1  http://disney.go.com/disneypictures/pirates/   \n",
       "2   http://www.sonypictures.com/movies/spectre/   \n",
       "3            http://www.thedarkknightrises.com/   \n",
       "4          http://movies.disney.com/john-carter   \n",
       "\n",
       "                                            keywords original_language  \\\n",
       "0  [{\"id\": 1463, \"name\": \"culture clash\"}, {\"id\":...                en   \n",
       "1  [{\"id\": 270, \"name\": \"ocean\"}, {\"id\": 726, \"na...                en   \n",
       "2  [{\"id\": 470, \"name\": \"spy\"}, {\"id\": 818, \"name...                en   \n",
       "3  [{\"id\": 849, \"name\": \"dc comics\"}, {\"id\": 853,...                en   \n",
       "4  [{\"id\": 818, \"name\": \"based on novel\"}, {\"id\":...                en   \n",
       "\n",
       "                             original_title  \\\n",
       "0                                    Avatar   \n",
       "1  Pirates of the Caribbean: At World's End   \n",
       "2                                   Spectre   \n",
       "3                     The Dark Knight Rises   \n",
       "4                               John Carter   \n",
       "\n",
       "                                            overview  popularity  \\\n",
       "0  In the 22nd century, a paraplegic Marine is di...  150.437577   \n",
       "1  Captain Barbossa, long believed to be dead, ha...  139.082615   \n",
       "2  A cryptic message from Bond’s past sends him o...  107.376788   \n",
       "3  Following the death of District Attorney Harve...  112.312950   \n",
       "4  John Carter is a war-weary, former military ca...   43.926995   \n",
       "\n",
       "                                production_companies  \\\n",
       "0  [{\"name\": \"Ingenious Film Partners\", \"id\": 289...   \n",
       "1  [{\"name\": \"Walt Disney Pictures\", \"id\": 2}, {\"...   \n",
       "2  [{\"name\": \"Columbia Pictures\", \"id\": 5}, {\"nam...   \n",
       "3  [{\"name\": \"Legendary Pictures\", \"id\": 923}, {\"...   \n",
       "4        [{\"name\": \"Walt Disney Pictures\", \"id\": 2}]   \n",
       "\n",
       "                                production_countries release_date     revenue  \\\n",
       "0  [{\"iso_3166_1\": \"US\", \"name\": \"United States o...   2009-12-10  2787965087   \n",
       "1  [{\"iso_3166_1\": \"US\", \"name\": \"United States o...   2007-05-19   961000000   \n",
       "2  [{\"iso_3166_1\": \"GB\", \"name\": \"United Kingdom\"...   2015-10-26   880674609   \n",
       "3  [{\"iso_3166_1\": \"US\", \"name\": \"United States o...   2012-07-16  1084939099   \n",
       "4  [{\"iso_3166_1\": \"US\", \"name\": \"United States o...   2012-03-07   284139100   \n",
       "\n",
       "   runtime                                   spoken_languages    status  \\\n",
       "0    162.0  [{\"iso_639_1\": \"en\", \"name\": \"English\"}, {\"iso...  Released   \n",
       "1    169.0           [{\"iso_639_1\": \"en\", \"name\": \"English\"}]  Released   \n",
       "2    148.0  [{\"iso_639_1\": \"fr\", \"name\": \"Fran\\u00e7ais\"},...  Released   \n",
       "3    165.0           [{\"iso_639_1\": \"en\", \"name\": \"English\"}]  Released   \n",
       "4    132.0           [{\"iso_639_1\": \"en\", \"name\": \"English\"}]  Released   \n",
       "\n",
       "                                          tagline  \\\n",
       "0                     Enter the World of Pandora.   \n",
       "1  At the end of the world, the adventure begins.   \n",
       "2                           A Plan No One Escapes   \n",
       "3                                 The Legend Ends   \n",
       "4            Lost in our world, found in another.   \n",
       "\n",
       "                                      title  vote_average  vote_count  \\\n",
       "0                                    Avatar           7.2       11800   \n",
       "1  Pirates of the Caribbean: At World's End           6.9        4500   \n",
       "2                                   Spectre           6.3        4466   \n",
       "3                     The Dark Knight Rises           7.6        9106   \n",
       "4                               John Carter           6.1        2124   \n",
       "\n",
       "   movie_id                                               cast  \\\n",
       "0     19995  [{\"cast_id\": 242, \"character\": \"Jake Sully\", \"...   \n",
       "1       285  [{\"cast_id\": 4, \"character\": \"Captain Jack Spa...   \n",
       "2    206647  [{\"cast_id\": 1, \"character\": \"James Bond\", \"cr...   \n",
       "3     49026  [{\"cast_id\": 2, \"character\": \"Bruce Wayne / Ba...   \n",
       "4     49529  [{\"cast_id\": 5, \"character\": \"John Carter\", \"c...   \n",
       "\n",
       "                                                crew  \n",
       "0  [{\"credit_id\": \"52fe48009251416c750aca23\", \"de...  \n",
       "1  [{\"credit_id\": \"52fe4232c3a36847f800b579\", \"de...  \n",
       "2  [{\"credit_id\": \"54805967c3a36829b5002c41\", \"de...  \n",
       "3  [{\"credit_id\": \"52fe4781c3a36847f81398c3\", \"de...  \n",
       "4  [{\"credit_id\": \"52fe479ac3a36847f813eaa3\", \"de...  "
      ]
     },
     "execution_count": 11,
     "metadata": {},
     "output_type": "execute_result"
    }
   ],
   "source": [
    "df.head()"
   ]
  },
  {
   "cell_type": "code",
   "execution_count": 12,
   "id": "684d8dba",
   "metadata": {},
   "outputs": [
    {
     "data": {
      "text/plain": [
       "(4809, 22)"
      ]
     },
     "execution_count": 12,
     "metadata": {},
     "output_type": "execute_result"
    }
   ],
   "source": [
    "df.shape"
   ]
  },
  {
   "cell_type": "code",
   "execution_count": 13,
   "id": "278548ff",
   "metadata": {},
   "outputs": [
    {
     "name": "stdout",
     "output_type": "stream",
     "text": [
      "<class 'pandas.core.frame.DataFrame'>\n",
      "Int64Index: 4809 entries, 0 to 4808\n",
      "Data columns (total 22 columns):\n",
      " #   Column                Non-Null Count  Dtype  \n",
      "---  ------                --------------  -----  \n",
      " 0   budget                4809 non-null   int64  \n",
      " 1   genres                4809 non-null   object \n",
      " 2   homepage              1713 non-null   object \n",
      " 3   keywords              4809 non-null   object \n",
      " 4   original_language     4809 non-null   object \n",
      " 5   original_title        4809 non-null   object \n",
      " 6   overview              4806 non-null   object \n",
      " 7   popularity            4809 non-null   float64\n",
      " 8   production_companies  4809 non-null   object \n",
      " 9   production_countries  4809 non-null   object \n",
      " 10  release_date          4808 non-null   object \n",
      " 11  revenue               4809 non-null   int64  \n",
      " 12  runtime               4807 non-null   float64\n",
      " 13  spoken_languages      4809 non-null   object \n",
      " 14  status                4809 non-null   object \n",
      " 15  tagline               3965 non-null   object \n",
      " 16  title                 4809 non-null   object \n",
      " 17  vote_average          4809 non-null   float64\n",
      " 18  vote_count            4809 non-null   int64  \n",
      " 19  movie_id              4809 non-null   int64  \n",
      " 20  cast                  4809 non-null   object \n",
      " 21  crew                  4809 non-null   object \n",
      "dtypes: float64(3), int64(4), object(15)\n",
      "memory usage: 864.1+ KB\n"
     ]
    }
   ],
   "source": [
    "df.info()"
   ]
  },
  {
   "cell_type": "code",
   "execution_count": 14,
   "id": "5b73afec",
   "metadata": {},
   "outputs": [
    {
     "data": {
      "text/plain": [
       "budget                     0\n",
       "genres                     0\n",
       "homepage                3096\n",
       "keywords                   0\n",
       "original_language          0\n",
       "original_title             0\n",
       "overview                   3\n",
       "popularity                 0\n",
       "production_companies       0\n",
       "production_countries       0\n",
       "release_date               1\n",
       "revenue                    0\n",
       "runtime                    2\n",
       "spoken_languages           0\n",
       "status                     0\n",
       "tagline                  844\n",
       "title                      0\n",
       "vote_average               0\n",
       "vote_count                 0\n",
       "movie_id                   0\n",
       "cast                       0\n",
       "crew                       0\n",
       "dtype: int64"
      ]
     },
     "execution_count": 14,
     "metadata": {},
     "output_type": "execute_result"
    }
   ],
   "source": [
    "df.isnull().sum()"
   ]
  },
  {
   "cell_type": "code",
   "execution_count": 15,
   "id": "5d05d448",
   "metadata": {},
   "outputs": [],
   "source": [
    "#Selected Features"
   ]
  },
  {
   "cell_type": "code",
   "execution_count": 18,
   "id": "12c9a1d8",
   "metadata": {},
   "outputs": [
    {
     "name": "stdout",
     "output_type": "stream",
     "text": [
      "['genres', 'keywords', 'overview', 'cast', 'crew']\n"
     ]
    }
   ],
   "source": [
    "selected_features=['genres','keywords','overview','cast','crew']\n",
    "print(selected_features)"
   ]
  },
  {
   "cell_type": "code",
   "execution_count": 19,
   "id": "90da3030",
   "metadata": {},
   "outputs": [],
   "source": [
    "#filling the null values in the selected columns with null string"
   ]
  },
  {
   "cell_type": "code",
   "execution_count": 20,
   "id": "03d59a4b",
   "metadata": {},
   "outputs": [],
   "source": [
    "for feature in selected_features:\n",
    "    df[feature]=df[feature].fillna('')"
   ]
  },
  {
   "cell_type": "code",
   "execution_count": 21,
   "id": "e9affadb",
   "metadata": {},
   "outputs": [],
   "source": [
    "#Creating a backup"
   ]
  },
  {
   "cell_type": "code",
   "execution_count": 133,
   "id": "23cd40e3",
   "metadata": {},
   "outputs": [],
   "source": [
    "df_new=df.copy(deep=True)"
   ]
  },
  {
   "cell_type": "code",
   "execution_count": 75,
   "id": "08ac60ea",
   "metadata": {},
   "outputs": [],
   "source": [
    "df_new1=df_new.copy(deep=True)"
   ]
  },
  {
   "cell_type": "code",
   "execution_count": 134,
   "id": "495d518d",
   "metadata": {},
   "outputs": [
    {
     "data": {
      "text/plain": [
       "'[{\"id\": 28, \"name\": \"Action\"}, {\"id\": 12, \"name\": \"Adventure\"}, {\"id\": 14, \"name\": \"Fantasy\"}, {\"id\": 878, \"name\": \"Science Fiction\"}]'"
      ]
     },
     "execution_count": 134,
     "metadata": {},
     "output_type": "execute_result"
    }
   ],
   "source": [
    "df_new['genres'].iloc[0]"
   ]
  },
  {
   "cell_type": "code",
   "execution_count": 135,
   "id": "eb9f2c97",
   "metadata": {},
   "outputs": [],
   "source": [
    "import ast"
   ]
  },
  {
   "cell_type": "code",
   "execution_count": 136,
   "id": "b1148f10",
   "metadata": {},
   "outputs": [],
   "source": [
    "def convert(obj):\n",
    "    L=[]\n",
    "    for i in ast.literal_eval(obj):\n",
    "        L.append(i['name'])\n",
    "    return L"
   ]
  },
  {
   "cell_type": "code",
   "execution_count": 137,
   "id": "83814a2e",
   "metadata": {},
   "outputs": [],
   "source": [
    "df_new['genres']=df_new['genres'].apply(convert)\n",
    "df_new['keywords']=df_new['keywords'].apply(convert)"
   ]
  },
  {
   "cell_type": "code",
   "execution_count": 138,
   "id": "db169b89",
   "metadata": {},
   "outputs": [
    {
     "data": {
      "text/html": [
       "<div>\n",
       "<style scoped>\n",
       "    .dataframe tbody tr th:only-of-type {\n",
       "        vertical-align: middle;\n",
       "    }\n",
       "\n",
       "    .dataframe tbody tr th {\n",
       "        vertical-align: top;\n",
       "    }\n",
       "\n",
       "    .dataframe thead th {\n",
       "        text-align: right;\n",
       "    }\n",
       "</style>\n",
       "<table border=\"1\" class=\"dataframe\">\n",
       "  <thead>\n",
       "    <tr style=\"text-align: right;\">\n",
       "      <th></th>\n",
       "      <th>budget</th>\n",
       "      <th>genres</th>\n",
       "      <th>homepage</th>\n",
       "      <th>keywords</th>\n",
       "      <th>original_language</th>\n",
       "      <th>original_title</th>\n",
       "      <th>overview</th>\n",
       "      <th>popularity</th>\n",
       "      <th>production_companies</th>\n",
       "      <th>production_countries</th>\n",
       "      <th>release_date</th>\n",
       "      <th>revenue</th>\n",
       "      <th>runtime</th>\n",
       "      <th>spoken_languages</th>\n",
       "      <th>status</th>\n",
       "      <th>tagline</th>\n",
       "      <th>title</th>\n",
       "      <th>vote_average</th>\n",
       "      <th>vote_count</th>\n",
       "      <th>movie_id</th>\n",
       "      <th>cast</th>\n",
       "      <th>crew</th>\n",
       "    </tr>\n",
       "  </thead>\n",
       "  <tbody>\n",
       "    <tr>\n",
       "      <th>0</th>\n",
       "      <td>237000000</td>\n",
       "      <td>[Action, Adventure, Fantasy, Science Fiction]</td>\n",
       "      <td>http://www.avatarmovie.com/</td>\n",
       "      <td>[culture clash, future, space war, space colon...</td>\n",
       "      <td>en</td>\n",
       "      <td>Avatar</td>\n",
       "      <td>In the 22nd century, a paraplegic Marine is di...</td>\n",
       "      <td>150.437577</td>\n",
       "      <td>[{\"name\": \"Ingenious Film Partners\", \"id\": 289...</td>\n",
       "      <td>[{\"iso_3166_1\": \"US\", \"name\": \"United States o...</td>\n",
       "      <td>2009-12-10</td>\n",
       "      <td>2787965087</td>\n",
       "      <td>162.0</td>\n",
       "      <td>[{\"iso_639_1\": \"en\", \"name\": \"English\"}, {\"iso...</td>\n",
       "      <td>Released</td>\n",
       "      <td>Enter the World of Pandora.</td>\n",
       "      <td>Avatar</td>\n",
       "      <td>7.2</td>\n",
       "      <td>11800</td>\n",
       "      <td>19995</td>\n",
       "      <td>[{\"cast_id\": 242, \"character\": \"Jake Sully\", \"...</td>\n",
       "      <td>[{\"credit_id\": \"52fe48009251416c750aca23\", \"de...</td>\n",
       "    </tr>\n",
       "    <tr>\n",
       "      <th>1</th>\n",
       "      <td>300000000</td>\n",
       "      <td>[Adventure, Fantasy, Action]</td>\n",
       "      <td>http://disney.go.com/disneypictures/pirates/</td>\n",
       "      <td>[ocean, drug abuse, exotic island, east india ...</td>\n",
       "      <td>en</td>\n",
       "      <td>Pirates of the Caribbean: At World's End</td>\n",
       "      <td>Captain Barbossa, long believed to be dead, ha...</td>\n",
       "      <td>139.082615</td>\n",
       "      <td>[{\"name\": \"Walt Disney Pictures\", \"id\": 2}, {\"...</td>\n",
       "      <td>[{\"iso_3166_1\": \"US\", \"name\": \"United States o...</td>\n",
       "      <td>2007-05-19</td>\n",
       "      <td>961000000</td>\n",
       "      <td>169.0</td>\n",
       "      <td>[{\"iso_639_1\": \"en\", \"name\": \"English\"}]</td>\n",
       "      <td>Released</td>\n",
       "      <td>At the end of the world, the adventure begins.</td>\n",
       "      <td>Pirates of the Caribbean: At World's End</td>\n",
       "      <td>6.9</td>\n",
       "      <td>4500</td>\n",
       "      <td>285</td>\n",
       "      <td>[{\"cast_id\": 4, \"character\": \"Captain Jack Spa...</td>\n",
       "      <td>[{\"credit_id\": \"52fe4232c3a36847f800b579\", \"de...</td>\n",
       "    </tr>\n",
       "    <tr>\n",
       "      <th>2</th>\n",
       "      <td>245000000</td>\n",
       "      <td>[Action, Adventure, Crime]</td>\n",
       "      <td>http://www.sonypictures.com/movies/spectre/</td>\n",
       "      <td>[spy, based on novel, secret agent, sequel, mi...</td>\n",
       "      <td>en</td>\n",
       "      <td>Spectre</td>\n",
       "      <td>A cryptic message from Bond’s past sends him o...</td>\n",
       "      <td>107.376788</td>\n",
       "      <td>[{\"name\": \"Columbia Pictures\", \"id\": 5}, {\"nam...</td>\n",
       "      <td>[{\"iso_3166_1\": \"GB\", \"name\": \"United Kingdom\"...</td>\n",
       "      <td>2015-10-26</td>\n",
       "      <td>880674609</td>\n",
       "      <td>148.0</td>\n",
       "      <td>[{\"iso_639_1\": \"fr\", \"name\": \"Fran\\u00e7ais\"},...</td>\n",
       "      <td>Released</td>\n",
       "      <td>A Plan No One Escapes</td>\n",
       "      <td>Spectre</td>\n",
       "      <td>6.3</td>\n",
       "      <td>4466</td>\n",
       "      <td>206647</td>\n",
       "      <td>[{\"cast_id\": 1, \"character\": \"James Bond\", \"cr...</td>\n",
       "      <td>[{\"credit_id\": \"54805967c3a36829b5002c41\", \"de...</td>\n",
       "    </tr>\n",
       "    <tr>\n",
       "      <th>3</th>\n",
       "      <td>250000000</td>\n",
       "      <td>[Action, Crime, Drama, Thriller]</td>\n",
       "      <td>http://www.thedarkknightrises.com/</td>\n",
       "      <td>[dc comics, crime fighter, terrorist, secret i...</td>\n",
       "      <td>en</td>\n",
       "      <td>The Dark Knight Rises</td>\n",
       "      <td>Following the death of District Attorney Harve...</td>\n",
       "      <td>112.312950</td>\n",
       "      <td>[{\"name\": \"Legendary Pictures\", \"id\": 923}, {\"...</td>\n",
       "      <td>[{\"iso_3166_1\": \"US\", \"name\": \"United States o...</td>\n",
       "      <td>2012-07-16</td>\n",
       "      <td>1084939099</td>\n",
       "      <td>165.0</td>\n",
       "      <td>[{\"iso_639_1\": \"en\", \"name\": \"English\"}]</td>\n",
       "      <td>Released</td>\n",
       "      <td>The Legend Ends</td>\n",
       "      <td>The Dark Knight Rises</td>\n",
       "      <td>7.6</td>\n",
       "      <td>9106</td>\n",
       "      <td>49026</td>\n",
       "      <td>[{\"cast_id\": 2, \"character\": \"Bruce Wayne / Ba...</td>\n",
       "      <td>[{\"credit_id\": \"52fe4781c3a36847f81398c3\", \"de...</td>\n",
       "    </tr>\n",
       "    <tr>\n",
       "      <th>4</th>\n",
       "      <td>260000000</td>\n",
       "      <td>[Action, Adventure, Science Fiction]</td>\n",
       "      <td>http://movies.disney.com/john-carter</td>\n",
       "      <td>[based on novel, mars, medallion, space travel...</td>\n",
       "      <td>en</td>\n",
       "      <td>John Carter</td>\n",
       "      <td>John Carter is a war-weary, former military ca...</td>\n",
       "      <td>43.926995</td>\n",
       "      <td>[{\"name\": \"Walt Disney Pictures\", \"id\": 2}]</td>\n",
       "      <td>[{\"iso_3166_1\": \"US\", \"name\": \"United States o...</td>\n",
       "      <td>2012-03-07</td>\n",
       "      <td>284139100</td>\n",
       "      <td>132.0</td>\n",
       "      <td>[{\"iso_639_1\": \"en\", \"name\": \"English\"}]</td>\n",
       "      <td>Released</td>\n",
       "      <td>Lost in our world, found in another.</td>\n",
       "      <td>John Carter</td>\n",
       "      <td>6.1</td>\n",
       "      <td>2124</td>\n",
       "      <td>49529</td>\n",
       "      <td>[{\"cast_id\": 5, \"character\": \"John Carter\", \"c...</td>\n",
       "      <td>[{\"credit_id\": \"52fe479ac3a36847f813eaa3\", \"de...</td>\n",
       "    </tr>\n",
       "  </tbody>\n",
       "</table>\n",
       "</div>"
      ],
      "text/plain": [
       "      budget                                         genres  \\\n",
       "0  237000000  [Action, Adventure, Fantasy, Science Fiction]   \n",
       "1  300000000                   [Adventure, Fantasy, Action]   \n",
       "2  245000000                     [Action, Adventure, Crime]   \n",
       "3  250000000               [Action, Crime, Drama, Thriller]   \n",
       "4  260000000           [Action, Adventure, Science Fiction]   \n",
       "\n",
       "                                       homepage  \\\n",
       "0                   http://www.avatarmovie.com/   \n",
       "1  http://disney.go.com/disneypictures/pirates/   \n",
       "2   http://www.sonypictures.com/movies/spectre/   \n",
       "3            http://www.thedarkknightrises.com/   \n",
       "4          http://movies.disney.com/john-carter   \n",
       "\n",
       "                                            keywords original_language  \\\n",
       "0  [culture clash, future, space war, space colon...                en   \n",
       "1  [ocean, drug abuse, exotic island, east india ...                en   \n",
       "2  [spy, based on novel, secret agent, sequel, mi...                en   \n",
       "3  [dc comics, crime fighter, terrorist, secret i...                en   \n",
       "4  [based on novel, mars, medallion, space travel...                en   \n",
       "\n",
       "                             original_title  \\\n",
       "0                                    Avatar   \n",
       "1  Pirates of the Caribbean: At World's End   \n",
       "2                                   Spectre   \n",
       "3                     The Dark Knight Rises   \n",
       "4                               John Carter   \n",
       "\n",
       "                                            overview  popularity  \\\n",
       "0  In the 22nd century, a paraplegic Marine is di...  150.437577   \n",
       "1  Captain Barbossa, long believed to be dead, ha...  139.082615   \n",
       "2  A cryptic message from Bond’s past sends him o...  107.376788   \n",
       "3  Following the death of District Attorney Harve...  112.312950   \n",
       "4  John Carter is a war-weary, former military ca...   43.926995   \n",
       "\n",
       "                                production_companies  \\\n",
       "0  [{\"name\": \"Ingenious Film Partners\", \"id\": 289...   \n",
       "1  [{\"name\": \"Walt Disney Pictures\", \"id\": 2}, {\"...   \n",
       "2  [{\"name\": \"Columbia Pictures\", \"id\": 5}, {\"nam...   \n",
       "3  [{\"name\": \"Legendary Pictures\", \"id\": 923}, {\"...   \n",
       "4        [{\"name\": \"Walt Disney Pictures\", \"id\": 2}]   \n",
       "\n",
       "                                production_countries release_date     revenue  \\\n",
       "0  [{\"iso_3166_1\": \"US\", \"name\": \"United States o...   2009-12-10  2787965087   \n",
       "1  [{\"iso_3166_1\": \"US\", \"name\": \"United States o...   2007-05-19   961000000   \n",
       "2  [{\"iso_3166_1\": \"GB\", \"name\": \"United Kingdom\"...   2015-10-26   880674609   \n",
       "3  [{\"iso_3166_1\": \"US\", \"name\": \"United States o...   2012-07-16  1084939099   \n",
       "4  [{\"iso_3166_1\": \"US\", \"name\": \"United States o...   2012-03-07   284139100   \n",
       "\n",
       "   runtime                                   spoken_languages    status  \\\n",
       "0    162.0  [{\"iso_639_1\": \"en\", \"name\": \"English\"}, {\"iso...  Released   \n",
       "1    169.0           [{\"iso_639_1\": \"en\", \"name\": \"English\"}]  Released   \n",
       "2    148.0  [{\"iso_639_1\": \"fr\", \"name\": \"Fran\\u00e7ais\"},...  Released   \n",
       "3    165.0           [{\"iso_639_1\": \"en\", \"name\": \"English\"}]  Released   \n",
       "4    132.0           [{\"iso_639_1\": \"en\", \"name\": \"English\"}]  Released   \n",
       "\n",
       "                                          tagline  \\\n",
       "0                     Enter the World of Pandora.   \n",
       "1  At the end of the world, the adventure begins.   \n",
       "2                           A Plan No One Escapes   \n",
       "3                                 The Legend Ends   \n",
       "4            Lost in our world, found in another.   \n",
       "\n",
       "                                      title  vote_average  vote_count  \\\n",
       "0                                    Avatar           7.2       11800   \n",
       "1  Pirates of the Caribbean: At World's End           6.9        4500   \n",
       "2                                   Spectre           6.3        4466   \n",
       "3                     The Dark Knight Rises           7.6        9106   \n",
       "4                               John Carter           6.1        2124   \n",
       "\n",
       "   movie_id                                               cast  \\\n",
       "0     19995  [{\"cast_id\": 242, \"character\": \"Jake Sully\", \"...   \n",
       "1       285  [{\"cast_id\": 4, \"character\": \"Captain Jack Spa...   \n",
       "2    206647  [{\"cast_id\": 1, \"character\": \"James Bond\", \"cr...   \n",
       "3     49026  [{\"cast_id\": 2, \"character\": \"Bruce Wayne / Ba...   \n",
       "4     49529  [{\"cast_id\": 5, \"character\": \"John Carter\", \"c...   \n",
       "\n",
       "                                                crew  \n",
       "0  [{\"credit_id\": \"52fe48009251416c750aca23\", \"de...  \n",
       "1  [{\"credit_id\": \"52fe4232c3a36847f800b579\", \"de...  \n",
       "2  [{\"credit_id\": \"54805967c3a36829b5002c41\", \"de...  \n",
       "3  [{\"credit_id\": \"52fe4781c3a36847f81398c3\", \"de...  \n",
       "4  [{\"credit_id\": \"52fe479ac3a36847f813eaa3\", \"de...  "
      ]
     },
     "execution_count": 138,
     "metadata": {},
     "output_type": "execute_result"
    }
   ],
   "source": [
    "df_new.head()"
   ]
  },
  {
   "cell_type": "code",
   "execution_count": 139,
   "id": "9314408a",
   "metadata": {
    "scrolled": true
   },
   "outputs": [
    {
     "data": {
      "text/plain": [
       "'[{\"cast_id\": 242, \"character\": \"Jake Sully\", \"credit_id\": \"5602a8a7c3a3685532001c9a\", \"gender\": 2, \"id\": 65731, \"name\": \"Sam Worthington\", \"order\": 0}, {\"cast_id\": 3, \"character\": \"Neytiri\", \"credit_id\": \"52fe48009251416c750ac9cb\", \"gender\": 1, \"id\": 8691, \"name\": \"Zoe Saldana\", \"order\": 1}, {\"cast_id\": 25, \"character\": \"Dr. Grace Augustine\", \"credit_id\": \"52fe48009251416c750aca39\", \"gender\": 1, \"id\": 10205, \"name\": \"Sigourney Weaver\", \"order\": 2}, {\"cast_id\": 4, \"character\": \"Col. Quaritch\", \"credit_id\": \"52fe48009251416c750ac9cf\", \"gender\": 2, \"id\": 32747, \"name\": \"Stephen Lang\", \"order\": 3}, {\"cast_id\": 5, \"character\": \"Trudy Chacon\", \"credit_id\": \"52fe48009251416c750ac9d3\", \"gender\": 1, \"id\": 17647, \"name\": \"Michelle Rodriguez\", \"order\": 4}, {\"cast_id\": 8, \"character\": \"Selfridge\", \"credit_id\": \"52fe48009251416c750ac9e1\", \"gender\": 2, \"id\": 1771, \"name\": \"Giovanni Ribisi\", \"order\": 5}, {\"cast_id\": 7, \"character\": \"Norm Spellman\", \"credit_id\": \"52fe48009251416c750ac9dd\", \"gender\": 2, \"id\": 59231, \"name\": \"Joel David Moore\", \"order\": 6}, {\"cast_id\": 9, \"character\": \"Moat\", \"credit_id\": \"52fe48009251416c750ac9e5\", \"gender\": 1, \"id\": 30485, \"name\": \"CCH Pounder\", \"order\": 7}, {\"cast_id\": 11, \"character\": \"Eytukan\", \"credit_id\": \"52fe48009251416c750ac9ed\", \"gender\": 2, \"id\": 15853, \"name\": \"Wes Studi\", \"order\": 8}, {\"cast_id\": 10, \"character\": \"Tsu\\'Tey\", \"credit_id\": \"52fe48009251416c750ac9e9\", \"gender\": 2, \"id\": 10964, \"name\": \"Laz Alonso\", \"order\": 9}, {\"cast_id\": 12, \"character\": \"Dr. Max Patel\", \"credit_id\": \"52fe48009251416c750ac9f1\", \"gender\": 2, \"id\": 95697, \"name\": \"Dileep Rao\", \"order\": 10}, {\"cast_id\": 13, \"character\": \"Lyle Wainfleet\", \"credit_id\": \"52fe48009251416c750ac9f5\", \"gender\": 2, \"id\": 98215, \"name\": \"Matt Gerald\", \"order\": 11}, {\"cast_id\": 32, \"character\": \"Private Fike\", \"credit_id\": \"52fe48009251416c750aca5b\", \"gender\": 2, \"id\": 154153, \"name\": \"Sean Anthony Moran\", \"order\": 12}, {\"cast_id\": 33, \"character\": \"Cryo Vault Med Tech\", \"credit_id\": \"52fe48009251416c750aca5f\", \"gender\": 2, \"id\": 397312, \"name\": \"Jason Whyte\", \"order\": 13}, {\"cast_id\": 34, \"character\": \"Venture Star Crew Chief\", \"credit_id\": \"52fe48009251416c750aca63\", \"gender\": 2, \"id\": 42317, \"name\": \"Scott Lawrence\", \"order\": 14}, {\"cast_id\": 35, \"character\": \"Lock Up Trooper\", \"credit_id\": \"52fe48009251416c750aca67\", \"gender\": 2, \"id\": 986734, \"name\": \"Kelly Kilgour\", \"order\": 15}, {\"cast_id\": 36, \"character\": \"Shuttle Pilot\", \"credit_id\": \"52fe48009251416c750aca6b\", \"gender\": 0, \"id\": 1207227, \"name\": \"James Patrick Pitt\", \"order\": 16}, {\"cast_id\": 37, \"character\": \"Shuttle Co-Pilot\", \"credit_id\": \"52fe48009251416c750aca6f\", \"gender\": 0, \"id\": 1180936, \"name\": \"Sean Patrick Murphy\", \"order\": 17}, {\"cast_id\": 38, \"character\": \"Shuttle Crew Chief\", \"credit_id\": \"52fe48009251416c750aca73\", \"gender\": 2, \"id\": 1019578, \"name\": \"Peter Dillon\", \"order\": 18}, {\"cast_id\": 39, \"character\": \"Tractor Operator / Troupe\", \"credit_id\": \"52fe48009251416c750aca77\", \"gender\": 0, \"id\": 91443, \"name\": \"Kevin Dorman\", \"order\": 19}, {\"cast_id\": 40, \"character\": \"Dragon Gunship Pilot\", \"credit_id\": \"52fe48009251416c750aca7b\", \"gender\": 2, \"id\": 173391, \"name\": \"Kelson Henderson\", \"order\": 20}, {\"cast_id\": 41, \"character\": \"Dragon Gunship Gunner\", \"credit_id\": \"52fe48009251416c750aca7f\", \"gender\": 0, \"id\": 1207236, \"name\": \"David Van Horn\", \"order\": 21}, {\"cast_id\": 42, \"character\": \"Dragon Gunship Navigator\", \"credit_id\": \"52fe48009251416c750aca83\", \"gender\": 0, \"id\": 215913, \"name\": \"Jacob Tomuri\", \"order\": 22}, {\"cast_id\": 43, \"character\": \"Suit #1\", \"credit_id\": \"52fe48009251416c750aca87\", \"gender\": 0, \"id\": 143206, \"name\": \"Michael Blain-Rozgay\", \"order\": 23}, {\"cast_id\": 44, \"character\": \"Suit #2\", \"credit_id\": \"52fe48009251416c750aca8b\", \"gender\": 2, \"id\": 169676, \"name\": \"Jon Curry\", \"order\": 24}, {\"cast_id\": 46, \"character\": \"Ambient Room Tech\", \"credit_id\": \"52fe48009251416c750aca8f\", \"gender\": 0, \"id\": 1048610, \"name\": \"Luke Hawker\", \"order\": 25}, {\"cast_id\": 47, \"character\": \"Ambient Room Tech / Troupe\", \"credit_id\": \"52fe48009251416c750aca93\", \"gender\": 0, \"id\": 42288, \"name\": \"Woody Schultz\", \"order\": 26}, {\"cast_id\": 48, \"character\": \"Horse Clan Leader\", \"credit_id\": \"52fe48009251416c750aca97\", \"gender\": 2, \"id\": 68278, \"name\": \"Peter Mensah\", \"order\": 27}, {\"cast_id\": 49, \"character\": \"Link Room Tech\", \"credit_id\": \"52fe48009251416c750aca9b\", \"gender\": 0, \"id\": 1207247, \"name\": \"Sonia Yee\", \"order\": 28}, {\"cast_id\": 50, \"character\": \"Basketball Avatar / Troupe\", \"credit_id\": \"52fe48009251416c750aca9f\", \"gender\": 1, \"id\": 1207248, \"name\": \"Jahnel Curfman\", \"order\": 29}, {\"cast_id\": 51, \"character\": \"Basketball Avatar\", \"credit_id\": \"52fe48009251416c750acaa3\", \"gender\": 0, \"id\": 89714, \"name\": \"Ilram Choi\", \"order\": 30}, {\"cast_id\": 52, \"character\": \"Na\\'vi Child\", \"credit_id\": \"52fe48009251416c750acaa7\", \"gender\": 0, \"id\": 1207249, \"name\": \"Kyla Warren\", \"order\": 31}, {\"cast_id\": 53, \"character\": \"Troupe\", \"credit_id\": \"52fe48009251416c750acaab\", \"gender\": 0, \"id\": 1207250, \"name\": \"Lisa Roumain\", \"order\": 32}, {\"cast_id\": 54, \"character\": \"Troupe\", \"credit_id\": \"52fe48009251416c750acaaf\", \"gender\": 1, \"id\": 83105, \"name\": \"Debra Wilson\", \"order\": 33}, {\"cast_id\": 57, \"character\": \"Troupe\", \"credit_id\": \"52fe48009251416c750acabb\", \"gender\": 0, \"id\": 1207253, \"name\": \"Chris Mala\", \"order\": 34}, {\"cast_id\": 55, \"character\": \"Troupe\", \"credit_id\": \"52fe48009251416c750acab3\", \"gender\": 0, \"id\": 1207251, \"name\": \"Taylor Kibby\", \"order\": 35}, {\"cast_id\": 56, \"character\": \"Troupe\", \"credit_id\": \"52fe48009251416c750acab7\", \"gender\": 0, \"id\": 1207252, \"name\": \"Jodie Landau\", \"order\": 36}, {\"cast_id\": 58, \"character\": \"Troupe\", \"credit_id\": \"52fe48009251416c750acabf\", \"gender\": 0, \"id\": 1207254, \"name\": \"Julie Lamm\", \"order\": 37}, {\"cast_id\": 59, \"character\": \"Troupe\", \"credit_id\": \"52fe48009251416c750acac3\", \"gender\": 0, \"id\": 1207257, \"name\": \"Cullen B. Madden\", \"order\": 38}, {\"cast_id\": 60, \"character\": \"Troupe\", \"credit_id\": \"52fe48009251416c750acac7\", \"gender\": 0, \"id\": 1207259, \"name\": \"Joseph Brady Madden\", \"order\": 39}, {\"cast_id\": 61, \"character\": \"Troupe\", \"credit_id\": \"52fe48009251416c750acacb\", \"gender\": 0, \"id\": 1207262, \"name\": \"Frankie Torres\", \"order\": 40}, {\"cast_id\": 62, \"character\": \"Troupe\", \"credit_id\": \"52fe48009251416c750acacf\", \"gender\": 1, \"id\": 1158600, \"name\": \"Austin Wilson\", \"order\": 41}, {\"cast_id\": 63, \"character\": \"Troupe\", \"credit_id\": \"52fe48019251416c750acad3\", \"gender\": 1, \"id\": 983705, \"name\": \"Sara Wilson\", \"order\": 42}, {\"cast_id\": 64, \"character\": \"Troupe\", \"credit_id\": \"52fe48019251416c750acad7\", \"gender\": 0, \"id\": 1207263, \"name\": \"Tamica Washington-Miller\", \"order\": 43}, {\"cast_id\": 65, \"character\": \"Op Center Staff\", \"credit_id\": \"52fe48019251416c750acadb\", \"gender\": 1, \"id\": 1145098, \"name\": \"Lucy Briant\", \"order\": 44}, {\"cast_id\": 66, \"character\": \"Op Center Staff\", \"credit_id\": \"52fe48019251416c750acadf\", \"gender\": 2, \"id\": 33305, \"name\": \"Nathan Meister\", \"order\": 45}, {\"cast_id\": 67, \"character\": \"Op Center Staff\", \"credit_id\": \"52fe48019251416c750acae3\", \"gender\": 0, \"id\": 1207264, \"name\": \"Gerry Blair\", \"order\": 46}, {\"cast_id\": 68, \"character\": \"Op Center Staff\", \"credit_id\": \"52fe48019251416c750acae7\", \"gender\": 2, \"id\": 33311, \"name\": \"Matthew Chamberlain\", \"order\": 47}, {\"cast_id\": 69, \"character\": \"Op Center Staff\", \"credit_id\": \"52fe48019251416c750acaeb\", \"gender\": 0, \"id\": 1207265, \"name\": \"Paul Yates\", \"order\": 48}, {\"cast_id\": 70, \"character\": \"Op Center Duty Officer\", \"credit_id\": \"52fe48019251416c750acaef\", \"gender\": 0, \"id\": 1207266, \"name\": \"Wray Wilson\", \"order\": 49}, {\"cast_id\": 71, \"character\": \"Op Center Staff\", \"credit_id\": \"52fe48019251416c750acaf3\", \"gender\": 2, \"id\": 54492, \"name\": \"James Gaylyn\", \"order\": 50}, {\"cast_id\": 72, \"character\": \"Dancer\", \"credit_id\": \"52fe48019251416c750acaf7\", \"gender\": 0, \"id\": 1207267, \"name\": \"Melvin Leno Clark III\", \"order\": 51}, {\"cast_id\": 73, \"character\": \"Dancer\", \"credit_id\": \"52fe48019251416c750acafb\", \"gender\": 0, \"id\": 1207268, \"name\": \"Carvon Futrell\", \"order\": 52}, {\"cast_id\": 74, \"character\": \"Dancer\", \"credit_id\": \"52fe48019251416c750acaff\", \"gender\": 0, \"id\": 1207269, \"name\": \"Brandon Jelkes\", \"order\": 53}, {\"cast_id\": 75, \"character\": \"Dancer\", \"credit_id\": \"52fe48019251416c750acb03\", \"gender\": 0, \"id\": 1207270, \"name\": \"Micah Moch\", \"order\": 54}, {\"cast_id\": 76, \"character\": \"Dancer\", \"credit_id\": \"52fe48019251416c750acb07\", \"gender\": 0, \"id\": 1207271, \"name\": \"Hanniyah Muhammad\", \"order\": 55}, {\"cast_id\": 77, \"character\": \"Dancer\", \"credit_id\": \"52fe48019251416c750acb0b\", \"gender\": 0, \"id\": 1207272, \"name\": \"Christopher Nolen\", \"order\": 56}, {\"cast_id\": 78, \"character\": \"Dancer\", \"credit_id\": \"52fe48019251416c750acb0f\", \"gender\": 0, \"id\": 1207273, \"name\": \"Christa Oliver\", \"order\": 57}, {\"cast_id\": 79, \"character\": \"Dancer\", \"credit_id\": \"52fe48019251416c750acb13\", \"gender\": 0, \"id\": 1207274, \"name\": \"April Marie Thomas\", \"order\": 58}, {\"cast_id\": 80, \"character\": \"Dancer\", \"credit_id\": \"52fe48019251416c750acb17\", \"gender\": 0, \"id\": 1207275, \"name\": \"Bravita A. Threatt\", \"order\": 59}, {\"cast_id\": 81, \"character\": \"Mining Chief (uncredited)\", \"credit_id\": \"52fe48019251416c750acb1b\", \"gender\": 0, \"id\": 1207276, \"name\": \"Colin Bleasdale\", \"order\": 60}, {\"cast_id\": 82, \"character\": \"Veteran Miner (uncredited)\", \"credit_id\": \"52fe48019251416c750acb1f\", \"gender\": 0, \"id\": 107969, \"name\": \"Mike Bodnar\", \"order\": 61}, {\"cast_id\": 83, \"character\": \"Richard (uncredited)\", \"credit_id\": \"52fe48019251416c750acb23\", \"gender\": 0, \"id\": 1207278, \"name\": \"Matt Clayton\", \"order\": 62}, {\"cast_id\": 84, \"character\": \"Nav\\'i (uncredited)\", \"credit_id\": \"52fe48019251416c750acb27\", \"gender\": 1, \"id\": 147898, \"name\": \"Nicole Dionne\", \"order\": 63}, {\"cast_id\": 85, \"character\": \"Trooper (uncredited)\", \"credit_id\": \"52fe48019251416c750acb2b\", \"gender\": 0, \"id\": 1207280, \"name\": \"Jamie Harrison\", \"order\": 64}, {\"cast_id\": 86, \"character\": \"Trooper (uncredited)\", \"credit_id\": \"52fe48019251416c750acb2f\", \"gender\": 0, \"id\": 1207281, \"name\": \"Allan Henry\", \"order\": 65}, {\"cast_id\": 87, \"character\": \"Ground Technician (uncredited)\", \"credit_id\": \"52fe48019251416c750acb33\", \"gender\": 2, \"id\": 1207282, \"name\": \"Anthony Ingruber\", \"order\": 66}, {\"cast_id\": 88, \"character\": \"Flight Crew Mechanic (uncredited)\", \"credit_id\": \"52fe48019251416c750acb37\", \"gender\": 0, \"id\": 1207283, \"name\": \"Ashley Jeffery\", \"order\": 67}, {\"cast_id\": 14, \"character\": \"Samson Pilot\", \"credit_id\": \"52fe48009251416c750ac9f9\", \"gender\": 0, \"id\": 98216, \"name\": \"Dean Knowsley\", \"order\": 68}, {\"cast_id\": 89, \"character\": \"Trooper (uncredited)\", \"credit_id\": \"52fe48019251416c750acb3b\", \"gender\": 0, \"id\": 1201399, \"name\": \"Joseph Mika-Hunt\", \"order\": 69}, {\"cast_id\": 90, \"character\": \"Banshee (uncredited)\", \"credit_id\": \"52fe48019251416c750acb3f\", \"gender\": 0, \"id\": 236696, \"name\": \"Terry Notary\", \"order\": 70}, {\"cast_id\": 91, \"character\": \"Soldier (uncredited)\", \"credit_id\": \"52fe48019251416c750acb43\", \"gender\": 0, \"id\": 1207287, \"name\": \"Kai Pantano\", \"order\": 71}, {\"cast_id\": 92, \"character\": \"Blast Technician (uncredited)\", \"credit_id\": \"52fe48019251416c750acb47\", \"gender\": 0, \"id\": 1207288, \"name\": \"Logan Pithyou\", \"order\": 72}, {\"cast_id\": 93, \"character\": \"Vindum Raah (uncredited)\", \"credit_id\": \"52fe48019251416c750acb4b\", \"gender\": 0, \"id\": 1207289, \"name\": \"Stuart Pollock\", \"order\": 73}, {\"cast_id\": 94, \"character\": \"Hero (uncredited)\", \"credit_id\": \"52fe48019251416c750acb4f\", \"gender\": 0, \"id\": 584868, \"name\": \"Raja\", \"order\": 74}, {\"cast_id\": 95, \"character\": \"Ops Centreworker (uncredited)\", \"credit_id\": \"52fe48019251416c750acb53\", \"gender\": 0, \"id\": 1207290, \"name\": \"Gareth Ruck\", \"order\": 75}, {\"cast_id\": 96, \"character\": \"Engineer (uncredited)\", \"credit_id\": \"52fe48019251416c750acb57\", \"gender\": 0, \"id\": 1062463, \"name\": \"Rhian Sheehan\", \"order\": 76}, {\"cast_id\": 97, \"character\": \"Col. Quaritch\\'s Mech Suit (uncredited)\", \"credit_id\": \"52fe48019251416c750acb5b\", \"gender\": 0, \"id\": 60656, \"name\": \"T. J. Storm\", \"order\": 77}, {\"cast_id\": 98, \"character\": \"Female Marine (uncredited)\", \"credit_id\": \"52fe48019251416c750acb5f\", \"gender\": 0, \"id\": 1207291, \"name\": \"Jodie Taylor\", \"order\": 78}, {\"cast_id\": 99, \"character\": \"Ikran Clan Leader (uncredited)\", \"credit_id\": \"52fe48019251416c750acb63\", \"gender\": 1, \"id\": 1186027, \"name\": \"Alicia Vela-Bailey\", \"order\": 79}, {\"cast_id\": 100, \"character\": \"Geologist (uncredited)\", \"credit_id\": \"52fe48019251416c750acb67\", \"gender\": 0, \"id\": 1207292, \"name\": \"Richard Whiteside\", \"order\": 80}, {\"cast_id\": 101, \"character\": \"Na\\'vi (uncredited)\", \"credit_id\": \"52fe48019251416c750acb6b\", \"gender\": 0, \"id\": 103259, \"name\": \"Nikie Zambo\", \"order\": 81}, {\"cast_id\": 102, \"character\": \"Ambient Room Tech / Troupe\", \"credit_id\": \"52fe48019251416c750acb6f\", \"gender\": 1, \"id\": 42286, \"name\": \"Julene Renee\", \"order\": 82}]'"
      ]
     },
     "execution_count": 139,
     "metadata": {},
     "output_type": "execute_result"
    }
   ],
   "source": [
    "df_new['cast'].iloc[0]"
   ]
  },
  {
   "cell_type": "code",
   "execution_count": 140,
   "id": "b99df4e8",
   "metadata": {},
   "outputs": [],
   "source": [
    "def convert3(obj):\n",
    "    L=[]\n",
    "    counter=0\n",
    "    for i in ast.literal_eval(obj):\n",
    "        if counter!=3:\n",
    "            L.append(i['name'])\n",
    "            counter+=1\n",
    "        else:\n",
    "            break\n",
    "    return L"
   ]
  },
  {
   "cell_type": "code",
   "execution_count": 141,
   "id": "a267744d",
   "metadata": {},
   "outputs": [
    {
     "data": {
      "text/plain": [
       "0        [Sam Worthington, Zoe Saldana, Sigourney Weaver]\n",
       "1           [Johnny Depp, Orlando Bloom, Keira Knightley]\n",
       "2            [Daniel Craig, Christoph Waltz, Léa Seydoux]\n",
       "3            [Christian Bale, Michael Caine, Gary Oldman]\n",
       "4          [Taylor Kitsch, Lynn Collins, Samantha Morton]\n",
       "                              ...                        \n",
       "4804    [Carlos Gallardo, Jaime de Hoyos, Peter Marqua...\n",
       "4805         [Edward Burns, Kerry Bishé, Marsha Dietlein]\n",
       "4806           [Eric Mabius, Kristin Booth, Crystal Lowe]\n",
       "4807            [Daniel Henney, Eliza Coupe, Bill Paxton]\n",
       "4808    [Drew Barrymore, Brian Herzlinger, Corey Feldman]\n",
       "Name: cast, Length: 4809, dtype: object"
      ]
     },
     "execution_count": 141,
     "metadata": {},
     "output_type": "execute_result"
    }
   ],
   "source": [
    "df_new['cast'].apply(convert3)"
   ]
  },
  {
   "cell_type": "code",
   "execution_count": 142,
   "id": "d5094726",
   "metadata": {},
   "outputs": [],
   "source": [
    "df_new['cast']=df_new['cast'].apply(convert3)"
   ]
  },
  {
   "cell_type": "code",
   "execution_count": 143,
   "id": "a168835b",
   "metadata": {},
   "outputs": [
    {
     "data": {
      "text/plain": [
       "0"
      ]
     },
     "execution_count": 143,
     "metadata": {},
     "output_type": "execute_result"
    }
   ],
   "source": [
    "df_new['cast'].isnull().sum()"
   ]
  },
  {
   "cell_type": "code",
   "execution_count": 133,
   "id": "99cd1d86",
   "metadata": {},
   "outputs": [],
   "source": [
    "#df_new['cast']=df_new['cast'].dropna().reset_index(drop=True)"
   ]
  },
  {
   "cell_type": "code",
   "execution_count": 134,
   "id": "b4baedf7",
   "metadata": {},
   "outputs": [],
   "source": [
    "#df_new=df_new.loc[df_new['cast'].notnull()]"
   ]
  },
  {
   "cell_type": "code",
   "execution_count": 135,
   "id": "f8166ace",
   "metadata": {},
   "outputs": [],
   "source": [
    "#df_new=df_new.reset_index(drop=True)"
   ]
  },
  {
   "cell_type": "code",
   "execution_count": 144,
   "id": "44ac0186",
   "metadata": {},
   "outputs": [
    {
     "data": {
      "text/html": [
       "<div>\n",
       "<style scoped>\n",
       "    .dataframe tbody tr th:only-of-type {\n",
       "        vertical-align: middle;\n",
       "    }\n",
       "\n",
       "    .dataframe tbody tr th {\n",
       "        vertical-align: top;\n",
       "    }\n",
       "\n",
       "    .dataframe thead th {\n",
       "        text-align: right;\n",
       "    }\n",
       "</style>\n",
       "<table border=\"1\" class=\"dataframe\">\n",
       "  <thead>\n",
       "    <tr style=\"text-align: right;\">\n",
       "      <th></th>\n",
       "      <th>budget</th>\n",
       "      <th>genres</th>\n",
       "      <th>homepage</th>\n",
       "      <th>keywords</th>\n",
       "      <th>original_language</th>\n",
       "      <th>original_title</th>\n",
       "      <th>overview</th>\n",
       "      <th>popularity</th>\n",
       "      <th>production_companies</th>\n",
       "      <th>production_countries</th>\n",
       "      <th>release_date</th>\n",
       "      <th>revenue</th>\n",
       "      <th>runtime</th>\n",
       "      <th>spoken_languages</th>\n",
       "      <th>status</th>\n",
       "      <th>tagline</th>\n",
       "      <th>title</th>\n",
       "      <th>vote_average</th>\n",
       "      <th>vote_count</th>\n",
       "      <th>movie_id</th>\n",
       "      <th>cast</th>\n",
       "      <th>crew</th>\n",
       "    </tr>\n",
       "  </thead>\n",
       "  <tbody>\n",
       "    <tr>\n",
       "      <th>0</th>\n",
       "      <td>237000000</td>\n",
       "      <td>[Action, Adventure, Fantasy, Science Fiction]</td>\n",
       "      <td>http://www.avatarmovie.com/</td>\n",
       "      <td>[culture clash, future, space war, space colon...</td>\n",
       "      <td>en</td>\n",
       "      <td>Avatar</td>\n",
       "      <td>In the 22nd century, a paraplegic Marine is di...</td>\n",
       "      <td>150.437577</td>\n",
       "      <td>[{\"name\": \"Ingenious Film Partners\", \"id\": 289...</td>\n",
       "      <td>[{\"iso_3166_1\": \"US\", \"name\": \"United States o...</td>\n",
       "      <td>2009-12-10</td>\n",
       "      <td>2787965087</td>\n",
       "      <td>162.0</td>\n",
       "      <td>[{\"iso_639_1\": \"en\", \"name\": \"English\"}, {\"iso...</td>\n",
       "      <td>Released</td>\n",
       "      <td>Enter the World of Pandora.</td>\n",
       "      <td>Avatar</td>\n",
       "      <td>7.2</td>\n",
       "      <td>11800</td>\n",
       "      <td>19995</td>\n",
       "      <td>[Sam Worthington, Zoe Saldana, Sigourney Weaver]</td>\n",
       "      <td>[{\"credit_id\": \"52fe48009251416c750aca23\", \"de...</td>\n",
       "    </tr>\n",
       "    <tr>\n",
       "      <th>1</th>\n",
       "      <td>300000000</td>\n",
       "      <td>[Adventure, Fantasy, Action]</td>\n",
       "      <td>http://disney.go.com/disneypictures/pirates/</td>\n",
       "      <td>[ocean, drug abuse, exotic island, east india ...</td>\n",
       "      <td>en</td>\n",
       "      <td>Pirates of the Caribbean: At World's End</td>\n",
       "      <td>Captain Barbossa, long believed to be dead, ha...</td>\n",
       "      <td>139.082615</td>\n",
       "      <td>[{\"name\": \"Walt Disney Pictures\", \"id\": 2}, {\"...</td>\n",
       "      <td>[{\"iso_3166_1\": \"US\", \"name\": \"United States o...</td>\n",
       "      <td>2007-05-19</td>\n",
       "      <td>961000000</td>\n",
       "      <td>169.0</td>\n",
       "      <td>[{\"iso_639_1\": \"en\", \"name\": \"English\"}]</td>\n",
       "      <td>Released</td>\n",
       "      <td>At the end of the world, the adventure begins.</td>\n",
       "      <td>Pirates of the Caribbean: At World's End</td>\n",
       "      <td>6.9</td>\n",
       "      <td>4500</td>\n",
       "      <td>285</td>\n",
       "      <td>[Johnny Depp, Orlando Bloom, Keira Knightley]</td>\n",
       "      <td>[{\"credit_id\": \"52fe4232c3a36847f800b579\", \"de...</td>\n",
       "    </tr>\n",
       "    <tr>\n",
       "      <th>2</th>\n",
       "      <td>245000000</td>\n",
       "      <td>[Action, Adventure, Crime]</td>\n",
       "      <td>http://www.sonypictures.com/movies/spectre/</td>\n",
       "      <td>[spy, based on novel, secret agent, sequel, mi...</td>\n",
       "      <td>en</td>\n",
       "      <td>Spectre</td>\n",
       "      <td>A cryptic message from Bond’s past sends him o...</td>\n",
       "      <td>107.376788</td>\n",
       "      <td>[{\"name\": \"Columbia Pictures\", \"id\": 5}, {\"nam...</td>\n",
       "      <td>[{\"iso_3166_1\": \"GB\", \"name\": \"United Kingdom\"...</td>\n",
       "      <td>2015-10-26</td>\n",
       "      <td>880674609</td>\n",
       "      <td>148.0</td>\n",
       "      <td>[{\"iso_639_1\": \"fr\", \"name\": \"Fran\\u00e7ais\"},...</td>\n",
       "      <td>Released</td>\n",
       "      <td>A Plan No One Escapes</td>\n",
       "      <td>Spectre</td>\n",
       "      <td>6.3</td>\n",
       "      <td>4466</td>\n",
       "      <td>206647</td>\n",
       "      <td>[Daniel Craig, Christoph Waltz, Léa Seydoux]</td>\n",
       "      <td>[{\"credit_id\": \"54805967c3a36829b5002c41\", \"de...</td>\n",
       "    </tr>\n",
       "    <tr>\n",
       "      <th>3</th>\n",
       "      <td>250000000</td>\n",
       "      <td>[Action, Crime, Drama, Thriller]</td>\n",
       "      <td>http://www.thedarkknightrises.com/</td>\n",
       "      <td>[dc comics, crime fighter, terrorist, secret i...</td>\n",
       "      <td>en</td>\n",
       "      <td>The Dark Knight Rises</td>\n",
       "      <td>Following the death of District Attorney Harve...</td>\n",
       "      <td>112.312950</td>\n",
       "      <td>[{\"name\": \"Legendary Pictures\", \"id\": 923}, {\"...</td>\n",
       "      <td>[{\"iso_3166_1\": \"US\", \"name\": \"United States o...</td>\n",
       "      <td>2012-07-16</td>\n",
       "      <td>1084939099</td>\n",
       "      <td>165.0</td>\n",
       "      <td>[{\"iso_639_1\": \"en\", \"name\": \"English\"}]</td>\n",
       "      <td>Released</td>\n",
       "      <td>The Legend Ends</td>\n",
       "      <td>The Dark Knight Rises</td>\n",
       "      <td>7.6</td>\n",
       "      <td>9106</td>\n",
       "      <td>49026</td>\n",
       "      <td>[Christian Bale, Michael Caine, Gary Oldman]</td>\n",
       "      <td>[{\"credit_id\": \"52fe4781c3a36847f81398c3\", \"de...</td>\n",
       "    </tr>\n",
       "    <tr>\n",
       "      <th>4</th>\n",
       "      <td>260000000</td>\n",
       "      <td>[Action, Adventure, Science Fiction]</td>\n",
       "      <td>http://movies.disney.com/john-carter</td>\n",
       "      <td>[based on novel, mars, medallion, space travel...</td>\n",
       "      <td>en</td>\n",
       "      <td>John Carter</td>\n",
       "      <td>John Carter is a war-weary, former military ca...</td>\n",
       "      <td>43.926995</td>\n",
       "      <td>[{\"name\": \"Walt Disney Pictures\", \"id\": 2}]</td>\n",
       "      <td>[{\"iso_3166_1\": \"US\", \"name\": \"United States o...</td>\n",
       "      <td>2012-03-07</td>\n",
       "      <td>284139100</td>\n",
       "      <td>132.0</td>\n",
       "      <td>[{\"iso_639_1\": \"en\", \"name\": \"English\"}]</td>\n",
       "      <td>Released</td>\n",
       "      <td>Lost in our world, found in another.</td>\n",
       "      <td>John Carter</td>\n",
       "      <td>6.1</td>\n",
       "      <td>2124</td>\n",
       "      <td>49529</td>\n",
       "      <td>[Taylor Kitsch, Lynn Collins, Samantha Morton]</td>\n",
       "      <td>[{\"credit_id\": \"52fe479ac3a36847f813eaa3\", \"de...</td>\n",
       "    </tr>\n",
       "  </tbody>\n",
       "</table>\n",
       "</div>"
      ],
      "text/plain": [
       "      budget                                         genres  \\\n",
       "0  237000000  [Action, Adventure, Fantasy, Science Fiction]   \n",
       "1  300000000                   [Adventure, Fantasy, Action]   \n",
       "2  245000000                     [Action, Adventure, Crime]   \n",
       "3  250000000               [Action, Crime, Drama, Thriller]   \n",
       "4  260000000           [Action, Adventure, Science Fiction]   \n",
       "\n",
       "                                       homepage  \\\n",
       "0                   http://www.avatarmovie.com/   \n",
       "1  http://disney.go.com/disneypictures/pirates/   \n",
       "2   http://www.sonypictures.com/movies/spectre/   \n",
       "3            http://www.thedarkknightrises.com/   \n",
       "4          http://movies.disney.com/john-carter   \n",
       "\n",
       "                                            keywords original_language  \\\n",
       "0  [culture clash, future, space war, space colon...                en   \n",
       "1  [ocean, drug abuse, exotic island, east india ...                en   \n",
       "2  [spy, based on novel, secret agent, sequel, mi...                en   \n",
       "3  [dc comics, crime fighter, terrorist, secret i...                en   \n",
       "4  [based on novel, mars, medallion, space travel...                en   \n",
       "\n",
       "                             original_title  \\\n",
       "0                                    Avatar   \n",
       "1  Pirates of the Caribbean: At World's End   \n",
       "2                                   Spectre   \n",
       "3                     The Dark Knight Rises   \n",
       "4                               John Carter   \n",
       "\n",
       "                                            overview  popularity  \\\n",
       "0  In the 22nd century, a paraplegic Marine is di...  150.437577   \n",
       "1  Captain Barbossa, long believed to be dead, ha...  139.082615   \n",
       "2  A cryptic message from Bond’s past sends him o...  107.376788   \n",
       "3  Following the death of District Attorney Harve...  112.312950   \n",
       "4  John Carter is a war-weary, former military ca...   43.926995   \n",
       "\n",
       "                                production_companies  \\\n",
       "0  [{\"name\": \"Ingenious Film Partners\", \"id\": 289...   \n",
       "1  [{\"name\": \"Walt Disney Pictures\", \"id\": 2}, {\"...   \n",
       "2  [{\"name\": \"Columbia Pictures\", \"id\": 5}, {\"nam...   \n",
       "3  [{\"name\": \"Legendary Pictures\", \"id\": 923}, {\"...   \n",
       "4        [{\"name\": \"Walt Disney Pictures\", \"id\": 2}]   \n",
       "\n",
       "                                production_countries release_date     revenue  \\\n",
       "0  [{\"iso_3166_1\": \"US\", \"name\": \"United States o...   2009-12-10  2787965087   \n",
       "1  [{\"iso_3166_1\": \"US\", \"name\": \"United States o...   2007-05-19   961000000   \n",
       "2  [{\"iso_3166_1\": \"GB\", \"name\": \"United Kingdom\"...   2015-10-26   880674609   \n",
       "3  [{\"iso_3166_1\": \"US\", \"name\": \"United States o...   2012-07-16  1084939099   \n",
       "4  [{\"iso_3166_1\": \"US\", \"name\": \"United States o...   2012-03-07   284139100   \n",
       "\n",
       "   runtime                                   spoken_languages    status  \\\n",
       "0    162.0  [{\"iso_639_1\": \"en\", \"name\": \"English\"}, {\"iso...  Released   \n",
       "1    169.0           [{\"iso_639_1\": \"en\", \"name\": \"English\"}]  Released   \n",
       "2    148.0  [{\"iso_639_1\": \"fr\", \"name\": \"Fran\\u00e7ais\"},...  Released   \n",
       "3    165.0           [{\"iso_639_1\": \"en\", \"name\": \"English\"}]  Released   \n",
       "4    132.0           [{\"iso_639_1\": \"en\", \"name\": \"English\"}]  Released   \n",
       "\n",
       "                                          tagline  \\\n",
       "0                     Enter the World of Pandora.   \n",
       "1  At the end of the world, the adventure begins.   \n",
       "2                           A Plan No One Escapes   \n",
       "3                                 The Legend Ends   \n",
       "4            Lost in our world, found in another.   \n",
       "\n",
       "                                      title  vote_average  vote_count  \\\n",
       "0                                    Avatar           7.2       11800   \n",
       "1  Pirates of the Caribbean: At World's End           6.9        4500   \n",
       "2                                   Spectre           6.3        4466   \n",
       "3                     The Dark Knight Rises           7.6        9106   \n",
       "4                               John Carter           6.1        2124   \n",
       "\n",
       "   movie_id                                              cast  \\\n",
       "0     19995  [Sam Worthington, Zoe Saldana, Sigourney Weaver]   \n",
       "1       285     [Johnny Depp, Orlando Bloom, Keira Knightley]   \n",
       "2    206647      [Daniel Craig, Christoph Waltz, Léa Seydoux]   \n",
       "3     49026      [Christian Bale, Michael Caine, Gary Oldman]   \n",
       "4     49529    [Taylor Kitsch, Lynn Collins, Samantha Morton]   \n",
       "\n",
       "                                                crew  \n",
       "0  [{\"credit_id\": \"52fe48009251416c750aca23\", \"de...  \n",
       "1  [{\"credit_id\": \"52fe4232c3a36847f800b579\", \"de...  \n",
       "2  [{\"credit_id\": \"54805967c3a36829b5002c41\", \"de...  \n",
       "3  [{\"credit_id\": \"52fe4781c3a36847f81398c3\", \"de...  \n",
       "4  [{\"credit_id\": \"52fe479ac3a36847f813eaa3\", \"de...  "
      ]
     },
     "execution_count": 144,
     "metadata": {},
     "output_type": "execute_result"
    }
   ],
   "source": [
    "df_new.head()"
   ]
  },
  {
   "cell_type": "code",
   "execution_count": 145,
   "id": "1231500d",
   "metadata": {},
   "outputs": [
    {
     "data": {
      "text/plain": [
       "Int64Index([   0,    1,    2,    3,    4,    5,    6,    7,    8,    9,\n",
       "            ...\n",
       "            4799, 4800, 4801, 4802, 4803, 4804, 4805, 4806, 4807, 4808],\n",
       "           dtype='int64', length=4809)"
      ]
     },
     "execution_count": 145,
     "metadata": {},
     "output_type": "execute_result"
    }
   ],
   "source": [
    "df_new.index"
   ]
  },
  {
   "cell_type": "code",
   "execution_count": 146,
   "id": "0ee1fca1",
   "metadata": {},
   "outputs": [
    {
     "data": {
      "text/plain": [
       "['Billy Crystal', 'John Goodman', 'Steve Buscemi']"
      ]
     },
     "execution_count": 146,
     "metadata": {},
     "output_type": "execute_result"
    }
   ],
   "source": [
    "df_new['cast'][34]"
   ]
  },
  {
   "cell_type": "code",
   "execution_count": 147,
   "id": "8106252c",
   "metadata": {},
   "outputs": [
    {
     "data": {
      "text/plain": [
       "(4809, 22)"
      ]
     },
     "execution_count": 147,
     "metadata": {},
     "output_type": "execute_result"
    }
   ],
   "source": [
    "df_new.shape"
   ]
  },
  {
   "cell_type": "code",
   "execution_count": 148,
   "id": "9184d5f9",
   "metadata": {},
   "outputs": [
    {
     "data": {
      "text/plain": [
       "'[{\"credit_id\": \"52fe48009251416c750aca23\", \"department\": \"Editing\", \"gender\": 0, \"id\": 1721, \"job\": \"Editor\", \"name\": \"Stephen E. Rivkin\"}, {\"credit_id\": \"539c47ecc3a36810e3001f87\", \"department\": \"Art\", \"gender\": 2, \"id\": 496, \"job\": \"Production Design\", \"name\": \"Rick Carter\"}, {\"credit_id\": \"54491c89c3a3680fb4001cf7\", \"department\": \"Sound\", \"gender\": 0, \"id\": 900, \"job\": \"Sound Designer\", \"name\": \"Christopher Boyes\"}, {\"credit_id\": \"54491cb70e0a267480001bd0\", \"department\": \"Sound\", \"gender\": 0, \"id\": 900, \"job\": \"Supervising Sound Editor\", \"name\": \"Christopher Boyes\"}, {\"credit_id\": \"539c4a4cc3a36810c9002101\", \"department\": \"Production\", \"gender\": 1, \"id\": 1262, \"job\": \"Casting\", \"name\": \"Mali Finn\"}, {\"credit_id\": \"5544ee3b925141499f0008fc\", \"department\": \"Sound\", \"gender\": 2, \"id\": 1729, \"job\": \"Original Music Composer\", \"name\": \"James Horner\"}, {\"credit_id\": \"52fe48009251416c750ac9c3\", \"department\": \"Directing\", \"gender\": 2, \"id\": 2710, \"job\": \"Director\", \"name\": \"James Cameron\"}, {\"credit_id\": \"52fe48009251416c750ac9d9\", \"department\": \"Writing\", \"gender\": 2, \"id\": 2710, \"job\": \"Writer\", \"name\": \"James Cameron\"}, {\"credit_id\": \"52fe48009251416c750aca17\", \"department\": \"Editing\", \"gender\": 2, \"id\": 2710, \"job\": \"Editor\", \"name\": \"James Cameron\"}, {\"credit_id\": \"52fe48009251416c750aca29\", \"department\": \"Production\", \"gender\": 2, \"id\": 2710, \"job\": \"Producer\", \"name\": \"James Cameron\"}, {\"credit_id\": \"52fe48009251416c750aca3f\", \"department\": \"Writing\", \"gender\": 2, \"id\": 2710, \"job\": \"Screenplay\", \"name\": \"James Cameron\"}, {\"credit_id\": \"539c4987c3a36810ba0021a4\", \"department\": \"Art\", \"gender\": 2, \"id\": 7236, \"job\": \"Art Direction\", \"name\": \"Andrew Menzies\"}, {\"credit_id\": \"549598c3c3a3686ae9004383\", \"department\": \"Visual Effects\", \"gender\": 0, \"id\": 6690, \"job\": \"Visual Effects Producer\", \"name\": \"Jill Brooks\"}, {\"credit_id\": \"52fe48009251416c750aca4b\", \"department\": \"Production\", \"gender\": 1, \"id\": 6347, \"job\": \"Casting\", \"name\": \"Margery Simkin\"}, {\"credit_id\": \"570b6f419251417da70032fe\", \"department\": \"Art\", \"gender\": 2, \"id\": 6878, \"job\": \"Supervising Art Director\", \"name\": \"Kevin Ishioka\"}, {\"credit_id\": \"5495a0fac3a3686ae9004468\", \"department\": \"Sound\", \"gender\": 0, \"id\": 6883, \"job\": \"Music Editor\", \"name\": \"Dick Bernstein\"}, {\"credit_id\": \"54959706c3a3686af3003e81\", \"department\": \"Sound\", \"gender\": 0, \"id\": 8159, \"job\": \"Sound Effects Editor\", \"name\": \"Shannon Mills\"}, {\"credit_id\": \"54491d58c3a3680fb1001ccb\", \"department\": \"Sound\", \"gender\": 0, \"id\": 8160, \"job\": \"Foley\", \"name\": \"Dennie Thorpe\"}, {\"credit_id\": \"54491d6cc3a3680fa5001b2c\", \"department\": \"Sound\", \"gender\": 0, \"id\": 8163, \"job\": \"Foley\", \"name\": \"Jana Vance\"}, {\"credit_id\": \"52fe48009251416c750aca57\", \"department\": \"Costume & Make-Up\", \"gender\": 1, \"id\": 8527, \"job\": \"Costume Design\", \"name\": \"Deborah Lynn Scott\"}, {\"credit_id\": \"52fe48009251416c750aca2f\", \"department\": \"Production\", \"gender\": 2, \"id\": 8529, \"job\": \"Producer\", \"name\": \"Jon Landau\"}, {\"credit_id\": \"539c4937c3a36810ba002194\", \"department\": \"Art\", \"gender\": 0, \"id\": 9618, \"job\": \"Art Direction\", \"name\": \"Sean Haworth\"}, {\"credit_id\": \"539c49b6c3a36810c10020e6\", \"department\": \"Art\", \"gender\": 1, \"id\": 12653, \"job\": \"Set Decoration\", \"name\": \"Kim Sinclair\"}, {\"credit_id\": \"570b6f2f9251413a0e00020d\", \"department\": \"Art\", \"gender\": 1, \"id\": 12653, \"job\": \"Supervising Art Director\", \"name\": \"Kim Sinclair\"}, {\"credit_id\": \"54491a6c0e0a26748c001b19\", \"department\": \"Art\", \"gender\": 2, \"id\": 14350, \"job\": \"Set Designer\", \"name\": \"Richard F. Mays\"}, {\"credit_id\": \"56928cf4c3a3684cff0025c4\", \"department\": \"Production\", \"gender\": 1, \"id\": 20294, \"job\": \"Executive Producer\", \"name\": \"Laeta Kalogridis\"}, {\"credit_id\": \"52fe48009251416c750aca51\", \"department\": \"Costume & Make-Up\", \"gender\": 0, \"id\": 17675, \"job\": \"Costume Design\", \"name\": \"Mayes C. Rubeo\"}, {\"credit_id\": \"52fe48009251416c750aca11\", \"department\": \"Camera\", \"gender\": 2, \"id\": 18265, \"job\": \"Director of Photography\", \"name\": \"Mauro Fiore\"}, {\"credit_id\": \"5449194d0e0a26748f001b39\", \"department\": \"Art\", \"gender\": 0, \"id\": 42281, \"job\": \"Set Designer\", \"name\": \"Scott Herbertson\"}, {\"credit_id\": \"52fe48009251416c750aca05\", \"department\": \"Crew\", \"gender\": 0, \"id\": 42288, \"job\": \"Stunts\", \"name\": \"Woody Schultz\"}, {\"credit_id\": \"5592aefb92514152de0010f5\", \"department\": \"Costume & Make-Up\", \"gender\": 0, \"id\": 29067, \"job\": \"Makeup Artist\", \"name\": \"Linda DeVetta\"}, {\"credit_id\": \"5592afa492514152de00112c\", \"department\": \"Costume & Make-Up\", \"gender\": 0, \"id\": 29067, \"job\": \"Hairstylist\", \"name\": \"Linda DeVetta\"}, {\"credit_id\": \"54959ed592514130fc002e5d\", \"department\": \"Camera\", \"gender\": 2, \"id\": 33302, \"job\": \"Camera Operator\", \"name\": \"Richard Bluck\"}, {\"credit_id\": \"539c4891c3a36810ba002147\", \"department\": \"Art\", \"gender\": 2, \"id\": 33303, \"job\": \"Art Direction\", \"name\": \"Simon Bright\"}, {\"credit_id\": \"54959c069251417a81001f3a\", \"department\": \"Visual Effects\", \"gender\": 0, \"id\": 113145, \"job\": \"Visual Effects Supervisor\", \"name\": \"Richard Martin\"}, {\"credit_id\": \"54959a0dc3a3680ff5002c8d\", \"department\": \"Crew\", \"gender\": 2, \"id\": 58188, \"job\": \"Visual Effects Editor\", \"name\": \"Steve R. Moore\"}, {\"credit_id\": \"52fe48009251416c750aca1d\", \"department\": \"Editing\", \"gender\": 2, \"id\": 58871, \"job\": \"Editor\", \"name\": \"John Refoua\"}, {\"credit_id\": \"54491a4dc3a3680fc30018ca\", \"department\": \"Art\", \"gender\": 0, \"id\": 92359, \"job\": \"Set Designer\", \"name\": \"Karl J. Martin\"}, {\"credit_id\": \"52fe48009251416c750aca35\", \"department\": \"Camera\", \"gender\": 1, \"id\": 72201, \"job\": \"Director of Photography\", \"name\": \"Chiling Lin\"}, {\"credit_id\": \"52fe48009251416c750ac9ff\", \"department\": \"Crew\", \"gender\": 0, \"id\": 89714, \"job\": \"Stunts\", \"name\": \"Ilram Choi\"}, {\"credit_id\": \"54959c529251416e2b004394\", \"department\": \"Visual Effects\", \"gender\": 2, \"id\": 93214, \"job\": \"Visual Effects Supervisor\", \"name\": \"Steven Quale\"}, {\"credit_id\": \"54491edf0e0a267489001c37\", \"department\": \"Crew\", \"gender\": 1, \"id\": 122607, \"job\": \"Dialect Coach\", \"name\": \"Carla Meyer\"}, {\"credit_id\": \"539c485bc3a368653d001a3a\", \"department\": \"Art\", \"gender\": 2, \"id\": 132585, \"job\": \"Art Direction\", \"name\": \"Nick Bassett\"}, {\"credit_id\": \"539c4903c3a368653d001a74\", \"department\": \"Art\", \"gender\": 0, \"id\": 132596, \"job\": \"Art Direction\", \"name\": \"Jill Cormack\"}, {\"credit_id\": \"539c4967c3a368653d001a94\", \"department\": \"Art\", \"gender\": 0, \"id\": 132604, \"job\": \"Art Direction\", \"name\": \"Andy McLaren\"}, {\"credit_id\": \"52fe48009251416c750aca45\", \"department\": \"Crew\", \"gender\": 0, \"id\": 236696, \"job\": \"Motion Capture Artist\", \"name\": \"Terry Notary\"}, {\"credit_id\": \"54959e02c3a3680fc60027d2\", \"department\": \"Crew\", \"gender\": 2, \"id\": 956198, \"job\": \"Stunt Coordinator\", \"name\": \"Garrett Warren\"}, {\"credit_id\": \"54959ca3c3a3686ae300438c\", \"department\": \"Visual Effects\", \"gender\": 2, \"id\": 957874, \"job\": \"Visual Effects Supervisor\", \"name\": \"Jonathan Rothbart\"}, {\"credit_id\": \"570b6f519251412c74001b2f\", \"department\": \"Art\", \"gender\": 0, \"id\": 957889, \"job\": \"Supervising Art Director\", \"name\": \"Stefan Dechant\"}, {\"credit_id\": \"570b6f62c3a3680b77007460\", \"department\": \"Art\", \"gender\": 2, \"id\": 959555, \"job\": \"Supervising Art Director\", \"name\": \"Todd Cherniawsky\"}, {\"credit_id\": \"539c4a3ac3a36810da0021cc\", \"department\": \"Production\", \"gender\": 0, \"id\": 1016177, \"job\": \"Casting\", \"name\": \"Miranda Rivers\"}, {\"credit_id\": \"539c482cc3a36810c1002062\", \"department\": \"Art\", \"gender\": 0, \"id\": 1032536, \"job\": \"Production Design\", \"name\": \"Robert Stromberg\"}, {\"credit_id\": \"539c4b65c3a36810c9002125\", \"department\": \"Costume & Make-Up\", \"gender\": 2, \"id\": 1071680, \"job\": \"Costume Design\", \"name\": \"John Harding\"}, {\"credit_id\": \"54959e6692514130fc002e4e\", \"department\": \"Camera\", \"gender\": 0, \"id\": 1177364, \"job\": \"Steadicam Operator\", \"name\": \"Roberto De Angelis\"}, {\"credit_id\": \"539c49f1c3a368653d001aac\", \"department\": \"Costume & Make-Up\", \"gender\": 2, \"id\": 1202850, \"job\": \"Makeup Department Head\", \"name\": \"Mike Smithson\"}, {\"credit_id\": \"5495999ec3a3686ae100460c\", \"department\": \"Visual Effects\", \"gender\": 0, \"id\": 1204668, \"job\": \"Visual Effects Producer\", \"name\": \"Alain Lalanne\"}, {\"credit_id\": \"54959cdfc3a3681153002729\", \"department\": \"Visual Effects\", \"gender\": 0, \"id\": 1206410, \"job\": \"Visual Effects Supervisor\", \"name\": \"Lucas Salton\"}, {\"credit_id\": \"549596239251417a81001eae\", \"department\": \"Crew\", \"gender\": 0, \"id\": 1234266, \"job\": \"Post Production Supervisor\", \"name\": \"Janace Tashjian\"}, {\"credit_id\": \"54959c859251416e1e003efe\", \"department\": \"Visual Effects\", \"gender\": 0, \"id\": 1271932, \"job\": \"Visual Effects Supervisor\", \"name\": \"Stephen Rosenbaum\"}, {\"credit_id\": \"5592af28c3a368775a00105f\", \"department\": \"Costume & Make-Up\", \"gender\": 0, \"id\": 1310064, \"job\": \"Makeup Artist\", \"name\": \"Frankie Karena\"}, {\"credit_id\": \"539c4adfc3a36810e300203b\", \"department\": \"Costume & Make-Up\", \"gender\": 1, \"id\": 1319844, \"job\": \"Costume Supervisor\", \"name\": \"Lisa Lovaas\"}, {\"credit_id\": \"54959b579251416e2b004371\", \"department\": \"Visual Effects\", \"gender\": 0, \"id\": 1327028, \"job\": \"Visual Effects Supervisor\", \"name\": \"Jonathan Fawkner\"}, {\"credit_id\": \"539c48a7c3a36810b5001fa7\", \"department\": \"Art\", \"gender\": 0, \"id\": 1330561, \"job\": \"Art Direction\", \"name\": \"Robert Bavin\"}, {\"credit_id\": \"539c4a71c3a36810da0021e0\", \"department\": \"Costume & Make-Up\", \"gender\": 0, \"id\": 1330567, \"job\": \"Costume Supervisor\", \"name\": \"Anthony Almaraz\"}, {\"credit_id\": \"539c4a8ac3a36810ba0021e4\", \"department\": \"Costume & Make-Up\", \"gender\": 0, \"id\": 1330570, \"job\": \"Costume Supervisor\", \"name\": \"Carolyn M. Fenton\"}, {\"credit_id\": \"539c4ab6c3a36810da0021f0\", \"department\": \"Costume & Make-Up\", \"gender\": 0, \"id\": 1330574, \"job\": \"Costume Supervisor\", \"name\": \"Beth Koenigsberg\"}, {\"credit_id\": \"54491ab70e0a267480001ba2\", \"department\": \"Art\", \"gender\": 0, \"id\": 1336191, \"job\": \"Set Designer\", \"name\": \"Sam Page\"}, {\"credit_id\": \"544919d9c3a3680fc30018bd\", \"department\": \"Art\", \"gender\": 0, \"id\": 1339441, \"job\": \"Set Designer\", \"name\": \"Tex Kadonaga\"}, {\"credit_id\": \"54491cf50e0a267483001b0c\", \"department\": \"Editing\", \"gender\": 0, \"id\": 1352422, \"job\": \"Dialogue Editor\", \"name\": \"Kim Foscato\"}, {\"credit_id\": \"544919f40e0a26748c001b09\", \"department\": \"Art\", \"gender\": 0, \"id\": 1352962, \"job\": \"Set Designer\", \"name\": \"Tammy S. Lee\"}, {\"credit_id\": \"5495a115c3a3680ff5002d71\", \"department\": \"Crew\", \"gender\": 0, \"id\": 1357070, \"job\": \"Transportation Coordinator\", \"name\": \"Denny Caira\"}, {\"credit_id\": \"5495a12f92514130fc002e94\", \"department\": \"Crew\", \"gender\": 0, \"id\": 1357071, \"job\": \"Transportation Coordinator\", \"name\": \"James Waitkus\"}, {\"credit_id\": \"5495976fc3a36811530026b0\", \"department\": \"Sound\", \"gender\": 0, \"id\": 1360103, \"job\": \"Supervising Sound Editor\", \"name\": \"Addison Teague\"}, {\"credit_id\": \"54491837c3a3680fb1001c5a\", \"department\": \"Art\", \"gender\": 2, \"id\": 1376887, \"job\": \"Set Designer\", \"name\": \"C. Scott Baker\"}, {\"credit_id\": \"54491878c3a3680fb4001c9d\", \"department\": \"Art\", \"gender\": 0, \"id\": 1376888, \"job\": \"Set Designer\", \"name\": \"Luke Caska\"}, {\"credit_id\": \"544918dac3a3680fa5001ae0\", \"department\": \"Art\", \"gender\": 0, \"id\": 1376889, \"job\": \"Set Designer\", \"name\": \"David Chow\"}, {\"credit_id\": \"544919110e0a267486001b68\", \"department\": \"Art\", \"gender\": 0, \"id\": 1376890, \"job\": \"Set Designer\", \"name\": \"Jonathan Dyer\"}, {\"credit_id\": \"54491967c3a3680faa001b5e\", \"department\": \"Art\", \"gender\": 0, \"id\": 1376891, \"job\": \"Set Designer\", \"name\": \"Joseph Hiura\"}, {\"credit_id\": \"54491997c3a3680fb1001c8a\", \"department\": \"Art\", \"gender\": 0, \"id\": 1376892, \"job\": \"Art Department Coordinator\", \"name\": \"Rebecca Jellie\"}, {\"credit_id\": \"544919ba0e0a26748f001b42\", \"department\": \"Art\", \"gender\": 0, \"id\": 1376893, \"job\": \"Set Designer\", \"name\": \"Robert Andrew Johnson\"}, {\"credit_id\": \"54491b1dc3a3680faa001b8c\", \"department\": \"Art\", \"gender\": 0, \"id\": 1376895, \"job\": \"Assistant Art Director\", \"name\": \"Mike Stassi\"}, {\"credit_id\": \"54491b79c3a3680fbb001826\", \"department\": \"Art\", \"gender\": 0, \"id\": 1376897, \"job\": \"Construction Coordinator\", \"name\": \"John Villarino\"}, {\"credit_id\": \"54491baec3a3680fb4001ce6\", \"department\": \"Art\", \"gender\": 2, \"id\": 1376898, \"job\": \"Assistant Art Director\", \"name\": \"Jeffrey Wisniewski\"}, {\"credit_id\": \"54491d2fc3a3680fb4001d07\", \"department\": \"Editing\", \"gender\": 0, \"id\": 1376899, \"job\": \"Dialogue Editor\", \"name\": \"Cheryl Nardi\"}, {\"credit_id\": \"54491d86c3a3680fa5001b2f\", \"department\": \"Editing\", \"gender\": 0, \"id\": 1376901, \"job\": \"Dialogue Editor\", \"name\": \"Marshall Winn\"}, {\"credit_id\": \"54491d9dc3a3680faa001bb0\", \"department\": \"Sound\", \"gender\": 0, \"id\": 1376902, \"job\": \"Supervising Sound Editor\", \"name\": \"Gwendolyn Yates Whittle\"}, {\"credit_id\": \"54491dc10e0a267486001bce\", \"department\": \"Sound\", \"gender\": 0, \"id\": 1376903, \"job\": \"Sound Re-Recording Mixer\", \"name\": \"William Stein\"}, {\"credit_id\": \"54491f500e0a26747c001c07\", \"department\": \"Crew\", \"gender\": 0, \"id\": 1376909, \"job\": \"Choreographer\", \"name\": \"Lula Washington\"}, {\"credit_id\": \"549599239251412c4e002a2e\", \"department\": \"Visual Effects\", \"gender\": 0, \"id\": 1391692, \"job\": \"Visual Effects Producer\", \"name\": \"Chris Del Conte\"}, {\"credit_id\": \"54959d54c3a36831b8001d9a\", \"department\": \"Visual Effects\", \"gender\": 2, \"id\": 1391695, \"job\": \"Visual Effects Supervisor\", \"name\": \"R. Christopher White\"}, {\"credit_id\": \"54959bdf9251412c4e002a66\", \"department\": \"Visual Effects\", \"gender\": 0, \"id\": 1394070, \"job\": \"Visual Effects Supervisor\", \"name\": \"Dan Lemmon\"}, {\"credit_id\": \"5495971d92514132ed002922\", \"department\": \"Sound\", \"gender\": 0, \"id\": 1394129, \"job\": \"Sound Effects Editor\", \"name\": \"Tim Nielsen\"}, {\"credit_id\": \"5592b25792514152cc0011aa\", \"department\": \"Crew\", \"gender\": 0, \"id\": 1394286, \"job\": \"CG Supervisor\", \"name\": \"Michael Mulholland\"}, {\"credit_id\": \"54959a329251416e2b004355\", \"department\": \"Crew\", \"gender\": 0, \"id\": 1394750, \"job\": \"Visual Effects Editor\", \"name\": \"Thomas Nittmann\"}, {\"credit_id\": \"54959d6dc3a3686ae9004401\", \"department\": \"Visual Effects\", \"gender\": 0, \"id\": 1394755, \"job\": \"Visual Effects Supervisor\", \"name\": \"Edson Williams\"}, {\"credit_id\": \"5495a08fc3a3686ae300441c\", \"department\": \"Editing\", \"gender\": 0, \"id\": 1394953, \"job\": \"Digital Intermediate\", \"name\": \"Christine Carr\"}, {\"credit_id\": \"55402d659251413d6d000249\", \"department\": \"Visual Effects\", \"gender\": 0, \"id\": 1395269, \"job\": \"Visual Effects Supervisor\", \"name\": \"John Bruno\"}, {\"credit_id\": \"54959e7b9251416e1e003f3e\", \"department\": \"Camera\", \"gender\": 0, \"id\": 1398970, \"job\": \"Steadicam Operator\", \"name\": \"David Emmerichs\"}, {\"credit_id\": \"54959734c3a3686ae10045e0\", \"department\": \"Sound\", \"gender\": 0, \"id\": 1400906, \"job\": \"Sound Effects Editor\", \"name\": \"Christopher Scarabosio\"}, {\"credit_id\": \"549595dd92514130fc002d79\", \"department\": \"Production\", \"gender\": 0, \"id\": 1401784, \"job\": \"Production Supervisor\", \"name\": \"Jennifer Teves\"}, {\"credit_id\": \"549596009251413af70028cc\", \"department\": \"Production\", \"gender\": 0, \"id\": 1401785, \"job\": \"Production Manager\", \"name\": \"Brigitte Yorke\"}, {\"credit_id\": \"549596e892514130fc002d99\", \"department\": \"Sound\", \"gender\": 0, \"id\": 1401786, \"job\": \"Sound Effects Editor\", \"name\": \"Ken Fischer\"}, {\"credit_id\": \"549598229251412c4e002a1c\", \"department\": \"Crew\", \"gender\": 0, \"id\": 1401787, \"job\": \"Special Effects Coordinator\", \"name\": \"Iain Hutton\"}, {\"credit_id\": \"549598349251416e2b00432b\", \"department\": \"Crew\", \"gender\": 0, \"id\": 1401788, \"job\": \"Special Effects Coordinator\", \"name\": \"Steve Ingram\"}, {\"credit_id\": \"54959905c3a3686ae3004324\", \"department\": \"Visual Effects\", \"gender\": 0, \"id\": 1401789, \"job\": \"Visual Effects Producer\", \"name\": \"Joyce Cox\"}, {\"credit_id\": \"5495994b92514132ed002951\", \"department\": \"Visual Effects\", \"gender\": 0, \"id\": 1401790, \"job\": \"Visual Effects Producer\", \"name\": \"Jenny Foster\"}, {\"credit_id\": \"549599cbc3a3686ae1004613\", \"department\": \"Crew\", \"gender\": 0, \"id\": 1401791, \"job\": \"Visual Effects Editor\", \"name\": \"Christopher Marino\"}, {\"credit_id\": \"549599f2c3a3686ae100461e\", \"department\": \"Crew\", \"gender\": 0, \"id\": 1401792, \"job\": \"Visual Effects Editor\", \"name\": \"Jim Milton\"}, {\"credit_id\": \"54959a51c3a3686af3003eb5\", \"department\": \"Visual Effects\", \"gender\": 0, \"id\": 1401793, \"job\": \"Visual Effects Producer\", \"name\": \"Cyndi Ochs\"}, {\"credit_id\": \"54959a7cc3a36811530026f4\", \"department\": \"Crew\", \"gender\": 0, \"id\": 1401794, \"job\": \"Visual Effects Editor\", \"name\": \"Lucas Putnam\"}, {\"credit_id\": \"54959b91c3a3680ff5002cb4\", \"department\": \"Visual Effects\", \"gender\": 0, \"id\": 1401795, \"job\": \"Visual Effects Supervisor\", \"name\": \"Anthony \\'Max\\' Ivins\"}, {\"credit_id\": \"54959bb69251412c4e002a5f\", \"department\": \"Visual Effects\", \"gender\": 0, \"id\": 1401796, \"job\": \"Visual Effects Supervisor\", \"name\": \"John Knoll\"}, {\"credit_id\": \"54959cbbc3a3686ae3004391\", \"department\": \"Visual Effects\", \"gender\": 2, \"id\": 1401799, \"job\": \"Visual Effects Supervisor\", \"name\": \"Eric Saindon\"}, {\"credit_id\": \"54959d06c3a3686ae90043f6\", \"department\": \"Visual Effects\", \"gender\": 0, \"id\": 1401800, \"job\": \"Visual Effects Supervisor\", \"name\": \"Wayne Stables\"}, {\"credit_id\": \"54959d259251416e1e003f11\", \"department\": \"Visual Effects\", \"gender\": 0, \"id\": 1401801, \"job\": \"Visual Effects Supervisor\", \"name\": \"David Stinnett\"}, {\"credit_id\": \"54959db49251413af7002975\", \"department\": \"Visual Effects\", \"gender\": 0, \"id\": 1401803, \"job\": \"Visual Effects Supervisor\", \"name\": \"Guy Williams\"}, {\"credit_id\": \"54959de4c3a3681153002750\", \"department\": \"Crew\", \"gender\": 0, \"id\": 1401804, \"job\": \"Stunt Coordinator\", \"name\": \"Stuart Thorp\"}, {\"credit_id\": \"54959ef2c3a3680fc60027f2\", \"department\": \"Lighting\", \"gender\": 0, \"id\": 1401805, \"job\": \"Best Boy Electric\", \"name\": \"Giles Coburn\"}, {\"credit_id\": \"54959f07c3a3680fc60027f9\", \"department\": \"Camera\", \"gender\": 2, \"id\": 1401806, \"job\": \"Still Photographer\", \"name\": \"Mark Fellman\"}, {\"credit_id\": \"54959f47c3a3681153002774\", \"department\": \"Lighting\", \"gender\": 0, \"id\": 1401807, \"job\": \"Lighting Technician\", \"name\": \"Scott Sprague\"}, {\"credit_id\": \"54959f8cc3a36831b8001df2\", \"department\": \"Visual Effects\", \"gender\": 0, \"id\": 1401808, \"job\": \"Animation Director\", \"name\": \"Jeremy Hollobon\"}, {\"credit_id\": \"54959fa0c3a36831b8001dfb\", \"department\": \"Visual Effects\", \"gender\": 0, \"id\": 1401809, \"job\": \"Animation Director\", \"name\": \"Orlando Meunier\"}, {\"credit_id\": \"54959fb6c3a3686af3003f54\", \"department\": \"Visual Effects\", \"gender\": 0, \"id\": 1401810, \"job\": \"Animation Director\", \"name\": \"Taisuke Tanimura\"}, {\"credit_id\": \"54959fd2c3a36831b8001e02\", \"department\": \"Costume & Make-Up\", \"gender\": 0, \"id\": 1401812, \"job\": \"Set Costumer\", \"name\": \"Lilia Mishel Acevedo\"}, {\"credit_id\": \"54959ff9c3a3686ae300440c\", \"department\": \"Costume & Make-Up\", \"gender\": 0, \"id\": 1401814, \"job\": \"Set Costumer\", \"name\": \"Alejandro M. Hernandez\"}, {\"credit_id\": \"5495a0ddc3a3686ae10046fe\", \"department\": \"Editing\", \"gender\": 0, \"id\": 1401815, \"job\": \"Digital Intermediate\", \"name\": \"Marvin Hall\"}, {\"credit_id\": \"5495a1f7c3a3686ae3004443\", \"department\": \"Production\", \"gender\": 0, \"id\": 1401816, \"job\": \"Publicist\", \"name\": \"Judy Alley\"}, {\"credit_id\": \"5592b29fc3a36869d100002f\", \"department\": \"Crew\", \"gender\": 0, \"id\": 1418381, \"job\": \"CG Supervisor\", \"name\": \"Mike Perry\"}, {\"credit_id\": \"5592b23a9251415df8001081\", \"department\": \"Crew\", \"gender\": 0, \"id\": 1426854, \"job\": \"CG Supervisor\", \"name\": \"Andrew Morley\"}, {\"credit_id\": \"55491e1192514104c40002d8\", \"department\": \"Art\", \"gender\": 0, \"id\": 1438901, \"job\": \"Conceptual Design\", \"name\": \"Seth Engstrom\"}, {\"credit_id\": \"5525d5809251417276002b06\", \"department\": \"Crew\", \"gender\": 0, \"id\": 1447362, \"job\": \"Visual Effects Art Director\", \"name\": \"Eric Oliver\"}, {\"credit_id\": \"554427ca925141586500312a\", \"department\": \"Visual Effects\", \"gender\": 0, \"id\": 1447503, \"job\": \"Modeling\", \"name\": \"Matsune Suzuki\"}, {\"credit_id\": \"551906889251415aab001c88\", \"department\": \"Art\", \"gender\": 0, \"id\": 1447524, \"job\": \"Art Department Manager\", \"name\": \"Paul Tobin\"}, {\"credit_id\": \"5592af8492514152cc0010de\", \"department\": \"Costume & Make-Up\", \"gender\": 0, \"id\": 1452643, \"job\": \"Hairstylist\", \"name\": \"Roxane Griffin\"}, {\"credit_id\": \"553d3c109251415852001318\", \"department\": \"Lighting\", \"gender\": 0, \"id\": 1453938, \"job\": \"Lighting Artist\", \"name\": \"Arun Ram-Mohan\"}, {\"credit_id\": \"5592af4692514152d5001355\", \"department\": \"Costume & Make-Up\", \"gender\": 0, \"id\": 1457305, \"job\": \"Makeup Artist\", \"name\": \"Georgia Lockhart-Adams\"}, {\"credit_id\": \"5592b2eac3a36877470012a5\", \"department\": \"Crew\", \"gender\": 0, \"id\": 1466035, \"job\": \"CG Supervisor\", \"name\": \"Thrain Shadbolt\"}, {\"credit_id\": \"5592b032c3a36877450015f1\", \"department\": \"Crew\", \"gender\": 0, \"id\": 1483220, \"job\": \"CG Supervisor\", \"name\": \"Brad Alexander\"}, {\"credit_id\": \"5592b05592514152d80012f6\", \"department\": \"Crew\", \"gender\": 0, \"id\": 1483221, \"job\": \"CG Supervisor\", \"name\": \"Shadi Almassizadeh\"}, {\"credit_id\": \"5592b090c3a36877570010b5\", \"department\": \"Crew\", \"gender\": 0, \"id\": 1483222, \"job\": \"CG Supervisor\", \"name\": \"Simon Clutterbuck\"}, {\"credit_id\": \"5592b0dbc3a368774b00112c\", \"department\": \"Crew\", \"gender\": 0, \"id\": 1483223, \"job\": \"CG Supervisor\", \"name\": \"Graeme Demmocks\"}, {\"credit_id\": \"5592b0fe92514152db0010c1\", \"department\": \"Crew\", \"gender\": 0, \"id\": 1483224, \"job\": \"CG Supervisor\", \"name\": \"Adrian Fernandes\"}, {\"credit_id\": \"5592b11f9251415df8001059\", \"department\": \"Crew\", \"gender\": 0, \"id\": 1483225, \"job\": \"CG Supervisor\", \"name\": \"Mitch Gates\"}, {\"credit_id\": \"5592b15dc3a3687745001645\", \"department\": \"Crew\", \"gender\": 0, \"id\": 1483226, \"job\": \"CG Supervisor\", \"name\": \"Jerry Kung\"}, {\"credit_id\": \"5592b18e925141645a0004ae\", \"department\": \"Crew\", \"gender\": 0, \"id\": 1483227, \"job\": \"CG Supervisor\", \"name\": \"Andy Lomas\"}, {\"credit_id\": \"5592b1bfc3a368775d0010e7\", \"department\": \"Crew\", \"gender\": 0, \"id\": 1483228, \"job\": \"CG Supervisor\", \"name\": \"Sebastian Marino\"}, {\"credit_id\": \"5592b2049251415df8001078\", \"department\": \"Crew\", \"gender\": 0, \"id\": 1483229, \"job\": \"CG Supervisor\", \"name\": \"Matthias Menz\"}, {\"credit_id\": \"5592b27b92514152d800136a\", \"department\": \"Crew\", \"gender\": 0, \"id\": 1483230, \"job\": \"CG Supervisor\", \"name\": \"Sergei Nevshupov\"}, {\"credit_id\": \"5592b2c3c3a36869e800003c\", \"department\": \"Crew\", \"gender\": 0, \"id\": 1483231, \"job\": \"CG Supervisor\", \"name\": \"Philippe Rebours\"}, {\"credit_id\": \"5592b317c3a36877470012af\", \"department\": \"Crew\", \"gender\": 0, \"id\": 1483232, \"job\": \"CG Supervisor\", \"name\": \"Michael Takarangi\"}, {\"credit_id\": \"5592b345c3a36877470012bb\", \"department\": \"Crew\", \"gender\": 0, \"id\": 1483233, \"job\": \"CG Supervisor\", \"name\": \"David Weitzberg\"}, {\"credit_id\": \"5592b37cc3a368775100113b\", \"department\": \"Crew\", \"gender\": 0, \"id\": 1483234, \"job\": \"CG Supervisor\", \"name\": \"Ben White\"}, {\"credit_id\": \"573c8e2f9251413f5d000094\", \"department\": \"Crew\", \"gender\": 1, \"id\": 1621932, \"job\": \"Stunts\", \"name\": \"Min Windle\"}]'"
      ]
     },
     "execution_count": 148,
     "metadata": {},
     "output_type": "execute_result"
    }
   ],
   "source": [
    "df_new['crew'].iloc[0]"
   ]
  },
  {
   "cell_type": "code",
   "execution_count": 149,
   "id": "f7dd20f3",
   "metadata": {},
   "outputs": [],
   "source": [
    "def get_director(obj):\n",
    "    L=[]\n",
    "    for i in ast.literal_eval(obj):\n",
    "        if i['job']=='Director':\n",
    "            L.append(i['name'])\n",
    "    return L"
   ]
  },
  {
   "cell_type": "code",
   "execution_count": 150,
   "id": "44470139",
   "metadata": {},
   "outputs": [
    {
     "data": {
      "text/plain": [
       "0                                [James Cameron]\n",
       "1                               [Gore Verbinski]\n",
       "2                                   [Sam Mendes]\n",
       "3                            [Christopher Nolan]\n",
       "4                               [Andrew Stanton]\n",
       "                          ...                   \n",
       "4804                          [Robert Rodriguez]\n",
       "4805                              [Edward Burns]\n",
       "4806                               [Scott Smith]\n",
       "4807                               [Daniel Hsia]\n",
       "4808    [Brian Herzlinger, Jon Gunn, Brett Winn]\n",
       "Name: crew, Length: 4809, dtype: object"
      ]
     },
     "execution_count": 150,
     "metadata": {},
     "output_type": "execute_result"
    }
   ],
   "source": [
    "df_new['crew'].apply(get_director)"
   ]
  },
  {
   "cell_type": "code",
   "execution_count": 151,
   "id": "dcea0faf",
   "metadata": {},
   "outputs": [],
   "source": [
    "df_new['crew']=df_new['crew'].apply(get_director)"
   ]
  },
  {
   "cell_type": "code",
   "execution_count": 152,
   "id": "a6d1a549",
   "metadata": {},
   "outputs": [
    {
     "data": {
      "text/plain": [
       "['James Cameron']"
      ]
     },
     "execution_count": 152,
     "metadata": {},
     "output_type": "execute_result"
    }
   ],
   "source": [
    "df_new['crew'][0]"
   ]
  },
  {
   "cell_type": "code",
   "execution_count": 153,
   "id": "ca08e4ca",
   "metadata": {},
   "outputs": [
    {
     "data": {
      "text/html": [
       "<div>\n",
       "<style scoped>\n",
       "    .dataframe tbody tr th:only-of-type {\n",
       "        vertical-align: middle;\n",
       "    }\n",
       "\n",
       "    .dataframe tbody tr th {\n",
       "        vertical-align: top;\n",
       "    }\n",
       "\n",
       "    .dataframe thead th {\n",
       "        text-align: right;\n",
       "    }\n",
       "</style>\n",
       "<table border=\"1\" class=\"dataframe\">\n",
       "  <thead>\n",
       "    <tr style=\"text-align: right;\">\n",
       "      <th></th>\n",
       "      <th>budget</th>\n",
       "      <th>genres</th>\n",
       "      <th>homepage</th>\n",
       "      <th>keywords</th>\n",
       "      <th>original_language</th>\n",
       "      <th>original_title</th>\n",
       "      <th>overview</th>\n",
       "      <th>popularity</th>\n",
       "      <th>production_companies</th>\n",
       "      <th>production_countries</th>\n",
       "      <th>release_date</th>\n",
       "      <th>revenue</th>\n",
       "      <th>runtime</th>\n",
       "      <th>spoken_languages</th>\n",
       "      <th>status</th>\n",
       "      <th>tagline</th>\n",
       "      <th>title</th>\n",
       "      <th>vote_average</th>\n",
       "      <th>vote_count</th>\n",
       "      <th>movie_id</th>\n",
       "      <th>cast</th>\n",
       "      <th>crew</th>\n",
       "    </tr>\n",
       "  </thead>\n",
       "  <tbody>\n",
       "    <tr>\n",
       "      <th>0</th>\n",
       "      <td>237000000</td>\n",
       "      <td>[Action, Adventure, Fantasy, Science Fiction]</td>\n",
       "      <td>http://www.avatarmovie.com/</td>\n",
       "      <td>[culture clash, future, space war, space colon...</td>\n",
       "      <td>en</td>\n",
       "      <td>Avatar</td>\n",
       "      <td>In the 22nd century, a paraplegic Marine is di...</td>\n",
       "      <td>150.437577</td>\n",
       "      <td>[{\"name\": \"Ingenious Film Partners\", \"id\": 289...</td>\n",
       "      <td>[{\"iso_3166_1\": \"US\", \"name\": \"United States o...</td>\n",
       "      <td>2009-12-10</td>\n",
       "      <td>2787965087</td>\n",
       "      <td>162.0</td>\n",
       "      <td>[{\"iso_639_1\": \"en\", \"name\": \"English\"}, {\"iso...</td>\n",
       "      <td>Released</td>\n",
       "      <td>Enter the World of Pandora.</td>\n",
       "      <td>Avatar</td>\n",
       "      <td>7.2</td>\n",
       "      <td>11800</td>\n",
       "      <td>19995</td>\n",
       "      <td>[Sam Worthington, Zoe Saldana, Sigourney Weaver]</td>\n",
       "      <td>[James Cameron]</td>\n",
       "    </tr>\n",
       "    <tr>\n",
       "      <th>1</th>\n",
       "      <td>300000000</td>\n",
       "      <td>[Adventure, Fantasy, Action]</td>\n",
       "      <td>http://disney.go.com/disneypictures/pirates/</td>\n",
       "      <td>[ocean, drug abuse, exotic island, east india ...</td>\n",
       "      <td>en</td>\n",
       "      <td>Pirates of the Caribbean: At World's End</td>\n",
       "      <td>Captain Barbossa, long believed to be dead, ha...</td>\n",
       "      <td>139.082615</td>\n",
       "      <td>[{\"name\": \"Walt Disney Pictures\", \"id\": 2}, {\"...</td>\n",
       "      <td>[{\"iso_3166_1\": \"US\", \"name\": \"United States o...</td>\n",
       "      <td>2007-05-19</td>\n",
       "      <td>961000000</td>\n",
       "      <td>169.0</td>\n",
       "      <td>[{\"iso_639_1\": \"en\", \"name\": \"English\"}]</td>\n",
       "      <td>Released</td>\n",
       "      <td>At the end of the world, the adventure begins.</td>\n",
       "      <td>Pirates of the Caribbean: At World's End</td>\n",
       "      <td>6.9</td>\n",
       "      <td>4500</td>\n",
       "      <td>285</td>\n",
       "      <td>[Johnny Depp, Orlando Bloom, Keira Knightley]</td>\n",
       "      <td>[Gore Verbinski]</td>\n",
       "    </tr>\n",
       "    <tr>\n",
       "      <th>2</th>\n",
       "      <td>245000000</td>\n",
       "      <td>[Action, Adventure, Crime]</td>\n",
       "      <td>http://www.sonypictures.com/movies/spectre/</td>\n",
       "      <td>[spy, based on novel, secret agent, sequel, mi...</td>\n",
       "      <td>en</td>\n",
       "      <td>Spectre</td>\n",
       "      <td>A cryptic message from Bond’s past sends him o...</td>\n",
       "      <td>107.376788</td>\n",
       "      <td>[{\"name\": \"Columbia Pictures\", \"id\": 5}, {\"nam...</td>\n",
       "      <td>[{\"iso_3166_1\": \"GB\", \"name\": \"United Kingdom\"...</td>\n",
       "      <td>2015-10-26</td>\n",
       "      <td>880674609</td>\n",
       "      <td>148.0</td>\n",
       "      <td>[{\"iso_639_1\": \"fr\", \"name\": \"Fran\\u00e7ais\"},...</td>\n",
       "      <td>Released</td>\n",
       "      <td>A Plan No One Escapes</td>\n",
       "      <td>Spectre</td>\n",
       "      <td>6.3</td>\n",
       "      <td>4466</td>\n",
       "      <td>206647</td>\n",
       "      <td>[Daniel Craig, Christoph Waltz, Léa Seydoux]</td>\n",
       "      <td>[Sam Mendes]</td>\n",
       "    </tr>\n",
       "    <tr>\n",
       "      <th>3</th>\n",
       "      <td>250000000</td>\n",
       "      <td>[Action, Crime, Drama, Thriller]</td>\n",
       "      <td>http://www.thedarkknightrises.com/</td>\n",
       "      <td>[dc comics, crime fighter, terrorist, secret i...</td>\n",
       "      <td>en</td>\n",
       "      <td>The Dark Knight Rises</td>\n",
       "      <td>Following the death of District Attorney Harve...</td>\n",
       "      <td>112.312950</td>\n",
       "      <td>[{\"name\": \"Legendary Pictures\", \"id\": 923}, {\"...</td>\n",
       "      <td>[{\"iso_3166_1\": \"US\", \"name\": \"United States o...</td>\n",
       "      <td>2012-07-16</td>\n",
       "      <td>1084939099</td>\n",
       "      <td>165.0</td>\n",
       "      <td>[{\"iso_639_1\": \"en\", \"name\": \"English\"}]</td>\n",
       "      <td>Released</td>\n",
       "      <td>The Legend Ends</td>\n",
       "      <td>The Dark Knight Rises</td>\n",
       "      <td>7.6</td>\n",
       "      <td>9106</td>\n",
       "      <td>49026</td>\n",
       "      <td>[Christian Bale, Michael Caine, Gary Oldman]</td>\n",
       "      <td>[Christopher Nolan]</td>\n",
       "    </tr>\n",
       "    <tr>\n",
       "      <th>4</th>\n",
       "      <td>260000000</td>\n",
       "      <td>[Action, Adventure, Science Fiction]</td>\n",
       "      <td>http://movies.disney.com/john-carter</td>\n",
       "      <td>[based on novel, mars, medallion, space travel...</td>\n",
       "      <td>en</td>\n",
       "      <td>John Carter</td>\n",
       "      <td>John Carter is a war-weary, former military ca...</td>\n",
       "      <td>43.926995</td>\n",
       "      <td>[{\"name\": \"Walt Disney Pictures\", \"id\": 2}]</td>\n",
       "      <td>[{\"iso_3166_1\": \"US\", \"name\": \"United States o...</td>\n",
       "      <td>2012-03-07</td>\n",
       "      <td>284139100</td>\n",
       "      <td>132.0</td>\n",
       "      <td>[{\"iso_639_1\": \"en\", \"name\": \"English\"}]</td>\n",
       "      <td>Released</td>\n",
       "      <td>Lost in our world, found in another.</td>\n",
       "      <td>John Carter</td>\n",
       "      <td>6.1</td>\n",
       "      <td>2124</td>\n",
       "      <td>49529</td>\n",
       "      <td>[Taylor Kitsch, Lynn Collins, Samantha Morton]</td>\n",
       "      <td>[Andrew Stanton]</td>\n",
       "    </tr>\n",
       "  </tbody>\n",
       "</table>\n",
       "</div>"
      ],
      "text/plain": [
       "      budget                                         genres  \\\n",
       "0  237000000  [Action, Adventure, Fantasy, Science Fiction]   \n",
       "1  300000000                   [Adventure, Fantasy, Action]   \n",
       "2  245000000                     [Action, Adventure, Crime]   \n",
       "3  250000000               [Action, Crime, Drama, Thriller]   \n",
       "4  260000000           [Action, Adventure, Science Fiction]   \n",
       "\n",
       "                                       homepage  \\\n",
       "0                   http://www.avatarmovie.com/   \n",
       "1  http://disney.go.com/disneypictures/pirates/   \n",
       "2   http://www.sonypictures.com/movies/spectre/   \n",
       "3            http://www.thedarkknightrises.com/   \n",
       "4          http://movies.disney.com/john-carter   \n",
       "\n",
       "                                            keywords original_language  \\\n",
       "0  [culture clash, future, space war, space colon...                en   \n",
       "1  [ocean, drug abuse, exotic island, east india ...                en   \n",
       "2  [spy, based on novel, secret agent, sequel, mi...                en   \n",
       "3  [dc comics, crime fighter, terrorist, secret i...                en   \n",
       "4  [based on novel, mars, medallion, space travel...                en   \n",
       "\n",
       "                             original_title  \\\n",
       "0                                    Avatar   \n",
       "1  Pirates of the Caribbean: At World's End   \n",
       "2                                   Spectre   \n",
       "3                     The Dark Knight Rises   \n",
       "4                               John Carter   \n",
       "\n",
       "                                            overview  popularity  \\\n",
       "0  In the 22nd century, a paraplegic Marine is di...  150.437577   \n",
       "1  Captain Barbossa, long believed to be dead, ha...  139.082615   \n",
       "2  A cryptic message from Bond’s past sends him o...  107.376788   \n",
       "3  Following the death of District Attorney Harve...  112.312950   \n",
       "4  John Carter is a war-weary, former military ca...   43.926995   \n",
       "\n",
       "                                production_companies  \\\n",
       "0  [{\"name\": \"Ingenious Film Partners\", \"id\": 289...   \n",
       "1  [{\"name\": \"Walt Disney Pictures\", \"id\": 2}, {\"...   \n",
       "2  [{\"name\": \"Columbia Pictures\", \"id\": 5}, {\"nam...   \n",
       "3  [{\"name\": \"Legendary Pictures\", \"id\": 923}, {\"...   \n",
       "4        [{\"name\": \"Walt Disney Pictures\", \"id\": 2}]   \n",
       "\n",
       "                                production_countries release_date     revenue  \\\n",
       "0  [{\"iso_3166_1\": \"US\", \"name\": \"United States o...   2009-12-10  2787965087   \n",
       "1  [{\"iso_3166_1\": \"US\", \"name\": \"United States o...   2007-05-19   961000000   \n",
       "2  [{\"iso_3166_1\": \"GB\", \"name\": \"United Kingdom\"...   2015-10-26   880674609   \n",
       "3  [{\"iso_3166_1\": \"US\", \"name\": \"United States o...   2012-07-16  1084939099   \n",
       "4  [{\"iso_3166_1\": \"US\", \"name\": \"United States o...   2012-03-07   284139100   \n",
       "\n",
       "   runtime                                   spoken_languages    status  \\\n",
       "0    162.0  [{\"iso_639_1\": \"en\", \"name\": \"English\"}, {\"iso...  Released   \n",
       "1    169.0           [{\"iso_639_1\": \"en\", \"name\": \"English\"}]  Released   \n",
       "2    148.0  [{\"iso_639_1\": \"fr\", \"name\": \"Fran\\u00e7ais\"},...  Released   \n",
       "3    165.0           [{\"iso_639_1\": \"en\", \"name\": \"English\"}]  Released   \n",
       "4    132.0           [{\"iso_639_1\": \"en\", \"name\": \"English\"}]  Released   \n",
       "\n",
       "                                          tagline  \\\n",
       "0                     Enter the World of Pandora.   \n",
       "1  At the end of the world, the adventure begins.   \n",
       "2                           A Plan No One Escapes   \n",
       "3                                 The Legend Ends   \n",
       "4            Lost in our world, found in another.   \n",
       "\n",
       "                                      title  vote_average  vote_count  \\\n",
       "0                                    Avatar           7.2       11800   \n",
       "1  Pirates of the Caribbean: At World's End           6.9        4500   \n",
       "2                                   Spectre           6.3        4466   \n",
       "3                     The Dark Knight Rises           7.6        9106   \n",
       "4                               John Carter           6.1        2124   \n",
       "\n",
       "   movie_id                                              cast  \\\n",
       "0     19995  [Sam Worthington, Zoe Saldana, Sigourney Weaver]   \n",
       "1       285     [Johnny Depp, Orlando Bloom, Keira Knightley]   \n",
       "2    206647      [Daniel Craig, Christoph Waltz, Léa Seydoux]   \n",
       "3     49026      [Christian Bale, Michael Caine, Gary Oldman]   \n",
       "4     49529    [Taylor Kitsch, Lynn Collins, Samantha Morton]   \n",
       "\n",
       "                  crew  \n",
       "0      [James Cameron]  \n",
       "1     [Gore Verbinski]  \n",
       "2         [Sam Mendes]  \n",
       "3  [Christopher Nolan]  \n",
       "4     [Andrew Stanton]  "
      ]
     },
     "execution_count": 153,
     "metadata": {},
     "output_type": "execute_result"
    }
   ],
   "source": [
    "df_new.head()"
   ]
  },
  {
   "cell_type": "code",
   "execution_count": 154,
   "id": "eb0548c3",
   "metadata": {},
   "outputs": [
    {
     "data": {
      "text/plain": [
       "'In the 22nd century, a paraplegic Marine is dispatched to the moon Pandora on a unique mission, but becomes torn between following orders and protecting an alien civilization.'"
      ]
     },
     "execution_count": 154,
     "metadata": {},
     "output_type": "execute_result"
    }
   ],
   "source": [
    "df_new['overview'][0]"
   ]
  },
  {
   "cell_type": "code",
   "execution_count": 155,
   "id": "1c84b71a",
   "metadata": {},
   "outputs": [
    {
     "data": {
      "text/plain": [
       "['Action', 'Adventure', 'Fantasy', 'Science Fiction']"
      ]
     },
     "execution_count": 155,
     "metadata": {},
     "output_type": "execute_result"
    }
   ],
   "source": [
    "df_new['genres'][0]"
   ]
  },
  {
   "cell_type": "code",
   "execution_count": 156,
   "id": "ab24a3a1",
   "metadata": {},
   "outputs": [
    {
     "data": {
      "text/plain": [
       "['culture clash',\n",
       " 'future',\n",
       " 'space war',\n",
       " 'space colony',\n",
       " 'society',\n",
       " 'space travel',\n",
       " 'futuristic',\n",
       " 'romance',\n",
       " 'space',\n",
       " 'alien',\n",
       " 'tribe',\n",
       " 'alien planet',\n",
       " 'cgi',\n",
       " 'marine',\n",
       " 'soldier',\n",
       " 'battle',\n",
       " 'love affair',\n",
       " 'anti war',\n",
       " 'power relations',\n",
       " 'mind and soul',\n",
       " '3d']"
      ]
     },
     "execution_count": 156,
     "metadata": {},
     "output_type": "execute_result"
    }
   ],
   "source": [
    "df_new['keywords'][0]"
   ]
  },
  {
   "cell_type": "code",
   "execution_count": 157,
   "id": "0d028808",
   "metadata": {},
   "outputs": [],
   "source": [
    "df_new['genres']=df_new['genres'].apply(lambda x:[i.replace(' ','') for i in x])\n",
    "df_new['keywords']=df_new['keywords'].apply(lambda x:[i.replace(' ','') for i in x])\n",
    "df_new['cast']=df_new['cast'].apply(lambda x:[i.replace(' ','') for i in x])\n",
    "df_new['crew']=df_new['crew'].apply(lambda x:[i.replace(' ','') for i in x])"
   ]
  },
  {
   "cell_type": "code",
   "execution_count": 158,
   "id": "853e6fad",
   "metadata": {},
   "outputs": [
    {
     "data": {
      "text/html": [
       "<div>\n",
       "<style scoped>\n",
       "    .dataframe tbody tr th:only-of-type {\n",
       "        vertical-align: middle;\n",
       "    }\n",
       "\n",
       "    .dataframe tbody tr th {\n",
       "        vertical-align: top;\n",
       "    }\n",
       "\n",
       "    .dataframe thead th {\n",
       "        text-align: right;\n",
       "    }\n",
       "</style>\n",
       "<table border=\"1\" class=\"dataframe\">\n",
       "  <thead>\n",
       "    <tr style=\"text-align: right;\">\n",
       "      <th></th>\n",
       "      <th>budget</th>\n",
       "      <th>genres</th>\n",
       "      <th>homepage</th>\n",
       "      <th>keywords</th>\n",
       "      <th>original_language</th>\n",
       "      <th>original_title</th>\n",
       "      <th>overview</th>\n",
       "      <th>popularity</th>\n",
       "      <th>production_companies</th>\n",
       "      <th>production_countries</th>\n",
       "      <th>release_date</th>\n",
       "      <th>revenue</th>\n",
       "      <th>runtime</th>\n",
       "      <th>spoken_languages</th>\n",
       "      <th>status</th>\n",
       "      <th>tagline</th>\n",
       "      <th>title</th>\n",
       "      <th>vote_average</th>\n",
       "      <th>vote_count</th>\n",
       "      <th>movie_id</th>\n",
       "      <th>cast</th>\n",
       "      <th>crew</th>\n",
       "    </tr>\n",
       "  </thead>\n",
       "  <tbody>\n",
       "    <tr>\n",
       "      <th>0</th>\n",
       "      <td>237000000</td>\n",
       "      <td>[Action, Adventure, Fantasy, ScienceFiction]</td>\n",
       "      <td>http://www.avatarmovie.com/</td>\n",
       "      <td>[cultureclash, future, spacewar, spacecolony, ...</td>\n",
       "      <td>en</td>\n",
       "      <td>Avatar</td>\n",
       "      <td>In the 22nd century, a paraplegic Marine is di...</td>\n",
       "      <td>150.437577</td>\n",
       "      <td>[{\"name\": \"Ingenious Film Partners\", \"id\": 289...</td>\n",
       "      <td>[{\"iso_3166_1\": \"US\", \"name\": \"United States o...</td>\n",
       "      <td>2009-12-10</td>\n",
       "      <td>2787965087</td>\n",
       "      <td>162.0</td>\n",
       "      <td>[{\"iso_639_1\": \"en\", \"name\": \"English\"}, {\"iso...</td>\n",
       "      <td>Released</td>\n",
       "      <td>Enter the World of Pandora.</td>\n",
       "      <td>Avatar</td>\n",
       "      <td>7.2</td>\n",
       "      <td>11800</td>\n",
       "      <td>19995</td>\n",
       "      <td>[SamWorthington, ZoeSaldana, SigourneyWeaver]</td>\n",
       "      <td>[JamesCameron]</td>\n",
       "    </tr>\n",
       "    <tr>\n",
       "      <th>1</th>\n",
       "      <td>300000000</td>\n",
       "      <td>[Adventure, Fantasy, Action]</td>\n",
       "      <td>http://disney.go.com/disneypictures/pirates/</td>\n",
       "      <td>[ocean, drugabuse, exoticisland, eastindiatrad...</td>\n",
       "      <td>en</td>\n",
       "      <td>Pirates of the Caribbean: At World's End</td>\n",
       "      <td>Captain Barbossa, long believed to be dead, ha...</td>\n",
       "      <td>139.082615</td>\n",
       "      <td>[{\"name\": \"Walt Disney Pictures\", \"id\": 2}, {\"...</td>\n",
       "      <td>[{\"iso_3166_1\": \"US\", \"name\": \"United States o...</td>\n",
       "      <td>2007-05-19</td>\n",
       "      <td>961000000</td>\n",
       "      <td>169.0</td>\n",
       "      <td>[{\"iso_639_1\": \"en\", \"name\": \"English\"}]</td>\n",
       "      <td>Released</td>\n",
       "      <td>At the end of the world, the adventure begins.</td>\n",
       "      <td>Pirates of the Caribbean: At World's End</td>\n",
       "      <td>6.9</td>\n",
       "      <td>4500</td>\n",
       "      <td>285</td>\n",
       "      <td>[JohnnyDepp, OrlandoBloom, KeiraKnightley]</td>\n",
       "      <td>[GoreVerbinski]</td>\n",
       "    </tr>\n",
       "    <tr>\n",
       "      <th>2</th>\n",
       "      <td>245000000</td>\n",
       "      <td>[Action, Adventure, Crime]</td>\n",
       "      <td>http://www.sonypictures.com/movies/spectre/</td>\n",
       "      <td>[spy, basedonnovel, secretagent, sequel, mi6, ...</td>\n",
       "      <td>en</td>\n",
       "      <td>Spectre</td>\n",
       "      <td>A cryptic message from Bond’s past sends him o...</td>\n",
       "      <td>107.376788</td>\n",
       "      <td>[{\"name\": \"Columbia Pictures\", \"id\": 5}, {\"nam...</td>\n",
       "      <td>[{\"iso_3166_1\": \"GB\", \"name\": \"United Kingdom\"...</td>\n",
       "      <td>2015-10-26</td>\n",
       "      <td>880674609</td>\n",
       "      <td>148.0</td>\n",
       "      <td>[{\"iso_639_1\": \"fr\", \"name\": \"Fran\\u00e7ais\"},...</td>\n",
       "      <td>Released</td>\n",
       "      <td>A Plan No One Escapes</td>\n",
       "      <td>Spectre</td>\n",
       "      <td>6.3</td>\n",
       "      <td>4466</td>\n",
       "      <td>206647</td>\n",
       "      <td>[DanielCraig, ChristophWaltz, LéaSeydoux]</td>\n",
       "      <td>[SamMendes]</td>\n",
       "    </tr>\n",
       "    <tr>\n",
       "      <th>3</th>\n",
       "      <td>250000000</td>\n",
       "      <td>[Action, Crime, Drama, Thriller]</td>\n",
       "      <td>http://www.thedarkknightrises.com/</td>\n",
       "      <td>[dccomics, crimefighter, terrorist, secretiden...</td>\n",
       "      <td>en</td>\n",
       "      <td>The Dark Knight Rises</td>\n",
       "      <td>Following the death of District Attorney Harve...</td>\n",
       "      <td>112.312950</td>\n",
       "      <td>[{\"name\": \"Legendary Pictures\", \"id\": 923}, {\"...</td>\n",
       "      <td>[{\"iso_3166_1\": \"US\", \"name\": \"United States o...</td>\n",
       "      <td>2012-07-16</td>\n",
       "      <td>1084939099</td>\n",
       "      <td>165.0</td>\n",
       "      <td>[{\"iso_639_1\": \"en\", \"name\": \"English\"}]</td>\n",
       "      <td>Released</td>\n",
       "      <td>The Legend Ends</td>\n",
       "      <td>The Dark Knight Rises</td>\n",
       "      <td>7.6</td>\n",
       "      <td>9106</td>\n",
       "      <td>49026</td>\n",
       "      <td>[ChristianBale, MichaelCaine, GaryOldman]</td>\n",
       "      <td>[ChristopherNolan]</td>\n",
       "    </tr>\n",
       "    <tr>\n",
       "      <th>4</th>\n",
       "      <td>260000000</td>\n",
       "      <td>[Action, Adventure, ScienceFiction]</td>\n",
       "      <td>http://movies.disney.com/john-carter</td>\n",
       "      <td>[basedonnovel, mars, medallion, spacetravel, p...</td>\n",
       "      <td>en</td>\n",
       "      <td>John Carter</td>\n",
       "      <td>John Carter is a war-weary, former military ca...</td>\n",
       "      <td>43.926995</td>\n",
       "      <td>[{\"name\": \"Walt Disney Pictures\", \"id\": 2}]</td>\n",
       "      <td>[{\"iso_3166_1\": \"US\", \"name\": \"United States o...</td>\n",
       "      <td>2012-03-07</td>\n",
       "      <td>284139100</td>\n",
       "      <td>132.0</td>\n",
       "      <td>[{\"iso_639_1\": \"en\", \"name\": \"English\"}]</td>\n",
       "      <td>Released</td>\n",
       "      <td>Lost in our world, found in another.</td>\n",
       "      <td>John Carter</td>\n",
       "      <td>6.1</td>\n",
       "      <td>2124</td>\n",
       "      <td>49529</td>\n",
       "      <td>[TaylorKitsch, LynnCollins, SamanthaMorton]</td>\n",
       "      <td>[AndrewStanton]</td>\n",
       "    </tr>\n",
       "  </tbody>\n",
       "</table>\n",
       "</div>"
      ],
      "text/plain": [
       "      budget                                        genres  \\\n",
       "0  237000000  [Action, Adventure, Fantasy, ScienceFiction]   \n",
       "1  300000000                  [Adventure, Fantasy, Action]   \n",
       "2  245000000                    [Action, Adventure, Crime]   \n",
       "3  250000000              [Action, Crime, Drama, Thriller]   \n",
       "4  260000000           [Action, Adventure, ScienceFiction]   \n",
       "\n",
       "                                       homepage  \\\n",
       "0                   http://www.avatarmovie.com/   \n",
       "1  http://disney.go.com/disneypictures/pirates/   \n",
       "2   http://www.sonypictures.com/movies/spectre/   \n",
       "3            http://www.thedarkknightrises.com/   \n",
       "4          http://movies.disney.com/john-carter   \n",
       "\n",
       "                                            keywords original_language  \\\n",
       "0  [cultureclash, future, spacewar, spacecolony, ...                en   \n",
       "1  [ocean, drugabuse, exoticisland, eastindiatrad...                en   \n",
       "2  [spy, basedonnovel, secretagent, sequel, mi6, ...                en   \n",
       "3  [dccomics, crimefighter, terrorist, secretiden...                en   \n",
       "4  [basedonnovel, mars, medallion, spacetravel, p...                en   \n",
       "\n",
       "                             original_title  \\\n",
       "0                                    Avatar   \n",
       "1  Pirates of the Caribbean: At World's End   \n",
       "2                                   Spectre   \n",
       "3                     The Dark Knight Rises   \n",
       "4                               John Carter   \n",
       "\n",
       "                                            overview  popularity  \\\n",
       "0  In the 22nd century, a paraplegic Marine is di...  150.437577   \n",
       "1  Captain Barbossa, long believed to be dead, ha...  139.082615   \n",
       "2  A cryptic message from Bond’s past sends him o...  107.376788   \n",
       "3  Following the death of District Attorney Harve...  112.312950   \n",
       "4  John Carter is a war-weary, former military ca...   43.926995   \n",
       "\n",
       "                                production_companies  \\\n",
       "0  [{\"name\": \"Ingenious Film Partners\", \"id\": 289...   \n",
       "1  [{\"name\": \"Walt Disney Pictures\", \"id\": 2}, {\"...   \n",
       "2  [{\"name\": \"Columbia Pictures\", \"id\": 5}, {\"nam...   \n",
       "3  [{\"name\": \"Legendary Pictures\", \"id\": 923}, {\"...   \n",
       "4        [{\"name\": \"Walt Disney Pictures\", \"id\": 2}]   \n",
       "\n",
       "                                production_countries release_date     revenue  \\\n",
       "0  [{\"iso_3166_1\": \"US\", \"name\": \"United States o...   2009-12-10  2787965087   \n",
       "1  [{\"iso_3166_1\": \"US\", \"name\": \"United States o...   2007-05-19   961000000   \n",
       "2  [{\"iso_3166_1\": \"GB\", \"name\": \"United Kingdom\"...   2015-10-26   880674609   \n",
       "3  [{\"iso_3166_1\": \"US\", \"name\": \"United States o...   2012-07-16  1084939099   \n",
       "4  [{\"iso_3166_1\": \"US\", \"name\": \"United States o...   2012-03-07   284139100   \n",
       "\n",
       "   runtime                                   spoken_languages    status  \\\n",
       "0    162.0  [{\"iso_639_1\": \"en\", \"name\": \"English\"}, {\"iso...  Released   \n",
       "1    169.0           [{\"iso_639_1\": \"en\", \"name\": \"English\"}]  Released   \n",
       "2    148.0  [{\"iso_639_1\": \"fr\", \"name\": \"Fran\\u00e7ais\"},...  Released   \n",
       "3    165.0           [{\"iso_639_1\": \"en\", \"name\": \"English\"}]  Released   \n",
       "4    132.0           [{\"iso_639_1\": \"en\", \"name\": \"English\"}]  Released   \n",
       "\n",
       "                                          tagline  \\\n",
       "0                     Enter the World of Pandora.   \n",
       "1  At the end of the world, the adventure begins.   \n",
       "2                           A Plan No One Escapes   \n",
       "3                                 The Legend Ends   \n",
       "4            Lost in our world, found in another.   \n",
       "\n",
       "                                      title  vote_average  vote_count  \\\n",
       "0                                    Avatar           7.2       11800   \n",
       "1  Pirates of the Caribbean: At World's End           6.9        4500   \n",
       "2                                   Spectre           6.3        4466   \n",
       "3                     The Dark Knight Rises           7.6        9106   \n",
       "4                               John Carter           6.1        2124   \n",
       "\n",
       "   movie_id                                           cast                crew  \n",
       "0     19995  [SamWorthington, ZoeSaldana, SigourneyWeaver]      [JamesCameron]  \n",
       "1       285     [JohnnyDepp, OrlandoBloom, KeiraKnightley]     [GoreVerbinski]  \n",
       "2    206647      [DanielCraig, ChristophWaltz, LéaSeydoux]         [SamMendes]  \n",
       "3     49026      [ChristianBale, MichaelCaine, GaryOldman]  [ChristopherNolan]  \n",
       "4     49529    [TaylorKitsch, LynnCollins, SamanthaMorton]     [AndrewStanton]  "
      ]
     },
     "execution_count": 158,
     "metadata": {},
     "output_type": "execute_result"
    }
   ],
   "source": [
    "df_new.head()"
   ]
  },
  {
   "cell_type": "code",
   "execution_count": 159,
   "id": "3b115435",
   "metadata": {},
   "outputs": [
    {
     "data": {
      "text/plain": [
       "['cultureclash',\n",
       " 'future',\n",
       " 'spacewar',\n",
       " 'spacecolony',\n",
       " 'society',\n",
       " 'spacetravel',\n",
       " 'futuristic',\n",
       " 'romance',\n",
       " 'space',\n",
       " 'alien',\n",
       " 'tribe',\n",
       " 'alienplanet',\n",
       " 'cgi',\n",
       " 'marine',\n",
       " 'soldier',\n",
       " 'battle',\n",
       " 'loveaffair',\n",
       " 'antiwar',\n",
       " 'powerrelations',\n",
       " 'mindandsoul',\n",
       " '3d']"
      ]
     },
     "execution_count": 159,
     "metadata": {},
     "output_type": "execute_result"
    }
   ],
   "source": [
    "df_new['keywords'][0]"
   ]
  },
  {
   "cell_type": "code",
   "execution_count": 160,
   "id": "8be3bfff",
   "metadata": {},
   "outputs": [],
   "source": [
    "df_new['keywords']=df_new['keywords'].apply(lambda x:' '.join(x))"
   ]
  },
  {
   "cell_type": "code",
   "execution_count": 161,
   "id": "19436478",
   "metadata": {},
   "outputs": [
    {
     "data": {
      "text/plain": [
       "['SamWorthington', 'ZoeSaldana', 'SigourneyWeaver']"
      ]
     },
     "execution_count": 161,
     "metadata": {},
     "output_type": "execute_result"
    }
   ],
   "source": [
    "df_new['cast'][0]"
   ]
  },
  {
   "cell_type": "code",
   "execution_count": 162,
   "id": "d5974d4a",
   "metadata": {},
   "outputs": [
    {
     "data": {
      "text/plain": [
       "0        SamWorthington ZoeSaldana SigourneyWeaver\n",
       "1           JohnnyDepp OrlandoBloom KeiraKnightley\n",
       "2            DanielCraig ChristophWaltz LéaSeydoux\n",
       "3            ChristianBale MichaelCaine GaryOldman\n",
       "4          TaylorKitsch LynnCollins SamanthaMorton\n",
       "                           ...                    \n",
       "4804    CarlosGallardo JaimedeHoyos PeterMarquardt\n",
       "4805         EdwardBurns KerryBishé MarshaDietlein\n",
       "4806           EricMabius KristinBooth CrystalLowe\n",
       "4807            DanielHenney ElizaCoupe BillPaxton\n",
       "4808    DrewBarrymore BrianHerzlinger CoreyFeldman\n",
       "Name: cast, Length: 4809, dtype: object"
      ]
     },
     "execution_count": 162,
     "metadata": {},
     "output_type": "execute_result"
    }
   ],
   "source": [
    "df_new['cast'].apply(lambda x: ' '.join(x))"
   ]
  },
  {
   "cell_type": "code",
   "execution_count": 163,
   "id": "6883a5ab",
   "metadata": {},
   "outputs": [],
   "source": [
    "df_new['cast']=df_new['cast'].apply(lambda x: ' '.join(x))\n",
    "df_new['crew']=df_new['crew'].apply(lambda x:' '.join(x))\n",
    "df_new['genres']=df_new['genres'].apply(lambda x: ' '.join(x))"
   ]
  },
  {
   "cell_type": "code",
   "execution_count": 164,
   "id": "c642f4e2",
   "metadata": {},
   "outputs": [],
   "source": [
    "df_new['overview']=df_new['overview'].apply(lambda x: ''.join(x))"
   ]
  },
  {
   "cell_type": "code",
   "execution_count": 165,
   "id": "059ee1ec",
   "metadata": {},
   "outputs": [
    {
     "data": {
      "text/html": [
       "<div>\n",
       "<style scoped>\n",
       "    .dataframe tbody tr th:only-of-type {\n",
       "        vertical-align: middle;\n",
       "    }\n",
       "\n",
       "    .dataframe tbody tr th {\n",
       "        vertical-align: top;\n",
       "    }\n",
       "\n",
       "    .dataframe thead th {\n",
       "        text-align: right;\n",
       "    }\n",
       "</style>\n",
       "<table border=\"1\" class=\"dataframe\">\n",
       "  <thead>\n",
       "    <tr style=\"text-align: right;\">\n",
       "      <th></th>\n",
       "      <th>budget</th>\n",
       "      <th>genres</th>\n",
       "      <th>homepage</th>\n",
       "      <th>keywords</th>\n",
       "      <th>original_language</th>\n",
       "      <th>original_title</th>\n",
       "      <th>overview</th>\n",
       "      <th>popularity</th>\n",
       "      <th>production_companies</th>\n",
       "      <th>production_countries</th>\n",
       "      <th>release_date</th>\n",
       "      <th>revenue</th>\n",
       "      <th>runtime</th>\n",
       "      <th>spoken_languages</th>\n",
       "      <th>status</th>\n",
       "      <th>tagline</th>\n",
       "      <th>title</th>\n",
       "      <th>vote_average</th>\n",
       "      <th>vote_count</th>\n",
       "      <th>movie_id</th>\n",
       "      <th>cast</th>\n",
       "      <th>crew</th>\n",
       "    </tr>\n",
       "  </thead>\n",
       "  <tbody>\n",
       "    <tr>\n",
       "      <th>0</th>\n",
       "      <td>237000000</td>\n",
       "      <td>Action Adventure Fantasy ScienceFiction</td>\n",
       "      <td>http://www.avatarmovie.com/</td>\n",
       "      <td>cultureclash future spacewar spacecolony socie...</td>\n",
       "      <td>en</td>\n",
       "      <td>Avatar</td>\n",
       "      <td>In the 22nd century, a paraplegic Marine is di...</td>\n",
       "      <td>150.437577</td>\n",
       "      <td>[{\"name\": \"Ingenious Film Partners\", \"id\": 289...</td>\n",
       "      <td>[{\"iso_3166_1\": \"US\", \"name\": \"United States o...</td>\n",
       "      <td>2009-12-10</td>\n",
       "      <td>2787965087</td>\n",
       "      <td>162.0</td>\n",
       "      <td>[{\"iso_639_1\": \"en\", \"name\": \"English\"}, {\"iso...</td>\n",
       "      <td>Released</td>\n",
       "      <td>Enter the World of Pandora.</td>\n",
       "      <td>Avatar</td>\n",
       "      <td>7.2</td>\n",
       "      <td>11800</td>\n",
       "      <td>19995</td>\n",
       "      <td>SamWorthington ZoeSaldana SigourneyWeaver</td>\n",
       "      <td>JamesCameron</td>\n",
       "    </tr>\n",
       "    <tr>\n",
       "      <th>1</th>\n",
       "      <td>300000000</td>\n",
       "      <td>Adventure Fantasy Action</td>\n",
       "      <td>http://disney.go.com/disneypictures/pirates/</td>\n",
       "      <td>ocean drugabuse exoticisland eastindiatradingc...</td>\n",
       "      <td>en</td>\n",
       "      <td>Pirates of the Caribbean: At World's End</td>\n",
       "      <td>Captain Barbossa, long believed to be dead, ha...</td>\n",
       "      <td>139.082615</td>\n",
       "      <td>[{\"name\": \"Walt Disney Pictures\", \"id\": 2}, {\"...</td>\n",
       "      <td>[{\"iso_3166_1\": \"US\", \"name\": \"United States o...</td>\n",
       "      <td>2007-05-19</td>\n",
       "      <td>961000000</td>\n",
       "      <td>169.0</td>\n",
       "      <td>[{\"iso_639_1\": \"en\", \"name\": \"English\"}]</td>\n",
       "      <td>Released</td>\n",
       "      <td>At the end of the world, the adventure begins.</td>\n",
       "      <td>Pirates of the Caribbean: At World's End</td>\n",
       "      <td>6.9</td>\n",
       "      <td>4500</td>\n",
       "      <td>285</td>\n",
       "      <td>JohnnyDepp OrlandoBloom KeiraKnightley</td>\n",
       "      <td>GoreVerbinski</td>\n",
       "    </tr>\n",
       "    <tr>\n",
       "      <th>2</th>\n",
       "      <td>245000000</td>\n",
       "      <td>Action Adventure Crime</td>\n",
       "      <td>http://www.sonypictures.com/movies/spectre/</td>\n",
       "      <td>spy basedonnovel secretagent sequel mi6 britis...</td>\n",
       "      <td>en</td>\n",
       "      <td>Spectre</td>\n",
       "      <td>A cryptic message from Bond’s past sends him o...</td>\n",
       "      <td>107.376788</td>\n",
       "      <td>[{\"name\": \"Columbia Pictures\", \"id\": 5}, {\"nam...</td>\n",
       "      <td>[{\"iso_3166_1\": \"GB\", \"name\": \"United Kingdom\"...</td>\n",
       "      <td>2015-10-26</td>\n",
       "      <td>880674609</td>\n",
       "      <td>148.0</td>\n",
       "      <td>[{\"iso_639_1\": \"fr\", \"name\": \"Fran\\u00e7ais\"},...</td>\n",
       "      <td>Released</td>\n",
       "      <td>A Plan No One Escapes</td>\n",
       "      <td>Spectre</td>\n",
       "      <td>6.3</td>\n",
       "      <td>4466</td>\n",
       "      <td>206647</td>\n",
       "      <td>DanielCraig ChristophWaltz LéaSeydoux</td>\n",
       "      <td>SamMendes</td>\n",
       "    </tr>\n",
       "    <tr>\n",
       "      <th>3</th>\n",
       "      <td>250000000</td>\n",
       "      <td>Action Crime Drama Thriller</td>\n",
       "      <td>http://www.thedarkknightrises.com/</td>\n",
       "      <td>dccomics crimefighter terrorist secretidentity...</td>\n",
       "      <td>en</td>\n",
       "      <td>The Dark Knight Rises</td>\n",
       "      <td>Following the death of District Attorney Harve...</td>\n",
       "      <td>112.312950</td>\n",
       "      <td>[{\"name\": \"Legendary Pictures\", \"id\": 923}, {\"...</td>\n",
       "      <td>[{\"iso_3166_1\": \"US\", \"name\": \"United States o...</td>\n",
       "      <td>2012-07-16</td>\n",
       "      <td>1084939099</td>\n",
       "      <td>165.0</td>\n",
       "      <td>[{\"iso_639_1\": \"en\", \"name\": \"English\"}]</td>\n",
       "      <td>Released</td>\n",
       "      <td>The Legend Ends</td>\n",
       "      <td>The Dark Knight Rises</td>\n",
       "      <td>7.6</td>\n",
       "      <td>9106</td>\n",
       "      <td>49026</td>\n",
       "      <td>ChristianBale MichaelCaine GaryOldman</td>\n",
       "      <td>ChristopherNolan</td>\n",
       "    </tr>\n",
       "    <tr>\n",
       "      <th>4</th>\n",
       "      <td>260000000</td>\n",
       "      <td>Action Adventure ScienceFiction</td>\n",
       "      <td>http://movies.disney.com/john-carter</td>\n",
       "      <td>basedonnovel mars medallion spacetravel prince...</td>\n",
       "      <td>en</td>\n",
       "      <td>John Carter</td>\n",
       "      <td>John Carter is a war-weary, former military ca...</td>\n",
       "      <td>43.926995</td>\n",
       "      <td>[{\"name\": \"Walt Disney Pictures\", \"id\": 2}]</td>\n",
       "      <td>[{\"iso_3166_1\": \"US\", \"name\": \"United States o...</td>\n",
       "      <td>2012-03-07</td>\n",
       "      <td>284139100</td>\n",
       "      <td>132.0</td>\n",
       "      <td>[{\"iso_639_1\": \"en\", \"name\": \"English\"}]</td>\n",
       "      <td>Released</td>\n",
       "      <td>Lost in our world, found in another.</td>\n",
       "      <td>John Carter</td>\n",
       "      <td>6.1</td>\n",
       "      <td>2124</td>\n",
       "      <td>49529</td>\n",
       "      <td>TaylorKitsch LynnCollins SamanthaMorton</td>\n",
       "      <td>AndrewStanton</td>\n",
       "    </tr>\n",
       "  </tbody>\n",
       "</table>\n",
       "</div>"
      ],
      "text/plain": [
       "      budget                                   genres  \\\n",
       "0  237000000  Action Adventure Fantasy ScienceFiction   \n",
       "1  300000000                 Adventure Fantasy Action   \n",
       "2  245000000                   Action Adventure Crime   \n",
       "3  250000000              Action Crime Drama Thriller   \n",
       "4  260000000          Action Adventure ScienceFiction   \n",
       "\n",
       "                                       homepage  \\\n",
       "0                   http://www.avatarmovie.com/   \n",
       "1  http://disney.go.com/disneypictures/pirates/   \n",
       "2   http://www.sonypictures.com/movies/spectre/   \n",
       "3            http://www.thedarkknightrises.com/   \n",
       "4          http://movies.disney.com/john-carter   \n",
       "\n",
       "                                            keywords original_language  \\\n",
       "0  cultureclash future spacewar spacecolony socie...                en   \n",
       "1  ocean drugabuse exoticisland eastindiatradingc...                en   \n",
       "2  spy basedonnovel secretagent sequel mi6 britis...                en   \n",
       "3  dccomics crimefighter terrorist secretidentity...                en   \n",
       "4  basedonnovel mars medallion spacetravel prince...                en   \n",
       "\n",
       "                             original_title  \\\n",
       "0                                    Avatar   \n",
       "1  Pirates of the Caribbean: At World's End   \n",
       "2                                   Spectre   \n",
       "3                     The Dark Knight Rises   \n",
       "4                               John Carter   \n",
       "\n",
       "                                            overview  popularity  \\\n",
       "0  In the 22nd century, a paraplegic Marine is di...  150.437577   \n",
       "1  Captain Barbossa, long believed to be dead, ha...  139.082615   \n",
       "2  A cryptic message from Bond’s past sends him o...  107.376788   \n",
       "3  Following the death of District Attorney Harve...  112.312950   \n",
       "4  John Carter is a war-weary, former military ca...   43.926995   \n",
       "\n",
       "                                production_companies  \\\n",
       "0  [{\"name\": \"Ingenious Film Partners\", \"id\": 289...   \n",
       "1  [{\"name\": \"Walt Disney Pictures\", \"id\": 2}, {\"...   \n",
       "2  [{\"name\": \"Columbia Pictures\", \"id\": 5}, {\"nam...   \n",
       "3  [{\"name\": \"Legendary Pictures\", \"id\": 923}, {\"...   \n",
       "4        [{\"name\": \"Walt Disney Pictures\", \"id\": 2}]   \n",
       "\n",
       "                                production_countries release_date     revenue  \\\n",
       "0  [{\"iso_3166_1\": \"US\", \"name\": \"United States o...   2009-12-10  2787965087   \n",
       "1  [{\"iso_3166_1\": \"US\", \"name\": \"United States o...   2007-05-19   961000000   \n",
       "2  [{\"iso_3166_1\": \"GB\", \"name\": \"United Kingdom\"...   2015-10-26   880674609   \n",
       "3  [{\"iso_3166_1\": \"US\", \"name\": \"United States o...   2012-07-16  1084939099   \n",
       "4  [{\"iso_3166_1\": \"US\", \"name\": \"United States o...   2012-03-07   284139100   \n",
       "\n",
       "   runtime                                   spoken_languages    status  \\\n",
       "0    162.0  [{\"iso_639_1\": \"en\", \"name\": \"English\"}, {\"iso...  Released   \n",
       "1    169.0           [{\"iso_639_1\": \"en\", \"name\": \"English\"}]  Released   \n",
       "2    148.0  [{\"iso_639_1\": \"fr\", \"name\": \"Fran\\u00e7ais\"},...  Released   \n",
       "3    165.0           [{\"iso_639_1\": \"en\", \"name\": \"English\"}]  Released   \n",
       "4    132.0           [{\"iso_639_1\": \"en\", \"name\": \"English\"}]  Released   \n",
       "\n",
       "                                          tagline  \\\n",
       "0                     Enter the World of Pandora.   \n",
       "1  At the end of the world, the adventure begins.   \n",
       "2                           A Plan No One Escapes   \n",
       "3                                 The Legend Ends   \n",
       "4            Lost in our world, found in another.   \n",
       "\n",
       "                                      title  vote_average  vote_count  \\\n",
       "0                                    Avatar           7.2       11800   \n",
       "1  Pirates of the Caribbean: At World's End           6.9        4500   \n",
       "2                                   Spectre           6.3        4466   \n",
       "3                     The Dark Knight Rises           7.6        9106   \n",
       "4                               John Carter           6.1        2124   \n",
       "\n",
       "   movie_id                                       cast              crew  \n",
       "0     19995  SamWorthington ZoeSaldana SigourneyWeaver      JamesCameron  \n",
       "1       285     JohnnyDepp OrlandoBloom KeiraKnightley     GoreVerbinski  \n",
       "2    206647      DanielCraig ChristophWaltz LéaSeydoux         SamMendes  \n",
       "3     49026      ChristianBale MichaelCaine GaryOldman  ChristopherNolan  \n",
       "4     49529    TaylorKitsch LynnCollins SamanthaMorton     AndrewStanton  "
      ]
     },
     "execution_count": 165,
     "metadata": {},
     "output_type": "execute_result"
    }
   ],
   "source": [
    "df_new.head()"
   ]
  },
  {
   "cell_type": "code",
   "execution_count": 166,
   "id": "03496cdd",
   "metadata": {},
   "outputs": [],
   "source": [
    "combined_features=df_new['genres']+' '+df_new['keywords']+' '+df_new['overview']+' '+df_new['cast']+' '+df_new['crew']"
   ]
  },
  {
   "cell_type": "code",
   "execution_count": 167,
   "id": "26501980",
   "metadata": {},
   "outputs": [
    {
     "data": {
      "text/plain": [
       "0       Action Adventure Fantasy ScienceFiction cultur...\n",
       "1       Adventure Fantasy Action ocean drugabuse exoti...\n",
       "2       Action Adventure Crime spy basedonnovel secret...\n",
       "3       Action Crime Drama Thriller dccomics crimefigh...\n",
       "4       Action Adventure ScienceFiction basedonnovel m...\n",
       "                              ...                        \n",
       "4804    Action Crime Thriller unitedstates–mexicobarri...\n",
       "4805    Comedy Romance  A newlywed couple's honeymoon ...\n",
       "4806    Comedy Drama Romance TVMovie date loveatfirsts...\n",
       "4807      When ambitious New York attorney Sam is sent...\n",
       "4808    Documentary obsession camcorder crush dreamgir...\n",
       "Length: 4809, dtype: object"
      ]
     },
     "execution_count": 167,
     "metadata": {},
     "output_type": "execute_result"
    }
   ],
   "source": [
    "combined_features"
   ]
  },
  {
   "cell_type": "code",
   "execution_count": 168,
   "id": "0163c22b",
   "metadata": {},
   "outputs": [
    {
     "data": {
      "text/plain": [
       "'Action Adventure Fantasy ScienceFiction cultureclash future spacewar spacecolony society spacetravel futuristic romance space alien tribe alienplanet cgi marine soldier battle loveaffair antiwar powerrelations mindandsoul 3d In the 22nd century, a paraplegic Marine is dispatched to the moon Pandora on a unique mission, but becomes torn between following orders and protecting an alien civilization. SamWorthington ZoeSaldana SigourneyWeaver JamesCameron'"
      ]
     },
     "execution_count": 168,
     "metadata": {},
     "output_type": "execute_result"
    }
   ],
   "source": [
    "combined_features[0]"
   ]
  },
  {
   "cell_type": "code",
   "execution_count": 169,
   "id": "8c9748d8",
   "metadata": {},
   "outputs": [],
   "source": [
    "#Taking a backup of dataframe"
   ]
  },
  {
   "cell_type": "code",
   "execution_count": 170,
   "id": "6e0dbf8d",
   "metadata": {},
   "outputs": [],
   "source": [
    "df_clean=df_new.copy(deep=True)"
   ]
  },
  {
   "cell_type": "code",
   "execution_count": 171,
   "id": "9449c9db",
   "metadata": {},
   "outputs": [
    {
     "data": {
      "text/html": [
       "<div>\n",
       "<style scoped>\n",
       "    .dataframe tbody tr th:only-of-type {\n",
       "        vertical-align: middle;\n",
       "    }\n",
       "\n",
       "    .dataframe tbody tr th {\n",
       "        vertical-align: top;\n",
       "    }\n",
       "\n",
       "    .dataframe thead th {\n",
       "        text-align: right;\n",
       "    }\n",
       "</style>\n",
       "<table border=\"1\" class=\"dataframe\">\n",
       "  <thead>\n",
       "    <tr style=\"text-align: right;\">\n",
       "      <th></th>\n",
       "      <th>budget</th>\n",
       "      <th>genres</th>\n",
       "      <th>homepage</th>\n",
       "      <th>keywords</th>\n",
       "      <th>original_language</th>\n",
       "      <th>original_title</th>\n",
       "      <th>overview</th>\n",
       "      <th>popularity</th>\n",
       "      <th>production_companies</th>\n",
       "      <th>production_countries</th>\n",
       "      <th>release_date</th>\n",
       "      <th>revenue</th>\n",
       "      <th>runtime</th>\n",
       "      <th>spoken_languages</th>\n",
       "      <th>status</th>\n",
       "      <th>tagline</th>\n",
       "      <th>title</th>\n",
       "      <th>vote_average</th>\n",
       "      <th>vote_count</th>\n",
       "      <th>movie_id</th>\n",
       "      <th>cast</th>\n",
       "      <th>crew</th>\n",
       "    </tr>\n",
       "  </thead>\n",
       "  <tbody>\n",
       "    <tr>\n",
       "      <th>0</th>\n",
       "      <td>237000000</td>\n",
       "      <td>Action Adventure Fantasy ScienceFiction</td>\n",
       "      <td>http://www.avatarmovie.com/</td>\n",
       "      <td>cultureclash future spacewar spacecolony socie...</td>\n",
       "      <td>en</td>\n",
       "      <td>Avatar</td>\n",
       "      <td>In the 22nd century, a paraplegic Marine is di...</td>\n",
       "      <td>150.437577</td>\n",
       "      <td>[{\"name\": \"Ingenious Film Partners\", \"id\": 289...</td>\n",
       "      <td>[{\"iso_3166_1\": \"US\", \"name\": \"United States o...</td>\n",
       "      <td>2009-12-10</td>\n",
       "      <td>2787965087</td>\n",
       "      <td>162.0</td>\n",
       "      <td>[{\"iso_639_1\": \"en\", \"name\": \"English\"}, {\"iso...</td>\n",
       "      <td>Released</td>\n",
       "      <td>Enter the World of Pandora.</td>\n",
       "      <td>Avatar</td>\n",
       "      <td>7.2</td>\n",
       "      <td>11800</td>\n",
       "      <td>19995</td>\n",
       "      <td>SamWorthington ZoeSaldana SigourneyWeaver</td>\n",
       "      <td>JamesCameron</td>\n",
       "    </tr>\n",
       "    <tr>\n",
       "      <th>1</th>\n",
       "      <td>300000000</td>\n",
       "      <td>Adventure Fantasy Action</td>\n",
       "      <td>http://disney.go.com/disneypictures/pirates/</td>\n",
       "      <td>ocean drugabuse exoticisland eastindiatradingc...</td>\n",
       "      <td>en</td>\n",
       "      <td>Pirates of the Caribbean: At World's End</td>\n",
       "      <td>Captain Barbossa, long believed to be dead, ha...</td>\n",
       "      <td>139.082615</td>\n",
       "      <td>[{\"name\": \"Walt Disney Pictures\", \"id\": 2}, {\"...</td>\n",
       "      <td>[{\"iso_3166_1\": \"US\", \"name\": \"United States o...</td>\n",
       "      <td>2007-05-19</td>\n",
       "      <td>961000000</td>\n",
       "      <td>169.0</td>\n",
       "      <td>[{\"iso_639_1\": \"en\", \"name\": \"English\"}]</td>\n",
       "      <td>Released</td>\n",
       "      <td>At the end of the world, the adventure begins.</td>\n",
       "      <td>Pirates of the Caribbean: At World's End</td>\n",
       "      <td>6.9</td>\n",
       "      <td>4500</td>\n",
       "      <td>285</td>\n",
       "      <td>JohnnyDepp OrlandoBloom KeiraKnightley</td>\n",
       "      <td>GoreVerbinski</td>\n",
       "    </tr>\n",
       "    <tr>\n",
       "      <th>2</th>\n",
       "      <td>245000000</td>\n",
       "      <td>Action Adventure Crime</td>\n",
       "      <td>http://www.sonypictures.com/movies/spectre/</td>\n",
       "      <td>spy basedonnovel secretagent sequel mi6 britis...</td>\n",
       "      <td>en</td>\n",
       "      <td>Spectre</td>\n",
       "      <td>A cryptic message from Bond’s past sends him o...</td>\n",
       "      <td>107.376788</td>\n",
       "      <td>[{\"name\": \"Columbia Pictures\", \"id\": 5}, {\"nam...</td>\n",
       "      <td>[{\"iso_3166_1\": \"GB\", \"name\": \"United Kingdom\"...</td>\n",
       "      <td>2015-10-26</td>\n",
       "      <td>880674609</td>\n",
       "      <td>148.0</td>\n",
       "      <td>[{\"iso_639_1\": \"fr\", \"name\": \"Fran\\u00e7ais\"},...</td>\n",
       "      <td>Released</td>\n",
       "      <td>A Plan No One Escapes</td>\n",
       "      <td>Spectre</td>\n",
       "      <td>6.3</td>\n",
       "      <td>4466</td>\n",
       "      <td>206647</td>\n",
       "      <td>DanielCraig ChristophWaltz LéaSeydoux</td>\n",
       "      <td>SamMendes</td>\n",
       "    </tr>\n",
       "    <tr>\n",
       "      <th>3</th>\n",
       "      <td>250000000</td>\n",
       "      <td>Action Crime Drama Thriller</td>\n",
       "      <td>http://www.thedarkknightrises.com/</td>\n",
       "      <td>dccomics crimefighter terrorist secretidentity...</td>\n",
       "      <td>en</td>\n",
       "      <td>The Dark Knight Rises</td>\n",
       "      <td>Following the death of District Attorney Harve...</td>\n",
       "      <td>112.312950</td>\n",
       "      <td>[{\"name\": \"Legendary Pictures\", \"id\": 923}, {\"...</td>\n",
       "      <td>[{\"iso_3166_1\": \"US\", \"name\": \"United States o...</td>\n",
       "      <td>2012-07-16</td>\n",
       "      <td>1084939099</td>\n",
       "      <td>165.0</td>\n",
       "      <td>[{\"iso_639_1\": \"en\", \"name\": \"English\"}]</td>\n",
       "      <td>Released</td>\n",
       "      <td>The Legend Ends</td>\n",
       "      <td>The Dark Knight Rises</td>\n",
       "      <td>7.6</td>\n",
       "      <td>9106</td>\n",
       "      <td>49026</td>\n",
       "      <td>ChristianBale MichaelCaine GaryOldman</td>\n",
       "      <td>ChristopherNolan</td>\n",
       "    </tr>\n",
       "    <tr>\n",
       "      <th>4</th>\n",
       "      <td>260000000</td>\n",
       "      <td>Action Adventure ScienceFiction</td>\n",
       "      <td>http://movies.disney.com/john-carter</td>\n",
       "      <td>basedonnovel mars medallion spacetravel prince...</td>\n",
       "      <td>en</td>\n",
       "      <td>John Carter</td>\n",
       "      <td>John Carter is a war-weary, former military ca...</td>\n",
       "      <td>43.926995</td>\n",
       "      <td>[{\"name\": \"Walt Disney Pictures\", \"id\": 2}]</td>\n",
       "      <td>[{\"iso_3166_1\": \"US\", \"name\": \"United States o...</td>\n",
       "      <td>2012-03-07</td>\n",
       "      <td>284139100</td>\n",
       "      <td>132.0</td>\n",
       "      <td>[{\"iso_639_1\": \"en\", \"name\": \"English\"}]</td>\n",
       "      <td>Released</td>\n",
       "      <td>Lost in our world, found in another.</td>\n",
       "      <td>John Carter</td>\n",
       "      <td>6.1</td>\n",
       "      <td>2124</td>\n",
       "      <td>49529</td>\n",
       "      <td>TaylorKitsch LynnCollins SamanthaMorton</td>\n",
       "      <td>AndrewStanton</td>\n",
       "    </tr>\n",
       "  </tbody>\n",
       "</table>\n",
       "</div>"
      ],
      "text/plain": [
       "      budget                                   genres  \\\n",
       "0  237000000  Action Adventure Fantasy ScienceFiction   \n",
       "1  300000000                 Adventure Fantasy Action   \n",
       "2  245000000                   Action Adventure Crime   \n",
       "3  250000000              Action Crime Drama Thriller   \n",
       "4  260000000          Action Adventure ScienceFiction   \n",
       "\n",
       "                                       homepage  \\\n",
       "0                   http://www.avatarmovie.com/   \n",
       "1  http://disney.go.com/disneypictures/pirates/   \n",
       "2   http://www.sonypictures.com/movies/spectre/   \n",
       "3            http://www.thedarkknightrises.com/   \n",
       "4          http://movies.disney.com/john-carter   \n",
       "\n",
       "                                            keywords original_language  \\\n",
       "0  cultureclash future spacewar spacecolony socie...                en   \n",
       "1  ocean drugabuse exoticisland eastindiatradingc...                en   \n",
       "2  spy basedonnovel secretagent sequel mi6 britis...                en   \n",
       "3  dccomics crimefighter terrorist secretidentity...                en   \n",
       "4  basedonnovel mars medallion spacetravel prince...                en   \n",
       "\n",
       "                             original_title  \\\n",
       "0                                    Avatar   \n",
       "1  Pirates of the Caribbean: At World's End   \n",
       "2                                   Spectre   \n",
       "3                     The Dark Knight Rises   \n",
       "4                               John Carter   \n",
       "\n",
       "                                            overview  popularity  \\\n",
       "0  In the 22nd century, a paraplegic Marine is di...  150.437577   \n",
       "1  Captain Barbossa, long believed to be dead, ha...  139.082615   \n",
       "2  A cryptic message from Bond’s past sends him o...  107.376788   \n",
       "3  Following the death of District Attorney Harve...  112.312950   \n",
       "4  John Carter is a war-weary, former military ca...   43.926995   \n",
       "\n",
       "                                production_companies  \\\n",
       "0  [{\"name\": \"Ingenious Film Partners\", \"id\": 289...   \n",
       "1  [{\"name\": \"Walt Disney Pictures\", \"id\": 2}, {\"...   \n",
       "2  [{\"name\": \"Columbia Pictures\", \"id\": 5}, {\"nam...   \n",
       "3  [{\"name\": \"Legendary Pictures\", \"id\": 923}, {\"...   \n",
       "4        [{\"name\": \"Walt Disney Pictures\", \"id\": 2}]   \n",
       "\n",
       "                                production_countries release_date     revenue  \\\n",
       "0  [{\"iso_3166_1\": \"US\", \"name\": \"United States o...   2009-12-10  2787965087   \n",
       "1  [{\"iso_3166_1\": \"US\", \"name\": \"United States o...   2007-05-19   961000000   \n",
       "2  [{\"iso_3166_1\": \"GB\", \"name\": \"United Kingdom\"...   2015-10-26   880674609   \n",
       "3  [{\"iso_3166_1\": \"US\", \"name\": \"United States o...   2012-07-16  1084939099   \n",
       "4  [{\"iso_3166_1\": \"US\", \"name\": \"United States o...   2012-03-07   284139100   \n",
       "\n",
       "   runtime                                   spoken_languages    status  \\\n",
       "0    162.0  [{\"iso_639_1\": \"en\", \"name\": \"English\"}, {\"iso...  Released   \n",
       "1    169.0           [{\"iso_639_1\": \"en\", \"name\": \"English\"}]  Released   \n",
       "2    148.0  [{\"iso_639_1\": \"fr\", \"name\": \"Fran\\u00e7ais\"},...  Released   \n",
       "3    165.0           [{\"iso_639_1\": \"en\", \"name\": \"English\"}]  Released   \n",
       "4    132.0           [{\"iso_639_1\": \"en\", \"name\": \"English\"}]  Released   \n",
       "\n",
       "                                          tagline  \\\n",
       "0                     Enter the World of Pandora.   \n",
       "1  At the end of the world, the adventure begins.   \n",
       "2                           A Plan No One Escapes   \n",
       "3                                 The Legend Ends   \n",
       "4            Lost in our world, found in another.   \n",
       "\n",
       "                                      title  vote_average  vote_count  \\\n",
       "0                                    Avatar           7.2       11800   \n",
       "1  Pirates of the Caribbean: At World's End           6.9        4500   \n",
       "2                                   Spectre           6.3        4466   \n",
       "3                     The Dark Knight Rises           7.6        9106   \n",
       "4                               John Carter           6.1        2124   \n",
       "\n",
       "   movie_id                                       cast              crew  \n",
       "0     19995  SamWorthington ZoeSaldana SigourneyWeaver      JamesCameron  \n",
       "1       285     JohnnyDepp OrlandoBloom KeiraKnightley     GoreVerbinski  \n",
       "2    206647      DanielCraig ChristophWaltz LéaSeydoux         SamMendes  \n",
       "3     49026      ChristianBale MichaelCaine GaryOldman  ChristopherNolan  \n",
       "4     49529    TaylorKitsch LynnCollins SamanthaMorton     AndrewStanton  "
      ]
     },
     "execution_count": 171,
     "metadata": {},
     "output_type": "execute_result"
    }
   ],
   "source": [
    "df_clean.head()"
   ]
  },
  {
   "cell_type": "code",
   "execution_count": 173,
   "id": "bfc663fc",
   "metadata": {},
   "outputs": [],
   "source": [
    "df_clean['mov_index']=list(range(0,4809))"
   ]
  },
  {
   "cell_type": "code",
   "execution_count": 174,
   "id": "b619979f",
   "metadata": {},
   "outputs": [
    {
     "data": {
      "text/plain": [
       "Index(['budget', 'genres', 'homepage', 'keywords', 'original_language',\n",
       "       'original_title', 'overview', 'popularity', 'production_companies',\n",
       "       'production_countries', 'release_date', 'revenue', 'runtime',\n",
       "       'spoken_languages', 'status', 'tagline', 'title', 'vote_average',\n",
       "       'vote_count', 'movie_id', 'cast', 'crew', 'mov_index'],\n",
       "      dtype='object')"
      ]
     },
     "execution_count": 174,
     "metadata": {},
     "output_type": "execute_result"
    }
   ],
   "source": [
    "df_clean.columns"
   ]
  },
  {
   "cell_type": "code",
   "execution_count": 175,
   "id": "4938c2ae",
   "metadata": {},
   "outputs": [
    {
     "data": {
      "text/plain": [
       "(4809, 23)"
      ]
     },
     "execution_count": 175,
     "metadata": {},
     "output_type": "execute_result"
    }
   ],
   "source": [
    "df_clean.shape"
   ]
  },
  {
   "cell_type": "code",
   "execution_count": 176,
   "id": "5a02c3ef",
   "metadata": {},
   "outputs": [],
   "source": [
    "#df_clean['index']=list(range(1,4767))"
   ]
  },
  {
   "cell_type": "code",
   "execution_count": 177,
   "id": "88a1a8ac",
   "metadata": {},
   "outputs": [],
   "source": [
    "#Converting the text data into numeric features"
   ]
  },
  {
   "cell_type": "code",
   "execution_count": 206,
   "id": "bdc19b03",
   "metadata": {},
   "outputs": [],
   "source": [
    "vectorizer=TfidfVectorizer(analyzer='word',stop_words='english')"
   ]
  },
  {
   "cell_type": "code",
   "execution_count": 207,
   "id": "816be000",
   "metadata": {},
   "outputs": [
    {
     "name": "stdout",
     "output_type": "stream",
     "text": [
      "  (0, 16167)\t0.17040300189651778\n",
      "  (0, 29390)\t0.15048166868886814\n",
      "  (0, 35502)\t0.15922150868746393\n",
      "  (0, 28092)\t0.17347829813541077\n",
      "  (0, 6050)\t0.16106493316631587\n",
      "  (0, 25511)\t0.15751476420171465\n",
      "  (0, 23328)\t0.15048166868886814\n",
      "  (0, 11990)\t0.12774164926468642\n",
      "  (0, 32643)\t0.14155123026801855\n",
      "  (0, 21461)\t0.10274308401556355\n",
      "  (0, 33528)\t0.14325797475376784\n",
      "  (0, 23695)\t0.17347829813541077\n",
      "  (0, 21685)\t0.14608156891091328\n",
      "  (0, 9043)\t0.16526389182957324\n",
      "  (0, 23756)\t0.17702846710001197\n",
      "  (0, 5341)\t0.11795637208986985\n",
      "  (0, 233)\t0.18122742576326933\n",
      "  (0, 268)\t0.1122341799615404\n",
      "  (0, 21322)\t0.17702846710001197\n",
      "  (0, 25111)\t0.1863665358302139\n",
      "  (0, 1768)\t0.1929920010337081\n",
      "  (0, 19410)\t0.1863665358302139\n",
      "  (0, 2917)\t0.10259106688777984\n",
      "  (0, 29918)\t0.12077996624701527\n",
      "  (0, 20091)\t0.29421063145698456\n",
      "  :\t:\n",
      "  (4808, 28265)\t0.14279235924163258\n",
      "  (4808, 2156)\t0.14051928275263392\n",
      "  (4808, 7461)\t0.235876519204955\n",
      "  (4808, 8257)\t0.13199242117466425\n",
      "  (4808, 2169)\t0.11861548152655522\n",
      "  (4808, 12429)\t0.13066093847673976\n",
      "  (4808, 11685)\t0.12159041152496972\n",
      "  (4808, 9530)\t0.12080259420084563\n",
      "  (4808, 4318)\t0.1334226194049207\n",
      "  (4808, 7942)\t0.11376540345641589\n",
      "  (4808, 28601)\t0.10523854187844621\n",
      "  (4808, 25369)\t0.11272196856097397\n",
      "  (4808, 11097)\t0.1366465702066884\n",
      "  (4808, 18906)\t0.1271423431045249\n",
      "  (4808, 4190)\t0.2542846862090498\n",
      "  (4808, 9507)\t0.09329180046059365\n",
      "  (4808, 22987)\t0.1045613199543685\n",
      "  (4808, 29710)\t0.08238611503593128\n",
      "  (4808, 190)\t0.11728399882863078\n",
      "  (4808, 33107)\t0.09565788360908496\n",
      "  (4808, 23113)\t0.0699270556663991\n",
      "  (4808, 35310)\t0.07330241031342553\n",
      "  (4808, 22486)\t0.05807412233842874\n",
      "  (4808, 18462)\t0.09524283869889967\n",
      "  (4808, 35318)\t0.07077487183794173\n"
     ]
    }
   ],
   "source": [
    "feature_vectors=vectorizer.fit_transform(combined_features)\n",
    "print(feature_vectors)"
   ]
  },
  {
   "cell_type": "code",
   "execution_count": 208,
   "id": "ac880b48",
   "metadata": {},
   "outputs": [],
   "source": [
    "#Cosine Similarity"
   ]
  },
  {
   "cell_type": "code",
   "execution_count": 209,
   "id": "4ada1304",
   "metadata": {},
   "outputs": [],
   "source": [
    "#getiing the similarity score using cosine similarity"
   ]
  },
  {
   "cell_type": "code",
   "execution_count": 210,
   "id": "6d8f50b9",
   "metadata": {},
   "outputs": [
    {
     "name": "stdout",
     "output_type": "stream",
     "text": [
      "[[1.         0.01464286 0.00785414 ... 0.00323348 0.00350149 0.        ]\n",
      " [0.01464286 1.         0.0087883  ... 0.01130571 0.         0.        ]\n",
      " [0.00785414 0.0087883  1.         ... 0.01023973 0.         0.        ]\n",
      " ...\n",
      " [0.00323348 0.01130571 0.01023973 ... 1.         0.01635821 0.01855273]\n",
      " [0.00350149 0.         0.         ... 0.01635821 1.         0.00930868]\n",
      " [0.         0.         0.         ... 0.01855273 0.00930868 1.        ]]\n"
     ]
    }
   ],
   "source": [
    "similarity=cosine_similarity(feature_vectors)\n",
    "print(similarity)"
   ]
  },
  {
   "cell_type": "code",
   "execution_count": 211,
   "id": "03e978f7",
   "metadata": {},
   "outputs": [
    {
     "name": "stdout",
     "output_type": "stream",
     "text": [
      "(4809, 4809)\n"
     ]
    }
   ],
   "source": [
    "print(similarity.shape)"
   ]
  },
  {
   "cell_type": "code",
   "execution_count": 212,
   "id": "d8fe0e9f",
   "metadata": {},
   "outputs": [],
   "source": [
    "#getting a movie name from user"
   ]
  },
  {
   "cell_type": "code",
   "execution_count": 213,
   "id": "6f1a2950",
   "metadata": {},
   "outputs": [
    {
     "name": "stdout",
     "output_type": "stream",
     "text": [
      "Enter your favorite movie: cinderella\n"
     ]
    }
   ],
   "source": [
    "movie_name=input('Enter your favorite movie: ')"
   ]
  },
  {
   "cell_type": "code",
   "execution_count": 214,
   "id": "b5d08bdd",
   "metadata": {},
   "outputs": [],
   "source": [
    "#creating a list with all the titles from the dataset"
   ]
  },
  {
   "cell_type": "code",
   "execution_count": 215,
   "id": "8abefe05",
   "metadata": {},
   "outputs": [],
   "source": [
    "list_of_all_titles=df_clean['title'].to_list()"
   ]
  },
  {
   "cell_type": "code",
   "execution_count": 216,
   "id": "870b45e8",
   "metadata": {},
   "outputs": [
    {
     "name": "stdout",
     "output_type": "stream",
     "text": [
      "['Avatar', \"Pirates of the Caribbean: At World's End\", 'Spectre', 'The Dark Knight Rises', 'John Carter', 'Spider-Man 3', 'Tangled', 'Avengers: Age of Ultron', 'Harry Potter and the Half-Blood Prince', 'Batman v Superman: Dawn of Justice', 'Superman Returns', 'Quantum of Solace', \"Pirates of the Caribbean: Dead Man's Chest\", 'The Lone Ranger', 'Man of Steel', 'The Chronicles of Narnia: Prince Caspian', 'The Avengers', 'Pirates of the Caribbean: On Stranger Tides', 'Men in Black 3', 'The Hobbit: The Battle of the Five Armies', 'The Amazing Spider-Man', 'Robin Hood', 'The Hobbit: The Desolation of Smaug', 'The Golden Compass', 'King Kong', 'Titanic', 'Captain America: Civil War', 'Battleship', 'Jurassic World', 'Skyfall', 'Spider-Man 2', 'Iron Man 3', 'Alice in Wonderland', 'X-Men: The Last Stand', 'Monsters University', 'Transformers: Revenge of the Fallen', 'Transformers: Age of Extinction', 'Oz: The Great and Powerful', 'The Amazing Spider-Man 2', 'TRON: Legacy', 'Cars 2', 'Green Lantern', 'Toy Story 3', 'Terminator Salvation', 'Furious 7', 'World War Z', 'X-Men: Days of Future Past', 'Star Trek Into Darkness', 'Jack the Giant Slayer', 'The Great Gatsby', 'Prince of Persia: The Sands of Time', 'Pacific Rim', 'Transformers: Dark of the Moon', 'Indiana Jones and the Kingdom of the Crystal Skull', 'The Good Dinosaur', 'Brave', 'Star Trek Beyond', 'WALL·E', 'Rush Hour 3', '2012', 'A Christmas Carol', 'Jupiter Ascending', 'The Legend of Tarzan', 'The Chronicles of Narnia: The Lion, the Witch and the Wardrobe', 'X-Men: Apocalypse', 'The Dark Knight', 'Up', 'Monsters vs Aliens', 'Iron Man', 'Hugo', 'Wild Wild West', 'The Mummy: Tomb of the Dragon Emperor', 'Suicide Squad', 'Evan Almighty', 'Edge of Tomorrow', 'Waterworld', 'G.I. Joe: The Rise of Cobra', 'Inside Out', 'The Jungle Book', 'Iron Man 2', 'Snow White and the Huntsman', 'Maleficent', 'Dawn of the Planet of the Apes', 'The Lovers', '47 Ronin', 'Captain America: The Winter Soldier', 'Shrek Forever After', 'Tomorrowland', 'Big Hero 6', 'Wreck-It Ralph', 'The Polar Express', 'Independence Day: Resurgence', 'How to Train Your Dragon', 'Terminator 3: Rise of the Machines', 'Guardians of the Galaxy', 'Interstellar', 'Inception', 'Shin Godzilla', 'The Hobbit: An Unexpected Journey', 'The Fast and the Furious', 'The Curious Case of Benjamin Button', 'X-Men: First Class', 'The Hunger Games: Mockingjay - Part 2', \"The Sorcerer's Apprentice\", 'Poseidon', 'Alice Through the Looking Glass', 'Shrek the Third', 'Warcraft', 'Terminator Genisys', 'The Chronicles of Narnia: The Voyage of the Dawn Treader', 'Pearl Harbor', 'Transformers', 'Alexander', 'Harry Potter and the Order of the Phoenix', 'Harry Potter and the Goblet of Fire', 'Hancock', 'I Am Legend', 'Charlie and the Chocolate Factory', 'Ratatouille', 'Batman Begins', 'Madagascar: Escape 2 Africa', 'Night at the Museum: Battle of the Smithsonian', 'X-Men Origins: Wolverine', 'The Matrix Revolutions', 'Frozen', 'The Matrix Reloaded', 'Thor: The Dark World', 'Mad Max: Fury Road', 'Angels & Demons', 'Thor', 'Bolt', 'G-Force', 'Wrath of the Titans', 'Dark Shadows', 'Mission: Impossible - Rogue Nation', 'The Wolfman', 'Bee Movie', 'Kung Fu Panda 2', 'The Last Airbender', 'Mission: Impossible III', 'White House Down', 'Mars Needs Moms', 'Flushed Away', 'Pan', 'Mr. Peabody & Sherman', 'Troy', \"Madagascar 3: Europe's Most Wanted\", 'Die Another Day', 'Ghostbusters', 'Armageddon', 'Men in Black II', 'Beowulf', 'Kung Fu Panda 3', 'Mission: Impossible - Ghost Protocol', 'Rise of the Guardians', 'Fun with Dick and Jane', 'The Last Samurai', 'Exodus: Gods and Kings', 'Star Trek', 'Spider-Man', 'How to Train Your Dragon 2', 'Gods of Egypt', 'Stealth', 'Watchmen', 'Lethal Weapon 4', 'Hulk', 'G.I. Joe: Retaliation', 'Sahara', 'Final Fantasy: The Spirits Within', 'Captain America: The First Avenger', 'The World Is Not Enough', 'Master and Commander: The Far Side of the World', 'The Twilight Saga: Breaking Dawn - Part 2', 'Happy Feet Two', 'The Incredible Hulk', 'The BFG', 'The Revenant', 'Turbo', 'Rango', 'Penguins of Madagascar', 'The Bourne Ultimatum', 'Kung Fu Panda', 'Ant-Man', 'The Hunger Games: Catching Fire', 'Home', 'War of the Worlds', 'Bad Boys II', 'Puss in Boots', 'Salt', 'Noah', 'The Adventures of Tintin', 'Harry Potter and the Prisoner of Azkaban', 'Australia', 'After Earth', 'Dinosaur', 'Night at the Museum: Secret of the Tomb', 'Megamind', \"Harry Potter and the Philosopher's Stone\", 'R.I.P.D.', 'Pirates of the Caribbean: The Curse of the Black Pearl', 'The Hunger Games: Mockingjay - Part 1', 'The Da Vinci Code', 'Rio 2', 'X2', 'Fast Five', 'Sherlock Holmes: A Game of Shadows', 'Clash of the Titans', 'Total Recall', 'The 13th Warrior', 'The Bourne Legacy', 'Batman & Robin', 'How the Grinch Stole Christmas', 'The Day After Tomorrow', 'Mission: Impossible II', 'The Perfect Storm', 'Fantastic 4: Rise of the Silver Surfer', 'Life of Pi', 'Ghost Rider', 'Jason Bourne', \"Charlie's Angels: Full Throttle\", 'Prometheus', 'Stuart Little 2', 'Elysium', 'The Chronicles of Riddick', 'RoboCop', 'Speed Racer', 'How Do You Know', 'Knight and Day', 'Oblivion', 'Star Wars: Episode III - Revenge of the Sith', 'Star Wars: Episode II - Attack of the Clones', 'Monsters, Inc.', 'The Wolverine', 'Star Wars: Episode I - The Phantom Menace', 'The Croods', 'Asterix at the Olympic Games', 'Windtalkers', \"The Huntsman: Winter's War\", 'Teenage Mutant Ninja Turtles', 'Gravity', \"Dante's Peak\", 'Teenage Mutant Ninja Turtles: Out of the Shadows', 'Fantastic Four', 'Night at the Museum', 'San Andreas', 'Tomorrow Never Dies', 'The Patriot', \"Ocean's Twelve\", 'Mr. & Mrs. Smith', 'Insurgent', 'The Aviator', \"Gulliver's Travels\", 'The Green Hornet', '300: Rise of an Empire', 'The Smurfs', 'Home on the Range', 'Allegiant', 'Real Steel', 'The Smurfs 2', 'Speed 2: Cruise Control', \"Ender's Game\", 'Live Free or Die Hard', 'The Lord of the Rings: The Fellowship of the Ring', 'Around the World in 80 Days', 'Ali', 'The Cat in the Hat', 'I, Robot', 'Kingdom of Heaven', 'Stuart Little', 'The Princess and the Frog', 'The Martian', 'The Island', 'Town & Country', 'Gone in Sixty Seconds', 'Gladiator', 'Minority Report', 'Harry Potter and the Chamber of Secrets', 'Casino Royale', 'Planet of the Apes', 'Terminator 2: Judgment Day', 'Public Enemies', 'American Gangster', 'True Lies', 'The Taking of Pelham 1 2 3', 'Little Fockers', 'The Other Guys', 'Eraser', 'Django Unchained', 'The Hunchback of Notre Dame', \"The Emperor's New Groove\", 'The Expendables 2', 'National Treasure', 'Eragon', 'Where the Wild Things Are', 'Epic', 'The Tourist', 'End of Days', 'Blood Diamond', 'The Wolf of Wall Street', 'Batman Forever', 'Starship Troopers', 'Cloud Atlas', \"Legend of the Guardians: The Owls of Ga'Hoole\", 'Catwoman', 'Hercules', 'Treasure Planet', 'Land of the Lost', 'The Expendables 3', 'Point Break', 'Son of the Mask', 'In the Heart of the Sea', 'The Adventures of Pluto Nash', 'Green Zone', 'The Peanuts Movie', 'The Spanish Prisoner', 'The Mummy Returns', 'Gangs of New York', 'The Flowers of War', \"Surf's Up\", 'The Stepford Wives', 'Black Hawk Down', 'The Campaign', 'The Fifth Element', 'Sex and the City 2', 'The Road to El Dorado', 'Ice Age: Continental Drift', 'Cinderella', 'The Lovely Bones', 'Finding Nemo', 'The Lord of the Rings: The Return of the King', 'The Lord of the Rings: The Two Towers', 'Seventh Son', 'Lara Croft: Tomb Raider', 'Transcendence', 'Jurassic Park III', 'Rise of the Planet of the Apes', 'The Spiderwick Chronicles', 'A Good Day to Die Hard', 'The Alamo', 'The Incredibles', 'Cutthroat Island', 'Percy Jackson & the Olympians: The Lightning Thief', 'Men in Black', 'Toy Story 2', 'Unstoppable', 'Rush Hour 2', 'What Lies Beneath', 'Cloudy with a Chance of Meatballs', 'Ice Age: Dawn of the Dinosaurs', 'The Secret Life of Walter Mitty', \"Charlie's Angels\", 'The Departed', 'Mulan', 'Tropic Thunder', 'The Girl with the Dragon Tattoo', 'Die Hard: With a Vengeance', 'Sherlock Holmes', 'Ben-Hur', 'Atlantis: The Lost Empire', 'Alvin and the Chipmunks: The Road Chip', 'Valkyrie', \"You Don't Mess with the Zohan\", 'Pixels', 'A.I. Artificial Intelligence', 'The Haunted Mansion', 'Contact', 'Hollow Man', 'The Interpreter', 'Percy Jackson: Sea of Monsters', 'Lara Croft Tomb Raider: The Cradle of Life', 'Now You See Me 2', 'The Saint', 'Spy Game', 'Mission to Mars', 'Rio', 'Bicentennial Man', 'Volcano', \"The Devil's Own\", 'K-19: The Widowmaker', 'Conan the Barbarian', 'Cinderella Man', 'The Nutcracker: The Untold Story', 'Seabiscuit', 'Twister', 'Cast Away', 'Happy Feet', 'The Bourne Supremacy', 'Air Force One', \"Ocean's Eleven\", 'The Three Musketeers', 'Hotel Transylvania', 'Enchanted', 'Safe House', '102 Dalmatians', 'Tower Heist', 'The Holiday', 'Enemy of the State', \"It's Complicated\", \"Ocean's Thirteen\", 'Open Season', 'Divergent', 'Enemy at the Gates', 'The Rundown', 'Last Action Hero', 'Memoirs of a Geisha', 'The Fast and the Furious: Tokyo Drift', 'Arthur Christmas', 'Meet Joe Black', 'Collateral Damage', 'All That Jazz', 'Mirror Mirror', 'Scott Pilgrim vs. the World', 'The Core', 'Nutty Professor II: The Klumps', 'Scooby-Doo', 'Dredd', 'Click', 'Creepshow', 'Cats & Dogs 2 : The Revenge of Kitty Galore', 'Jumper', 'Hellboy II: The Golden Army', 'Zodiac', 'The 6th Day', 'Bruce Almighty', 'The Expendables', 'Mission: Impossible', 'The Hunger Games', 'The Hangover Part II', 'Batman Returns', 'Over the Hedge', 'Lilo & Stitch', \"Charlotte's Web\", 'Deep Impact', 'RED 2', 'The Longest Yard', 'Alvin and the Chipmunks: Chipwrecked', 'Grown Ups 2', 'Get Smart', \"Something's Gotta Give\", 'Shutter Island', 'Four Christmases', 'Robots', 'Face/Off', 'Bedtime Stories', 'Road to Perdition', 'Just Go with It', 'Con Air', 'Eagle Eye', 'Cold Mountain', 'The Book of Eli', 'Flubber', 'The Haunting', 'Space Jam', 'The Pink Panther', 'The Day the Earth Stood Still', 'Conspiracy Theory', 'Fury', 'Six Days Seven Nights', 'Yogi Bear', 'Spirit: Stallion of the Cimarron', 'Zookeeper', 'Lost in Space', 'The Manchurian Candidate', 'Déjà Vu', 'Hotel Transylvania 2', 'Fantasia 2000', 'The Time Machine', 'Mighty Joe Young', 'Swordfish', 'The Legend of Zorro', 'What Dreams May Come', 'Little Nicky', 'The Brothers Grimm', 'Mars Attacks!', 'Evolution', 'The Edge', 'Surrogates', 'Thirteen Days', 'Daylight', 'Walking With Dinosaurs', 'Battlefield Earth', 'Looney Tunes: Back in Action', 'Nine', 'Timeline', 'The Postman', 'Babe: Pig in the City', 'The Last Witch Hunter', 'Red Planet', 'Arthur and the Invisibles', 'Oceans', 'A Sound of Thunder', 'Pompeii', 'Top Cat Begins', 'A Beautiful Mind', 'The Lion King', 'Journey 2: The Mysterious Island', 'Cloudy with a Chance of Meatballs 2', 'Red Dragon', 'Hidalgo', 'Jack and Jill', '2 Fast 2 Furious', 'The Little Prince', 'The Invasion', 'The Adventures of Rocky & Bullwinkle', 'The Secret Life of Pets', 'The League of Extraordinary Gentlemen', 'Despicable Me 2', 'Independence Day', 'The Lost World: Jurassic Park', 'Madagascar', 'Children of Men', 'X-Men', 'Wanted', 'The Rock', 'Ice Age: The Meltdown', '50 First Dates', 'Hairspray', 'Exorcist: The Beginning', 'Inspector Gadget', 'Now You See Me', 'Grown Ups', 'The Terminal', 'Hotel for Dogs', 'Vertical Limit', \"Charlie Wilson's War\", 'Shark Tale', 'Dreamgirls', 'Be Cool', 'Munich', 'Tears of the Sun', 'Killers', 'The Man from U.N.C.L.E.', 'Spanglish', 'Monster House', 'Bandits', 'First Knight', 'Anna and the King', 'Immortals', 'Hostage', 'Titan A.E.', 'Hollywood Homicide', 'Soldier', 'Carriers', 'Monkeybone', 'Flight of the Phoenix', 'Unbreakable', 'Minions', 'Sucker Punch', 'Snake Eyes', 'Sphere', 'The Angry Birds Movie', \"Fool's Gold\", 'Funny People', 'The Kingdom', 'Talladega Nights: The Ballad of Ricky Bobby', 'Dr. Dolittle 2', 'Braveheart', 'Jarhead', 'The Simpsons Movie', 'The Majestic', 'Driven', 'Two Brothers', 'The Village', 'Doctor Dolittle', 'Signs', 'Shrek 2', 'Cars', 'Runaway Bride', 'xXx', 'The SpongeBob Movie: Sponge Out of Water', 'Ransom', 'Inglourious Basterds', 'Hook', 'Die Hard 2', 'S.W.A.T.', 'Vanilla Sky', 'Lady in the Water', 'AVP: Alien vs. Predator', 'Alvin and the Chipmunks: The Squeakquel', 'We Were Soldiers', 'Olympus Has Fallen', 'Star Trek: Insurrection', 'Battle: Los Angeles', 'Big Fish', 'Wolf', 'War Horse', 'The Monuments Men', 'The Abyss', 'Wall Street: Money Never Sleeps', 'Dracula Untold', 'The Siege', 'Stardust', 'Seven Years in Tibet', 'The Dilemma', 'Bad Company', 'Doom', 'I Spy', 'Underworld: Awakening', 'Rock of Ages', \"Hart's War\", 'Killer Elite', 'Rollerball', 'Ballistic: Ecks vs. Sever', 'Hard Rain', 'Osmosis Jones', \"Legends of Oz: Dorothy's Return\", 'Blackhat', 'Sky Captain and the World of Tomorrow', 'Basic Instinct 2', 'Escape Plan', 'The Legend of Hercules', 'The Sum of All Fears', 'The Twilight Saga: Eclipse', 'The Score', 'Despicable Me', 'Money Train', 'Ted 2', 'Agora', 'Mystery Men', 'Hall Pass', 'The Insider', 'The Finest Hours', 'Body of Lies', 'Dinner for Schmucks', 'Abraham Lincoln: Vampire Hunter', 'Entrapment', 'The X Files', 'The Last Legion', 'Saving Private Ryan', 'Need for Speed', 'What Women Want', 'Ice Age', 'Dreamcatcher', 'Lincoln', 'The Matrix', 'Apollo 13', 'The Santa Clause 2', 'Les Misérables', \"You've Got Mail\", 'Step Brothers', 'The Mask of Zorro', 'Due Date', 'Unbroken', 'Space Cowboys', 'Cliffhanger', 'Broken Arrow', 'The Kid', 'World Trade Center', 'Mona Lisa Smile', 'The Dictator', 'Eyes Wide Shut', 'Annie', 'Focus', 'This Means War', 'Blade: Trinity', 'Red Dawn', 'Primary Colors', 'Resident Evil: Retribution', 'Death Race', 'The Long Kiss Goodnight', 'Proof of Life', 'Zathura: A Space Adventure', 'Fight Club', 'We Are Marshall', 'Hudson Hawk', 'Lucky Numbers', 'I, Frankenstein', 'Oliver Twist', 'Elektra', 'Sin City: A Dame to Kill For', 'Random Hearts', 'Everest', 'Perfume: The Story of a Murderer', 'Austin Powers in Goldmember', 'Astro Boy', 'Jurassic Park', 'Wyatt Earp', 'Clear and Present Danger', 'Dragon Blade', 'Little Man', 'U-571', 'The American President', 'The Love Guru', '3000 Miles to Graceland', 'The Hateful Eight', 'Blades of Glory', 'Hop', '300', 'Meet the Fockers', 'Marley & Me', 'The Green Mile', 'Wild Hogs', 'Chicken Little', 'Gone Girl', 'The Bourne Identity', 'GoldenEye', \"The General's Daughter\", 'The Truman Show', 'The Prince of Egypt', 'Daddy Day Care', '2 Guns', 'Cats & Dogs', 'The Italian Job', 'Two Weeks Notice', 'Antz', 'Couples Retreat', 'Days of Thunder', 'Cheaper by the Dozen 2', 'Maze Runner: The Scorch Trials', 'Eat Pray Love', 'The Family Man', 'RED', 'Any Given Sunday', 'The Horse Whisperer', 'Collateral', 'The Scorpion King', 'Ladder 49', 'Jack Reacher', 'Deep Blue Sea', 'This Is It', 'Contagion', 'Kangaroo Jack', 'Coraline', 'The Happening', 'Man on Fire', 'The Shaggy Dog', 'Starsky & Hutch', 'Jingle All the Way', 'Hellboy', 'A Civil Action', 'ParaNorman', 'The Jackal', 'Paycheck', 'Up Close & Personal', 'The Tale of Despereaux', 'The Tuxedo', 'Under Siege 2: Dark Territory', 'Jack Ryan: Shadow Recruit', 'Joy', 'London Has Fallen', 'Alien: Resurrection', 'Shooter', 'The Boxtrolls', 'Practical Magic', 'The Lego Movie', 'Miss Congeniality 2: Armed and Fabulous', 'Reign of Fire', 'Gangster Squad', 'Year One', 'Invictus', 'State of Play', 'Duplicity', 'My Favorite Martian', 'The Sentinel', 'Planet 51', 'Star Trek: Nemesis', 'Intolerable Cruelty', 'Trouble with the Curve', 'Edge of Darkness', 'The Relic', 'Analyze That', 'Righteous Kill', 'Mercury Rising', 'The Soloist', 'The Legend of Bagger Vance', 'Almost Famous', 'Garfield: A Tail of Two Kitties', 'xXx: State of the Union', 'Priest', 'Sinbad: Legend of the Seven Seas', 'Event Horizon', 'Dragonfly', 'The Black Dahlia', 'Flyboys', 'The Last Castle', 'Supernova', \"Winter's Tale\", 'The Mortal Instruments: City of Bones', 'Meet Dave', 'Dark Water', 'Edtv', 'Inkheart', 'The Spirit', 'Mortdecai', 'In the Name of the King: A Dungeon Siege Tale', 'Beyond Borders', 'The Monkey King 2', 'The Great Raid', 'Deadpool', 'Holy Man', 'American Sniper', 'Goosebumps', 'Just Like Heaven', 'The Flintstones in Viva Rock Vegas', 'Rambo III', 'Leatherheads', 'The Ridiculous 6', 'Did You Hear About the Morgans?', 'The Internship', 'Resident Evil: Afterlife', 'Red Tails', \"The Devil's Advocate\", \"That's My Boy\", 'DragonHeart', 'After the Sunset', 'Ghost Rider: Spirit of Vengeance', \"Captain Corelli's Mandolin\", 'The Pacifier', 'Walking Tall', 'Forrest Gump', 'Alvin and the Chipmunks', 'Meet the Parents', 'Pocahontas', 'Superman', 'The Nutty Professor', 'Hitch', 'George of the Jungle', 'American Wedding', 'Captain Phillips', 'Date Night', 'Casper', 'The Equalizer', 'Maid in Manhattan', 'Crimson Tide', 'The Pursuit of Happyness', 'Flightplan', 'Disclosure', 'City of Angels', 'Kill Bill: Vol. 1', 'Bowfinger', 'Kill Bill: Vol. 2', 'Tango & Cash', 'Death Becomes Her', 'Shanghai Noon', 'Executive Decision', \"Mr. Popper's Penguins\", 'The Forbidden Kingdom', 'Free Birds', 'Alien³', 'Evita', 'Ronin', 'The Ghost and the Darkness', 'Paddington', 'The Watch', 'The Hunted', 'Instinct', 'Stuck on You', 'Semi-Pro', 'The Pirates! In an Adventure with Scientists!', 'Changeling', 'Chain Reaction', 'The Fan', 'The Phantom of the Opera', 'Elizabeth: The Golden Age', 'Æon Flux', 'Gods and Generals', 'Turbulence', 'Imagine That', 'Muppets Most Wanted', 'Thunderbirds', 'Burlesque', 'A Very Long Engagement', 'Lolita', 'D-Tox', 'Blade II', 'Seven Pounds', 'Bullet to the Head', 'The Godfather: Part III', 'Elizabethtown', 'You, Me and Dupree', 'Superman II', 'Gigli', \"All the King's Men\", 'Shaft', 'Anastasia', 'Moulin Rouge!', 'Domestic Disturbance', 'Black Mass', 'Flags of Our Fathers', 'Law Abiding Citizen', 'Grindhouse', 'Beloved', 'Lucky You', 'Catch Me If You Can', 'Zero Dark Thirty', 'The Break-Up', 'Mamma Mia!', \"Valentine's Day\", 'The Dukes of Hazzard', 'The Thin Red Line', 'The Change-Up', 'Man on the Moon', 'Casino', 'From Paris with Love', 'Bulletproof Monk', 'Me, Myself & Irene', 'Barnyard', 'Deck the Halls', 'The Twilight Saga: New Moon', 'Shrek', 'The Adjustment Bureau', 'Robin Hood: Prince of Thieves', 'Jerry Maguire', 'Ted', 'As Good as It Gets', 'Patch Adams', 'Anchorman 2: The Legend Continues', 'Mr. Deeds', 'Super 8', 'Erin Brockovich', 'How to Lose a Guy in 10 Days', '22 Jump Street', 'Interview with the Vampire', 'Yes Man', 'Central Intelligence', 'Stepmom', \"Daddy's Home\", 'Into the Woods', 'Inside Man', 'Payback', 'Congo', 'We Bought a Zoo', 'Knowing', 'Failure to Launch', 'The Ring Two', 'Crazy, Stupid, Love.', 'Garfield', 'Christmas with the Kranks', 'Moneyball', 'Outbreak', 'Non-Stop', 'Race to Witch Mountain', 'V for Vendetta', 'Shanghai Knights', 'Curious George', 'Herbie Fully Loaded', \"Don't Say a Word\", 'Hansel & Gretel: Witch Hunters', 'Unfaithful', 'I Am Number Four', 'Syriana', '13 Hours: The Secret Soldiers of Benghazi', 'The Book of Life', 'Firewall', 'Absolute Power', 'G.I. Jane', 'The Game', 'Silent Hill', 'The Replacements', 'American Reunion', 'The Negotiator', 'Into the Storm', 'Beverly Hills Cop III', 'Gremlins 2: The New Batch', 'The Judge', 'The Peacemaker', 'Resident Evil: Apocalypse', 'Bridget Jones: The Edge of Reason', 'Out of Time', 'On Deadly Ground', 'The Adventures of Sharkboy and Lavagirl', 'The Beach', 'Raising Helen', 'Ninja Assassin', 'For Love of the Game', 'Striptease', 'Marmaduke', 'Hereafter', 'Murder by Numbers', 'Assassins', 'Hannibal Rising', 'The Story of Us', 'The Host', 'The Host', 'The Host', 'The Host', 'Basic', 'Blood Work', 'The International', 'Escape from L.A.', 'The Iron Giant', 'The Life Aquatic with Steve Zissou', 'Free State of Jones', 'The Life of David Gale', 'Man of the House', 'Run All Night', 'Eastern Promises', 'Into the Blue', 'The Messenger: The Story of Joan of Arc', 'Your Highness', 'Dream House', 'Mad City', \"Baby's Day Out\", 'The Scarlet Letter', 'Fair Game', 'Domino', 'Jade', 'Gamer', 'Beautiful Creatures', 'Death to Smoochy', 'Zoolander 2', 'The Big Bounce', 'What Planet Are You From?', 'Drive Angry', 'Street Fighter: The Legend of Chun-Li', 'The One', 'The Adventures of Ford Fairlane', 'The Boat That Rocked', 'Traffic', 'Indiana Jones and the Last Crusade', 'Anna Karenina', 'Chappie', 'The Bone Collector', 'Panic Room', 'The Tooth Fairy', 'Three Kings', 'Child 44', 'Rat Race', 'K-PAX', 'Kate & Leopold', 'Bedazzled', 'The Cotton Club', '3:10 to Yuma', 'Taken 3', 'Out of Sight', 'The Cable Guy', 'Earth', 'Dick Tracy', 'The Thomas Crown Affair', 'Riding in Cars with Boys', 'First Blood', 'Solaris', \"Happily N'Ever After\", 'Mary Reilly', \"My Best Friend's Wedding\", \"America's Sweethearts\", 'Insomnia', 'Star Trek: First Contact', 'Jonah Hex', 'Courage Under Fire', 'Liar Liar', 'The Infiltrator', 'Inchon', 'The Flintstones', 'Taken 2', 'Scary Movie 3', 'Miss Congeniality', 'Journey to the Center of the Earth', 'The Princess Diaries 2: Royal Engagement', 'The Pelican Brief', 'The Client', 'The Bucket List', 'Patriot Games', 'Monster-in-Law', 'Prisoners', 'Training Day', 'Galaxy Quest', 'Scary Movie 2', 'The Muppets', 'Blade', 'Coach Carter', 'Changing Lanes', 'Anaconda', 'Coyote Ugly', 'Love Actually', \"A Bug's Life\", 'From Hell', 'The Specialist', 'Tin Cup', 'Yours, Mine and Ours', 'Kicking & Screaming', \"The Hitchhiker's Guide to the Galaxy\", 'Fat Albert', 'Resident Evil: Extinction', 'Blended', 'Last Holiday', 'The River Wild', 'The Indian in the Cupboard', 'Savages', 'Cellular', 'Johnny English', 'The Ant Bully', 'Dune', 'Across the Universe', 'Revolutionary Road', '16 Blocks', 'Babylon A.D.', 'The Glimmer Man', 'Multiplicity', 'Aliens in the Attic', 'The Pledge', 'The Producers', 'The Phantom', 'All the Pretty Horses', 'Nixon', 'The Ghost Writer', 'Deep Rising', 'Miracle at St. Anna', 'Curse of the Golden Flower', 'Bangkok Dangerous', 'Big Trouble', 'Love in the Time of Cholera', 'Shadow Conspiracy', 'Johnny English Reborn', 'Foodfight!', 'Argo', 'The Fugitive', 'The Bounty Hunter', 'Sleepers', 'Rambo: First Blood Part II', 'The Juror', 'Pinocchio', \"Heaven's Gate\", 'Underworld: Evolution', 'Victor Frankenstein', 'Finding Forrester', '28 Days', 'Unleashed', 'The Sweetest Thing', 'The Firm', 'Charlie St. Cloud', 'The Mechanic', '21 Jump Street', 'Notting Hill', 'Chicken Run', 'Along Came Polly', 'Boomerang', 'The Heat', 'Cleopatra', 'Here Comes the Boom', 'High Crimes', 'The Mirror Has Two Faces', 'The Mothman Prophecies', 'Brüno', 'Licence to Kill', 'Red Riding Hood', '15 Minutes', 'Super Mario Bros.', 'Lord of War', 'Hero', 'One for the Money', 'The Interview', \"The Warrior's Way\", 'Micmacs', '8 Mile', 'Why I Did (Not) Eat My Father', \"A Knight's Tale\", 'The Medallion', 'The Sixth Sense', 'Man on a Ledge', 'The Big Year', 'The Karate Kid', 'American Hustle', 'The Proposal', 'Double Jeopardy', 'Back to the Future Part II', 'Lucy', 'Fifty Shades of Grey', 'Spy Kids 3-D: Game Over', 'A Time to Kill', 'Cheaper by the Dozen', 'Lone Survivor', 'A League of Their Own', 'The Conjuring 2', 'The Social Network', \"He's Just Not That Into You\", 'Scary Movie 4', 'Scream 3', 'Back to the Future Part III', 'Get Hard', 'Dracula', 'Julie & Julia', '42', 'The Talented Mr. Ripley', 'Dumb and Dumber To', 'Eight Below', 'The Intern', 'Ride Along 2', 'The Last of the Mohicans', 'Ray', 'Sin City', 'Vantage Point', 'I Love You, Man', 'Shallow Hal', 'JFK', \"Big Momma's House 2\", 'The Mexican', '17 Again', 'The Other Woman', 'The Final Destination', 'Bridge of Spies', 'Behind Enemy Lines', 'Get Him to the Greek', 'Shall We Dance?', 'Small Soldiers', 'Spawn', 'The Count of Monte Cristo', 'The Lincoln Lawyer', 'Unknown', 'The Prestige', 'Horrible Bosses 2', 'Escape from Planet Earth', 'Apocalypto', 'The Living Daylights', 'Predators', 'Legal Eagles', 'Secret Window', 'The Lake House', 'The Skeleton Key', 'The Odd Life of Timothy Green', 'Made of Honor', 'Jersey Boys', 'The Rainmaker', 'Gothika', 'Amistad', 'Medicine Man', 'Aliens vs Predator: Requiem', 'Ri¢hie Ri¢h', 'Autumn in New York', 'Music and Lyrics', 'Paul', 'The Guilt Trip', 'Scream 4', '8MM', 'The Doors', 'Sex Tape', 'Hanging Up', 'Final Destination 5', 'Mickey Blue Eyes', 'Pay It Forward', 'Fever Pitch', 'Drillbit Taylor', 'A Million Ways to Die in the West', 'The Shadow', 'Extremely Loud & Incredibly Close', 'Morning Glory', \"Get Rich or Die Tryin'\", 'The Art of War', 'Rent', 'Bless the Child', 'The Out-of-Towners', 'The Island of Dr. Moreau', 'The Musketeer', 'The Other Boleyn Girl', 'Sweet November', 'The Reaping', 'Mean Streets', 'Renaissance Man', 'Colombiana', 'Quest for Camelot', 'City By The Sea', 'At First Sight', 'Torque', 'City Hall', 'Showgirls', 'Marie Antoinette', 'Kiss of Death', 'Get Carter', 'The Impossible', 'Ishtar', 'Fantastic Mr. Fox', 'Life or Something Like It', 'Memoirs of an Invisible Man', 'Amélie', 'New York Minute', 'Alfie', 'Big Miracle', 'The Deep End of the Ocean', 'FearDotCom', \"Cirque du Freak: The Vampire's Assistant\", 'Duplex', 'Soul Men', 'Raise the Titanic', 'Universal Soldier: The Return', 'Pandorum', 'Impostor', 'Extreme Ops', 'Just Visiting', 'Sunshine', 'A Thousand Words', 'Delgo', 'The Gunman', 'Stormbreaker', 'Disturbia', 'Hackers', 'The Hunting Party', 'The Hudsucker Proxy', 'The Warlords', 'Nomad: The Warrior', 'Snowpiercer', 'A Monster in Paris', 'The Last Shot', 'The Crow', 'Baahubali: The Beginning', \"The Time Traveler's Wife\", 'Because I Said So', 'Frankenweenie', 'Serenity', 'Against the Ropes', 'Superman III', 'Grudge Match', 'Red Cliff', 'Sweet Home Alabama', 'The Ugly Truth', 'Sgt. Bilko', 'Spy Kids 2: The Island of Lost Dreams', 'Star Trek: Generations', 'The Grandmaster', 'Water for Elephants', \"Dragon Nest: Warriors' Dawn\", 'The Hurricane', 'Enough', 'Heartbreakers', 'Paul Blart: Mall Cop 2', 'Angel Eyes', 'Joe Somebody', 'The Ninth Gate', 'Extreme Measures', 'Rock Star', 'Precious', 'White Squall', 'The Thing', 'Riddick', 'Switchback', 'Texas Rangers', 'City of Ember', 'The Master', 'Virgin Territory', 'The Express', 'The 5th Wave', 'Creed', 'The Town', \"What to Expect When You're Expecting\", 'Burn After Reading', \"Nim's Island\", 'Rush', 'Magnolia', 'Cop Out', 'How to Be Single', 'Dolphin Tale', 'Twilight', 'John Q', 'Blue Streak', \"We're the Millers\", 'The Inhabited Island', 'Breakdown', 'Never Say Never Again', 'Hot Tub Time Machine', 'Dolphin Tale 2', 'Reindeer Games', 'A Man Apart', 'Aloha', 'Ghosts of Mississippi', 'Snow Falling on Cedars', 'The Rite', 'Gattaca', \"Isn't She Great\", 'Space Chimps', 'Head of State', 'The Hangover', 'Ip Man 3', 'Austin Powers: The Spy Who Shagged Me', 'Batman', 'Batman', 'Batman', 'Batman', 'There Be Dragons', 'Lethal Weapon 3', 'The Blind Side', 'Spy Kids', 'Horrible Bosses', 'True Grit', 'The Devil Wears Prada', 'Star Trek: The Motion Picture', 'Identity Thief', 'Cape Fear', '21', 'Trainwreck', 'Guess Who', 'The English Patient', 'L.A. Confidential', 'Sky High', 'In & Out', 'Species', 'A Nightmare on Elm Street', 'The Cell', 'The Man in the Iron Mask', 'Secretariat', 'TMNT', 'Radio', 'Friends with Benefits', 'Neighbors 2: Sorority Rising', 'Saving Mr. Banks', 'Malcolm X', 'This Is 40', 'Old Dogs', 'Underworld: Rise of the Lycans', 'License to Wed', 'The Benchwarmers', 'Must Love Dogs', 'Donnie Brasco', 'Resident Evil', 'Poltergeist', 'The Ladykillers', 'Max Payne', 'In Time', 'The Back-Up Plan', 'Something Borrowed', 'Black Knight', 'The Bad News Bears', 'Street Fighter', 'The Pianist', 'The Nativity Story', 'House of Wax', 'Closer', 'J. Edgar', 'Mirrors', 'Queen of the Damned', 'Predator 2', 'Untraceable', 'Blast from the Past', 'Flash Gordon', 'Jersey Girl', 'Alex Cross', 'Midnight in the Garden of Good and Evil', 'Heist', 'Nanny McPhee and the Big Bang', 'Hoffa', 'The X Files: I Want to Believe', 'Ella Enchanted', 'Concussion', 'Abduction', 'Valiant', 'Wonder Boys', 'Superhero Movie', 'Broken City', 'Cursed', 'Premium Rush', 'Hot Pursuit', 'The Four Feathers', 'Parker', 'Wimbledon', 'Furry Vengeance', 'Bait', 'Krull', 'Lions for Lambs', 'Flight of the Intruder', 'Walk Hard: The Dewey Cox Story', 'The Shipping News', 'American Outlaws', 'The Young Victoria', 'Whiteout', 'The Tree of Life', 'Knock Off', 'Sabotage', 'The Order', 'Punisher: War Zone', 'Zoom', 'The Walk', 'Warriors of Virtue', 'A Good Year', 'Radio Flyer', 'Bound by Honor', \"Smilla's Sense of Snow\", 'Femme Fatale', 'Lion of the Desert', 'The Horseman on the Roof', 'Ride with the Devil', 'Biutiful', 'Bandidas', 'Black Water Transit', 'The Maze Runner', 'Unfinished Business', 'The Age of Innocence', 'The Fountain', 'Chill Factor', 'Stolen', 'Ponyo', 'The Longest Ride', \"The Astronaut's Wife\", 'I Dreamed of Africa', 'Playing for Keeps', 'Mandela: Long Walk to Freedom', 'Reds', 'A Few Good Men', 'Exit Wounds', \"Big Momma's House\", 'Thunder and the House of Magic', 'The Darkest Hour', 'Step Up Revolution', 'Snakes on a Plane', 'The Watcher', 'The Punisher', 'Goal!: The Dream Begins', 'Safe', 'Pushing Tin', 'Return of the Jedi', 'Doomsday', 'The Reader', 'Wanderlust', 'Elf', 'Phenomenon', 'Snow Dogs', 'Scrooged', 'Nacho Libre', 'Bridesmaids', 'This Is the End', 'Stigmata', 'Men of Honor', 'Takers', 'The Big Wedding', 'Big Mommas: Like Father, Like Son', 'Source Code', 'Alive', 'The Number 23', 'The Young and Prodigious T.S. Spivet', '1941', 'Dreamer: Inspired By a True Story', 'A History of Violence', 'Transporter 2', 'The Quick and the Dead', 'Laws of Attraction', 'Bringing Out the Dead', 'Repo Men', 'Dragon Wars: D-War', 'Bogus', 'The Incredible Burt Wonderstone', \"Cats Don't Dance\", 'Cradle Will Rock', 'The Good German', 'George and the Dragon', 'Apocalypse Now', 'Going the Distance', \"Mr. Holland's Opus\", 'Criminal', 'Out of Africa', 'Flight', 'Moonraker', 'The Grand Budapest Hotel', 'Hearts in Atlantis', 'Arachnophobia', 'Frequency', 'Vacation', 'Get Shorty', 'Chicago', 'Big Daddy', 'American Pie 2', 'Toy Story', 'Speed', 'The Vow', 'Extraordinary Measures', 'Remember the Titans', 'The Hunt for Red October', 'The Butler', 'DodgeBall: A True Underdog Story', 'The Addams Family', 'Ace Ventura: When Nature Calls', 'The Princess Diaries', 'The First Wives Club', 'Se7en', 'District 9', 'The SpongeBob SquarePants Movie', 'Mystic River', 'Million Dollar Baby', 'Analyze This', 'The Notebook', '27 Dresses', 'Hannah Montana: The Movie', 'Rugrats in Paris: The Movie', 'The Prince of Tides', 'Legends of the Fall', 'Up in the Air', 'About Schmidt', 'Warm Bodies', 'Looper', 'Down to Earth', 'Babe', 'Hope Springs', 'Forgetting Sarah Marshall', 'Four Brothers', 'Baby Mama', 'Hope Floats', 'Bride Wars', 'Without a Paddle', '13 Going on 30', 'Midnight in Paris', 'The Nut Job', 'Blow', 'Message in a Bottle', 'Star Trek V: The Final Frontier', 'Like Mike', 'The Naked Gun 33⅓: The Final Insult', 'A View to a Kill', 'The Curse of the Were-Rabbit', 'P.S. I Love You', 'Racing Stripes', 'Atonement', 'Letters to Juliet', 'Black Rain', 'The Three Stooges', 'Corpse Bride', 'Glory Road', 'Sicario', 'Southpaw', 'Drag Me to Hell', 'The Age of Adaline', 'Secondhand Lions', 'Step Up 3D', 'Blue Crush', 'Stranger Than Fiction', '30 Days of Night', 'The Cabin in the Woods', 'Meet the Spartans', 'Midnight Run', 'The Running Man', 'Little Shop of Horrors', 'Hanna', 'Mortal Kombat: Annihilation', 'Larry Crowne', 'Carrie', 'Take the Lead', 'Gridiron Gang', \"What's the Worst That Could Happen?\", '9', 'Side Effects', 'The Prince & Me', 'Winnie the Pooh', 'Dumb and Dumberer: When Harry Met Lloyd', 'Bulworth', 'Get on Up', 'One True Thing', 'Virtuosity', 'My Super Ex-Girlfriend', 'Deliver Us from Evil', 'Sanctum', 'Little Black Book', 'The Five-Year Engagement', 'Mr. 3000', 'The Next Three Days', 'Ultraviolet', 'Assault on Precinct 13', 'The Replacement Killers', 'Fled', 'Eight Legged Freaks', 'Love & Other Drugs', '88 Minutes', 'North Country', 'The Whole Ten Yards', 'Splice', 'Howard the Duck', 'Pride and Glory', 'The Cave', 'Alex & Emma', 'Wicker Park', 'Fright Night', 'The New World', 'Wing Commander', 'In Dreams', 'Dragonball Evolution', 'The Last Stand', 'Godsend', 'Chasing Liberty', 'Hoodwinked Too! Hood VS. Evil', 'An Unfinished Life', 'The Imaginarium of Doctor Parnassus', \"Barney's Version\", 'Runner Runner', 'Antitrust', 'Glory', 'Once Upon a Time in America', 'Dead Man Down', 'The Merchant of Venice', 'The Good Thief', 'Supercross', 'Miss Potter', 'The Promise', 'DOA: Dead or Alive', 'The Assassination of Jesse James by the Coward Robert Ford', '1911', 'Little Nicholas', 'Wild Card', 'Machine Gun Preacher', 'Animals United', 'Goodbye Bafana', 'United Passions', 'Grace of Monaco', 'Savva. Heart of the Warrior', \"Ripley's Game\", 'Sausage Party', 'Pitch Perfect 2', 'Walk the Line', 'Keeping the Faith', 'The Borrowers', 'Frost/Nixon', 'Confessions of a Dangerous Mind', 'Serving Sara', 'The Boss', 'Cry Freedom', 'Mumford', 'Seed of Chucky', 'The Jacket', 'Aladdin', 'Straight Outta Compton', 'Indiana Jones and the Temple of Doom', 'The Rugrats Movie', 'Along Came a Spider', 'Florence Foster Jenkins', 'Once Upon a Time in Mexico', 'Die Hard', 'Role Models', 'The Big Short', 'Taking Woodstock', 'Miracle', 'Dawn of the Dead', 'The Wedding Planner', 'Space Pirate Captain Harlock', 'The Royal Tenenbaums', 'Identity', 'Last Vegas', 'For Your Eyes Only', 'Serendipity', 'Timecop', 'Zoolander', 'Safe Haven', 'Hocus Pocus', 'No Reservations', 'Kick-Ass', '30 Minutes or Less', 'Dracula 2000', 'Alexander and the Terrible, Horrible, No Good, Very Bad Day', 'Pride & Prejudice', 'Blade Runner', 'Rob Roy', '3 Days to Kill', 'We Own the Night', 'Lost Souls', 'Winged Migration', 'Just My Luck', 'Mystery, Alaska', 'The Spy Next Door', 'A Simple Wish', 'Ghosts of Mars', 'Our Brand Is Crisis', 'Pride and Prejudice and Zombies', 'Kundun', 'How to Lose Friends & Alienate People', 'Kick-Ass 2', 'Alatriste', 'Brick Mansions', 'Octopussy', 'Knocked Up', \"My Sister's Keeper\", 'Welcome Home Roscoe Jenkins', 'A Passage to India', 'Notes on a Scandal', 'Rendition', 'Star Trek VI: The Undiscovered Country', 'Divine Secrets of the Ya-Ya Sisterhood', 'Kiss the Girls', 'The Blues Brothers', 'The Sisterhood of the Traveling Pants 2', 'Joyful Noise', 'About a Boy', 'Lake Placid', 'Lucky Number Slevin', 'The Right Stuff', 'Anonymous', 'The NeverEnding Story', 'Dark City', 'The Duchess', 'Return to Oz', 'The Newton Boys', 'Case 39', 'Suspect Zero', 'Martian Child', 'Spy Kids: All the Time in the World', 'Money Monster', 'The 51st State', 'Flawless', 'Mindhunters', 'What Just Happened', 'The Statement', 'The Magic Flute', 'Paul Blart: Mall Cop', 'Freaky Friday', 'The 40 Year Old Virgin', 'Shakespeare in Love', 'A Walk Among the Tombstones', 'Kindergarten Cop', 'Pineapple Express', 'Ever After: A Cinderella Story', 'Open Range', 'Flatliners', 'A Bridge Too Far', 'Red Eye', 'Final Destination 2', 'O Brother, Where Art Thou?', 'Legion', 'Pain & Gain', 'In Good Company', 'Clockstoppers', 'Silverado', 'Brothers', 'Agent Cody Banks 2: Destination London', \"New Year's Eve\", 'Original Sin', 'The Raven', 'Welcome to Mooseport', 'Highlander: The Final Dimension', 'Blood and Wine', 'Snow White: A Tale of Terror', 'The Curse of the Jade Scorpion', 'Accidental Love', 'Flipper', 'Self/less', 'The Constant Gardener', 'The Passion of the Christ', 'Mrs. Doubtfire', 'Rain Man', 'Gran Torino', 'W.', 'Taken', 'The Best of Me', 'The Bodyguard', \"Schindler's List\", 'The Help', 'The Fifth Estate', 'Scooby-Doo 2: Monsters Unleashed', 'Forbidden Kingdom', 'Freddy vs. Jason', 'The Face of an Angel', 'Jimmy Neutron: Boy Genius', 'Cloverfield', 'Teenage Mutant Ninja Turtles II: The Secret of the Ooze', 'The Untouchables', 'No Country for Old Men', 'Ride Along', \"Bridget Jones's Diary\", 'Chocolat', 'Legally Blonde 2: Red, White & Blonde', 'Parental Guidance', 'No Strings Attached', 'Tombstone', 'Romeo Must Die', 'The Omen', 'Final Destination 3', 'The Lucky One', 'Bridge to Terabithia', 'Finding Neverland', 'A Madea Christmas', 'The Grey', 'Hide and Seek', 'Anchorman: The Legend of Ron Burgundy', 'GoodFellas', 'Agent Cody Banks', 'Nanny McPhee', 'Scarface', 'Nothing to Lose', 'The Last Emperor', 'Contraband', 'Money Talks', 'There Will Be Blood', 'The Wild Thornberrys Movie', 'Rugrats Go Wild', 'Undercover Brother', 'The Sisterhood of the Traveling Pants', 'Kiss of the Dragon', 'The House Bunny', 'Beauty Shop', 'Million Dollar Arm', 'The Giver', 'What a Girl Wants', 'Jeepers Creepers 2', 'Good Luck Chuck', 'Cradle 2 the Grave', 'The Hours', \"She's the Man\", \"Mr. Bean's Holiday\", 'Anacondas: The Hunt for the Blood Orchid', 'Blood Ties', 'August Rush', 'Elizabeth', 'Bride of Chucky', 'Tora! Tora! Tora!', 'Spice World', 'The Sitter', 'Dance Flick', 'The Shawshank Redemption', 'Crocodile Dundee in Los Angeles', 'Kingpin', 'The Gambler', 'August: Osage County', 'Ice Princess', 'A Lot Like Love', 'Eddie the Eagle', 'He Got Game', 'Don Juan DeMarco', 'Dear John', 'The Losers', \"Don't Be Afraid of the Dark\", 'War', 'Punch-Drunk Love', 'EuroTrip', 'Half Past Dead', 'Unaccompanied Minors', 'Bright Lights, Big City', 'The Adventures of Pinocchio', 'The Greatest Game Ever Played', 'The Box', 'The Ruins', 'The Next Best Thing', 'My Soul to Take', 'The Girl Next Door', 'Maximum Risk', 'Stealing Harvard', 'Legend', 'Hot Rod', 'Shark Night', \"Angela's Ashes\", 'Draft Day', 'Lifeforce', 'The Conspirator', 'Lords of Dogtown', 'The 33', 'Big Trouble in Little China', 'Fly Me to the Moon', 'Warrior', 'Michael Collins', 'Gettysburg', 'Stop-Loss', 'Abandon', 'Brokedown Palace', 'The Possession', 'Mrs. Winterbourne', 'Straw Dogs', 'The Hoax', 'Stone Cold', 'The Road', 'Sheena', 'Underclassman', \"Say It Isn't So\", \"The World's Fastest Indian\", 'Tank Girl', \"King's Ransom\", 'Blindness', 'BloodRayne', 'Carnage', 'Where the Truth Lies', 'Cirque du Soleil: Worlds Away', 'Without Limits', 'Me and Orson Welles', 'The Best Offer', 'The Bad Lieutenant: Port of Call - New Orleans', \"A Turtle's Tale: Sammy's Adventures\", 'Little White Lies', 'Love Ranch', \"The True Story of Puss 'n Boots\", 'Space Dogs', 'The Counselor', 'Ironclad', 'Waterloo', 'Kung Fu Jungle', 'Red Sky', 'Dangerous Liaisons', 'On the Road', 'Star Trek IV: The Voyage Home', 'Rocky Balboa', 'Scream 2', 'Jane Got a Gun', 'Think Like a Man Too', 'The Whole Nine Yards', 'Footloose', 'Old School', 'The Fisher King', 'I Still Know What You Did Last Summer', 'Return to Me', 'Zack and Miri Make a Porno', 'Nurse Betty', 'The Men Who Stare at Goats', 'Double Take', 'Girl, Interrupted', 'Win a Date with Tad Hamilton!', 'Muppets from Space', 'The Wiz', 'Ready to Rumble', 'Play It to the Bone', \"I Don't Know How She Does It\", 'Piranha 3D', 'Beyond the Sea', 'Meet the Deedles', 'The Thief and the Cobbler', 'The Bridge of San Luis Rey', 'Faster', \"Howl's Moving Castle\", 'Zombieland', 'The Waterboy', 'The Empire Strikes Back', 'Bad Boys', 'The Naked Gun 2½: The Smell of Fear', 'Final Destination', 'The Ides of March', 'Pitch Black', 'Someone Like You...', 'Her', 'Joy Ride', 'The Adventurer: The Curse of the Midas Box', 'Anywhere But Here', 'The Crew', 'Haywire', 'Jaws: The Revenge', \"Marvin's Room\", 'The Longshots', 'The End of the Affair', 'Harley Davidson and the Marlboro Man', 'In the Valley of Elah', 'Coco Before Chanel', 'Forsaken', 'Cheri', 'Vanity Fair', 'Bodyguards and Assassins', '1408', 'Spaceballs', 'The Water Diviner', 'Ghost', \"There's Something About Mary\", 'The Santa Clause', 'The Rookie', 'The Game Plan', 'The Bridges of Madison County', 'The Animal', 'Gandhi', 'The Hundred-Foot Journey', 'The Net', 'I Am Sam', 'Son of God', 'Underworld', 'Derailed', 'The Informant!', 'Shadowlands', 'Deuce Bigalow: European Gigolo', 'Delivery Man', 'Our Kind of Traitor', 'Saving Silverman', 'Diary of a Wimpy Kid: Dog Days', 'Summer of Sam', 'Jay and Silent Bob Strike Back', 'The Glass House', 'Hail, Caesar!', 'Josie and the Pussycats', 'Homefront', 'The Little Vampire', 'I Heart Huckabees', 'RoboCop 3', 'Megiddo: The Omega Code 2', 'Darling Lili', 'Dudley Do-Right', 'The Transporter Refueled', 'The Libertine', 'Black Book', 'Joyeux Noël', 'Hit & Run', 'Mad Money', 'Before I Go to Sleep', 'Sorcerer', 'Stone', 'Moliere', 'Out of the Furnace', 'Michael Clayton', 'My Fellow Americans', 'Arlington Road', 'Underdogs', 'To Rome with Love', 'Firefox', 'South Park: Bigger, Longer & Uncut', 'Death at a Funeral', 'Teenage Mutant Ninja Turtles III', 'Hardball', 'Silver Linings Playbook', 'Freedom Writers', 'For Colored Girls', 'The Transporter', 'Never Back Down', 'The Rage: Carrie 2', 'Away We Go', 'Swing Vote', 'Moonlight Mile', 'Tinker Tailor Soldier Spy', 'Molly', 'The Beaver', 'The Best Little Whorehouse in Texas', 'eXistenZ', 'Raiders of the Lost Ark', 'Home Alone 2: Lost in New York', 'Close Encounters of the Third Kind', 'Pulse', 'Beverly Hills Cop II', 'Bringing Down the House', 'The Silence of the Lambs', \"Wayne's World\", 'Jackass 3D', 'Jaws 2', 'Beverly Hills Chihuahua', 'The Conjuring', 'Are We There Yet?', 'Tammy', 'School of Rock', 'Mortal Kombat', 'White Chicks', 'The Descendants', 'Holes', 'The Last Song', '12 Years a Slave', 'Drumline', 'Why Did I Get Married Too?', 'Edward Scissorhands', 'Me Before You', \"Madea's Witness Protection\", 'The French Connection', 'Bad Moms', 'Date Movie', 'Return to Never Land', 'Selma', 'The Jungle Book 2', 'Boogeyman', 'Premonition', 'The Tigger Movie', 'Orphan', 'Max', 'Epic Movie', 'Spotlight', 'Lakeview Terrace', 'The Grudge 2', 'How Stella Got Her Groove Back', \"Bill & Ted's Bogus Journey\", 'Man of the Year', 'The Black Hole', 'The American', 'Selena', 'Vampires Suck', 'Babel', 'This Is Where I Leave You', 'Doubt', 'Team America: World Police', 'Texas Chainsaw 3D', 'Copycat', 'Scary Movie 5', 'Paint Your Wagon', 'Milk', 'Risen', 'Ghost Ship', 'A Very Harold & Kumar Christmas', 'Wild Things', 'The Stepfather', 'The Debt', 'High Fidelity', 'One Missed Call', 'Eye for an Eye', 'The Bank Job', 'Eternal Sunshine of the Spotless Mind', 'You Again', 'Street Kings', \"The World's End\", 'Nancy Drew', 'Daybreakers', \"She's Out of My League\", 'Monte Carlo', 'Stay Alive', 'Quigley Down Under', 'Alpha and Omega', 'The Covenant', 'Stick It', 'Shorts', 'To Die For', 'Nerve', 'Appaloosa', 'Vampires', 'Psycho', \"My Best Friend's Girl\", 'Endless Love', 'Georgia Rule', 'Under the Rainbow', 'Ladyhawke', 'Simon Birch', 'Reign Over Me', 'Into the Wild', 'School for Scoundrels', 'Silent Hill: Revelation 3D', 'From Dusk Till Dawn', \"Pooh's Heffalump Movie\", 'Home for the Holidays', 'Kung Fu Hustle', 'The Country Bears', 'The Kite Runner', '21 Grams', 'Paparazzi', 'A Guy Thing', 'Loser', 'Capitalism: A Love Story', 'The Greatest Story Ever Told', 'Secret in Their Eyes', 'Disaster Movie', 'Armored', 'The Man Who Knew Too Little', \"What's Your Number?\", 'Lockout', 'Envy', 'Crank: High Voltage', 'Bullets Over Broadway', 'One Night with the King', 'The Quiet American', 'The Weather Man', 'Undisputed', 'Ghost Town', '12 Rounds', 'Let Me In', '3 Ninjas Kick Back', 'Be Kind Rewind', 'Mrs Henderson Presents', 'Triple 9', 'Deconstructing Harry', 'Three to Tango', 'Burnt', \"We're No Angels\", 'Everyone Says I Love You', 'Death Sentence', \"Everybody's Fine\", 'Superbabies: Baby Geniuses 2', 'The Man', 'Code Name: The Cleaner', 'Connie and Carla', 'Sweet Charity', 'Inherent Vice', 'Doogal', 'Battle of the Year', 'An American Carol', 'Machete Kills', 'Willard', 'Strange Wilderness', 'Topsy-Turvy', 'Little Boy', 'A Dangerous Method', 'A Scanner Darkly', 'Chasing Mavericks', 'Alone in the Dark', 'Bandslam', 'Birth', 'A Most Violent Year', 'Passchendaele', 'Flash of Genius', \"I'm Not There.\", 'The Cold Light of Day', 'The Brothers Bloom', 'Synecdoche, New York', 'Princess Mononoke', 'Bon voyage', \"Can't Stop the Music\", 'The Proposition', 'My All American', 'Marci X', 'Equilibrium', 'The Children of Huang Shi', 'The Yards', 'The Oogieloves in the Big Balloon Adventure', 'By the Sea', 'Steamboy', 'The Game of Their Lives', 'All Good Things', 'Rapa Nui', 'CJ7', 'The Visitors II: The Corridors of Time', 'Dylan Dog: Dead of Night', 'People I Know', 'The Tempest', 'Regression', 'Three Kingdoms: Resurrection of the Dragon', 'Butterfly on a Wheel', 'Zambezia', 'Ramanujan', 'Dwegons', 'Hands of Stone', 'Survivor', 'The Frozen Ground', 'The Painted Veil', 'The Baader Meinhof Complex', 'Dances with Wolves', 'Bad Teacher', 'Sea of Love', 'A Cinderella Story', 'Scream', 'Thir13en Ghosts', 'The Shining', 'Back to the Future', 'House on Haunted Hill', 'I Can Do Bad All By Myself', 'Fight Valley', 'The Switch', 'Just Married', \"The Devil's Double\", 'Thomas and the Magic Railroad', 'The Crazies', 'Spirited Away', 'Firestorm', 'The Bounty', 'The Book Thief', 'Sex Drive', 'Leap Year', 'The Fall of the Roman Empire', 'Take Me Home Tonight', \"Won't Back Down\", 'The Nutcracker', 'Kansas City', 'Indignation', 'The Amityville Horror', 'Adaptation.', 'Land of the Dead', 'Out of Inferno', 'Fear and Loathing in Las Vegas', 'The Invention of Lying', 'Neighbors', 'The Mask', 'Big', 'Borat: Cultural Learnings of America for Make Benefit Glorious Nation of Kazakhstan', 'Legally Blonde', 'Star Trek III: The Search for Spock', 'The Exorcism of Emily Rose', 'Deuce Bigalow: Male Gigolo', 'Left Behind', 'The Family Stone', 'Barbershop 2:  Back in Business', 'Bad Santa', 'Austin Powers: International Man of Mystery', 'My Big Fat Greek Wedding 2', 'Diary of a Wimpy Kid: Rodrick Rules', 'Predator', 'Amadeus', 'Prom Night', 'Mean Girls', 'Under the Tuscan Sun', 'Gosford Park', 'Peggy Sue Got Married', 'Birdman', 'Blue Jasmine', 'United 93', 'Honey', 'Spy Hard', 'The Fog', 'Soul Surfer', 'Catch-22', 'Observe and Report', 'Conan the Destroyer', 'Raging Bull', 'Love Happens', 'Young Sherlock Holmes', 'Fame', '127 Hours', 'Small Time Crooks', 'Center Stage', 'Love the Coopers', 'Catch That Kid', 'Life as a House', 'Steve Jobs', 'I Love You, Beth Cooper', 'Youth in Revolt', 'The Legend of the Lone Ranger', 'The Tailor of Panama', 'Blow Out', 'Getaway', 'The Ice Storm', 'And So It Goes', 'Troop Beverly Hills', 'Being Julia', 'Nine 1/2 Weeks', 'Dragonslayer', 'The Last Station', 'Ed Wood', 'Labor Day', 'Mongol: The Rise of Genghis Khan', 'RockNRolla', 'Megaforce', 'Hamlet', \"Mao's Last Dancer\", 'Midnight Special', 'Anything Else', 'The Railway Man', 'The White Ribbon', 'Restoration', 'The Wraith', 'Salton Sea', 'Metallica: Through the Never', 'The Informers', 'Carlos', 'I Come with the Rain', \"One Man's Hero\", 'Day of the Dead', 'I Am Wrath', 'Renaissance', 'Red Sonja', 'Red Lights', 'Superbad', 'Madea Goes to Jail', 'Wolves', 'Step Up 2: The Streets', 'Hoodwinked!', 'Hotel Rwanda', 'Hitman', 'Black Nativity', 'The Prince', 'City of Ghosts', 'The Others', 'Aliens', 'My Fair Lady', 'I Know What You Did Last Summer', \"Let's Be Cops\", 'Sideways', 'Beerfest', 'Halloween', 'Good Boy!', 'The Best Man Holiday', \"Smokin' Aces\", 'Saw: The Final Chapter', '40 Days and 40 Nights', 'A Night at the Roxbury', 'Beastly', 'The Hills Have Eyes', 'Dickie Roberts: Former Child Star', 'McFarland, USA', 'Lottery Ticket', 'ATL', 'Pitch Perfect', 'Summer Catch', 'A Simple Plan', 'They', 'Larry the Cable Guy: Health Inspector', 'The Adventures of Elmo in Grouchland', \"Brooklyn's Finest\", '55 Days at Peking', 'Evil Dead', 'My Life in Ruins', 'American Dreamz', 'Superman IV: The Quest for Peace', 'How She Move', 'Running Scared', 'Bobby Jones: Stroke of Genius', 'Shanghai Surprise', 'The Illusionist', 'Roar', 'Veronica Guerin', 'Escobar: Paradise Lost', 'Southland Tales', 'Dragon Hunters', 'Damnation Alley', 'The Apparition', 'My Girl', 'Fur: An Imaginary Portrait of Diane Arbus', 'Wall Street', 'Sense and Sensibility', 'Becoming Jane', 'Sydney White', 'House of Sand and Fog', 'Dead Poets Society', 'Dumb and Dumber', 'When Harry Met Sally...', 'The Verdict', 'Road Trip', 'Varsity Blues', 'The Artist', 'The Unborn', 'Moonrise Kingdom', 'The Texas Chainsaw Massacre: The Beginning', 'The Young Messiah', 'The Master of Disguise', \"Pan's Labyrinth\", 'See Spot Run', 'Baby Boy', 'The Roommate', 'Joe Dirt', 'Double Impact', 'Hot Fuzz', 'The Women', 'Vicky Cristina Barcelona', 'Arn: The Knight Templar', 'Boys and Girls', 'White Oleander', \"Jennifer's Body\", 'Drowning Mona', 'Radio Days', 'Remember Me', 'How to Deal', 'My Stepmother is an Alien', 'Philadelphia', 'The Thirteenth Floor', 'The Cookout', 'Meteor', 'Duets', 'Hollywood Ending', 'Detroit Rock City', 'Highlander', 'Things We Lost in the Fire', 'Steel', 'The Immigrant', 'The White Countess', 'Trance', 'Soul Plane', 'Welcome to the Sticks', 'Good', 'Enter the Void', 'Vamps', \"Hachi: A Dog's Tale\", 'Zulu', 'The Homesman', 'Juwanna Mann', 'Ararat', 'Madison', 'Slow Burn', 'Wasabi', 'Slither', 'Beverly Hills Cop', 'Home Alone', 'Three Men and a Baby', 'Tootsie', 'Top Gun', 'Crouching Tiger, Hidden Dragon', 'American Beauty', \"The King's Speech\", 'Twins', 'The Yellow Handkerchief', 'The Color Purple', 'Tidal Wave', 'The Imitation Game', 'Private Benjamin', \"Coal Miner's Daughter\", 'Diary of a Wimpy Kid', 'Mama', \"National Lampoon's Vacation\", 'Bad Grandpa', 'The Queen', 'Beetlejuice', 'Why Did I Get Married?', 'Little Women', 'The Woman in Black', 'When a Stranger Calls', 'Big Fat Liar', 'The Deer Hunter', 'Wag the Dog', 'The Lizzie McGuire Movie', 'Snitch', 'Krampus', 'The Faculty', \"What's Love Got to Do with It\", 'Cop Land', 'Not Another Teen Movie', 'End of Watch', 'The Skulls', 'The Theory of Everything', \"Malibu's Most Wanted\", 'Where the Heart Is', 'Lawrence of Arabia', 'Halloween II', 'Wild', 'The Last House on the Left', 'The Wedding Date', 'Halloween: Resurrection', 'The Princess Bride', 'The Great Debaters', 'Drive', 'Confessions of a Teenage Drama Queen', 'The Object of My Affection', '28 Weeks Later', 'When the Game Stands Tall', 'Because of Winn-Dixie', 'Love & Basketball', 'Grosse Pointe Blank', 'All About Steve', 'Book of Shadows: Blair Witch 2', 'The Craft', 'Match Point', 'Ramona and Beezus', 'The Remains of the Day', 'Boogie Nights', 'Nowhere to Run', 'Flicka', 'The Hills Have Eyes 2', 'Urban Legends: Final Cut', 'Tuck Everlasting', 'The Marine', 'Keanu', 'Country Strong', 'Disturbing Behavior', 'The Place Beyond the Pines', 'The November Man', 'Eye of the Beholder', 'The Hurt Locker', 'Firestarter', 'Killing Them Softly', 'A Most Wanted Man', 'Freddy Got Fingered', \"VeggieTales: The Pirates Who Don't Do Anything\", 'U2 3D', 'Highlander: Endgame', 'Idlewild', 'One Day', 'Whip It', 'Knockaround Guys', 'Confidence', 'The Muse', 'De-Lovely', 'New York Stories', \"Barney's Great Adventure\", 'The Man with the Iron Fists', 'Home Fries', 'Here On Earth', 'Brazil', 'Raise Your Voice', 'The Big Lebowski', 'Black Snake Moan', 'Dark Blue', 'A Mighty Heart', 'Whatever It Takes', 'Boat Trip', 'The Importance of Being Earnest', 'The Love Letter', 'Hoot', 'In Bruges', 'Peeples', 'The Rocker', 'Post Grad', 'Promised Land', 'Whatever Works', 'The In Crowd', 'The Three Burials of Melquiades Estrada', 'Jakob the Liar', 'Kiss Kiss Bang Bang', 'Idle Hands', 'Mulholland Drive', 'Blood and Chocolate', 'You Will Meet a Tall Dark Stranger', 'Never Let Me Go', 'The Company', 'Transsiberian', 'The Clan of the Cave Bear', 'Crazy in Alabama', 'Funny Games', 'Listening', \"Felicia's Journey\", 'Metropolis', 'District B13', \"Things to Do in Denver When You're Dead\", 'The Assassin', 'Buffalo Soldiers', 'The Return', 'Ong Bak 2', 'Centurion', 'Silent Trigger', 'The Midnight Meat Train', 'Winnie Mandela', 'The Son of No One', \"All The Queen's Men\", 'The Good Night', 'Bathory: Countess of Blood', 'Khumba', 'Automata', 'Dungeons & Dragons: Wrath of the Dragon God', 'Chiamatemi Francesco - Il Papa della gente', 'Shinjuku Incident', 'Pandaemonium', 'Groundhog Day', 'Magic Mike XXL', 'Romeo + Juliet', \"Sarah's Key\", 'Freedom', 'Unforgiven', 'Manderlay', 'Slumdog Millionaire', 'Fatal Attraction', 'Pretty Woman', 'Crocodile Dundee II', 'Broken Horses', 'Born on the Fourth of July', 'Cool Runnings', 'My Bloody Valentine', 'Stomp the Yard', 'The Spy Who Loved Me', 'Urban Legend', 'Good Deeds', 'White Fang', 'Superstar', 'The Iron Lady', 'Jonah: A VeggieTales Movie', 'Poetic Justice', 'All About the Benjamins', 'Vampire in Brooklyn', 'Exorcist II: The Heretic', 'An American Haunting', \"My Boss's Daughter\", 'A Perfect Getaway', 'Our Family Wedding', 'Dead Man on Campus', 'Tea with Mussolini', 'Thinner', 'New York, New York', 'Crooklyn', 'I Think I Love My Wife', 'Jason X', 'Bobby', 'Head Over Heels', 'Fun Size', 'The Diving Bell and the Butterfly', 'Little Children', 'Gossip', 'A Walk on the Moon', 'Catch a Fire', 'Soul Survivors', 'Jefferson in Paris', 'Easy Virtue', 'Caravans', 'Mr. Turner', 'Wild Grass', 'Amen.', 'Reign of Assassins', 'The Lucky Ones', 'Margaret', 'Stan Helsing', 'Flipped', 'Brokeback Mountain', 'Clueless', 'Far from Heaven', 'Hot Tub Time Machine 2', 'Quills', 'Seven Psychopaths', \"The Caveman's Valentine\", 'Downfall', 'The Sea Inside', 'Under the Skin', 'Good Morning, Vietnam', 'The Last Godfather', 'Justin Bieber: Never Say Never', 'Black Swan', 'The Godfather: Part II', 'Save the Last Dance', 'A Nightmare on Elm Street 4: The Dream Master', 'Miracles from Heaven', 'Dude, Where’s My Car?', 'Young Guns', 'St. Vincent', 'About Last Night', '10 Things I Hate About You', 'The New Guy', \"National Lampoon's Loaded Weapon 1\", 'The Shallows', 'The Butterfly Effect', 'Snow Day', 'This Christmas', 'Baby Geniuses', 'The Big Hit', 'Harriet the Spy', \"Child's Play 2\", 'No Good Deed', 'The Mist', 'Ex Machina', 'Being John Malkovich', 'Two Can Play That Game', 'Earth to Echo', 'Crazy/Beautiful', 'Letters from Iwo Jima', 'The Astronaut Farmer', 'Woo', 'Room', 'Dirty Work', 'Serial Mom', 'Dick', 'Light It Up', '54', 'Bubble Boy', 'Birthday Girl', '21 & Over', \"Paris, je t'aime\", 'Resurrecting the Champ', 'Admission', 'The Widow of Saint-Pierre', 'Chloe', 'Faithful', 'Find Me Guilty', 'The Perks of Being a Wallflower', 'Excessive Force', 'Infamous', 'The Claim', 'The Vatican Tapes', 'Attack the Block', 'In the Land of Blood and Honey', 'The Call', 'Operation Chromite', 'The Crocodile Hunter: Collision Course', 'I Love You Phillip Morris', 'Quest for Fire', 'Antwone Fisher', \"The Emperor's Club\", 'True Romance', 'Womb', 'Glengarry Glen Ross', 'The Killer Inside Me', 'Cat People', 'Sorority Row', 'The Prisoner of Zenda', 'Lars and the Real Girl', 'The Boy in the Striped Pyjamas', 'Dancer in the Dark', 'Oscar and Lucinda', 'The Funeral', 'Solitary Man', 'Machete', 'Casino Jack', 'The Land Before Time', 'Tae Guk Gi: The Brotherhood of War', 'The Perfect Game', 'The Exorcist', 'Jaws', 'American Pie', 'Ernest & Celestine', 'The Golden Child', 'Think Like a Man', 'Barbershop', 'Star Trek II: The Wrath of Khan', 'Ace Ventura: Pet Detective', 'WarGames', 'Witness', 'Act of Valor', 'Step Up', 'Beavis and Butt-Head Do America', 'Jackie Brown', 'Harold & Kumar Escape from Guantanamo Bay', 'Chronicle', 'Yentl', 'Time Bandits', 'Crossroads', 'Project X', 'Patton', 'One Hour Photo', 'Quarantine', 'The Eye', 'Johnson Family Vacation', 'How High', 'The Muppet Christmas Carol', 'Frida', 'Katy Perry: Part of Me', 'The Fault in Our Stars', 'Rounders', 'Top Five', 'Prophecy', 'Stir of Echoes', 'Philomena', 'The Upside of Anger', 'The Boys from Brazil', 'Aquamarine', 'Paper Towns', \"My Baby's Daddy\", 'Nebraska', 'Tales from the Crypt: Demon Knight', \"Max Keeble's Big Move\", 'Young Adult', 'Crank', \"Def Jam's How to Be a Player\", 'Living Out Loud', 'Just Wright', 'Rachel Getting Married', 'The Postman Always Rings Twice', 'Girl with a Pearl Earring', 'Das Boot', 'Sorority Boys', 'About Time', 'House of Flying Daggers', 'Arbitrage', 'Project Almanac', 'Cadillac Records', 'Screwed', 'Fortress', 'For Your Consideration', 'Celebrity', 'Running with Scissors', 'From Justin to Kelly', 'Girl 6', 'In the Cut', 'Two Lovers', 'Last Orders', 'The Pursuit of D.B. Cooper', 'Ravenous', 'Charlie Bartlett', 'The Great Beauty', 'The Dangerous Lives of Altar Boys', 'Stoker', '2046', 'Married Life', 'Duma', 'Ondine', 'Brother', 'Welcome to Collinwood', 'Critical Care', 'The Life Before Her Eyes', 'Darling Companion', 'Trade', 'Fateless', 'Breakfast of Champions', 'A Woman, a Gun and a Noodle Shop', 'Cypher', 'City of Life and Death', 'Legend of a Rabbit', 'Space Battleship Yamato', '5 Days of War', 'Triangle', '10 Days in a Madhouse', 'Heaven is for Real', 'Snatch', \"Dancin' It's On\", 'Pet Sematary', 'Madadayo', 'The Cry of the Owl', 'A Tale of Three Cities', 'Gremlins', 'Star Wars', 'Dirty Grandpa', 'Doctor Zhivago', 'Trash', 'High School Musical 3: Senior Year', 'The Fighter', 'Jackass Number Two', 'My Cousin Vinny', 'If I Stay', 'Drive Hard', 'Major League', \"St. Trinian's\", 'Phone Booth', 'A Walk to Remember', 'Dead Man Walking', 'Cruel Intentions', 'Saw VI', 'History of the World: Part I', 'The Secret Life of Bees', 'Corky Romano', 'Raising Cain', 'F.I.S.T.', 'Invaders from Mars', 'Brooklyn', 'Barry Lyndon', 'Out Cold', 'The Ladies Man', 'Quartet', 'Tomcats', 'Frailty', 'Woman in Gold', 'Kinsey', 'Army of Darkness', 'Slackers', \"What's Eating Gilbert Grape\", 'The Visual Bible: The Gospel of John', 'Vera Drake', 'The Guru', 'The Perez Family', 'Inside Llewyn Davis', 'O', 'Return to the Blue Lagoon', 'The Molly Maguires', 'Romance & Cigarettes', 'Copying Beethoven', 'Brighton Rock', 'Saw V', 'Machine Gun McCain', 'LOL', 'Jindabyne', 'Kabhi Alvida Naa Kehna', 'An Ideal Husband', 'The Last Days on Mars', 'Darkness', '2001: A Space Odyssey', 'E.T. the Extra-Terrestrial', 'In the Land of Women', 'The Blue Butterfly', 'There Goes My Baby', 'Housefull', 'September Dawn', 'For Greater Glory - The True Story of Cristiada', 'The Bélier Family', 'Good Will Hunting', 'Misconduct', 'Saw III', 'Stripes', 'Bring It On', 'The Purge: Election Year', \"She's All That\", 'Saw IV', 'White Noise', \"Madea's Family Reunion\", 'The Color of Money', 'The Longest Day', 'The Mighty Ducks', 'The Grudge', 'Happy Gilmore', 'Jeepers Creepers', \"Bill & Ted's Excellent Adventure\", 'Oliver!', 'The Best Exotic Marigold Hotel', \"Recess: School's Out\", 'Mad Max Beyond Thunderdome', 'Commando', 'The Boy', 'Devil', 'Friday After Next', 'Insidious: Chapter 3', 'The Last Dragon', 'The Lawnmower Man', \"Nick and Norah's Infinite Playlist\", 'Dogma', 'The Banger Sisters', 'Twilight Zone: The Movie', 'Road House', 'A Low Down Dirty Shame', 'Swimfan', 'Employee of the Month', \"Can't Hardly Wait\", 'The Outsiders', \"Pete's Dragon\", 'The Dead Zone', 'Sinister 2', 'Sparkle', 'Valentine', 'The Fourth Kind', 'A Prairie Home Companion', 'Sugar Hill', 'Invasion U.S.A.', 'Roll Bounce', 'Rushmore', 'Skyline', 'The Second Best Exotic Marigold Hotel', 'Kit Kittredge: An American Girl', 'The Perfect Man', \"Mo' Better Blues\", 'Kung Pow: Enter the Fist', 'Tremors', 'Wrong Turn', 'The Long Riders', 'The Corruptor', 'Mud', 'Reno 911!: Miami', 'One Direction: This Is Us', 'The Goods: Live Hard, Sell Hard', 'Hey Arnold! The Movie', 'My Week with Marilyn', 'The Matador', 'Love Jones', 'The Gift', 'End of the Spear', 'Get Over It', 'Office Space', 'Drop Dead Gorgeous', 'Big Eyes', 'Very Bad Things', 'Sleepover', 'Body Double', 'MacGruber', 'Dirty Pretty Things', 'Movie 43', 'Over Her Dead Body', 'Seeking a Friend for the End of the World', 'Cedar Rapids', 'American History X', 'The Collection', \"Teacher's Pet\", 'The Red Violin', 'The Straight Story', 'Deuces Wild', 'Bad Words', 'Run, Fatboy, Run', 'Heartbeeps', 'Black or White', 'On the Line', 'Rescue Dawn', 'Danny Collins', 'Jeff, Who Lives at Home', 'I Am Love', 'Atlas Shrugged Part II', 'Romeo Is Bleeding', 'The Limey', 'Crash', 'The House of Mirth', 'Malone', 'Peaceful Warrior', 'Bucky Larson: Born to Be a Star', 'Bamboozled', 'The Forest', 'Sphinx', \"While We're Young\", 'A Better Life', 'Spider', 'Gun Shy', 'Nicholas Nickleby', 'The Iceman', 'Krrish', 'Cecil B. Demented', 'Killer Joe', 'The Joneses', 'Owning Mahowny', 'The Brothers Solomon', 'My Blueberry Nights', 'Illuminata', 'Swept Away', 'War, Inc.', 'Shaolin Soccer', 'The Brown Bunny', 'The Swindle', 'Rosewater', 'The Chambermaid on the Titanic', 'Coriolanus', 'Imaginary Heroes', 'High Heels and Low Lifes', \"World's Greatest Dad\", 'Severance', 'Edmond', 'Welcome to the Rileys', 'Police Academy: Mission to Moscow', 'Blood Done Sign My Name', 'Cinco de Mayo: La Batalla', 'Elsa & Fred', 'An Alan Smithee Film: Burn, Hollywood, Burn', 'The Open Road', 'The Good Guy', 'Motherhood', 'Free Style', 'Strangerland', 'Janky Promoters', 'Blonde Ambition', 'The Oxford Murders', 'The Reef', 'Eulogy', 'White Noise 2: The Light', 'Beat the World', 'Fifty Dead Men Walking', 'Jungle Shuffle', 'Adam Resurrected', 'Of Horses and Men', \"It's a Wonderful Afterlife\", \"The Devil's Tomb\", 'Partition', 'Good Intentions', 'The Good, The Bad, The Weird', 'Nurse 3-D', 'Gunless', 'Adventureland', 'The Lost City', 'Next Friday', 'American Heist', 'You Only Live Twice', 'Plastic', 'Amour', 'Poltergeist III', 'Re-Kill', \"It's a Mad, Mad, Mad, Mad World\", 'Volver', 'Heavy Metal', 'Gentlemen Broncos', 'Richard III', 'Into the Grizzly Maze', 'Kites', 'Melancholia', 'Red Dog', 'Jab Tak Hai Jaan', 'Alien', 'The Texas Chain Saw Massacre', 'The Runaways', 'Fiddler on the Roof', 'Thunderball', 'Detention', 'Loose Cannons', 'Set It Off', 'The Best Man', \"Child's Play\", 'Sicko', 'The Purge: Anarchy', 'Down to You', 'Harold & Kumar Go to White Castle', 'The Contender', 'Boiler Room', 'Trading Places', 'Black Christmas', \"Breakin' All the Rules\", 'Henry V', 'The Savages', 'Chasing Papi', 'The Way of the Gun', 'Igby Goes Down', 'PCU', 'The Ultimate Gift', 'The Ice Pirates', 'Gracie', 'Trust the Man', 'Hamlet 2', 'Velvet Goldmine', 'The Wailing', 'Glee: The Concert Movie', 'The Legend of Suriyothai', 'Two Evil Eyes', 'Barbecue', 'All or Nothing', 'Princess Kaiulani', 'Opal Dream', 'Flame & Citron', 'Undiscovered', 'Red Riding: In the Year of Our Lord 1974', 'The Girl on the Train', 'Veronika Decides to Die', 'Crocodile Dundee', 'Ultramarines: A Warhammer 40,000 Movie', 'The I Inside', 'Beneath Hill 60', 'Polisse', 'Awake', 'Star Wars: Clone Wars: Volume 1', 'Skin Trade', 'The Lost Boys', 'Crazy Heart', 'The Rose', 'Baggage Claim', 'Barbarella', 'Shipwrecked', 'Election', 'The Namesake', 'The DUFF', 'Glitter', 'The Haunting in Connecticut 2: Ghosts of Georgia', 'Silmido', 'Bright Star', 'My Name Is Khan', 'All Is Lost', 'Limbo', 'Namastey London', 'The Wind That Shakes the Barley', 'Yeh Jawaani Hai Deewani', 'Quo Vadis', 'Repo! The Genetic Opera', 'Valley of the Wolves: Iraq', 'Pulp Fiction', 'The Muppet Movie', 'Nightcrawler', 'Club Dread', 'The Sound of Music', 'Splash', 'Little Miss Sunshine', 'Stand by Me', '28 Days Later', 'You Got Served', 'Escape from Alcatraz', 'Brown Sugar', 'A Thin Line Between Love and Hate', '50/50', 'Shutter', 'That Awkward Moment', 'Modern Problems', 'Kicks', 'Much Ado About Nothing', \"On Her Majesty's Secret Service\", 'New Nightmare', 'Drive Me Crazy', 'Akeelah and the Bee', 'Half Baked', 'New in Town', 'American Psycho', 'The Good Girl', 'Bon Cop Bad Cop', 'The Boondock Saints II: All Saints Day', 'The City of Your Final Destination', 'Enough Said', 'Easy A', 'The Inkwell', 'Shadow of the Vampire', 'Prom', 'The Pallbearer', 'Held Up', 'Woman on Top', 'Howards End', 'Anomalisa', 'Another Year', '8 Women', 'Showdown in Little Tokyo', 'Clay Pigeons', \"It's Kind of a Funny Story\", 'Made in Dagenham', 'When Did You Last See Your Father?', 'Prefontaine', 'The Wicked Lady', 'The Secret of Kells', 'Begin Again', 'Down in the Valley', 'Brooklyn Rules', 'Restless', 'The Singing Detective', 'The Land Girls', 'Fido', 'The Wendell Baker Story', 'Wild Target', 'Pathology', 'Wuthering Heights', '10th & Wolf', 'Dear Wendy', 'Aloft', 'Akira', 'The Death and Life of Bobby Z', 'The Rocket: The Legend of Rocket Richard', 'Swelter', 'My Lucky Star', 'Imagine Me & You', 'Mr. Church', 'Swimming Pool', 'Green Street Hooligans: Underground', 'The Blood of Heroes', 'Code of Honor', 'Driving Miss Daisy', 'Soul Food', 'Rumble in the Bronx', 'Far from Men', 'Thank You for Smoking', 'Hostel: Part II', 'An Education', 'Shopgirl', 'The Hotel New Hampshire', 'Narc', 'Men with Brooms', 'Witless Protection', 'The Work and the Glory', 'Extract', 'Masked and Anonymous', 'Betty Fisher and Other Stories', 'Code 46', 'Outside Bet', 'Albert Nobbs', 'Black November', 'Ta Ra Rum Pum', 'Persepolis', 'The Hole', 'The Wave', 'The Neon Demon', 'Harry Brown', 'The Omega Code', 'Juno', 'Pound of Flesh', 'Diamonds Are Forever', 'The Godfather', 'Flashdance', '(500) Days of Summer', 'The Piano', 'Magic Mike', 'Darkness Falls', 'Live and Let Die', 'My Dog Skip', 'Definitely, Maybe', 'Jumping the Broom', 'Good Night, and Good Luck.', 'Capote', 'Desperado', \"Logan's Run\", 'The Man with the Golden Gun', 'Action Jackson', 'The Descent', 'Michael Jordan to the Max', \"Devil's Due\", 'Flirting with Disaster', \"The Devil's Rejects\", 'Dope', 'In Too Deep', 'House of 1000 Corpses', 'Alien Zone', 'A Serious Man', 'Get Low', 'Warlock', 'Beyond the Lights', 'A Single Man', 'The Last Temptation of Christ', 'Outside Providence', 'Bride & Prejudice', 'Rabbit-Proof Fence', \"Who's Your Caddy?\", 'Split Second', 'The Other Side of Heaven', 'Veer-Zaara', 'Redbelt', 'Cyrus', 'A Dog Of Flanders', 'Auto Focus', 'Factory Girl', 'We Need to Talk About Kevin', 'The Christmas Candle', 'The Mighty Macs', \"Losin' It\", 'Mother and Child', 'March or Die', 'The Visitors', 'Somewhere', 'I Hope They Serve Beer in Hell', 'Chairman of the Board', 'Hesher', 'Dom Hemingway', 'Gerry', 'The Heart of Me', 'Freeheld', 'The Extra Man', 'Hard to Be a God', 'Ca$h', 'Wah-Wah', 'The Boondock Saints', 'Z Storm', 'Twixt', 'The Snow Queen', 'Alpha and Omega: The Legend of the Saw Tooth Cave', 'Pale Rider', 'Stargate: The Ark of Truth', 'Dazed and Confused', 'High School Musical 2', 'Two Lovers and a Bear', 'Criminal Activities', 'Aimee & Jaguar', 'The Chumscrubber', 'Shade', 'House at the End of the Street', 'Incendies', 'Remember Me, My Love', 'Perrier’s Bounty', 'Elite Squad', 'Annabelle', 'Bran Nue Dae', 'Boyz n the Hood', 'La Bamba', 'The Four Seasons', 'Dressed to Kill', 'The Adventures of Huck Finn', 'Go', 'Friends with Money', 'The Andromeda Strain', 'Bats', 'Nowhere in Africa', 'Shame', 'Layer Cake', 'The Work and the Glory II: American Zion', 'The East', 'A Home at the End of the World', 'Aberdeen', 'The Messenger', 'Tracker', 'Control', 'The Terminator', 'Good bye, Lenin!', 'The Damned United', 'The Return of the Living Dead', 'Mallrats', 'Grease', 'Platoon', 'Fahrenheit 9/11', 'Butch Cassidy and the Sundance Kid', 'Mary Poppins', 'Ordinary People', 'West Side Story', 'Caddyshack', 'The Brothers', 'The Wood', 'The Usual Suspects', 'A Nightmare on Elm Street 5: The Dream Child', 'National Lampoon’s Van Wilder', 'The Wrestler', 'Duel in the Sun', 'Best in Show', 'Escape from New York', 'School Daze', 'Daddy Day Camp', 'Mr. Nice Guy', 'A Mighty Wind', 'Mystic Pizza', 'Sliding Doors', 'Tales from the Hood', 'The Last King of Scotland', 'Halloween 5: The Revenge of Michael Myers', 'Bernie', 'Dolphins and Whales: Tribes of the Ocean', 'Pollock', '200 Cigarettes', 'The Words', 'Casa De Mi Padre', 'City Island', 'The Guard', 'College', 'The Virgin Suicides', 'Little Voice', 'Miss March', 'Wish I Was Here', 'Simply Irresistible', 'Hedwig and the Angry Inch', 'Only the Strong', 'Goddess of Love', 'Shattered Glass', 'Novocaine', 'The Business of Strangers', 'The Wild Bunch', 'The Wackness', 'The First Great Train Robbery', 'Morvern Callar', 'Beastmaster 2: Through the Portal of Time', 'The 5th Quarter', 'The Flower of Evil', 'The Greatest', 'Snow Flower and the Secret Fan', 'Come Early Morning', 'Lucky Break', 'Julia', 'Surfer, Dude', 'Lake of Fire', '11:14', 'Men of War', 'Don McKay', 'Deadfall', 'A Shine of Rainbows', 'The Hit List', 'Emma', 'Videodrome', 'The Spanish Apartment', 'Song One', 'Winter in Wartime', 'Freaky Deaky', 'The Train', 'Trade Of Innocents', 'The Protector', 'Stiff Upper Lips', 'Bend It Like Beckham', 'Sunshine State', 'Crossover', 'Khiladi 786', '[REC]²', 'Standing Ovation', 'The Sting', 'Chariots of Fire', 'Diary of a Mad Black Woman', 'Shine', 'Don Jon', 'High Plains Drifter', 'Ghost World', 'Iris', 'Galaxina', 'The Chorus', 'Mambo Italiano', 'Wonderland', 'Do the Right Thing', 'Harvard Man', 'Le Havre', 'Irreversible', 'R100', 'Rang De Basanti', 'Animals', 'Salvation Boulevard', 'The Ten', 'A Room for Romeo Brass', 'Headhunters', 'Grabbers', 'Saint Ralph', 'Miss Julie', 'Somewhere in Time', 'Dum Maaro Dum', 'Insidious: Chapter 2', 'Saw II', '10 Cloverfield Lane', 'Jackass: The Movie', 'Lights Out', 'Paranormal Activity 3', 'Ouija', 'A Nightmare on Elm Street 3: Dream Warriors', 'Instructions Not Included', 'Paranormal Activity 4', 'The Robe', 'The Return of the Pink Panther', \"Freddy's Dead: The Final Nightmare\", 'Monster', '20,000 Leagues Under the Sea', 'Paranormal Activity: The Marked Ones', 'The Elephant Man', 'Dallas Buyers Club', 'The Lazarus Effect', 'Memento', 'Oculus', 'Clerks II', 'Billy Elliot', 'The Way Way Back', 'House Party 2', 'The Man from Snowy River', \"Doug's 1st Movie\", 'The Apostle', 'Mommie Dearest', 'Our Idiot Brother', 'Race', 'The Players Club', 'As Above, So Below', 'Addicted', \"Eve's Bayou\", 'Still Alice', 'The Egyptian', 'Nighthawks', 'Friday the 13th Part VIII: Jason Takes Manhattan', 'My Big Fat Greek Wedding', 'Spring Breakers', 'Halloween: The Curse of Michael Myers', 'Y Tu Mamá También', 'Shaun of the Dead', 'The Haunting of Molly Hartley', 'Lone Star', 'Halloween 4: The Return of Michael Myers', \"April Fool's Day\", 'Diner', 'Lone Wolf McQuade', 'Apollo 18', 'Sunshine Cleaning', 'No Escape', 'The Beastmaster', 'Solomon and Sheba', 'Fifty Shades of Black', 'Not Easily Broken', 'A Farewell to Arms', 'The Perfect Match', 'Digimon: The Movie', 'Saved!', 'The Barbarian Invasions', 'Robin and Marian', 'The Forsaken', 'Force 10 from Navarone', 'UHF', \"Grandma's Boy\", 'Slums of Beverly Hills', 'Once Upon a Time in the West', 'Made', 'Moon', 'Keeping Up with the Steins', 'Sea Rex 3D: Journey to a Prehistoric World', 'The Sweet Hereafter', 'Of Gods and Men', 'Bottle Shock', 'Jekyll and Hyde ... Together Again', 'Heavenly Creatures', '90 Minutes in Heaven', 'Everything Must Go', 'Zero Effect', 'The Machinist', 'Light Sleeper', 'Kill the Messenger', 'Rabbit Hole', 'Party Monster', 'Green Room', 'The Oh in Ohio', 'Atlas Shrugged Part III: Who is John Galt?', 'Bottle Rocket', 'Albino Alligator', 'Gandhi, My Father', 'Standard Operating Procedure', 'Out of the Blue', 'Out of the Blue', 'Out of the Blue', 'Out of the Blue', 'Tucker and Dale vs Evil', 'Lovely, Still', 'Tycoon', 'Desert Blue', 'Decoys', 'The Visit', 'Redacted', 'Fascination', 'Area 51', 'Sleep Tight', 'The Cottage', 'Dead Like Me: Life After Death', 'Farce of the Penguins', 'Flying By', 'Rudderless', 'Henry & Me', 'Christmas Eve', 'We Have Your Husband', 'Dying of the Light', 'Born Of War', 'Capricorn One', \"Should've Been Romeo\", 'Running Forever', 'Yoga Hosers', 'Navy Seals vs. Zombies', 'I Served the King of England', 'Soul Kitchen', 'Sling Blade', 'The Awakening', 'Hostel', 'A Cock and Bull Story', 'Take Shelter', 'Lady in White', 'Driving Lessons', \"Let's Kill Ward's Wife\", 'The Texas Chainsaw Massacre 2', 'Pat Garrett & Billy the Kid', 'Only God Forgives', 'Camping Sauvage', 'Without Men', 'Dear Frankie', 'All Hat', 'The Names of Love', 'Treading Water', 'Savage Grace', 'Police Academy', 'The Blue Lagoon', 'Four Weddings and a Funeral', 'Fast Times at Ridgemont High', 'Moby Dick', '25th Hour', 'Bound', 'Requiem for a Dream', 'State Fair', 'Tango', 'Salvador', \"Moms' Night Out\", 'Donnie Darko', 'Saving Private Perez', 'Character', 'Spun', 'Life During Wartime', 'Sympathy for Lady Vengeance', \"Mozart's Sister\", 'Mean Machine', 'Exiled', 'Blackthorn', 'Lilya 4-ever', 'After.Life', 'Fugly', \"One Flew Over the Cuckoo's Nest\", \"R.L. Stine's Monsterville: The Cabinet of Souls\", 'Silent Movie', 'Airlift', 'Anne of Green Gables', 'Falcon Rising', 'The Sweeney', 'Sexy Beast', 'Easy Money', 'Whale Rider', 'Paa', 'Cargo', 'High School Musical', 'Love and Death on Long Island', 'Night Watch', 'The Crying Game', \"Porky's\", 'Survival of the Dead', 'Night of the Living Dead', 'Lost in Translation', 'Annie Hall', 'The Greatest Show on Earth', \"Monster's Ball\", 'Maggie', 'Leaving Las Vegas', 'Hansel and Gretel Get Baked', 'The Front Page', 'The Boy Next Door', 'Trapeze', 'The Kids Are All Right', 'They Live', 'The Great Escape', 'What the #$*! Do We (K)now!?', 'The Last Exorcism Part II', 'Boyhood', 'Scoop', 'The Wash', '3 Strikes', 'The Cooler', 'The Misfits', 'The Night Listener', 'The Jerky Boys', 'The Orphanage', 'A Haunted House 2', 'The Rules of Attraction', 'Topaz', \"Let's Go to Prison\", 'Four Rooms', 'Secretary', 'The Real Cancun', 'Talk Radio', 'Waiting for Guffman', 'Love Stinks', 'You Kill Me', 'Thumbsucker', 'Red State', 'Mirrormask', 'Samsara', 'The Barbarians', 'The Art of Getting By', 'Zipper', 'Poolhall Junkies', 'The Loss of Sexual Innocence', 'Holy Motors', 'Joe', 'Shooting Fish', 'Prison', 'Psycho Beach Party', 'The Big Tease', 'Guten Tag, Ramón', 'Trust', 'An Everlasting Piece', 'Among Giants', 'Adore', 'The Velocity of Gary', 'Mondays in the Sun', 'Stake Land', 'The Last Time I Committed Suicide', 'Futuro Beach', 'Another Happy Day', 'A Lonely Place to Die', 'Nothing', 'The Geographer Drank His Globe Away', '1776', 'Inescapable', \"Hell's Angels\", 'Purple Violets', 'The Veil', 'The Loved Ones', 'The Helpers', 'How to Fall in Love', 'The Perfect Wave', 'A Man for All Seasons', 'Network', 'Gone with the Wind', 'Desert Dancer', 'Major Dundee', 'Annie Get Your Gun', 'Four Lions', 'The House of Sand', 'Defendor', 'The Pirate', 'The Good Heart', 'The History Boys', 'Midnight Cowboy', 'The Full Monty', 'Airplane!', 'Chain of Command', 'Friday', 'Menace II Society', 'Creepshow 2', 'The Ballad of Cable Hogue', 'In Cold Blood', \"The Nun's Story\", 'Harper', 'Frenzy', 'The Witch', 'I Got the Hook Up', \"She's the One\", 'Gods and Monsters', 'The Secret in Their Eyes', 'Train', 'Evil Dead II', 'Pootie Tang', 'Sharknado', 'The Other Conquest', 'Troll Hunter', 'Ira & Abby', 'Winter Passing', 'D.E.B.S.', 'The Masked Saint', 'The Betrayed', 'Taxman', 'The Secret', '2:13', 'Batman: The Dark Knight Returns, Part 2', 'Time to Choose', 'In the Name of the King III', 'Wicked Blood', 'Stranded', 'Lords of London', 'High Anxiety', 'March of the Penguins', 'Margin Call', 'August', 'Choke', 'Whiplash', 'City of God', 'Human Traffic', 'To Write Love on Her Arms', 'The Dead Girl', 'The Hunt', 'A Christmas Story', 'Bella', 'Class of 1984', 'The Opposite Sex', 'Dreaming of Joseph Lees', 'The Class', \"Rosemary's Baby\", 'The Man Who Shot Liberty Valance', 'Adam', 'Maria Full of Grace', 'Beginners', 'Feast', 'Animal House', 'Goldfinger', 'Antiviral', \"It's a Wonderful Life\", 'Trainspotting', 'The Original Kings of Comedy', 'Paranormal Activity 2', 'Waking Ned', 'Bowling for Columbine', 'Coming Home', \"A Nightmare on Elm Street Part 2: Freddy's Revenge\", 'A Room with a View', 'The Purge', 'Sinister', 'Martin Lawrence Live: Runteldat', 'Cat on a Hot Tin Roof', 'Beneath the Planet of the Apes', 'Air Bud', 'Pokémon: Spell of the Unknown', 'Friday the 13th Part VI: Jason Lives', 'The Bridge on the River Kwai', 'Spaced Invaders', 'Family Plot', 'The Apartment', 'Jason Goes to Hell: The Final Friday', 'Torn Curtain', \"Dave Chappelle's Block Party\", 'Slow West', 'Krush Groove', 'Next Day Air', 'Elmer Gantry', 'Judgment at Nuremberg', \"Trippin'\", 'Red River', 'Phat Girlz', 'Before Midnight', 'Teen Wolf Too', 'Phantasm II', 'Woman Thou Art Loosed', 'Real Women Have Curves', 'Water', 'East Is East', 'Whipped', 'Kama Sutra - A Tale of Love', 'Please Give', 'Willy Wonka & the Chocolate Factory', 'Warlock: The Armageddon', '8 Heads in a Duffel Bag', 'Days of Heaven', 'Thirteen Conversations About One Thing', 'Jawbreaker', 'Basquiat', 'Frances Ha', 'Tsotsi', 'Happiness', 'DysFunktional Family', 'Tusk', 'Oldboy', 'Letters to God', 'Hobo with a Shotgun', 'Compadres', 'Freeway', \"Love's Abiding Joy\", 'Fish Tank', 'Damsels in Distress', 'Creature', 'Bachelorette', 'Brave New Girl', \"Tim and Eric's Billion Dollar Movie\", 'Summer Storm', 'Fort McCoy', 'Chain Letter', 'Just Looking', 'The Divide', 'The Eclipse', 'Demonic', 'My Big Fat Independent Movie', 'The Deported', 'Tanner Hall', 'Open Road', 'They Came Together', '30 Nights of Paranormal Activity With the Devil Inside the Girl With the Dragon Tattoo', 'Never Back Down 2: The Beatdown', 'Point Blank', 'Four Single Fathers', 'Enter the Dangerous Mind', 'Something Wicked', 'AWOL-72', 'Iguana', 'Chicago Overcoat', 'Barry Munday', 'Central Station', 'Pocketful of Miracles', 'Close Range', 'Boynton Beach Club', 'Amnesiac', 'Freakonomics', 'High Tension', 'Griff the Invisible', 'Unnatural', 'Hustle & Flow', 'Some Like It Hot', 'Friday the 13th Part VII: The New Blood', 'The Wizard of Oz', 'Young Frankenstein', 'Diary of the Dead', 'Lage Raho Munna Bhai', \"Ulee's Gold\", 'The Black Stallion', 'Sardaarji', 'Journey to Saturn', \"Donovan's Reef\", 'The Dress', 'A Guy Named Joe', 'Blazing Saddles', 'Friday the 13th: The Final Chapter', 'Ida', 'Maurice', 'Beer League', 'Riding Giants', 'Timecrimes', 'Silver Medalist', 'Timber Falls', \"Singin' in the Rain\", 'Fat, Sick & Nearly Dead', 'A Haunted House', \"2016: Obama's America\", 'That Thing You Do!', 'Halloween III: Season of the Witch', 'Escape from the Planet of the Apes', 'Hud', 'Kevin Hart: Let Me Explain', 'My Own Private Idaho', 'Garden State', 'Before Sunrise', 'Evil Words', \"Jesus' Son\", 'Saving Face', 'Brick Lane', 'Robot & Frank', 'My Life Without Me', 'The Spectacular Now', 'Religulous', 'Fuel', \"Valley of the Heart's Delight\", 'Eye of the Dolphin', '8: The Mormon Proposition', 'The Other End of the Line', 'Anatomy', 'Sleep Dealer', 'Super', 'Christmas Mail', 'Stung', 'Antibirth', 'Get on the Bus', 'Thr3e', 'Idiocracy', 'The Rise of the Krays', 'This Is England', 'U.F.O.', 'Bathing Beauty', 'Go for It!', 'Dancer, Texas Pop. 81', 'Show Boat', 'Redemption Road', 'The Calling', 'The Brave Little Toaster', 'Fantasia', '8 Days', 'Friday the 13th Part III', 'Friday the 13th: A New Beginning', 'The Last Sin Eater', 'Do You Believe?', 'Impact Point', 'The Valley of Decision', 'Eden', 'Chicken Tikka Masala', \"There's Always Woodstock\", 'Jack Brooks: Monster Slayer', 'The Best Years of Our Lives', 'Bully', 'Elling', 'Mi America', '[REC]', 'Lies in Plain Sight', 'Sharkskin', 'Containment', 'The Timber', 'From Russia with Love', 'The Toxic Avenger Part II', 'Sleeper', 'It Follows', 'Everything You Always Wanted to Know About Sex *But Were Afraid to Ask', 'To Kill a Mockingbird', 'Mad Max 2: The Road Warrior', 'The Legend of Drunken Master', \"Boys Don't Cry\", 'Silent House', 'The Lives of Others', 'Courageous', 'The Hustler', 'Boom Town', 'The Triplets of Belleville', 'Smoke Signals', 'American Splendor', 'Before Sunset', 'Amores perros', 'Thirteen', \"Gentleman's Agreement\", \"Winter's Bone\", 'Touching the Void', \"Alexander's Ragtime Band\", 'Me and You and Everyone We Know', 'Inside Job', 'We Are Your Friends', 'Ghost Dog: The Way of the Samurai', 'Harsh Times', 'Captive', 'Full Frontal', 'Witchboard', 'Shortbus', 'Waltz with Bashir', 'The Book of Mormon Movie, Volume 1: The Journey', 'No End in Sight', 'The Diary of a Teenage Girl', 'In the Shadow of the Moon', \"Meek's Cutoff\", 'Inside Deep Throat', 'Dinner Rush', 'Clockwatchers', 'The Virginity Hit', 'Subway', 'House of D', 'Teeth', 'Six-String Samurai', 'Hum To Mohabbat Karega', \"It's All Gone Pete Tong\", 'Saint John of Las Vegas', '24 7: Twenty Four Seven', 'Stonewall', 'Roadside Romeo', 'This Thing of Ours', 'The Lost Medallion: The Adventures of Billy Stone', 'The Last Five Years', 'The Missing Person', 'Return of the Living Dead 3', 'London', 'Sherrybaby', 'Circle', 'Eden Lake', 'Plush', 'Lesbian Vampire Killers', \"Gangster's Paradise: Jerusalema\", 'Freeze Frame', 'Grave Encounters', 'Stitches', 'Nine Dead', 'To Be Frank, Sinatra at 100', 'Bananas', 'Supercapitalist', 'Rockaway', 'The Lady from Shanghai', \"No Man's Land: The Rise of Reeker\", 'Highway', 'Small Apartments', 'Coffee Town', 'The Ghastly Love of Johnny X', 'All Is Bright', 'The Torture Chamber of Dr. Sadism', \"Straight A's\", 'A Funny Thing Happened on the Way to the Forum', 'Slacker Uprising', \"The Legend of Hell's Gate: An American Conspiracy\", 'The Walking Deceased', 'The Curse of Downers Grove', 'Shark Lake', \"River's Edge\", 'Northfork', 'The Marine 4: Moving Target', 'Buried', 'Submarine', 'The Square', 'One to Another', 'ABCD (Any Body Can Dance)', 'Man on Wire', 'Abandoned', 'Brotherly Love', 'The Last Exorcism', 'Nowhere Boy', 'A Streetcar Named Desire', 'Dr. Strangelove or: How I Learned to Stop Worrying and Love the Bomb', 'The Crime of Padre Amaro', 'Beasts of the Southern Wild', 'Battle for the Planet of the Apes', 'Songcatcher', 'Higher Ground', 'Vaalu', 'The Greatest Movie Ever Sold', 'Ed and His Dead Mother', 'Travellers and Magicians', \"Hang 'em High\", 'Deadline - U.S.A.', 'Sublime', \"A Beginner's Guide to Snuff\", 'Independence Daysaster', 'Dysfunctional Friends', 'Run Lola Run', 'May', 'Against the Wild', 'Under the Same Moon', 'Conquest of the Planet of the Apes', 'In the Bedroom', 'I Spit on Your Grave', 'Happy, Texas', 'My Summer of Love', 'The Lunchbox', 'Yes', \"You Can't Take It With You\", 'From Here to Eternity', 'She Wore a Yellow Ribbon', 'Grace Unplugged', 'Foolish', 'N-Secure', 'Caramel', 'Out of the Dark', 'The Bubble', 'The Conversation', 'Dil Jo Bhi Kahey...', 'Mississippi Mermaid', 'I Love Your Work', 'Cabin Fever', 'Waitress', 'Bloodsport', 'Mr. Smith Goes to Washington', 'Kids', 'The Squid and the Whale', 'Kissing Jessica Stein', 'Kickboxer: Vengeance', 'Spellbound', 'Exotica', \"Buffalo '66\", 'Insidious', 'Repo Man', 'Nine Queens', 'The Gatekeepers', 'The Ballad of Jack and Rose', 'The To Do List', 'Killing Zoe', 'The Believer', 'Snow Angels', 'Unsullied', 'Session 9', 'I Want Someone to Eat Cheese With', 'Mooz-lum', 'Hatchet', 'Modern Times', 'Stolen Summer', 'My Name Is Bruce', 'The Salon', 'Road Hard', 'Forty Shades of Blue', 'Amigo', 'Pontypool', 'Trucker', 'Me You and Five Bucks', 'The Lords of Salem', 'Housebound', 'Wal-Mart: The High Cost of Low Price', 'Fetching Cody', 'Last I Heard', 'Closer to the Moon', 'Mutant World', 'Growing Up Smith', 'Checkmate', '#Horror', 'Wind Walkers', 'Snow White and the Seven Dwarfs', 'The Holy Girl', 'Shalako', 'Incident at Loch Ness', 'The Dog Lover', 'GirlHouse', 'The Blue Room', 'House at the End of the Drive', 'Lock, Stock and Two Smoking Barrels', 'The Ballad of Gregorio Cortez', 'The Celebration', 'Trees Lounge', 'Journey from the Fall', 'The Basket', 'Eddie: The Sleepwalking Cannibal', 'Queen of the Mountains', 'Def-Con 4', 'The Hebrew Hammer', \"Neal 'n' Nikki\", 'The 41–Year–Old Virgin Who Knocked Up Sarah Marshall and Felt Superbad About It', 'Forget Me Not', 'Rebecca', 'Friday the 13th Part 2', 'The Lost Weekend', 'C.H.U.D.', 'Filly Brown', 'The Lion of Judah', 'Niagara', 'How Green Was My Valley', 'Da Sweet Blood of Jesus', 'Sex, Lies, and Videotape', 'Saw', 'Super Troopers', 'The Algerian', 'The Amazing Catfish', 'Monsoon Wedding', 'You Can Count on Me', 'The Trouble with Harry', \"But I'm a Cheerleader\", 'Home Run', 'Reservoir Dogs', 'The Blue Bird', 'The Good, the Bad and the Ugly', 'The Second Mother', 'Blue Like Jazz', 'Down & Out With The Dolls', 'Pink Ribbons, Inc.', 'Certifiably Jonathan', 'Desire', 'The Blade of Don Juan', 'Grand Theft Parsons', 'Extreme Movie', 'The Charge of the Light Brigade', 'Below Zero', 'Crowsnest', 'Airborne', 'Cotton Comes to Harlem', 'The Wicked Within', 'Bleeding Hearts', 'Waiting...', \"Dead Man's Shoes\", 'From a Whisper to a Scream', 'Sex With Strangers', \"Dracula: Pages from a Virgin's Diary\", 'Faith Like Potatoes', 'Beyond the Black Rainbow', 'The Raid', 'The Dead Undead', 'The Vatican Exorcisms', 'Casablanca', 'Lake Mungo', 'Rocket Singh: Salesman of the Year', 'Silent Running', 'Rocky', 'The Sleepwalker', 'Tom Jones', 'Unfriended', 'Taxi Driver', 'The Howling', 'Dr. No', 'Chernobyl Diaries', 'Hellraiser', \"God's Not Dead 2\", 'Cry_Wolf', 'Godzilla 2000', 'Blue Valentine', 'Transamerica', 'The Devil Inside', 'Beyond the Valley of the Dolls', 'Love Me Tender', 'An Inconvenient Truth', 'Sands of Iwo Jima', 'Shine a Light', 'The Green Inferno', 'Departure', 'The Sessions', 'Food, Inc.', 'October Baby', 'Next Stop Wonderland', 'The Skeleton Twins', 'Martha Marcy May Marlene', 'Obvious Child', 'Frozen River', '20 Feet from Stardom', 'Two Girls and a Guy', 'Walking and Talking', 'Who Killed the Electric Car?', 'The Broken Hearts Club: A Romantic Comedy', 'Bubba Ho-tep', 'Slam', 'Brigham City', 'Fiza', 'Orgazmo', 'All the Real Girls', 'Dream with the Fishes', 'Blue Car', 'Palo Alto', 'Ajami', 'Wristcutters: A Love Story', 'I Origins', 'The Battle of Shaker Heights', 'The Act of Killing', 'Taxi to the Dark Side', 'Once in a Lifetime: The Extraordinary Story of the New York Cosmos', 'Guiana 1838', 'Lisa Picard Is Famous', 'Antarctica: A Year on Ice', 'A LEGO Brickumentary', 'Hardflip', 'Chocolate: Deep Dark Secrets', 'The House of the Devil', 'The Perfect Host', 'Safe Men', 'Speedway Junky', 'The Last Big Thing', 'The Specials', '16 to Life', 'Alone With Her', 'Creative Control', 'Special', 'Sparkler', 'The Helix... Loaded', 'In Her Line of Fire', 'The Jimmy Show', 'Heli', 'Karachi se Lahore', 'Loving Annabelle', 'Hits', 'Jimmy and Judy', 'Frat Party', \"The Party's Over\", 'Proud', 'The Poker House', 'Childless', 'ZMD: Zombies of Mass Destruction', 'Snow White: A Deadly Summer', 'Hidden Away', 'My Last Day Without You', 'Steppin: The Movie', \"Doc Holliday's Revenge\", 'Black Rock', 'Truth or Dare', 'The Pet', 'Bang Bang Baby', 'Fear Clinic', 'Zombie Hunter', 'A Fine Step', 'Charly', 'Banshee Chapter', 'Ask Me Anything', 'And Then Came Love', 'Food Chains', 'On the Waterfront', 'L!fe Happens', '4 Months, 3 Weeks and 2 Days', 'The Horror Network Vol. 1', 'Hard Candy', 'The Quiet', 'Circumstance', 'Fruitvale Station', 'The Brass Teapot', 'Bambi', 'The Hammer', 'Latter Days', 'Elza', '1982', 'For a Good Time, Call...', 'Celeste & Jesse Forever', 'Time Changer', 'London to Brighton', 'American Hero', 'Windsor Drive', 'A Separation', 'Crying with Laughter', 'Welcome to the Dollhouse', 'Ruby in Paradise', 'Raising Victor Vargas', \"Pandora's Box\", 'Harrison Montgomery', 'Live-In Maid', 'Deterrence', 'The Mudge Boy', 'The Young Unknowns', 'Not Cool', 'Dead Snow', 'Saints and Soldiers', 'Vessel', 'American Graffiti', 'Iraq for Sale: The War Profiteers', 'Aqua Teen Hunger Force Colon Movie Film for Theaters', 'Safety Not Guaranteed', 'Kevin Hart: Laugh at My Pain', 'Kill List', 'The Innkeepers', 'The Conformist', 'Interview with the Assassin', 'Donkey Punch', 'All the Boys Love Mandy Lane', 'Bled', 'High Noon', 'Hoop Dreams', 'Rize', 'L.I.E.', 'The Sisterhood of Night', 'B-Girl', 'Half Nelson', 'Naturally Native', 'Hav Plenty', 'Adulterers', 'Escape from Tomorrow', 'Starsuckers', 'The Hadza:  Last of the First', 'After', 'Treachery', 'Walter', 'Top Hat', 'The Blair Witch Project', 'Woodstock', 'The Kentucky Fried Movie', 'Mercy Streets', 'Carousel of Revenge', 'Broken Vessels', 'Water & Power', 'They Will Have to Kill Us First', 'Light from the Darkroom', 'The Country Doctor', \"The Maid's Room\", \"A Hard Day's Night\", 'The Harvest (La Cosecha)', 'Love Letters', 'Juliet and Alfa Romeo', 'Fireproof', 'Faith Connections', 'Benji', 'Open Water', 'High Road', 'Kingdom of the Spiders', 'Mad Hot Ballroom', 'The Station Agent', 'To Save A Life', 'Wordplay', 'Beyond the Mat', 'The Singles Ward', 'Osama', 'Sholem Aleichem: Laughing In The Darkness', 'Groove', 'The R.M.', 'Twin Falls Idaho', 'Mean Creek', 'Hurricane Streets', 'Never Again', 'Civil Brand', 'Lonesome Jim', 'Drinking Buddies', 'Deceptive Practice: The Mysteries and Mentors of Ricky Jay', 'Seven Samurai', 'The Other Dream Team', 'Johnny Suede', 'Finishing The Game', 'Rubber', 'Kiss the Bride', 'The Slaughter Rule', 'Monsters', 'The Californians', 'The Living Wake', 'Detention of the Dead', 'Crazy Stone', 'Scott Walker: 30 Century Man', 'Everything Put Together', 'Good Kill', 'The Outrageous Sophie Tucker', 'Now Is Good', 'Girls Gone Dead', 'America Is Still the Place', 'Subconscious', 'Enter Nowhere', 'El Rey de Najayo', 'Fight to the Finish', \"Alleluia! The Devil's Carnival\", 'The Sound and the Shadow', 'Rodeo Girl', 'Born to Fly: Elizabeth Streb vs. Gravity', 'The Little Ponderosa Zoo', 'The Toxic Avenger', 'Straight Out of Brooklyn', 'Bloody Sunday', 'Diamond Ruff', 'Conversations with Other Women', 'Poultrygeist: Night of the Chicken Dead', 'Mutual Friends', '42nd Street', 'Rise of the Entrepreneur: The Search for a Better Way', 'Metropolitan', 'As It Is in Heaven', 'Roadside', 'Napoleon Dynamite', 'Blue Ruin', 'Paranormal Activity', 'Dogtown and Z-Boys', 'Monty Python and the Holy Grail', 'Quinceañera', 'Gory Gory Hallelujah', 'Tarnation', 'I Want Your Money', 'Love in the Time of Monsters', 'The Beyond', 'What Happens in Vegas', 'The Dark Hours', 'My Beautiful Laundrette', 'Fabled', 'Show Me', 'Cries and Whispers', 'Intolerance', 'Trekkies', 'The Broadway Melody', 'The Evil Dead', 'Maniac', 'Censored Voices', 'Murderball', 'American Ninja 2: The Confrontation', '51 Birch Street', 'Rotor DR1', '12 Angry Men', 'My Dog Tulip', 'It Happened One Night', 'Dogtooth', 'Tupac: Resurrection', 'Tumbleweeds', 'The Prophecy', \"When the Cat's Away\", 'Pieces of April', 'The Big Swap', 'Old Joy', 'Wendy and Lucy', '3 Backyards', 'Pierrot le Fou', 'Sisters in Law', 'Ayurveda: Art of Being', 'Nothing But a Man', 'First Love, Last Rites', 'Fighting Tommy Riley', 'Royal Kill', 'The Looking Glass', 'Death Race 2000', 'Locker 13', 'Midnight Cabaret', \"Anderson's Cross\", 'Bizarre', 'Graduation Day', 'Some Guy Who Kills People', 'Compliance', 'Chasing Amy', 'Lovely & Amazing', 'Death Calls', 'Better Luck Tomorrow', 'The Incredibly True Adventure of Two Girls In Love', 'Chuck & Buck', 'American Desi', \"Amidst the Devil's Wings\", 'Cube', 'Love and Other Catastrophes', 'I Married a Strange Person!', 'November', 'Like Crazy', 'Teeth and Blood', 'Sugar Town', 'The Motel', 'The Canyons', 'On the Outs', 'Shotgun Stories', 'Exam', 'The Sticky Fingers of Time', 'Sunday School Musical', 'Rust', 'Ink', 'The Christmas Bunny', 'Butterfly', 'UnDivided', 'The Frozen', 'Horse Camp', 'Give Me Shelter', 'The Big Parade', 'Little Big Top', 'Along the Roadside', 'Bronson', 'Western Religion', 'Burn', 'Urbania', 'The Stewardesses', 'The Beast from 20,000 Fathoms', 'Mad Max', 'Swingers', 'A Fistful of Dollars', 'She Done Him Wrong', 'Short Cut to Nirvana: Kumbh Mela', 'The Grace Card', 'Middle of Nowhere', 'Three', 'The Business of Fancydancing', 'Call + Response', 'Malevolence', 'Reality Show', 'Super Hybrid', 'Baghead', 'American Beast', 'The Case of the Grinning Cat', 'Ordet', 'Good Dick', 'The Man from Earth', 'The Trials Of Darryl Hunt', 'Samantha: An American Girl Holiday', 'Yesterday Was a Lie', 'Theresa Is a Mother', 'H.', 'Archaeology of a Woman', 'Children of Heaven', 'Weekend', \"She's Gotta Have It\", 'Butterfly Girl', 'The World Is Mine', 'Another Earth', \"Sweet Sweetback's Baadasssss Song\", 'Perfect Cowboy', 'Tadpole', 'Once', 'The Woman Chaser', 'The Horse Boy', 'When the Lights Went Out', 'Heroes of Dirt', 'A Charlie Brown Christmas', 'Antarctic Edge: 70° South', 'Aroused', 'Top Spin', 'Roger & Me', 'An American in Hollywood', 'Sound of My Voice', 'The Blood of My Brother: A Story of Death in Iraq', \"Your Sister's Sister\", \"A Dog's Breakfast\", 'The Married Woman', 'The Birth of a Nation', 'The Work and The Story', 'Facing the Giants', 'The Gallows', 'Eraserhead', 'Hollywood Shuffle', 'The Mighty', 'Penitentiary', 'The Lost Skeleton of Cadavra', \"Dude Where's My Dog?\", 'Cheap Thrills', 'Indie Game: The Movie', 'Straightheads', 'Open Secret', 'Echo Dr.', 'The Night Visitor', 'The Past Is a Grotesque Animal', 'Peace, Propaganda & the Promised Land', 'Pi', \"I Love You, Don't Touch Me!\", '20 Dates', 'Queen Crab', 'Super Size Me', 'The FP', 'Happy Christmas', \"The Brain That Wouldn't Die\", 'Tiger Orange', 'Supporting Characters', 'Absentia', 'The Brothers McMullen', 'The Dirties', 'Gabriela', 'Tiny Furniture', 'Hayride', 'The Naked Ape', 'Counting', 'The Call of Cthulhu', 'Bending Steel', 'The Signal', 'The Image Revolution', 'This Is Martin Bonner', 'A True Story', 'George Washington', 'Smiling Fish & Goat On Fire', 'Dawn of the Crescent Moon', 'Raymond Did It', 'The Last Waltz', 'Run, Hide, Die', 'The Exploding Girl', \"The Legend of God's Gun\", 'Mutual Appreciation', 'Her Cry: La Llorona Investigation', 'Down Terrace', 'Clerks', 'Pink Narcissus', 'Funny Ha Ha', 'In the Company of Men', 'Manito', 'Rampage', 'Slacker', 'Dutch Kills', 'Dry Spell', 'Flywheel', 'Backmask', 'The Puffy Chair', 'Stories of Our Lives', 'Breaking Upwards', 'All Superheroes Must Die', 'Pink Flamingos', 'Clean', 'The Circle', 'Tin Can Man', 'Cure', 'On The Downlow', 'Sanctuary: Quite a Conundrum', 'Bang', 'Primer', 'Cavite', 'El Mariachi', 'Newlyweds', 'Signed, Sealed, Delivered', 'Shanghai Calling', 'My Date with Drew']\n"
     ]
    }
   ],
   "source": [
    "print(list_of_all_titles)"
   ]
  },
  {
   "cell_type": "code",
   "execution_count": 217,
   "id": "4bb8cd7a",
   "metadata": {},
   "outputs": [],
   "source": [
    "#finding the close match for the movie name given by the user"
   ]
  },
  {
   "cell_type": "code",
   "execution_count": 218,
   "id": "2fe09228",
   "metadata": {},
   "outputs": [],
   "source": [
    "find_close_match=difflib.get_close_matches(movie_name,list_of_all_titles)"
   ]
  },
  {
   "cell_type": "code",
   "execution_count": 219,
   "id": "d44652ce",
   "metadata": {},
   "outputs": [
    {
     "name": "stdout",
     "output_type": "stream",
     "text": [
      "['Cinderella', 'Cinderella Man', 'A Cinderella Story']\n"
     ]
    }
   ],
   "source": [
    "print(find_close_match)"
   ]
  },
  {
   "cell_type": "code",
   "execution_count": 220,
   "id": "33f5d94f",
   "metadata": {},
   "outputs": [],
   "source": [
    "#Finding the closest match"
   ]
  },
  {
   "cell_type": "code",
   "execution_count": 221,
   "id": "8abfbfe3",
   "metadata": {},
   "outputs": [],
   "source": [
    "close_match=find_close_match[0]"
   ]
  },
  {
   "cell_type": "code",
   "execution_count": 222,
   "id": "2812547c",
   "metadata": {},
   "outputs": [
    {
     "name": "stdout",
     "output_type": "stream",
     "text": [
      "Cinderella\n"
     ]
    }
   ],
   "source": [
    "print(close_match)"
   ]
  },
  {
   "cell_type": "code",
   "execution_count": 223,
   "id": "826498fe",
   "metadata": {},
   "outputs": [
    {
     "data": {
      "text/plain": [
       "Index(['budget', 'genres', 'homepage', 'keywords', 'original_language',\n",
       "       'original_title', 'overview', 'popularity', 'production_companies',\n",
       "       'production_countries', 'release_date', 'revenue', 'runtime',\n",
       "       'spoken_languages', 'status', 'tagline', 'title', 'vote_average',\n",
       "       'vote_count', 'movie_id', 'cast', 'crew', 'mov_index'],\n",
       "      dtype='object')"
      ]
     },
     "execution_count": 223,
     "metadata": {},
     "output_type": "execute_result"
    }
   ],
   "source": [
    "df_clean.columns"
   ]
  },
  {
   "cell_type": "code",
   "execution_count": 224,
   "id": "793de4f6",
   "metadata": {},
   "outputs": [],
   "source": [
    "#finding the index of the movie with title"
   ]
  },
  {
   "cell_type": "code",
   "execution_count": 225,
   "id": "3a63c051",
   "metadata": {},
   "outputs": [
    {
     "name": "stdout",
     "output_type": "stream",
     "text": [
      "326\n"
     ]
    }
   ],
   "source": [
    "index_of_the_movie=df_clean[df_clean.title==close_match]['mov_index'].values[0]\n",
    "print(index_of_the_movie)"
   ]
  },
  {
   "cell_type": "code",
   "execution_count": 226,
   "id": "d27c0c81",
   "metadata": {},
   "outputs": [
    {
     "name": "stdout",
     "output_type": "stream",
     "text": [
      "[(0, 0.01057294559946809), (1, 0.007343008823982881), (2, 0.0), (3, 0.0012238828489172394), (4, 0.0), (5, 0.005732476911696167), (6, 0.049210037797851026), (7, 0.0), (8, 0.0531673259848431), (9, 0.00598841767432776), (10, 0.021065982801015796), (11, 0.0), (12, 0.0074628580332752594), (13, 0.0), (14, 0.040399427078975675), (15, 0.026009922278108718), (16, 0.008558898367554146), (17, 0.012534279062328952), (18, 0.00504781558520989), (19, 0.015247311997988646), (20, 0.01568176951932965), (21, 0.027987887940597107), (22, 0.007101361849645557), (23, 0.050178708478397796), (24, 0.001852955453648527), (25, 0.006186139015004729), (26, 0.0), (27, 0.015259289428176752), (28, 0.0), (29, 0.0), (30, 0.006153616099448422), (31, 0.0), (32, 0.01986129396174445), (33, 0.0), (34, 0.005271705171389727), (35, 0.0), (36, 0.0), (37, 0.04298469074051722), (38, 0.03415541512735615), (39, 0.007644284711082008), (40, 0.0042130003889062064), (41, 0.0), (42, 0.0036848483033091028), (43, 0.0), (44, 0.0057079650936654935), (45, 0.004863827774248476), (46, 0.026557909218193645), (47, 0.003492591192447992), (48, 0.03834693949061645), (49, 0.02035604147390414), (50, 0.031123463725063347), (51, 0.009778909335231012), (52, 0.0), (53, 0.022383883057968), (54, 0.0052077068532031395), (55, 0.049894532167642745), (56, 0.0), (57, 0.016460225968639906), (58, 0.0), (59, 0.0027047251955273598), (60, 0.013890291717469501), (61, 0.014683616401936292), (62, 0.0), (63, 0.022329670076949006), (64, 0.0), (65, 0.0013192535335513971), (66, 0.00389087378976218), (67, 0.016140815369995273), (68, 0.0), (69, 0.04710957425786685), (70, 0.027832344297008958), (71, 0.00725500550294806), (72, 0.006581641167762224), (73, 0.02173342803425647), (74, 0.0), (75, 0.004950204620242774), (76, 0.0), (77, 0.010166345441892015), (78, 0.03060184309022273), (79, 0.0), (80, 0.06094965447845357), (81, 0.06467411783335757), (82, 0.023639151526959487), (83, 0.007637271978001416), (84, 0.01052135550208107), (85, 0.0), (86, 0.023043261327566858), (87, 0.003774163434236516), (88, 0.003963027864901459), (89, 0.002025611057651826), (90, 0.018097448046848645), (91, 0.0), (92, 0.014351715593205985), (93, 0.0), (94, 0.03294907180315666), (95, 0.0013846169699315777), (96, 0.0), (97, 0.0014864324193641283), (98, 0.0057516899879415835), (99, 0.0), (100, 0.05420302642541489), (101, 0.005695661244442752), (102, 0.0), (103, 0.029748539310831143), (104, 0.017200414032024488), (105, 0.007798667461296302), (106, 0.07326247552089124), (107, 0.02112754250796659), (108, 0.02826940288227715), (109, 0.02856956793109476), (110, 0.003671489091917128), (111, 0.005756009297575843), (112, 0.006024468663855312), (113, 0.023930942619218316), (114, 0.022277196440610866), (115, 0.005788391976864455), (116, 0.0015791922266665415), (117, 0.018668974368902923), (118, 0.01519900250974313), (119, 0.0015241245128464302), (120, 0.0033829868918981306), (121, 0.009590597518376615), (122, 0.0), (123, 0.0), (124, 0.026654747385968902), (125, 0.0), (126, 0.006051043619423258), (127, 0.0), (128, 0.0), (129, 0.03349627572179798), (130, 0.00411216739278645), (131, 0.010372643138364331), (132, 0.005304905749572142), (133, 0.010399216427252216), (134, 0.0), (135, 0.011407580975086885), (136, 0.0033394987750789175), (137, 0.012119072017342353), (138, 0.055027673507175696), (139, 0.0), (140, 0.0016662234556475508), (141, 0.005029794468787741), (142, 0.0035478679494159453), (143, 0.06314681231642047), (144, 0.023405813673499674), (145, 0.027575329173788563), (146, 0.002418841989876022), (147, 0.0), (148, 0.007129489184956908), (149, 0.0), (150, 0.0), (151, 0.024529857649148945), (152, 0.004643029309798989), (153, 0.0), (154, 0.01254643165602725), (155, 0.0), (156, 0.006742966300284477), (157, 0.0018476826753140421), (158, 0.0), (159, 0.00767968957327272), (160, 0.007927773344222195), (161, 0.007955549386526125), (162, 0.0), (163, 0.0), (164, 0.0), (165, 0.0015423084761255947), (166, 0.0), (167, 0.0020031581349105976), (168, 0.020456606828467498), (169, 0.0), (170, 0.0), (171, 0.0), (172, 0.019513723498806316), (173, 0.003656363128462218), (174, 0.007143281926331679), (175, 0.023840783513474816), (176, 0.0018293217148345421), (177, 0.004985299216180181), (178, 0.02554037819309506), (179, 0.0047340173044406585), (180, 0.0013918192838207426), (181, 0.0030865164362046515), (182, 0.0), (183, 0.01289447170087424), (184, 0.014673550945795606), (185, 0.015711353289219958), (186, 0.0), (187, 0.011181515631938609), (188, 0.0), (189, 0.008913511167855829), (190, 0.003559454351004521), (191, 0.03915013187868863), (192, 0.0015019979416583805), (193, 0.019317928298125564), (194, 0.00807009794946359), (195, 0.06161851997240578), (196, 0.0044012093098316565), (197, 0.023817614263800947), (198, 0.008141089195880072), (199, 0.005081793497328911), (200, 0.0), (201, 0.0), (202, 0.011442245105249226), (203, 0.0), (204, 0.0), (205, 0.0), (206, 0.006514187482081331), (207, 0.007290901558386558), (208, 0.00653833558948984), (209, 0.0), (210, 0.005985307902753149), (211, 0.016225554984852935), (212, 0.0), (213, 0.0), (214, 0.0028810470828546505), (215, 0.005906252995018827), (216, 0.00928372221860591), (217, 0.015303964523266617), (218, 0.0), (219, 0.0), (220, 0.0), (221, 0.011857333520524902), (222, 0.0013306918615602597), (223, 0.024190746494412184), (224, 0.005184617423290934), (225, 0.014517602199087232), (226, 0.015916079311048936), (227, 0.0), (228, 0.017473079407481808), (229, 0.009402131583155322), (230, 0.007899471360013132), (231, 0.003736204944405015), (232, 0.008111562743036099), (233, 0.0067410601988327325), (234, 0.025782505633640877), (235, 0.02879555939744937), (236, 0.0016655992943841844), (237, 0.03938000562362387), (238, 0.0050975895390328145), (239, 0.010995706874700261), (240, 0.0), (241, 0.00633443621186852), (242, 0.005640459943733736), (243, 0.008363590812987598), (244, 0.002016758851075232), (245, 0.0), (246, 0.0016495035350573603), (247, 0.0), (248, 0.0014931102301693007), (249, 0.0), (250, 0.023290746656418213), (251, 0.0), (252, 0.005365726195710813), (253, 0.010733317727767382), (254, 0.02252794341289914), (255, 0.003762601504378522), (256, 0.0), (257, 0.0018192867981527037), (258, 0.005934499659398836), (259, 0.006231682995874331), (260, 0.0), (261, 0.005040473183934254), (262, 0.030491061581529325), (263, 0.0), (264, 0.0015404271841664777), (265, 0.011272733522745833), (266, 0.0), (267, 0.030939652605093924), (268, 0.015591583885802618), (269, 0.029313952497660667), (270, 0.0082781807419603), (271, 0.0), (272, 0.004219905751811931), (273, 0.0), (274, 0.011163700094476797), (275, 0.0), (276, 0.030702897798530762), (277, 0.0), (278, 0.007218953211563826), (279, 0.0), (280, 0.001390728104083609), (281, 0.005015612815806211), (282, 0.0), (283, 0.001927200667444352), (284, 0.015396837379367985), (285, 0.0), (286, 0.0013307591553951184), (287, 0.0018360276424828435), (288, 0.05197839184705463), (289, 0.018646225380232404), (290, 0.0), (291, 0.011295288023399576), (292, 0.012837890795336102), (293, 0.0217078074798746), (294, 0.034173834211189094), (295, 0.012846762420766503), (296, 0.016933268616277693), (297, 0.0013287040084080377), (298, 0.001676947239077841), (299, 0.007277348744998522), (300, 0.0049270708964136095), (301, 0.004668013921285635), (302, 0.014010702301988042), (303, 0.0), (304, 0.002831895050280124), (305, 0.008283616520781096), (306, 0.0), (307, 0.0), (308, 0.007149002027899854), (309, 0.02007589654396042), (310, 0.0010490828404476362), (311, 0.007433467126435994), (312, 0.0015157201861945816), (313, 0.0047285350900321665), (314, 0.00273467027458001), (315, 0.005669865721816744), (316, 0.007653263755455758), (317, 0.012605336159184154), (318, 0.002949847947978146), (319, 0.0), (320, 0.0), (321, 0.0), (322, 0.011463112410723347), (323, 0.00640000425288394), (324, 0.04047884393403578), (325, 0.004070749655058215), (326, 1.0), (327, 0.017246943036999668), (328, 0.048518166967164184), (329, 0.006441895864638287), (330, 0.005813830235750605), (331, 0.040506873247541375), (332, 0.006188235482005937), (333, 0.0016443555652403442), (334, 0.0), (335, 0.008618549964952444), (336, 0.011610799720356562), (337, 0.00725883342684462), (338, 0.0), (339, 0.004499408043169199), (340, 0.0), (341, 0.01053703243360823), (342, 0.0), (343, 0.0030429596670602365), (344, 0.006100877735097241), (345, 0.006727283091619198), (346, 0.0018097306992876563), (347, 0.0035576457212856444), (348, 0.0041679069185822535), (349, 0.00881105104638805), (350, 0.0), (351, 0.001623377798772248), (352, 0.009654464737953311), (353, 0.0), (354, 0.001276305531078161), (355, 0.0061619944391214845), (356, 0.0), (357, 0.0026318724921506726), (358, 0.004222131486889058), (359, 0.005004284545280362), (360, 0.03155447085385155), (361, 0.0), (362, 0.0), (363, 0.02109783948827285), (364, 0.02533554601791851), (365, 0.001582505130718132), (366, 0.0), (367, 0.0), (368, 0.011127273526066506), (369, 0.005438205002363493), (370, 0.01645516121198785), (371, 0.003444798986854802), (372, 0.0), (373, 0.0), (374, 0.012530818672009877), (375, 0.006350843078284519), (376, 0.0013699619278834633), (377, 0.008170072277791256), (378, 0.002080590991983852), (379, 0.012935061509857695), (380, 0.014688808090466857), (381, 0.017152331379762704), (382, 0.0022720856103271843), (383, 0.0013854121503446709), (384, 0.001687880297557047), (385, 0.004740492325165513), (386, 0.0015134947059427437), (387, 0.014385325442370667), (388, 0.0), (389, 0.0064575568567232285), (390, 0.03921147475603418), (391, 0.05080504398855273), (392, 0.0), (393, 0.006768773661444706), (394, 0.010848192463624676), (395, 0.01622934381625644), (396, 0.0015318386156361675), (397, 0.03335748229691954), (398, 0.0), (399, 0.02855772161653577), (400, 0.0), (401, 0.0), (402, 0.006574328640666358), (403, 0.04574160259606481), (404, 0.011543907111250563), (405, 0.009912356932928775), (406, 0.00453209541897566), (407, 0.0068926966969761975), (408, 0.002031360695898686), (409, 0.00136537725144587), (410, 0.04455277050687239), (411, 0.0), (412, 0.0), (413, 0.025178751426273526), (414, 0.006391347513437706), (415, 0.0), (416, 0.019497252955552123), (417, 0.007488368677254007), (418, 0.005685204709489817), (419, 0.020342182537450876), (420, 0.02156839777019733), (421, 0.0017268767000755512), (422, 0.0), (423, 0.005815481706100497), (424, 0.0), (425, 0.0), (426, 0.004281769289189996), (427, 0.0), (428, 0.004334106670029945), (429, 0.011100497608829866), (430, 0.003333043283293202), (431, 0.014206202301782416), (432, 0.005030402171785329), (433, 0.0), (434, 0.0015947202697836466), (435, 0.012168645488704843), (436, 0.0042722628943801435), (437, 0.0), (438, 0.005579101929969746), (439, 0.0019893630410500536), (440, 0.005340431295740474), (441, 0.01027511689524693), (442, 0.0035517172446299003), (443, 0.013009460377918097), (444, 0.014966309116307284), (445, 0.020359460012135), (446, 0.0035373892134579533), (447, 0.0035834983325489568), (448, 0.006385204366388634), (449, 0.0), (450, 0.0033399427397541987), (451, 0.005263797454971918), (452, 0.011527318648233587), (453, 0.0036356636823142684), (454, 0.013381995949319107), (455, 0.0017321979848694826), (456, 0.0014582403330614736), (457, 0.004417274457833909), (458, 0.002623736664315512), (459, 0.020127799150893078), (460, 0.009107065786590467), (461, 0.004082663571843478), (462, 0.001114810176214592), (463, 0.030634442717540313), (464, 0.021382156182980585), (465, 0.004151126316485051), (466, 0.010433538574370174), (467, 0.012287743359311197), (468, 0.0), (469, 0.024730289521354528), (470, 0.01170114975963171), (471, 0.043057286672683784), (472, 0.006778153237705428), (473, 0.032884461809314744), (474, 0.0019228991124865713), (475, 0.0014607918862798396), (476, 0.0), (477, 0.001727053187307581), (478, 0.0), (479, 0.0028434818812425005), (480, 0.0), (481, 0.0028476675558504155), (482, 0.012518342142538922), (483, 0.0), (484, 0.018759942607636096), (485, 0.011219476485702758), (486, 0.007320523877724059), (487, 0.0), (488, 0.025407992094571095), (489, 0.007021030873875757), (490, 0.005624331677538537), (491, 0.009199914320819786), (492, 0.0), (493, 0.003929606496076638), (494, 0.01297337949035142), (495, 0.0), (496, 0.003092766377453608), (497, 0.0), (498, 0.0), (499, 0.0), (500, 0.0), (501, 0.055219119027129004), (502, 0.0), (503, 0.0035984969483699105), (504, 0.0042671191566000305), (505, 0.008448932397179606), (506, 0.005384743415776943), (507, 0.0), (508, 0.0), (509, 0.006733889266030598), (510, 0.001791224415810129), (511, 0.0), (512, 0.0076820808716979066), (513, 0.0), (514, 0.003607472552467716), (515, 0.004118847909111293), (516, 0.006750146401236752), (517, 0.015101031746299946), (518, 0.0035392833290142996), (519, 0.017689526161720336), (520, 0.05943432913893036), (521, 0.004460910709581996), (522, 0.023590534969959172), (523, 0.0), (524, 0.0018756466732820045), (525, 0.0037695113428059795), (526, 0.006880892224819501), (527, 0.02616812022656017), (528, 0.0013213231644042562), (529, 0.0014622568976591836), (530, 0.011562845844239432), (531, 0.0), (532, 0.007868760815567217), (533, 0.01383463454069849), (534, 0.05844175648697867), (535, 0.0068017762470484735), (536, 0.03333699611562118), (537, 0.010045736662003686), (538, 0.006580616439649354), (539, 0.04023121552083951), (540, 0.0), (541, 0.0), (542, 0.004917390847551743), (543, 0.005476650844098153), (544, 0.0016212221288476644), (545, 0.001893364123157182), (546, 0.004603748489213845), (547, 0.02024926574883514), (548, 0.0), (549, 0.0), (550, 0.003594293276633565), (551, 0.008766159766446235), (552, 0.0018793400304688882), (553, 0.0022747036524137054), (554, 0.0), (555, 0.026231859777892316), (556, 0.0016922607399678718), (557, 0.0015489310797730106), (558, 0.0034939688695826486), (559, 0.007241789070071437), (560, 0.0025031770701684467), (561, 0.035558501482237645), (562, 0.008309958080885893), (563, 0.015208913665575707), (564, 0.01472637621968532), (565, 0.0679746440235821), (566, 0.026288779260288216), (567, 0.003450934499349464), (568, 0.0), (569, 0.0033416857365576296), (570, 0.0), (571, 0.0012800183691921753), (572, 0.02459272203257414), (573, 0.0), (574, 0.0), (575, 0.00606121420000774), (576, 0.014843364427179179), (577, 0.0), (578, 0.023850007323331077), (579, 0.0), (580, 0.007412700031353122), (581, 0.0), (582, 0.0), (583, 0.01578410559327656), (584, 0.011025154738242072), (585, 0.01241961011892569), (586, 0.03771161866390418), (587, 0.020735278169816185), (588, 0.013223843282616735), (589, 0.009464084602562131), (590, 0.0024406945729933153), (591, 0.08528878547172528), (592, 0.004450500783603839), (593, 0.0014199618233026923), (594, 0.0), (595, 0.0), (596, 0.0), (597, 0.013745236829257712), (598, 0.00865488888056004), (599, 0.004056889802580218), (600, 0.0), (601, 0.0), (602, 0.0), (603, 0.0), (604, 0.00518757636253272), (605, 0.00351478039543136), (606, 0.00153137499580198), (607, 0.0), (608, 0.0), (609, 0.0), (610, 0.013692029693537265), (611, 0.02064121619834683), (612, 0.017122487434599987), (613, 0.006279903574900254), (614, 0.02137511248988739), (615, 0.0), (616, 0.0), (617, 0.002764239645880883), (618, 0.0049846113948543574), (619, 0.014726196606664818), (620, 0.0016738128137243709), (621, 0.0019931919942938457), (622, 0.011268890405761752), (623, 0.0), (624, 0.00839963692391034), (625, 0.0062646840888111585), (626, 0.0), (627, 0.01442210627522341), (628, 0.001503721788705577), (629, 0.0015972507768219832), (630, 0.004003367757284874), (631, 0.0030285723288867327), (632, 0.023171130644815678), (633, 0.02655926395006537), (634, 0.0), (635, 0.0014014690794481033), (636, 0.034172562889585374), (637, 0.006154377931333864), (638, 0.004952821507842202), (639, 0.0), (640, 0.0), (641, 0.0017927913735433557), (642, 0.0022466800944143744), (643, 0.0), (644, 0.0), (645, 0.011617415306528442), (646, 0.023806661954713197), (647, 0.001636275485500498), (648, 0.005677838317335253), (649, 0.0), (650, 0.00173501319777676), (651, 0.022211643369601703), (652, 0.016712621221089997), (653, 0.005258442643408616), (654, 0.004900942120625825), (655, 0.012336248841677454), (656, 0.006143954830199874), (657, 0.010088725791612962), (658, 0.0), (659, 0.0), (660, 0.008402117121410247), (661, 0.03523480104428431), (662, 0.001758935415918122), (663, 0.0022543224111449167), (664, 0.0), (665, 0.0036918019760129477), (666, 0.034872752652192515), (667, 0.025695521759640405), (668, 0.02641078368771129), (669, 0.0), (670, 0.003627293046470414), (671, 0.0014853197172300157), (672, 0.007071128667751277), (673, 0.0), (674, 0.01731326706512175), (675, 0.0), (676, 0.004861251973006738), (677, 0.0017360168393921853), (678, 0.02469201657159521), (679, 0.0), (680, 0.0018149279666669184), (681, 0.006014577527639323), (682, 0.003520091139662301), (683, 0.0), (684, 0.002136330845368635), (685, 0.001976162135102476), (686, 0.004361333155660492), (687, 0.0), (688, 0.006979867142536003), (689, 0.011569798861566097), (690, 0.006981614283552667), (691, 0.0), (692, 0.003778596125542903), (693, 0.0020272873737022744), (694, 0.008051592478394518), (695, 0.0), (696, 0.007556847379095895), (697, 0.001698107803373609), (698, 0.05369945587875378), (699, 0.006003757258589327), (700, 0.0), (701, 0.0034537961749058687), (702, 0.0), (703, 0.0028754612163775675), (704, 0.003721477685515416), (705, 0.003619529569289943), (706, 0.005375752575926699), (707, 0.020038547512175545), (708, 0.0), (709, 0.031067105555089007), (710, 0.01762744167611264), (711, 0.0), (712, 0.0017587514978288003), (713, 0.010536119891351987), (714, 0.001960344593174217), (715, 0.006722315180233541), (716, 0.0017694015332274863), (717, 0.0012038649506592239), (718, 0.0), (719, 0.0), (720, 0.0017961962729419506), (721, 0.0), (722, 0.02296849177190319), (723, 0.0), (724, 0.0017336605474028168), (725, 0.01946113254847324), (726, 0.0), (727, 0.0028182604827166054), (728, 0.01979728089503237), (729, 0.001850657372894059), (730, 0.010973240188068088), (731, 0.0), (732, 0.0), (733, 0.007360519144370871), (734, 0.04716405792572096), (735, 0.0), (736, 0.0), (737, 0.03976868424200754), (738, 0.002661716821793631), (739, 0.0), (740, 0.0), (741, 0.002050941561201725), (742, 0.017608599667897885), (743, 0.057344460036805926), (744, 0.009889436457539912), (745, 0.0), (746, 0.005903430531918874), (747, 0.0014573912147456333), (748, 0.0), (749, 0.001369143494733852), (750, 0.0), (751, 0.004922802933152256), (752, 0.00515479086885781), (753, 0.0), (754, 0.003979848759213163), (755, 0.0), (756, 0.004807359871432526), (757, 0.009363450942220066), (758, 0.0018563673170260467), (759, 0.0), (760, 0.013147720730921943), (761, 0.00216863139365921), (762, 0.0019775076579265486), (763, 0.002524605091958362), (764, 0.008355630690570413), (765, 0.001524643596426882), (766, 0.003460607904194556), (767, 0.0015348301643939896), (768, 0.005498948316737502), (769, 0.05130017714582984), (770, 0.0), (771, 0.0023276910920735556), (772, 0.011372174594139726), (773, 0.015209527215203526), (774, 0.02351604951644202), (775, 0.0), (776, 0.021013589848905716), (777, 0.009245639985259508), (778, 0.0045403892064810715), (779, 0.0016166460951466757), (780, 0.0), (781, 0.06926145436015646), (782, 0.0), (783, 0.0), (784, 0.09427746789568738), (785, 0.010644985796058184), (786, 0.006621321490852164), (787, 0.0), (788, 0.0), (789, 0.01201426523340592), (790, 0.018246498780110112), (791, 0.04030858500195875), (792, 0.010143797927393061), (793, 0.007073321838173921), (794, 0.0), (795, 0.005602107151080763), (796, 0.012451096910668173), (797, 0.0), (798, 0.0), (799, 0.0), (800, 0.00245712198801682), (801, 0.0017683613684979884), (802, 0.0), (803, 0.03499083173532066), (804, 0.0016283894893332057), (805, 0.006711723691784698), (806, 0.004862951018895552), (807, 0.01913655425055366), (808, 0.002694170875927532), (809, 0.004944129322963025), (810, 0.018209668360407574), (811, 0.015258766595939369), (812, 0.024929486331863537), (813, 0.006009806174356515), (814, 0.008483939604700005), (815, 0.003927776378329816), (816, 0.00640559314562263), (817, 0.0039206772475648115), (818, 0.001600708070680199), (819, 0.0), (820, 0.03104985959957207), (821, 0.008459397933743772), (822, 0.008444738914078638), (823, 0.006931755067147649), (824, 0.005823916136390181), (825, 0.0022013683767362277), (826, 0.00767574842917762), (827, 0.015328130579522193), (828, 0.0), (829, 0.0), (830, 0.0), (831, 0.0), (832, 0.020283703632552122), (833, 0.0), (834, 0.0015171676392919343), (835, 0.0037125568841511005), (836, 0.029883176208447198), (837, 0.019633147735239838), (838, 0.009274436502074834), (839, 0.0017570964167126816), (840, 0.0), (841, 0.0), (842, 0.011692745554903012), (843, 0.0), (844, 0.0191877761567102), (845, 0.001273894289929029), (846, 0.0), (847, 0.0), (848, 0.006999792158875582), (849, 0.0019203201219940324), (850, 0.002547464338576368), (851, 0.00145382221217424), (852, 0.004285915500496953), (853, 0.02997894014897169), (854, 0.0), (855, 0.0018373934562855045), (856, 0.0), (857, 0.0), (858, 0.005158596008971321), (859, 0.00802912105991909), (860, 0.012329264820782207), (861, 0.010205220481142608), (862, 0.004742682857167729), (863, 0.0), (864, 0.004762816859170671), (865, 0.0022957713650427506), (866, 0.0), (867, 0.00787752555711717), (868, 0.017711491960065655), (869, 0.0035680716741180564), (870, 0.005968602133884851), (871, 0.0014263533701092115), (872, 0.0017524981591806308), (873, 0.0), (874, 0.006194431473579007), (875, 0.01011197090276118), (876, 0.010943736324301002), (877, 0.007373986106766512), (878, 0.001552112452856847), (879, 0.006632796505103466), (880, 0.0), (881, 0.011446043122360968), (882, 0.006390022658022285), (883, 0.001676828188255009), (884, 0.0013168465458715116), (885, 0.006227630724961253), (886, 0.017207711463543274), (887, 0.0056900135910940095), (888, 0.003090412817615096), (889, 0.010825906606268369), (890, 0.015754312296162625), (891, 0.008295591298102806), (892, 0.002775190354831544), (893, 0.012381342721545296), (894, 0.0061824812923077024), (895, 0.0), (896, 0.010509423740901674), (897, 0.0064623365100881965), (898, 0.01955365264894645), (899, 0.022963551429732512), (900, 0.003965317532492699), (901, 0.008218708574047365), (902, 0.0056739935407659325), (903, 0.008096657117991837), (904, 0.00944271315888616), (905, 0.001882513550008843), (906, 0.0), (907, 0.00929205849505374), (908, 0.007682490239197419), (909, 0.001822750460792223), (910, 0.00317571975774789), (911, 0.012540969569204355), (912, 0.005627856361061613), (913, 0.0), (914, 0.0), (915, 0.03334589566505317), (916, 0.009038121081634449), (917, 0.13876584817222185), (918, 0.0015364491614853414), (919, 0.0018186914390023688), (920, 0.0018908737291499739), (921, 0.005451936277795104), (922, 0.0059718075785236925), (923, 0.011187548775668231), (924, 0.002141154472712868), (925, 0.00439887052321882), (926, 0.0037264436034325442), (927, 0.004831309296153266), (928, 0.026453344526510263), (929, 0.010347123592838662), (930, 0.0), (931, 0.012832072485194263), (932, 0.01664091745854552), (933, 0.013186337857921454), (934, 0.00887405733954522), (935, 0.016217299678472213), (936, 0.007215488279471957), (937, 0.006104082566051927), (938, 0.0018324351935452307), (939, 0.0), (940, 0.022043969658025762), (941, 0.0019219461681507911), (942, 0.02741461996564147), (943, 0.008940840849037715), (944, 0.0018217485642056277), (945, 0.0017152534363905582), (946, 0.008591048743501596), (947, 0.003570620348818672), (948, 0.0), (949, 0.0), (950, 0.0013817452880940054), (951, 0.036314266100789194), (952, 0.0), (953, 0.009991572680158853), (954, 0.0148592418106577), (955, 0.0), (956, 0.0), (957, 0.004961782124165104), (958, 0.0018289538343577664), (959, 0.0), (960, 0.00445605862058857), (961, 0.013512696541794541), (962, 0.006433681515042869), (963, 0.0), (964, 0.007464499879704614), (965, 0.0016461578864400456), (966, 0.00482036856830184), (967, 0.013562204730303166), (968, 0.007214343664566516), (969, 0.0), (970, 0.001836428541345966), (971, 0.008809339590706771), (972, 0.004570213556938736), (973, 0.004166036480774215), (974, 0.011037401195334834), (975, 0.010753549871050231), (976, 0.0019203483707279985), (977, 0.002084397639860204), (978, 0.0018828541995467613), (979, 0.0), (980, 0.021151572648244337), (981, 0.024811173600133334), (982, 0.0219587975365477), (983, 0.0022134242852884407), (984, 0.006748946935376292), (985, 0.007082664806877497), (986, 0.0237645209766997), (987, 0.0), (988, 0.019578282332666702), (989, 0.09289491418190501), (990, 0.03203259778587324), (991, 0.002247713340697033), (992, 0.002926267885014198), (993, 0.013264410018395865), (994, 0.016125318004297368), (995, 0.02005995332917461), (996, 0.00446823974692884), (997, 0.0), (998, 0.026616036572489253), (999, 0.0013988460681266758), (1000, 0.0), (1001, 0.0), (1002, 0.019670600865002476), (1003, 0.005228467732289465), (1004, 0.009853157089104215), (1005, 0.0), (1006, 0.0), (1007, 0.008930226085592342), (1008, 0.0014338027189158475), (1009, 0.0068580260247647195), (1010, 0.007192620850904953), (1011, 0.0), (1012, 0.0017585239261978375), (1013, 0.006577921755443313), (1014, 0.0), (1015, 0.01408907150413647), (1016, 0.0), (1017, 0.01150084676099293), (1018, 0.030287199836885645), (1019, 0.00908987186531295), (1020, 0.010351983016434651), (1021, 0.008787586915958885), (1022, 0.0031829502147043163), (1023, 0.008169240874881691), (1024, 0.004081700509051678), (1025, 0.001326682285745948), (1026, 0.008377085534470407), (1027, 0.009430120355297682), (1028, 0.006802847605429229), (1029, 0.017917329191024504), (1030, 0.0), (1031, 0.0014650792522654193), (1032, 0.19333876127835276), (1033, 0.007228682519665077), (1034, 0.004233802265763572), (1035, 0.004727627118949414), (1036, 0.0), (1037, 0.0103349795910037), (1038, 0.006214079915715433), (1039, 0.0016651401847097278), (1040, 0.0), (1041, 0.002565640408983939), (1042, 0.0023917874196943433), (1043, 0.017532181887126765), (1044, 0.008136372440675912), (1045, 0.0), (1046, 0.0), (1047, 0.00554783268107601), (1048, 0.009728495449514664), (1049, 0.0021667095854117683), (1050, 0.0012955332876536786), (1051, 0.0014559751014670962), (1052, 0.007165937280581388), (1053, 0.003529482848887217), (1054, 0.017389971411001428), (1055, 0.0023434595947519152), (1056, 0.003723546717904663), (1057, 0.0), (1058, 0.0044347689511681524), (1059, 0.0), (1060, 0.001894592814578821), (1061, 0.0), (1062, 0.0), (1063, 0.0), (1064, 0.02114617233166092), (1065, 0.0034600080752861507), (1066, 0.0), (1067, 0.0), (1068, 0.007048677576590008), (1069, 0.013614162067122513), (1070, 0.009256829156254861), (1071, 0.003242379546165623), (1072, 0.01202240854788194), (1073, 0.0), (1074, 0.00520097243190283), (1075, 0.003203123794183812), (1076, 0.004510460886483727), (1077, 0.023001489913385825), (1078, 0.0017633955351216547), (1079, 0.0071837057442046826), (1080, 0.0), (1081, 0.023430812938462917), (1082, 0.0), (1083, 0.005833691266389251), (1084, 0.014292233563705651), (1085, 0.0), (1086, 0.005150136308136877), (1087, 0.0016347547150947024), (1088, 0.013726241832248496), (1089, 0.01127901620614914), (1090, 0.002201534272671299), (1091, 0.0), (1092, 0.016342014976400362), (1093, 0.034715518572713815), (1094, 0.0019328666603777185), (1095, 0.001634139841158379), (1096, 0.0), (1097, 0.0020533780624596913), (1098, 0.011657646978285564), (1099, 0.0), (1100, 0.0), (1101, 0.005068382772061112), (1102, 0.0), (1103, 0.011261374166969772), (1104, 0.005179383235099843), (1105, 0.0015032660707001775), (1106, 0.0), (1107, 0.00803989617675273), (1108, 0.0037136872412035413), (1109, 0.0), (1110, 0.0015294299588297763), (1111, 0.011926194584151279), (1112, 0.060421260077988724), (1113, 0.006831492602817945), (1114, 0.0019281913030281903), (1115, 0.0059239005572443056), (1116, 0.00177071516671615), (1117, 0.0), (1118, 0.01717114565215367), (1119, 0.005946878753996441), (1120, 0.025967493449198024), (1121, 0.0), (1122, 0.005065765820841179), (1123, 0.005607016747381581), (1124, 0.003173030849390634), (1125, 0.030853321857411492), (1126, 0.012775508468385172), (1127, 0.0), (1128, 0.00417509665569888), (1129, 0.0), (1130, 0.007711343757527227), (1131, 0.005260541572252383), (1132, 0.0014923208800499948), (1133, 0.0), (1134, 0.0), (1135, 0.04268038376515389), (1136, 0.0), (1137, 0.05331565410637328), (1138, 0.0019448221661365734), (1139, 0.0024140940128702625), (1140, 0.003870288032782808), (1141, 0.0), (1142, 0.006701940370938955), (1143, 0.006816673658953329), (1144, 0.006115866214746473), (1145, 0.005172887702137079), (1146, 0.027064896217941833), (1147, 0.007788805653834448), (1148, 0.0017537218406348941), (1149, 0.0), (1150, 0.0), (1151, 0.0014263639279450473), (1152, 0.002102608747547719), (1153, 0.006226853101036838), (1154, 0.013029747188653512), (1155, 0.011860748941914924), (1156, 0.0), (1157, 0.011200444005254153), (1158, 0.005558056532294792), (1159, 0.0072580662251246), (1160, 0.013302488186333563), (1161, 0.00192449088336098), (1162, 0.0), (1163, 0.0), (1164, 0.0012583971541618511), (1165, 0.006042266997612523), (1166, 0.010240733158777774), (1167, 0.0), (1168, 0.009035409651778707), (1169, 0.0), (1170, 0.003511486780569549), (1171, 0.006528102038869145), (1172, 0.001532981888110213), (1173, 0.005404119702509602), (1174, 0.022597557014675817), (1175, 0.005225563080552934), (1176, 0.0), (1177, 0.0), (1178, 0.005889554598289412), (1179, 0.0013589986007288089), (1180, 0.0), (1181, 0.002028795992130163), (1182, 0.0), (1183, 0.004478026105604899), (1184, 0.0020325523830637925), (1185, 0.0), (1186, 0.0037543785603898006), (1187, 0.0), (1188, 0.004718661905467507), (1189, 0.006245888029852402), (1190, 0.01704320964590178), (1191, 0.0013392571826664349), (1192, 0.0), (1193, 0.008705748657037618), (1194, 0.026273379744035288), (1195, 0.006494598140862487), (1196, 0.0016981228292251645), (1197, 0.0024855327734355725), (1198, 0.020305511427344606), (1199, 0.020762916248337513), (1200, 0.0), (1201, 0.01407007543860166), (1202, 0.005230968639881259), (1203, 0.0061585996114018006), (1204, 0.0), (1205, 0.0051691067613594145), (1206, 0.01629323050508017), (1207, 0.010437822832446625), (1208, 0.010571261890488992), (1209, 0.014433408147232919), (1210, 0.003726412837422937), (1211, 0.006797315243740063), (1212, 0.006638570877450784), (1213, 0.0), (1214, 0.0013810277416119283), (1215, 0.011623665804699002), (1216, 0.013445757509491018), (1217, 0.011033704953073374), (1218, 0.005101587985769492), (1219, 0.004531689749801744), (1220, 0.02536229830696607), (1221, 0.0), (1222, 0.0), (1223, 0.032655992904574827), (1224, 0.0018440106864920588), (1225, 0.013493083984225841), (1226, 0.01289942688894644), (1227, 0.0), (1228, 0.005702217672063174), (1229, 0.02088217238200006), (1230, 0.011214506291301645), (1231, 0.0), (1232, 0.0), (1233, 0.006116161111022646), (1234, 0.024617201613030777), (1235, 0.011483204707048255), (1236, 0.020568491143720242), (1237, 0.0), (1238, 0.004773350956433912), (1239, 0.001277036989088451), (1240, 0.0), (1241, 0.007664985217633031), (1242, 0.06815239676470161), (1243, 0.03218395112389472), (1244, 0.019971219941646263), (1245, 0.010046939731419185), (1246, 0.002883322405056829), (1247, 0.0), (1248, 0.007643609373655123), (1249, 0.02679891131581266), (1250, 0.013749305242493317), (1251, 0.008931816877034485), (1252, 0.0), (1253, 0.02914656357764811), (1254, 0.008938242272032769), (1255, 0.031903242588271624), (1256, 0.00360895246452776), (1257, 0.0017764053608606356), (1258, 0.020129895533007057), (1259, 0.0), (1260, 0.00824243128207295), (1261, 0.02598675831017604), (1262, 0.010486353440245538), (1263, 0.022377972962481712), (1264, 0.0), (1265, 0.0), (1266, 0.005040554958362404), (1267, 0.009201697469967053), (1268, 0.0), (1269, 0.006875276024952967), (1270, 0.009876655782972603), (1271, 0.005947076767371815), (1272, 0.002587942141587159), (1273, 0.0), (1274, 0.0), (1275, 0.0), (1276, 0.002740396226612375), (1277, 0.009483740936053073), (1278, 0.014986018721185712), (1279, 0.0011875066754476727), (1280, 0.014728569052455676), (1281, 0.0015944108926371204), (1282, 0.0033998458230123547), (1283, 0.001529608500128494), (1284, 0.0014346649532878501), (1285, 0.0014365860982988835), (1286, 0.002183817856799829), (1287, 0.001767461402761324), (1288, 0.0), (1289, 0.0015007405663516977), (1290, 0.009308238344589735), (1291, 0.011838589437873491), (1292, 0.013560152344910205), (1293, 0.02524500265896743), (1294, 0.017324952450153714), (1295, 0.03068305439499065), (1296, 0.008615164529704924), (1297, 0.0), (1298, 0.007663173332373773), (1299, 0.009043231679536707), (1300, 0.0), (1301, 0.001069813990469535), (1302, 0.010635700454011849), (1303, 0.00944501217824977), (1304, 0.004150627083026768), (1305, 0.0071568772452357), (1306, 0.0), (1307, 0.015329095950792335), (1308, 0.005888105998732492), (1309, 0.011510036980730384), (1310, 0.002307136568817356), (1311, 0.0042605567491468335), (1312, 0.004265666303801506), (1313, 0.004166690413866938), (1314, 0.009069146693478337), (1315, 0.006392618530186635), (1316, 0.019257114702205487), (1317, 0.007378097482981393), (1318, 0.0012318937857407825), (1319, 0.008512076368365462), (1320, 0.0018121635557141458), (1321, 0.0), (1322, 0.0), (1323, 0.0), (1324, 0.00539911134811965), (1325, 0.008679905573563223), (1326, 0.013873251216215418), (1327, 0.015319024757629557), (1328, 0.0022362410864316083), (1329, 0.0), (1330, 0.002094329649488477), (1331, 0.0014594314550577287), (1332, 0.01574541277934282), (1333, 0.0015322407492632947), (1334, 0.026296460980448265), (1335, 0.004042295176277937), (1336, 0.002073819736092842), (1337, 0.0), (1338, 0.004897883049531769), (1339, 0.007492263200604819), (1340, 0.01699676567235665), (1341, 0.018239271443209915), (1342, 0.0), (1343, 0.01126346704710971), (1344, 0.005844475097090277), (1345, 0.0012477839063725071), (1346, 0.0), (1347, 0.01615372332324081), (1348, 0.007728300932109484), (1349, 0.012103564299142187), (1350, 0.0016609851740049942), (1351, 0.03234539622458086), (1352, 0.002453114710407288), (1353, 0.006672325122514786), (1354, 0.007758510308500822), (1355, 0.009645772113739362), (1356, 0.00130470770190096), (1357, 0.02035126734484168), (1358, 0.04896146252407057), (1359, 0.0), (1360, 0.0025699013320497383), (1361, 0.0), (1362, 0.007928740333422746), (1363, 0.007480787955682001), (1364, 0.005022206743780118), (1365, 0.0047115676826972805), (1366, 0.022973694251745568), (1367, 0.0), (1368, 0.0019667745292231576), (1369, 0.007310659355007113), (1370, 0.0), (1371, 0.006554599998888937), (1372, 0.038808586967400714), (1373, 0.0), (1374, 0.0), (1375, 0.0027664279735104716), (1376, 0.00509530426681773), (1377, 0.0), (1378, 0.01547170812403155), (1379, 0.004024444458061242), (1380, 0.001658620915927698), (1381, 0.011962963585081247), (1382, 0.006259767326500397), (1383, 0.012075321281269282), (1384, 0.0), (1385, 0.0), (1386, 0.01972770125089775), (1387, 0.0089988848131483), (1388, 0.0249570744419306), (1389, 0.001937075912628322), (1390, 0.003638650518044705), (1391, 0.010289318386209344), (1392, 0.0023907043676438043), (1393, 0.0018454329280803447), (1394, 0.0), (1395, 0.009096870912586312), (1396, 0.010955405893309211), (1397, 0.003407272706189633), (1398, 0.0), (1399, 0.011451838765913484), (1400, 0.01144371081091805), (1401, 0.0), (1402, 0.0), (1403, 0.0), (1404, 0.005349969446096974), (1405, 0.004955891746060827), (1406, 0.004233202379868424), (1407, 0.018203450472989692), (1408, 0.00711472527084674), (1409, 0.005340512580570878), (1410, 0.0), (1411, 0.0013877024767853813), (1412, 0.028883571090244163), (1413, 0.0), (1414, 0.020719176530103106), (1415, 0.0021074437549887313), (1416, 0.00442803212226742), (1417, 0.007080055660588229), (1418, 0.012561092061794503), (1419, 0.001379735608205612), (1420, 0.008976487433804688), (1421, 0.023034954483426656), (1422, 0.019806798805889706), (1423, 0.006001575451554512), (1424, 0.00273005510841344), (1425, 0.010111696507291677), (1426, 0.040646946932330535), (1427, 0.0), (1428, 0.004644916511493782), (1429, 0.25959412073946175), (1430, 0.0015072319512300753), (1431, 0.0067490579352798485), (1432, 0.0035202152984865195), (1433, 0.009598368562846045), (1434, 0.0), (1435, 0.0015889060320779015), (1436, 0.04385455057235965), (1437, 0.0), (1438, 0.0), (1439, 0.004988189815658263), (1440, 0.0), (1441, 0.010086986127916555), (1442, 0.0), (1443, 0.0), (1444, 0.04990470389583048), (1445, 0.0014218492988883808), (1446, 0.001441144715154166), (1447, 0.0), (1448, 0.045898139506848235), (1449, 0.011264603078121542), (1450, 0.04134730658427825), (1451, 0.0), (1452, 0.025826705786638746), (1453, 0.0), (1454, 0.0017811391267753217), (1455, 0.01688811082582936), (1456, 0.0), (1457, 0.010533460888677501), (1458, 0.0022023177755257123), (1459, 0.020824583551002623), (1460, 0.005895579695777069), (1461, 0.00974022603010287), (1462, 0.001135665682727836), (1463, 0.0013065869736728069), (1464, 0.006445311345438038), (1465, 0.0), (1466, 0.02459202644279662), (1467, 0.010915624426675836), (1468, 0.01115360495286273), (1469, 0.014077670935841476), (1470, 0.005033675977068742), (1471, 0.0053668053501083795), (1472, 0.0), (1473, 0.015696407981742898), (1474, 0.006955216793873349), (1475, 0.0), (1476, 0.002695674807429967), (1477, 0.03489925841233649), (1478, 0.015060170027836245), (1479, 0.001422366483242706), (1480, 0.005806673690814673), (1481, 0.005566089603331205), (1482, 0.0022393507593242404), (1483, 0.0023871641125334897), (1484, 0.0014228052996106127), (1485, 0.007368478562777605), (1486, 0.0), (1487, 0.027651535384187395), (1488, 0.007462840936064491), (1489, 0.01555264815708901), (1490, 0.0), (1491, 0.007013587278250119), (1492, 0.006674486960985444), (1493, 0.0019023551054726012), (1494, 0.0), (1495, 0.032644105986718915), (1496, 0.0), (1497, 0.0), (1498, 0.004923955346433393), (1499, 0.0), (1500, 0.018963523558181185), (1501, 0.01653855884776668), (1502, 0.005274300060071216), (1503, 0.01772539105302958), (1504, 0.0034590191982217084), (1505, 0.009481379739621442), (1506, 0.0), (1507, 0.004372985555233578), (1508, 0.001596945465582688), (1509, 0.0012780761339838012), (1510, 0.019988790125751485), (1511, 0.008453624325919666), (1512, 0.005786391965545999), (1513, 0.001716116317938064), (1514, 0.00649608394204244), (1515, 0.019904448689595528), (1516, 0.0), (1517, 0.006708825724094387), (1518, 0.015254383347134434), (1519, 0.014320130036888878), (1520, 0.0), (1521, 0.00607122502784568), (1522, 0.009170706275149168), (1523, 0.007317568170083431), (1524, 0.01030912635653911), (1525, 0.042021886195202945), (1526, 0.020652197318566445), (1527, 0.00476136889151603), (1528, 0.005896143807215044), (1529, 0.024875150476743532), (1530, 0.0), (1531, 0.0015112648525744047), (1532, 0.008266534758513876), (1533, 0.0051218040783981575), (1534, 0.0), (1535, 0.0014774944106344774), (1536, 0.006942023761115614), (1537, 0.0), (1538, 0.009553001798925872), (1539, 0.05029283464666442), (1540, 0.0), (1541, 0.022806954593099782), (1542, 0.0034432901357116484), (1543, 0.0), (1544, 0.0021254707142327398), (1545, 0.010613811259034085), (1546, 0.0038075889358304333), (1547, 0.003215110730196908), (1548, 0.0), (1549, 0.009691232236870646), (1550, 0.011784435364683644), (1551, 0.006420697773815336), (1552, 0.0), (1553, 0.0020279413285621906), (1554, 0.0), (1555, 0.020521285534202065), (1556, 0.024401074028392894), (1557, 0.05949455651570228), (1558, 0.0), (1559, 0.0), (1560, 0.0), (1561, 0.0032361299816088284), (1562, 0.0022877295667491455), (1563, 0.0016255303821481244), (1564, 0.0037281628799930187), (1565, 0.005856386226599751), (1566, 0.01316187262337849), (1567, 0.018392914992506202), (1568, 0.004077829751402329), (1569, 0.013111720767090322), (1570, 0.019784177330929856), (1571, 0.004175303406134713), (1572, 0.0014791345787021437), (1573, 0.010751657954270738), (1574, 0.0), (1575, 0.01717724183453675), (1576, 0.008596526276448902), (1577, 0.008454655306116655), (1578, 0.031613574263406836), (1579, 0.0), (1580, 0.0), (1581, 0.003938226813363955), (1582, 0.0), (1583, 0.0), (1584, 0.02765533007465437), (1585, 0.024309237771867696), (1586, 0.004411324718008249), (1587, 0.023638450511406544), (1588, 0.014647551112152601), (1589, 0.0), (1590, 0.010167295457505457), (1591, 0.0), (1592, 0.0), (1593, 0.002870019213631245), (1594, 0.015308623272715545), (1595, 0.004980035593842025), (1596, 0.006735643807094091), (1597, 0.012256514991037519), (1598, 0.0), (1599, 0.0), (1600, 0.025245526255159374), (1601, 0.002262966951143462), (1602, 0.007380589446695465), (1603, 0.042439849092920395), (1604, 0.013030511509542802), (1605, 0.01451764204221534), (1606, 0.006897559463406332), (1607, 0.02204450409226511), (1608, 0.006996852593632656), (1609, 0.023423224113142446), (1610, 0.0), (1611, 0.045112396915488545), (1612, 0.0), (1613, 0.0), (1614, 0.0), (1615, 0.01780388521346163), (1616, 0.008918813310363503), (1617, 0.006308400969833996), (1618, 0.007552960934804483), (1619, 0.001748752801044858), (1620, 0.0), (1621, 0.002328488214867306), (1622, 0.0), (1623, 0.023540268100716646), (1624, 0.002360220242291976), (1625, 0.038570076277428034), (1626, 0.008837687946057597), (1627, 0.0), (1628, 0.0017868748035209455), (1629, 0.0027447425714556785), (1630, 0.00900268353355993), (1631, 0.0), (1632, 0.009753001459135761), (1633, 0.0), (1634, 0.0), (1635, 0.021384298891728288), (1636, 0.0), (1637, 0.011831318952811544), (1638, 0.008181095346658198), (1639, 0.0054770852238856735), (1640, 0.0), (1641, 0.007905476483105682), (1642, 0.0), (1643, 0.004131773803097236), (1644, 0.005547627257051968), (1645, 0.0), (1646, 0.0014687386828747945), (1647, 0.020025213937407336), (1648, 0.0047219362421697), (1649, 0.006249546414344274), (1650, 0.008688380504997893), (1651, 0.0), (1652, 0.0029343536532757094), (1653, 0.014287239232733128), (1654, 0.0), (1655, 0.011146831596628222), (1656, 0.0), (1657, 0.048618572039939315), (1658, 0.01442032094980237), (1659, 0.0), (1660, 0.0023050838549179722), (1661, 0.03438866061854751), (1662, 0.004744865991325481), (1663, 0.0016098410988908687), (1664, 0.011369951273035743), (1665, 0.0021209044607786187), (1666, 0.002079924003639766), (1667, 0.0017920217384146142), (1668, 0.0), (1669, 0.0021418962732071122), (1670, 0.002671546950683063), (1671, 0.005810684064787344), (1672, 0.0021735854017801274), (1673, 0.02006639222509163), (1674, 0.012585640071248284), (1675, 0.015830225943769), (1676, 0.0), (1677, 0.0050679751526322425), (1678, 0.00721971526411252), (1679, 0.018185148376476553), (1680, 0.0025002726754588074), (1681, 0.01053998153268686), (1682, 0.0037321219170361433), (1683, 0.0020916530407642745), (1684, 0.0016187094591630779), (1685, 0.042412671296723235), (1686, 0.037737776153313925), (1687, 0.003219049203317398), (1688, 0.006000912120535122), (1689, 0.018690749537745546), (1690, 0.005797444369303826), (1691, 0.012433269309999068), (1692, 0.014549121343403179), (1693, 0.0012270558277798732), (1694, 0.006195644927946922), (1695, 0.003805317848164222), (1696, 0.0), (1697, 0.02068889489498552), (1698, 0.01014906564663753), (1699, 0.016993768305597495), (1700, 0.009375167197146247), (1701, 0.042792633375071255), (1702, 0.004467379469333601), (1703, 0.0), (1704, 0.0036093845112006497), (1705, 0.020043443136030924), (1706, 0.002317767052925074), (1707, 0.0), (1708, 0.0), (1709, 0.0), (1710, 0.0023613672191481585), (1711, 0.021648295845880912), (1712, 0.001377579985711804), (1713, 0.006602139289145916), (1714, 0.0), (1715, 0.0), (1716, 0.02025811802441857), (1717, 0.01798134833897791), (1718, 0.0), (1719, 0.0), (1720, 0.004909680230823253), (1721, 0.0), (1722, 0.0), (1723, 0.012593125717593488), (1724, 0.01143133935018955), (1725, 0.007867369168245103), (1726, 0.0), (1727, 0.0), (1728, 0.0), (1729, 0.01624173706944649), (1730, 0.049982059273815854), (1731, 0.001697542093339621), (1732, 0.003852142740578526), (1733, 0.0020640503745590765), (1734, 0.015369714365731358), (1735, 0.0), (1736, 0.002829207737733896), (1737, 0.02676330946619293), (1738, 0.02584193141855361), (1739, 0.008877888723509591), (1740, 0.04609969713028861), (1741, 0.01052801109995258), (1742, 0.002387282797739417), (1743, 0.029413579022746925), (1744, 0.0014582716270672418), (1745, 0.014599772320720166), (1746, 0.0), (1747, 0.0), (1748, 0.008606862411706285), (1749, 0.0), (1750, 0.007004039238153303), (1751, 0.02429726096046832), (1752, 0.004923289990558193), (1753, 0.001324447711288408), (1754, 0.02935850097896925), (1755, 0.0015504294821158421), (1756, 0.014828971481932183), (1757, 0.008061508760291169), (1758, 0.001795169942699071), (1759, 0.0), (1760, 0.013608535966547328), (1761, 0.0), (1762, 0.026692197192352173), (1763, 0.0), (1764, 0.0014895025958999444), (1765, 0.001468035418828455), (1766, 0.001915597671462368), (1767, 0.05482962120550636), (1768, 0.0), (1769, 0.007523665358133874), (1770, 0.026791821513264112), (1771, 0.010463171334982486), (1772, 0.027602209154391336), (1773, 0.0), (1774, 0.0020568481191097507), (1775, 0.027348212249407197), (1776, 0.0), (1777, 0.0), (1778, 0.0024792216164737004), (1779, 0.0), (1780, 0.006369269229137856), (1781, 0.0011472496453374538), (1782, 0.03886700807018191), (1783, 0.0032109513465286193), (1784, 0.0), (1785, 0.0031967974817003397), (1786, 0.016355696453305164), (1787, 0.0022108591550461013), (1788, 0.0050379642402787715), (1789, 0.0), (1790, 0.1296465359565833), (1791, 0.0), (1792, 0.002047891523407432), (1793, 0.00147634238575337), (1794, 0.01679973742706946), (1795, 0.0), (1796, 0.0), (1797, 0.016093811185437335), (1798, 0.0), (1799, 0.005647363790392213), (1800, 0.010971276776123935), (1801, 0.006258483130107193), (1802, 0.0017691236088926135), (1803, 0.0), (1804, 0.005417574342648509), (1805, 0.013843795049385824), (1806, 0.0), (1807, 0.0), (1808, 0.005514810472963066), (1809, 0.013021568967384697), (1810, 0.06036073066316191), (1811, 0.004209270702840497), (1812, 0.010930657892177929), (1813, 0.003235288843023194), (1814, 0.004925036437173783), (1815, 0.0018389851113438341), (1816, 0.0014771405780180894), (1817, 0.005455530533958036), (1818, 0.00972078088485196), (1819, 0.006779829504233181), (1820, 0.0015685097720362841), (1821, 0.008499692243093653), (1822, 0.010106867041174637), (1823, 0.009314634214118881), (1824, 0.0019931071942894084), (1825, 0.0076033647187714595), (1826, 0.0019005613370593121), (1827, 0.0068288664586034714), (1828, 0.026532104846202498), (1829, 0.0), (1830, 0.003239599634090931), (1831, 0.010846648851174697), (1832, 0.017662628432489506), (1833, 0.0045558332222778), (1834, 0.004949127828530141), (1835, 0.0016875369315630373), (1836, 0.0), (1837, 0.006506544977589488), (1838, 0.005420723173341706), (1839, 0.017976975490417796), (1840, 0.0), (1841, 0.003928997849018396), (1842, 0.0015770702899069468), (1843, 0.0), (1844, 0.0), (1845, 0.0), (1846, 0.02410179544769114), (1847, 0.004923888760542361), (1848, 0.00803597100853375), (1849, 0.002293515854296722), (1850, 0.0016389244683844705), (1851, 0.0), (1852, 0.015088755616709089), (1853, 0.005460767707926594), (1854, 0.008473663682854328), (1855, 0.019102965836477928), (1856, 0.0013029890967281978), (1857, 0.0), (1858, 0.0013276044565449165), (1859, 0.014422243421420356), (1860, 0.0), (1861, 0.012809091686204921), (1862, 0.00436648984663797), (1863, 0.003361036865749327), (1864, 0.0), (1865, 0.015775161874249908), (1866, 0.0), (1867, 0.0026086344920837824), (1868, 0.005599325385790586), (1869, 0.02233892037574483), (1870, 0.010088725399414203), (1871, 0.007664257124010004), (1872, 0.006870969851159728), (1873, 0.011704977219064935), (1874, 0.0013972178288581092), (1875, 0.0053450438649807995), (1876, 0.00812655650481581), (1877, 0.020925212529433825), (1878, 0.0054043349440715096), (1879, 0.003487017028508413), (1880, 0.0030629011385438876), (1881, 0.035380456266754776), (1882, 0.0), (1883, 0.0013990546826167937), (1884, 0.00912827998041382), (1885, 0.007331082729272575), (1886, 0.0), (1887, 0.01417187161730242), (1888, 0.009144752647308838), (1889, 0.0), (1890, 0.0013711940160347478), (1891, 0.011174468461789279), (1892, 0.007417518136383024), (1893, 0.0), (1894, 0.0013691066237074558), (1895, 0.013441078356417422), (1896, 0.007953100334319436), (1897, 0.007653937547323945), (1898, 0.0), (1899, 0.028440295002838893), (1900, 0.0), (1901, 0.00948235813978616), (1902, 0.00690753342935779), (1903, 0.0), (1904, 0.004895703224200783), (1905, 0.02766797054361941), (1906, 0.01028527915328699), (1907, 0.007937374092092676), (1908, 0.029436170932047676), (1909, 0.0020624323154072675), (1910, 0.014749261022561017), (1911, 0.002540139508991148), (1912, 0.006693688437680319), (1913, 0.0), (1914, 0.008144356480464719), (1915, 0.0), (1916, 0.0), (1917, 0.0), (1918, 0.017229953109839654), (1919, 0.008746789043004457), (1920, 0.0063720911185429175), (1921, 0.001867454248572634), (1922, 0.0025218412758345934), (1923, 0.0021268767689451877), (1924, 0.018083318754829714), (1925, 0.09077457341373844), (1926, 0.015796202652205656), (1927, 0.0020349526696050147), (1928, 0.0016586151086150891), (1929, 0.0021708176116074893), (1930, 0.0014733066662459189), (1931, 0.001396331897351614), (1932, 0.017219807281583042), (1933, 0.00488580152725817), (1934, 0.002125172231939801), (1935, 0.002125606407123562), (1936, 0.0), (1937, 0.01083911656811799), (1938, 0.005304998618094515), (1939, 0.009025941447326338), (1940, 0.010743056935750417), (1941, 0.001703667383962414), (1942, 0.008515231391502006), (1943, 0.0), (1944, 0.001982272440496078), (1945, 0.012677431163517765), (1946, 0.024061187868315393), (1947, 0.0024439000194859104), (1948, 0.014395785946383358), (1949, 0.001977746065644013), (1950, 0.007382985982728914), (1951, 0.007938975140685577), (1952, 0.011684660866065346), (1953, 0.002306175903542217), (1954, 0.0015651865129146592), (1955, 0.0030098799308975245), (1956, 0.009739574177024904), (1957, 0.032826980142686944), (1958, 0.001887620960063828), (1959, 0.002940635025010229), (1960, 0.0014496112035872102), (1961, 0.0), (1962, 0.0), (1963, 0.006555571260712782), (1964, 0.0016603870794603091), (1965, 0.03837148350159975), (1966, 0.0012708988109044704), (1967, 0.0), (1968, 0.0022090846646818946), (1969, 0.005780008077057406), (1970, 0.0), (1971, 0.01990239841443544), (1972, 0.0), (1973, 0.009113266987761565), (1974, 0.0), (1975, 0.005712848163744126), (1976, 0.015912827588638215), (1977, 0.0), (1978, 0.0), (1979, 0.012326150991616545), (1980, 0.0016788736925311902), (1981, 0.004980368626979662), (1982, 0.010530125130976668), (1983, 0.012870625270666151), (1984, 0.0025231071907467896), (1985, 0.001771456939877367), (1986, 0.0057715320565162025), (1987, 0.0), (1988, 0.0016684413859830622), (1989, 0.007007045340759991), (1990, 0.013914336201737536), (1991, 0.004150450130580974), (1992, 0.0016746054930430788), (1993, 0.018114736610807307), (1994, 0.0), (1995, 0.0), (1996, 0.0), (1997, 0.0031361218780531), (1998, 0.0), (1999, 0.0), (2000, 0.00834070908467268), (2001, 0.0), (2002, 0.03488450467252446), (2003, 0.008829411058511927), (2004, 0.008903813044827465), (2005, 0.026548404832165504), (2006, 0.005225327750105098), (2007, 0.0), (2008, 0.0), (2009, 0.003917376663087897), (2010, 0.0023068844693127735), (2011, 0.008717856212601438), (2012, 0.026973133565211922), (2013, 0.0), (2014, 0.002027151716468802), (2015, 0.015070556938826809), (2016, 0.012398297324138208), (2017, 0.007380077722774801), (2018, 0.01073142391699774), (2019, 0.0015270212596429102), (2020, 0.0), (2021, 0.0), (2022, 0.01652810689462474), (2023, 0.00986411723611461), (2024, 0.004140343163333465), (2025, 0.02374013031437318), (2026, 0.0034498755025400953), (2027, 0.009773813546763356), (2028, 0.006054594571564528), (2029, 0.0), (2030, 0.0012153955123613402), (2031, 0.012436089386973676), (2032, 0.007166371102271829), (2033, 0.014925479905945657), (2034, 0.0024708730943899136), (2035, 0.006147956301242129), (2036, 0.005923952951354798), (2037, 0.0016516616580428023), (2038, 0.007869324766437282), (2039, 0.0), (2040, 0.0091570238926079), (2041, 0.005838175210526816), (2042, 0.005120450264504209), (2043, 0.00629046862596082), (2044, 0.006195552101442271), (2045, 0.0), (2046, 0.01943840958224157), (2047, 0.011338198657666707), (2048, 0.0), (2049, 0.0), (2050, 0.0038572388211157212), (2051, 0.004120536125569431), (2052, 0.0), (2053, 0.0), (2054, 0.011778174704275932), (2055, 0.006494605560928216), (2056, 0.008514101323767537), (2057, 0.006280686542101923), (2058, 0.0021245780115533193), (2059, 0.005489155228537291), (2060, 0.004811095690642408), (2061, 0.0), (2062, 0.0), (2063, 0.009801105115793081), (2064, 0.0107385914249686), (2065, 0.005499691991034237), (2066, 0.03418307693476273), (2067, 0.0018946493864913246), (2068, 0.0018054118813385506), (2069, 0.0016424793495484766), (2070, 0.0026687165416814005), (2071, 0.013593326989844187), (2072, 0.0), (2073, 0.0), (2074, 0.006184394709491051), (2075, 0.012955626744745829), (2076, 0.012429135799694657), (2077, 0.0070478101143750145), (2078, 0.007918687546114331), (2079, 0.0018782999603267892), (2080, 0.0), (2081, 0.00498127660553907), (2082, 0.0), (2083, 0.004002930846346592), (2084, 0.002755350085651117), (2085, 0.023220317993141296), (2086, 0.010429068549188446), (2087, 0.027851825086427372), (2088, 0.0122017898211304), (2089, 0.0), (2090, 0.0), (2091, 0.006969482049722996), (2092, 0.003984818349842566), (2093, 0.0017883279253700268), (2094, 0.0), (2095, 0.0), (2096, 0.0), (2097, 0.0014995944690024353), (2098, 0.0), (2099, 0.0), (2100, 0.0), (2101, 0.004339927745133478), (2102, 0.004183727994794803), (2103, 0.010824083416860787), (2104, 0.0), (2105, 0.0), (2106, 0.005709710926284863), (2107, 0.0), (2108, 0.03708279609847592), (2109, 0.0087487898354948), (2110, 0.02736892970965793), (2111, 0.018986336656732918), (2112, 0.005966278211883041), (2113, 0.004958688409746533), (2114, 0.016899364459036087), (2115, 0.02312521015381458), (2116, 0.007699928783821061), (2117, 0.0), (2118, 0.00454849077615472), (2119, 0.009921370323045775), (2120, 0.013342271385794153), (2121, 0.0016865522365172034), (2122, 0.04294581129358948), (2123, 0.027013211955398752), (2124, 0.002207718663145372), (2125, 0.00883452833822848), (2126, 0.023375778486042293), (2127, 0.012748582081839824), (2128, 0.025335132779945653), (2129, 0.0016181164698710023), (2130, 0.006179158431369408), (2131, 0.006538591300191203), (2132, 0.01845036588467503), (2133, 0.008615133322925383), (2134, 0.006738936225951859), (2135, 0.0029388808931559074), (2136, 0.002457878438774675), (2137, 0.03200137541349588), (2138, 0.0065260071094157745), (2139, 0.02941040744200038), (2140, 0.05257756574916779), (2141, 0.0074872779905838386), (2142, 0.0), (2143, 0.013600862705035115), (2144, 0.002268216189494996), (2145, 0.009258087366566959), (2146, 0.0016147534050672512), (2147, 0.019286151655277833), (2148, 0.0), (2149, 0.014563012008725229), (2150, 0.005546554310611652), (2151, 0.0013175369644500424), (2152, 0.0), (2153, 0.0014347032376715964), (2154, 0.0055652911320371624), (2155, 0.0), (2156, 0.0020483746846493636), (2157, 0.0056752396203635464), (2158, 0.018742345805826666), (2159, 0.0175838533392934), (2160, 0.0021069391923153953), (2161, 0.021377812247081365), (2162, 0.01660712528845), (2163, 0.006353674786005411), (2164, 0.007983013279951007), (2165, 0.02896750389515288), (2166, 0.01052226657838755), (2167, 0.009843636313426784), (2168, 0.009615170414297918), (2169, 0.03528583672866011), (2170, 0.0016131845433132706), (2171, 0.01329255712956695), (2172, 0.010076555061144231), (2173, 0.021090830710908642), (2174, 0.010471206096722498), (2175, 0.008554894460151199), (2176, 0.0014058842045319377), (2177, 0.011527156968830941), (2178, 0.008928360517339091), (2179, 0.009995451346897662), (2180, 0.026156908459869094), (2181, 0.03508285286151239), (2182, 0.004467968597113119), (2183, 0.011443022989700798), (2184, 0.0017126540034400352), (2185, 0.015822513394238), (2186, 0.015043794249045644), (2187, 0.0), (2188, 0.00408905005109271), (2189, 0.011415654967039345), (2190, 0.015724387803917623), (2191, 0.037608628165034554), (2192, 0.0021103565702730773), (2193, 0.0282272954385808), (2194, 0.0024799690679714066), (2195, 0.009618915270591003), (2196, 0.011042004236826549), (2197, 0.0), (2198, 0.053052780494399196), (2199, 0.038058864529677223), (2200, 0.0), (2201, 0.0017594940417645247), (2202, 0.0), (2203, 0.00650549137200024), (2204, 0.0), (2205, 0.0), (2206, 0.0), (2207, 0.00859903763469419), (2208, 0.01812559614895354), (2209, 0.01199553520185451), (2210, 0.012711492269831346), (2211, 0.0016052477744403265), (2212, 0.034608125365628), (2213, 0.0052060040950266066), (2214, 0.014382657336749309), (2215, 0.0035942156553833353), (2216, 0.0019224209703221817), (2217, 0.01478146012883988), (2218, 0.0), (2219, 0.0020910968105641446), (2220, 0.0035525914059754927), (2221, 0.03989584269482993), (2222, 0.0024796198904888387), (2223, 0.00868891077572419), (2224, 0.00580867898791322), (2225, 0.009412824637067024), (2226, 0.003135357441948118), (2227, 0.0), (2228, 0.010076111836546357), (2229, 0.0), (2230, 0.042943236273129765), (2231, 0.00781429194149721), (2232, 0.005961387994692932), (2233, 0.0023593701247776972), (2234, 0.007798396938113329), (2235, 0.0), (2236, 0.020600202544094122), (2237, 0.0), (2238, 0.0016590632594824723), (2239, 0.0329996082114166), (2240, 0.001610230284059684), (2241, 0.0), (2242, 0.0023894185869944564), (2243, 0.006404518646657383), (2244, 0.008571832735738813), (2245, 0.007188297119973101), (2246, 0.0049924403339135035), (2247, 0.005579470537965257), (2248, 0.0031604302078344134), (2249, 0.0235125034977581), (2250, 0.016367786235718558), (2251, 0.007118186457804723), (2252, 0.0025564334570355824), (2253, 0.0281166273596106), (2254, 0.011014430603728032), (2255, 0.0), (2256, 0.004598499627473813), (2257, 0.002396609132016189), (2258, 0.0), (2259, 0.0), (2260, 0.009884222357838375), (2261, 0.008687939228428525), (2262, 0.0023648234149832906), (2263, 0.020204901411947584), (2264, 0.009236844372814898), (2265, 0.006445176922173376), (2266, 0.0073234935790289024), (2267, 0.0), (2268, 0.029972817426702134), (2269, 0.020303426965384952), (2270, 0.0), (2271, 0.0022056255016231065), (2272, 0.007664703728288626), (2273, 0.03526566106170148), (2274, 0.0025963356908757593), (2275, 0.002587906697296488), (2276, 0.008728556343539348), (2277, 0.0021949402445435376), (2278, 0.02455804002104077), (2279, 0.025676644092270006), (2280, 0.023060329387147388), (2281, 0.007453449178536711), (2282, 0.007130576744946052), (2283, 0.001326969377430935), (2284, 0.0016130700145058324), (2285, 0.0), (2286, 0.009387538831491427), (2287, 0.06584987894075614), (2288, 0.0), (2289, 0.0027854412012648104), (2290, 0.0), (2291, 0.023305225952097088), (2292, 0.0), (2293, 0.007388914868844569), (2294, 0.012288233321637643), (2295, 0.005953387366905991), (2296, 0.016939907091323956), (2297, 0.0021940529663199474), (2298, 0.01888236841504677), (2299, 0.0), (2300, 0.037116630755367086), (2301, 0.037299906323816925), (2302, 0.0014127874702445228), (2303, 0.018237748537555512), (2304, 0.009438461908611695), (2305, 0.02657626420639653), (2306, 0.012417887017341794), (2307, 0.016283551717431538), (2308, 0.0022936919143624035), (2309, 0.03534055519099519), (2310, 0.0019769631430473066), (2311, 0.001989372628186747), (2312, 0.006912633885231239), (2313, 0.0022065434466397417), (2314, 0.0), (2315, 0.0), (2316, 0.0014649548638720146), (2317, 0.014060788134896945), (2318, 0.005346192159404327), (2319, 0.0074897999423573156), (2320, 0.018284634770133742), (2321, 0.0), (2322, 0.017846448830963958), (2323, 0.0), (2324, 0.014378931035497878), (2325, 0.0), (2326, 0.0), (2327, 0.024179371662419704), (2328, 0.00850306214215188), (2329, 0.0017987105982973954), (2330, 0.0), (2331, 0.018318863079226314), (2332, 0.005775067737533097), (2333, 0.0), (2334, 0.0018270744271067405), (2335, 0.0), (2336, 0.0), (2337, 0.012824330355778745), (2338, 0.004672923458299129), (2339, 0.0317394479595295), (2340, 0.005743383374548267), (2341, 0.04376827227177043), (2342, 0.0020176955698027327), (2343, 0.01621699739027505), (2344, 0.013028179374796844), (2345, 0.011778781924306037), (2346, 0.003833073883607146), (2347, 0.0019150949410098423), (2348, 0.0017312837132895682), (2349, 0.051538828616945156), (2350, 0.00831694085064352), (2351, 0.0053667840820199745), (2352, 0.005911806218940453), (2353, 0.008755818325851391), (2354, 0.0014885945647837386), (2355, 0.0), (2356, 0.0017000635626526696), (2357, 0.01438345114250005), (2358, 0.01870032071658072), (2359, 0.011946321954905059), (2360, 0.0019123967038468367), (2361, 0.003155180561560501), (2362, 0.010371322806946661), (2363, 0.0069459395943985095), (2364, 0.0014729898925275938), (2365, 0.0015343599887725776), (2366, 0.0), (2367, 0.0056210063219456225), (2368, 0.007521076006872571), (2369, 0.005582426358769087), (2370, 0.01682409349036886), (2371, 0.007082708791270304), (2372, 0.037661275303575895), (2373, 0.00641281464656974), (2374, 0.0017304841691727065), (2375, 0.002123792422039373), (2376, 0.0), (2377, 0.0), (2378, 0.0), (2379, 0.12500663404781828), (2380, 0.004539719796509313), (2381, 0.013813871773240496), (2382, 0.01940096357142084), (2383, 0.0022679426554477094), (2384, 0.0017922249053093876), (2385, 0.006952595878375063), (2386, 0.002442260097035031), (2387, 0.0019137428034302713), (2388, 0.0077159464572923355), (2389, 0.0017630468700624072), (2390, 0.0017548191949430783), (2391, 0.0019171070761658192), (2392, 0.0014157404035247288), (2393, 0.0), (2394, 0.002558885197641975), (2395, 0.007428376712186606), (2396, 0.02013139947355572), (2397, 0.003883576661546016), (2398, 0.0), (2399, 0.0019104919440066559), (2400, 0.0), (2401, 0.012560391472925085), (2402, 0.0034457218347226115), (2403, 0.001589020143877902), (2404, 0.007816218554041538), (2405, 0.0021458741665456643), (2406, 0.0059112553375941295), (2407, 0.0), (2408, 0.0058790143944120535), (2409, 0.01017958003293868), (2410, 0.009662217098704023), (2411, 0.0), (2412, 0.0), (2413, 0.022028491420455078), (2414, 0.0034264843545595653), (2415, 0.003610816874346193), (2416, 0.005789434871621793), (2417, 0.0), (2418, 0.0), (2419, 0.0), (2420, 0.004227530463209), (2421, 0.0), (2422, 0.034340759888338214), (2423, 0.011357086250918367), (2424, 0.0038823677442858507), (2425, 0.0023206166970347925), (2426, 0.007271211741250241), (2427, 0.002441019554220767), (2428, 0.013788066480952304), (2429, 0.018851072921167382), (2430, 0.0015298414463700638), (2431, 0.0), (2432, 0.0), (2433, 0.0027048210340289), (2434, 0.0009127908971207201), (2435, 0.0015757045604497723), (2436, 0.005541475767307297), (2437, 0.0037164817230969575), (2438, 0.0151093985922759), (2439, 0.0), (2440, 0.0015571325234590109), (2441, 0.00787012647169068), (2442, 0.0028088429636276353), (2443, 0.0), (2444, 0.05638439637029671), (2445, 0.004507138373895616), (2446, 0.018800250725498485), (2447, 0.030068226865673293), (2448, 0.0010430343934282136), (2449, 0.003287599491634487), (2450, 0.014605725719512184), (2451, 0.0), (2452, 0.01694948241893493), (2453, 0.005524106833743916), (2454, 0.008347754808748447), (2455, 0.06110349354897996), (2456, 0.02459509149393814), (2457, 0.047419799065746365), (2458, 0.001374875345539736), (2459, 0.001979100119895329), (2460, 0.0), (2461, 0.007712948942872862), (2462, 0.0013340127684943323), (2463, 0.0), (2464, 0.00501379344053102), (2465, 0.010771395447210261), (2466, 0.010393781042174), (2467, 0.03182739617449919), (2468, 0.003975893490704994), (2469, 0.01237235116787382), (2470, 0.01826852732229798), (2471, 0.053437847664569875), (2472, 0.00344675577338211), (2473, 0.004895830545607819), (2474, 0.004901226571856539), (2475, 0.005137125581335762), (2476, 0.0039311593114489465), (2477, 0.0), (2478, 0.01470824656170901), (2479, 0.00831168479757571), (2480, 0.007429392205890157), (2481, 0.005306753418763393), (2482, 0.0022204166060955785), (2483, 0.0), (2484, 0.006234512310756251), (2485, 0.0015584744023802324), (2486, 0.009971511465174812), (2487, 0.017989287196520626), (2488, 0.012559925475570843), (2489, 0.0017417981079145021), (2490, 0.0), (2491, 0.02640129652656198), (2492, 0.0), (2493, 0.001969173395673722), (2494, 0.007946103545722215), (2495, 0.0), (2496, 0.008041985879064973), (2497, 0.006685525196000583), (2498, 0.0), (2499, 0.02311496226225828), (2500, 0.00947891687718341), (2501, 0.018317939690889684), (2502, 0.0060332067960878425), (2503, 0.0), (2504, 0.002083939144605326), (2505, 0.010963133794468404), (2506, 0.013774095266300346), (2507, 0.010506284950147268), (2508, 0.0020492078719301482), (2509, 0.0012118329793580837), (2510, 0.0020698182359886685), (2511, 0.002430158247664006), (2512, 0.013479600895734424), (2513, 0.024832009518796376), (2514, 0.0017365266195851971), (2515, 0.0), (2516, 0.0), (2517, 0.006572943221395782), (2518, 0.00830328368519626), (2519, 0.008454314451019417), (2520, 0.003548440302809462), (2521, 0.006806531181513751), (2522, 0.00984143181990946), (2523, 0.024190210103055255), (2524, 0.0), (2525, 0.004773607905031453), (2526, 0.007258080935652415), (2527, 0.0010803813728250274), (2528, 0.0016298990287852925), (2529, 0.021403006081788023), (2530, 0.0020368218792717646), (2531, 0.0036587529506241076), (2532, 0.04172117180314418), (2533, 0.010296934876942412), (2534, 0.0), (2535, 0.004969034107581812), (2536, 0.023618696631917666), (2537, 0.001800934137125035), (2538, 0.031029899999027635), (2539, 0.005447846724120251), (2540, 0.012782322261717471), (2541, 0.003275681829131865), (2542, 0.010623458425072478), (2543, 0.001689113923256099), (2544, 0.006651662219562755), (2545, 0.0013412257584951635), (2546, 0.011915891943296907), (2547, 0.012817710362808732), (2548, 0.001993162175230135), (2549, 0.001393782007594177), (2550, 0.0), (2551, 0.00874397087546641), (2552, 0.0015078351861535675), (2553, 0.006319966482263673), (2554, 0.014116459353945371), (2555, 0.016800598340248416), (2556, 0.0014247936234774456), (2557, 0.0), (2558, 0.0022997576492888314), (2559, 0.015595590357406776), (2560, 0.003631458401822878), (2561, 0.0), (2562, 0.04359267424160707), (2563, 0.002221403978387166), (2564, 0.001984304019054916), (2565, 0.08345438376309496), (2566, 0.007994171093837424), (2567, 0.0), (2568, 0.010943014080142886), (2569, 0.02528080641730828), (2570, 0.023827504690357264), (2571, 0.004485665969181416), (2572, 0.0), (2573, 0.03754804071881181), (2574, 0.024255179052161846), (2575, 0.01023731374073825), (2576, 0.00769909457405779), (2577, 0.00866859503264068), (2578, 0.007408952396230554), (2579, 0.008997779804442834), (2580, 0.039524799631150874), (2581, 0.0), (2582, 0.0), (2583, 0.014395587191014653), (2584, 0.021679692102914462), (2585, 0.0), (2586, 0.009692314633263225), (2587, 0.0), (2588, 0.002174440180128311), (2589, 0.009962517744724366), (2590, 0.0026524671284290117), (2591, 0.0018343758627569358), (2592, 0.007433905720972955), (2593, 0.0), (2594, 0.007020074569573796), (2595, 0.009122825380524528), (2596, 0.0032594750548604005), (2597, 0.0), (2598, 0.004680504865944554), (2599, 0.009830787860555754), (2600, 0.006593467398663597), (2601, 0.012260718480217463), (2602, 0.0), (2603, 0.0), (2604, 0.00576615108403898), (2605, 0.0018281103535422289), (2606, 0.010193351889314521), (2607, 0.0040561379249474845), (2608, 0.0), (2609, 0.009968712027998382), (2610, 0.006079345616552923), (2611, 0.0), (2612, 0.005156439666955475), (2613, 0.0059493508417708535), (2614, 0.010329787598349991), (2615, 0.006449189395538329), (2616, 0.018865172888787828), (2617, 0.005359259206955134), (2618, 0.0), (2619, 0.013306486122164375), (2620, 0.015122031690682516), (2621, 0.021034488830390455), (2622, 0.0019124360453269915), (2623, 0.005610871986418154), (2624, 0.0), (2625, 0.00999464779899679), (2626, 0.002145150176404485), (2627, 0.007906989313630782), (2628, 0.006706271531005566), (2629, 0.0011222084431738101), (2630, 0.00138700754160442), (2631, 0.008908094911637113), (2632, 0.0), (2633, 0.0017128473135951455), (2634, 0.031880263728822036), (2635, 0.0054127215136155465), (2636, 0.0064992072133831565), (2637, 0.0023952242319095936), (2638, 0.0), (2639, 0.0143826917084508), (2640, 0.0026761208498045437), (2641, 0.009383786027217879), (2642, 0.027519258770527286), (2643, 0.004477962703872142), (2644, 0.0014347187700897118), (2645, 0.0), (2646, 0.009460894996425395), (2647, 0.0022428380057785808), (2648, 0.001512863524925325), (2649, 0.011491782184371193), (2650, 0.025232602877817097), (2651, 0.0016422875540727355), (2652, 0.0019567224813855357), (2653, 0.022818836512790236), (2654, 0.005820287430231327), (2655, 0.020188456554142885), (2656, 0.0022137242052703877), (2657, 0.013097194889636447), (2658, 0.007372478317864306), (2659, 0.004227326526031563), (2660, 0.0), (2661, 0.03293839569841745), (2662, 0.0037814249915581874), (2663, 0.001570349415994773), (2664, 0.0008113111681429128), (2665, 0.01966670515094162), (2666, 0.0021952058277216824), (2667, 0.00496893099941479), (2668, 0.0013966633978215555), (2669, 0.005493271198725978), (2670, 0.0), (2671, 0.0013814029539055339), (2672, 0.03148676912798504), (2673, 0.014366451648684594), (2674, 0.058352732716977426), (2675, 0.0), (2676, 0.002558837139306966), (2677, 0.001897435311893901), (2678, 0.0), (2679, 0.0), (2680, 0.0015365645265496856), (2681, 0.0), (2682, 0.0), (2683, 0.006867345246890171), (2684, 0.00568884728822161), (2685, 0.027538126616291084), (2686, 0.02119224901842134), (2687, 0.01433981390775577), (2688, 0.015243425368148624), (2689, 0.004291433873033112), (2690, 0.004594740313802978), (2691, 0.006781800078099466), (2692, 0.006694223838274435), (2693, 0.011740420272708826), (2694, 0.0), (2695, 0.007678254262953748), (2696, 0.0), (2697, 0.008324080285127588), (2698, 0.0074854544919884455), (2699, 0.03907645245672132), (2700, 0.0020158424147291255), (2701, 0.025883607761382387), (2702, 0.004600130003892041), (2703, 0.0019609737494146566), (2704, 0.028836379006245774), (2705, 0.008112034838338503), (2706, 0.0014012672639284092), (2707, 0.005277086501078742), (2708, 0.0018501790238601794), (2709, 0.0183890523889798), (2710, 0.0014453227964943405), (2711, 0.0), (2712, 0.01193744600425427), (2713, 0.013380427087002843), (2714, 0.0180688541550691), (2715, 0.00218435624109756), (2716, 0.017491380897426904), (2717, 0.0014228180440134484), (2718, 0.006990317205609276), (2719, 0.0023905646339502885), (2720, 0.014985552188366233), (2721, 0.0), (2722, 0.0063701554479419316), (2723, 0.005762594908336223), (2724, 0.00471908608510005), (2725, 0.008415702983117251), (2726, 0.011825740918181955), (2727, 0.00159656521469189), (2728, 0.0), (2729, 0.01095692002919641), (2730, 0.0012049531062083168), (2731, 0.005088314047970668), (2732, 0.0017556892279401229), (2733, 0.0011663810871108545), (2734, 0.03125072735416769), (2735, 0.004919748891413509), (2736, 0.0015420472740629145), (2737, 0.013807396145088727), (2738, 0.014454355083314234), (2739, 0.0), (2740, 0.017535143169426785), (2741, 0.0), (2742, 0.008665323138363837), (2743, 0.01894087969364012), (2744, 0.00584633155840795), (2745, 0.004167105426005863), (2746, 0.0045439850258996994), (2747, 0.0), (2748, 0.0019399566035106007), (2749, 0.05747237803587373), (2750, 0.006196931545705655), (2751, 0.016028404972356084), (2752, 0.005014096212930769), (2753, 0.0), (2754, 0.013703851034294093), (2755, 0.0023322884763191257), (2756, 0.01086360041200916), (2757, 0.0), (2758, 0.007360380055668598), (2759, 0.019123570682876855), (2760, 0.003520747516707104), (2761, 0.029112061297202344), (2762, 0.007366734608671927), (2763, 0.0021802733098188975), (2764, 0.011829673933163358), (2765, 0.005544855658979621), (2766, 0.00815622733784068), (2767, 0.007341250669934946), (2768, 0.011940140981244438), (2769, 0.0), (2770, 0.002245549718362107), (2771, 0.0015061973221092819), (2772, 0.009282425610275043), (2773, 0.0116701386146441), (2774, 0.0), (2775, 0.00542771111269324), (2776, 0.02955053688399201), (2777, 0.012624516085133335), (2778, 0.005003338651027132), (2779, 0.007824774838746957), (2780, 0.0023556070710663277), (2781, 0.0024426404211855403), (2782, 0.019143932240105202), (2783, 0.018451825866344793), (2784, 0.0021898584407526052), (2785, 0.029672213068439007), (2786, 0.0), (2787, 0.0), (2788, 0.005948049608117895), (2789, 0.0), (2790, 0.0019306491869267096), (2791, 0.0024870720010923275), (2792, 0.004874706577809981), (2793, 0.0013848218421538077), (2794, 0.01846335581586278), (2795, 0.013253378984756144), (2796, 0.004686585040529773), (2797, 0.005689517736233309), (2798, 0.0017258655635332932), (2799, 0.0018045089231534753), (2800, 0.009702692302626749), (2801, 0.0), (2802, 0.05014970211756439), (2803, 0.011474022618491267), (2804, 0.01736045050950498), (2805, 0.0061326399419236975), (2806, 0.029078001094315166), (2807, 0.0060296008837278856), (2808, 0.008070805280230431), (2809, 0.0), (2810, 0.0024284928894636472), (2811, 0.009629046506131155), (2812, 0.00935104113318472), (2813, 0.008582483099465384), (2814, 0.021191312657801345), (2815, 0.0), (2816, 0.0041090985561698205), (2817, 0.005339502956251406), (2818, 0.0), (2819, 0.0037793402976125687), (2820, 0.039565557360729864), (2821, 0.0), (2822, 0.0), (2823, 0.0), (2824, 0.005279919449848596), (2825, 0.0), (2826, 0.005392429624246282), (2827, 0.0), (2828, 0.00403505721713895), (2829, 0.0135233529994431), (2830, 0.01712122294962586), (2831, 0.008236934632821038), (2832, 0.02506091613610245), (2833, 0.020111899979093538), (2834, 0.0), (2835, 0.0012898847120866941), (2836, 0.011188597522797859), (2837, 0.0), (2838, 0.0018488180141678406), (2839, 0.012596170620586282), (2840, 0.0), (2841, 0.04168906474849837), (2842, 0.008979727719339813), (2843, 0.0), (2844, 0.005366886839465393), (2845, 0.010130294141607953), (2846, 0.0022209206717592233), (2847, 0.0), (2848, 0.0), (2849, 0.019438405040755256), (2850, 0.052858885905253165), (2851, 0.002238391515041661), (2852, 0.022717947229026765), (2853, 0.004801201348156973), (2854, 0.008450545752500016), (2855, 0.009256297107334301), (2856, 0.0), (2857, 0.015095001159435519), (2858, 0.008525314696469537), (2859, 0.0), (2860, 0.010136795174535838), (2861, 0.019832512452082614), (2862, 0.010029243314115364), (2863, 0.012037573670625759), (2864, 0.0063062197726226525), (2865, 0.0099269670550596), (2866, 0.0015743283352872934), (2867, 0.0), (2868, 0.050981039953984106), (2869, 0.006593077246525027), (2870, 0.002405779362934378), (2871, 0.0), (2872, 0.0019996486018029535), (2873, 0.0), (2874, 0.0), (2875, 0.004791329285891766), (2876, 0.027818101474865173), (2877, 0.019291842902944757), (2878, 0.006374728250548573), (2879, 0.013928739821198268), (2880, 0.006618964756035735), (2881, 0.010567548135634694), (2882, 0.0011972338123443817), (2883, 0.0), (2884, 0.014061920448515574), (2885, 0.0031195530326344626), (2886, 0.0015643361291270467), (2887, 0.002544889101903477), (2888, 0.012728428558952672), (2889, 0.009875815732757708), (2890, 0.010696965439289347), (2891, 0.013346395188491624), (2892, 0.007564096962591281), (2893, 0.0017882146568492096), (2894, 0.0), (2895, 0.018599909190985104), (2896, 0.0018862640183142268), (2897, 0.010835307432922025), (2898, 0.0016934324128850052), (2899, 0.006833379076068629), (2900, 0.0), (2901, 0.021396980138531113), (2902, 0.007741308572336487), (2903, 0.001501856055037597), (2904, 0.0036861774990918188), (2905, 0.0), (2906, 0.013794730697801839), (2907, 0.0), (2908, 0.002057476626910687), (2909, 0.010081656996828503), (2910, 0.0), (2911, 0.02315842677913553), (2912, 0.03180255155341794), (2913, 0.01852316923943713), (2914, 0.010763043935641715), (2915, 0.0085711236624095), (2916, 0.005924954561879992), (2917, 0.02553367267938554), (2918, 0.00997663374515261), (2919, 0.005545618199206116), (2920, 0.00511019592639397), (2921, 0.007464949126982751), (2922, 0.003229860268017763), (2923, 0.0), (2924, 0.001662172308304937), (2925, 0.005322149276369852), (2926, 0.0), (2927, 0.0), (2928, 0.003701296350522915), (2929, 0.002000334014795814), (2930, 0.00784677689040583), (2931, 0.0028263987009299876), (2932, 0.004868657096290653), (2933, 0.0), (2934, 0.0), (2935, 0.00825853863926881), (2936, 0.0), (2937, 0.032855991715733585), (2938, 0.0019443304920787234), (2939, 0.0), (2940, 0.012387511582859785), (2941, 0.00886109422192915), (2942, 0.006169445826972524), (2943, 0.0), (2944, 0.010729762159235622), (2945, 0.004260120399043387), (2946, 0.01379359530428109), (2947, 0.005107382892702007), (2948, 0.00147450261626359), (2949, 0.006708371486525639), (2950, 0.0035922342032611316), (2951, 0.008718870129187793), (2952, 0.0020046692287887503), (2953, 0.01472574013240715), (2954, 0.004056003007639739), (2955, 0.015346283962098004), (2956, 0.0019270297537757688), (2957, 0.010433188953588407), (2958, 0.006937921060399213), (2959, 0.0015898710686993896), (2960, 0.028680620488718254), (2961, 0.004495933432107848), (2962, 0.0021715138529578883), (2963, 0.0), (2964, 0.008044235326237463), (2965, 0.009250321034217024), (2966, 0.0015451652060319552), (2967, 0.007347480219063788), (2968, 0.034839430790524234), (2969, 0.0), (2970, 0.016801060695965587), (2971, 0.008130613733527935), (2972, 0.012993552315296733), (2973, 0.038911451922148815), (2974, 0.004606340101581589), (2975, 0.0031032267954681017), (2976, 0.009310888664538925), (2977, 0.006888486180566361), (2978, 0.0025448766451839286), (2979, 0.01652842483285332), (2980, 0.001329551688098679), (2981, 0.014029181600083412), (2982, 0.02539136465042692), (2983, 0.0), (2984, 0.0), (2985, 0.0), (2986, 0.0028409780592351616), (2987, 0.0), (2988, 0.0017242954090223124), (2989, 0.013441609777956642), (2990, 0.0012774916788690592), (2991, 0.026574359099240896), (2992, 0.011857532454670205), (2993, 0.011457947900430013), (2994, 0.0), (2995, 0.0), (2996, 0.011936922356053908), (2997, 0.0638327992344038), (2998, 0.0017489529397317909), (2999, 0.0021823018406963665), (3000, 0.0), (3001, 0.011860299356419746), (3002, 0.025699034388113835), (3003, 0.0), (3004, 0.0), (3005, 0.013171774965335692), (3006, 0.006232041468816294), (3007, 0.0), (3008, 0.0033719391577621037), (3009, 0.007375204673013457), (3010, 0.005689027586040475), (3011, 0.0362426598918464), (3012, 0.003145308797629112), (3013, 0.0), (3014, 0.004639239577502108), (3015, 0.013223524076524105), (3016, 0.007846030729646628), (3017, 0.0018743848866290358), (3018, 0.059600725721526734), (3019, 0.0), (3020, 0.009408956443419186), (3021, 0.008608536306002623), (3022, 0.0), (3023, 0.006246383293201169), (3024, 0.0019027506398134463), (3025, 0.003874488623358555), (3026, 0.0), (3027, 0.005038491301286974), (3028, 0.00911894274586073), (3029, 0.0), (3030, 0.0020449024628928915), (3031, 0.0037643345465613372), (3032, 0.013370065858175652), (3033, 0.004603421770659882), (3034, 0.0), (3035, 0.0), (3036, 0.030423855071558044), (3037, 0.018437705100557387), (3038, 0.005465837013907085), (3039, 0.002487084403143881), (3040, 0.0), (3041, 0.0), (3042, 0.0), (3043, 0.022035261797702443), (3044, 0.027091636405346974), (3045, 0.07479469613257125), (3046, 0.010534500181067007), (3047, 0.0), (3048, 0.021703138099493903), (3049, 0.003579203752166713), (3050, 0.0), (3051, 0.0033094390341564415), (3052, 0.0022917738113703745), (3053, 0.0), (3054, 0.010844164438258473), (3055, 0.0), (3056, 0.0), (3057, 0.0012645339031950936), (3058, 0.0), (3059, 0.0), (3060, 0.01684166944625279), (3061, 0.0), (3062, 0.0037173922406530356), (3063, 0.005979915531363536), (3064, 0.007641191189305044), (3065, 0.004726333892342876), (3066, 0.004995621147866981), (3067, 0.006099565694396652), (3068, 0.013553531706370834), (3069, 0.0049405573283675085), (3070, 0.010587331869511643), (3071, 0.0025994635291806587), (3072, 0.011906890304186655), (3073, 0.002092203997995978), (3074, 0.025250163370825772), (3075, 0.0018837741754543494), (3076, 0.01030995522900877), (3077, 0.0011071270745836022), (3078, 0.0025285024810497362), (3079, 0.001355735846888667), (3080, 0.0022057215885373594), (3081, 0.011380181310338645), (3082, 0.0), (3083, 0.05109964831705002), (3084, 0.0), (3085, 0.0016088655654130646), (3086, 0.007222679277911502), (3087, 0.00774305073996447), (3088, 0.0116179629800911), (3089, 0.01681185162509733), (3090, 0.002271293442053428), (3091, 0.01155588586749176), (3092, 0.030584693930814366), (3093, 0.006656900016590903), (3094, 0.006664410123321514), (3095, 0.0), (3096, 0.007052058988829839), (3097, 0.009504491292590893), (3098, 0.0011853011684823328), (3099, 0.010967779159706197), (3100, 0.005427176971054124), (3101, 0.006103640892460749), (3102, 0.005714908533726332), (3103, 0.0), (3104, 0.005997835388086793), (3105, 0.0017984094443745133), (3106, 0.0), (3107, 0.013906710358721826), (3108, 0.006355900217331874), (3109, 0.001281641784618779), (3110, 0.006952538075150914), (3111, 0.0), (3112, 0.010328359117841709), (3113, 0.018720967696611888), (3114, 0.0014905602443222824), (3115, 0.0017410433642123004), (3116, 0.0), (3117, 0.0042757965188650725), (3118, 0.0023890507398060643), (3119, 0.007613969481931305), (3120, 0.00942748386545585), (3121, 0.021957243294720784), (3122, 0.011513321845213026), (3123, 0.0017046277658849082), (3124, 0.006361139731055718), (3125, 0.002159121612081687), (3126, 0.0), (3127, 0.013562090851688307), (3128, 0.0), (3129, 0.002191106555030179), (3130, 0.012954743504900544), (3131, 0.022009492393375376), (3132, 0.001921275120849524), (3133, 0.0), (3134, 0.004306648614450882), (3135, 0.008563665991762816), (3136, 0.05402805544927423), (3137, 0.0043893749006521515), (3138, 0.0), (3139, 0.022374103925058546), (3140, 0.0035772542914526075), (3141, 0.0), (3142, 0.0), (3143, 0.0012706236008220666), (3144, 0.0), (3145, 0.008744638956641694), (3146, 0.0), (3147, 0.0), (3148, 0.0), (3149, 0.0021291872532206266), (3150, 0.009452609968152805), (3151, 0.0), (3152, 0.0), (3153, 0.0), (3154, 0.05225491821307112), (3155, 0.01564352471323754), (3156, 0.009524260095235115), (3157, 0.0028702358780502623), (3158, 0.0), (3159, 0.010603053432008014), (3160, 0.002597515838725257), (3161, 0.006543942594667923), (3162, 0.003738744848596539), (3163, 0.0), (3164, 0.007566732341842364), (3165, 0.0013948918896019254), (3166, 0.004866199704469651), (3167, 0.0), (3168, 0.0), (3169, 0.013810099297460044), (3170, 0.030815662957806435), (3171, 0.0023913792746814073), (3172, 0.0), (3173, 0.0), (3174, 0.0), (3175, 0.0182106704675312), (3176, 0.0), (3177, 0.0017585955414001924), (3178, 0.0022818497444978564), (3179, 0.0), (3180, 0.0), (3181, 0.006097860186336033), (3182, 0.09369248947731527), (3183, 0.030643090280499777), (3184, 0.003932776206433217), (3185, 0.0016703547686518995), (3186, 0.010887637045074467), (3187, 0.0), (3188, 0.010896631015956912), (3189, 0.0), (3190, 0.02550833883592696), (3191, 0.024249381456725404), (3192, 0.001720191434504585), (3193, 0.0013342906977081405), (3194, 0.019168227056880916), (3195, 0.004357992711331651), (3196, 0.022943665587972888), (3197, 0.010065114594809159), (3198, 0.0), (3199, 0.0025539061040508082), (3200, 0.009722166854690894), (3201, 0.007124943374653938), (3202, 0.0009949741431016818), (3203, 0.006409383251250271), (3204, 0.005271424614467555), (3205, 0.009716946626495401), (3206, 0.0056030398385439936), (3207, 0.0), (3208, 0.0), (3209, 0.0), (3210, 0.001847177546370814), (3211, 0.0013527215859818187), (3212, 0.002164496573083606), (3213, 0.003230156283394846), (3214, 0.0064408883328334835), (3215, 0.0), (3216, 0.010260634810965414), (3217, 0.006735911444446098), (3218, 0.0049357715958201894), (3219, 0.0), (3220, 0.012082668112633886), (3221, 0.0), (3222, 0.007919219639001532), (3223, 0.003801850769543811), (3224, 0.013521458255168057), (3225, 0.006642808152937317), (3226, 0.0012522341605304586), (3227, 0.024135401433852663), (3228, 0.005983060568208989), (3229, 0.00577168441421256), (3230, 0.0029370746247409244), (3231, 0.008013062828527507), (3232, 0.001497161752396915), (3233, 0.014036900237303038), (3234, 0.004571641851685122), (3235, 0.0), (3236, 0.0014576621648617664), (3237, 0.0), (3238, 0.0027247590070324573), (3239, 0.0017945850176570674), (3240, 0.0), (3241, 0.013366189879494571), (3242, 0.01534938027959418), (3243, 0.010007541226343989), (3244, 0.0021916859931259817), (3245, 0.0), (3246, 0.0014451573212627298), (3247, 0.0014490285226325989), (3248, 0.0026781265974024516), (3249, 0.002915967038152945), (3250, 0.0019416222924631872), (3251, 0.0), (3252, 0.009901428381605713), (3253, 0.0), (3254, 0.0), (3255, 0.05157760832773764), (3256, 0.0), (3257, 0.0056611530613125), (3258, 0.010307727577433546), (3259, 0.005678912723637722), (3260, 0.0), (3261, 0.016334344096889115), (3262, 0.0019230548519607361), (3263, 0.0070879159923746046), (3264, 0.0), (3265, 0.0), (3266, 0.0015230929570124092), (3267, 0.007845890834398357), (3268, 0.0), (3269, 0.009369440008432432), (3270, 0.0021148822587213558), (3271, 0.007282822976685014), (3272, 0.003661505319511167), (3273, 0.005526846676801143), (3274, 0.020025808177092937), (3275, 0.003218091938085866), (3276, 0.009315235124933745), (3277, 0.009057773814471608), (3278, 0.004821585483552012), (3279, 0.0), (3280, 0.00588662246291549), (3281, 0.002283692445170579), (3282, 0.001967982515266548), (3283, 0.022393390758651904), (3284, 0.006003268125261734), (3285, 0.014746899022332428), (3286, 0.008844104654525866), (3287, 0.006413277627502148), (3288, 0.05144860840426544), (3289, 0.0029214389631201537), (3290, 0.02914898061553675), (3291, 0.0), (3292, 0.011562889124158626), (3293, 0.007346638274904924), (3294, 0.007130146582622635), (3295, 0.02811971262096998), (3296, 0.0), (3297, 0.008640423685745895), (3298, 0.01255059993412127), (3299, 0.004521657320881474), (3300, 0.006754907918015234), (3301, 0.0), (3302, 0.0014776649730018382), (3303, 0.004625189710320865), (3304, 0.0026944895502651963), (3305, 0.009111744350555255), (3306, 0.007310945591012671), (3307, 0.002374883358097035), (3308, 0.0), (3309, 0.0024769134998471175), (3310, 0.005414625132489575), (3311, 0.0), (3312, 0.0014969035848720815), (3313, 0.008303720579828784), (3314, 0.0), (3315, 0.0018048910766464755), (3316, 0.004718294237883157), (3317, 0.012107117918960752), (3318, 0.01149803401325521), (3319, 0.005700703504243316), (3320, 0.0069528343100123844), (3321, 0.0014966700596838374), (3322, 0.005880784224807803), (3323, 0.0), (3324, 0.016817082569736283), (3325, 0.0), (3326, 0.0028134410987380363), (3327, 0.005820502131766637), (3328, 0.014763078658655263), (3329, 0.0), (3330, 0.0017425683905885549), (3331, 0.0014651478294945045), (3332, 0.012077074475110978), (3333, 0.009208706773219607), (3334, 0.0055398574971571996), (3335, 0.0016039786674700962), (3336, 0.0), (3337, 0.0024984144188722555), (3338, 0.0), (3339, 0.014449762450701748), (3340, 0.0), (3341, 0.0), (3342, 0.008821350289621494), (3343, 0.006102806436920462), (3344, 0.005050192412114889), (3345, 0.00765237077641104), (3346, 0.0022544518504373514), (3347, 0.0), (3348, 0.008600218770589363), (3349, 0.005154238147262186), (3350, 0.004873891819735067), (3351, 0.0), (3352, 0.0020237819789494693), (3353, 0.0021315950293613528), (3354, 0.0), (3355, 0.0040370500047096965), (3356, 0.0), (3357, 0.0016800364467218951), (3358, 0.0), (3359, 0.0), (3360, 0.0), (3361, 0.010100243848064157), (3362, 0.00927476980391963), (3363, 0.0017713026272516107), (3364, 0.0028961680222993127), (3365, 0.00462498645617393), (3366, 0.0), (3367, 0.001673021705541481), (3368, 0.0022099878659036162), (3369, 0.010241412173201346), (3370, 0.010068907914712964), (3371, 0.005892837697290156), (3372, 0.0014020014782570335), (3373, 0.004760546758996115), (3374, 0.03360183982668282), (3375, 0.0016771747113149323), (3376, 0.0), (3377, 0.0), (3378, 0.02904432758376326), (3379, 0.006935722351939769), (3380, 0.003356061447029821), (3381, 0.007203537695971878), (3382, 0.011235961021853723), (3383, 0.010186342935627913), (3384, 0.0013252218849879047), (3385, 0.002082244055589132), (3386, 0.004611510184947223), (3387, 0.001740097572409894), (3388, 0.0), (3389, 0.026509432605840627), (3390, 0.0015419834661495515), (3391, 0.01848243523334941), (3392, 0.0025478733910323), (3393, 0.001597128528653386), (3394, 0.0), (3395, 0.020286107981031875), (3396, 0.0021567137074499734), (3397, 0.0023590903890530843), (3398, 0.026328160569250313), (3399, 0.006541235537581949), (3400, 0.0062382176236053), (3401, 0.0015119537631127047), (3402, 0.0), (3403, 0.03316505172039946), (3404, 0.0), (3405, 0.0), (3406, 0.010994845238732035), (3407, 0.026833692991873007), (3408, 0.014628502184637225), (3409, 0.00792717633396021), (3410, 0.005471361353774371), (3411, 0.001611546506887709), (3412, 0.018735552044008223), (3413, 0.007366718381517546), (3414, 0.009493945407534008), (3415, 0.004041489285439554), (3416, 0.010442486249869758), (3417, 0.0), (3418, 0.007949893432975842), (3419, 0.006175108918878751), (3420, 0.010853889602483702), (3421, 0.0027115863458958118), (3422, 0.0015905403673770735), (3423, 0.0), (3424, 0.02706214061814706), (3425, 0.001963055084312613), (3426, 0.0022179618272034807), (3427, 0.0073342163165373625), (3428, 0.0), (3429, 0.004755116101312575), (3430, 0.0065810499232227685), (3431, 0.020567402304740304), (3432, 0.0), (3433, 0.0), (3434, 0.0076320488625032995), (3435, 0.0017569414236689575), (3436, 0.0019738252951351414), (3437, 0.00389897544293404), (3438, 0.010721659602707878), (3439, 0.006510986372395878), (3440, 0.00191828521512152), (3441, 0.0015790779666128225), (3442, 0.0011552398498030948), (3443, 0.0019048222822186456), (3444, 0.0), (3445, 0.005364906953507123), (3446, 0.001598360147838285), (3447, 0.0), (3448, 0.0047412879233695165), (3449, 0.026866185874520988), (3450, 0.009011233898067718), (3451, 0.0), (3452, 0.0014179752189593105), (3453, 0.0227636725001674), (3454, 0.004793698148392532), (3455, 0.001381555767603965), (3456, 0.004479796598209778), (3457, 0.007263034019896959), (3458, 0.00621950031370448), (3459, 0.0014912179001474418), (3460, 0.006621386562673418), (3461, 0.014711985963554209), (3462, 0.004703338920720536), (3463, 0.023397691721976463), (3464, 0.0), (3465, 0.0), (3466, 0.002629376425863132), (3467, 0.004055888441555425), (3468, 0.0), (3469, 0.0), (3470, 0.008557549150100182), (3471, 0.01757045072996013), (3472, 0.0), (3473, 0.006249715692274468), (3474, 0.03249445243612825), (3475, 0.0011910438198560183), (3476, 0.01427840334399638), (3477, 0.004743479109950254), (3478, 0.008411972708270068), (3479, 0.006007736448748897), (3480, 0.01092082271565588), (3481, 0.016286661443313172), (3482, 0.0), (3483, 0.0), (3484, 0.016203570076074387), (3485, 0.012991751018360828), (3486, 0.009167494377834793), (3487, 0.03670313258932115), (3488, 0.003246538449290137), (3489, 0.0), (3490, 0.0), (3491, 0.0020117726996800233), (3492, 0.012932395598638074), (3493, 0.011480341321578715), (3494, 0.013607584984429499), (3495, 0.0), (3496, 0.0018832469851669071), (3497, 0.0019250760566644418), (3498, 0.04838733868795507), (3499, 0.006324731043048702), (3500, 0.0021215425915660844), (3501, 0.006789059443324979), (3502, 0.03975855930640541), (3503, 0.002263019877289948), (3504, 0.04635480079611227), (3505, 0.0), (3506, 0.0022403599367513973), (3507, 0.0), (3508, 0.0), (3509, 0.0016507427639705615), (3510, 0.012668030822657153), (3511, 0.0), (3512, 0.010977894372397042), (3513, 0.022745920473928323), (3514, 0.047709475055727646), (3515, 0.01568868769861782), (3516, 0.0), (3517, 0.006790846992188864), (3518, 0.005922286899390181), (3519, 0.009102679424642657), (3520, 0.0), (3521, 0.0011686812376796659), (3522, 0.011546669590553104), (3523, 0.018993651798592488), (3524, 0.0), (3525, 0.010123552520077015), (3526, 0.008591961621776941), (3527, 0.0018619412499569711), (3528, 0.0), (3529, 0.0), (3530, 0.016545041788722677), (3531, 0.0018439693747761355), (3532, 0.0022548639454482225), (3533, 0.004952179733894276), (3534, 0.01072545349010347), (3535, 0.010890962366653975), (3536, 0.047079264310732734), (3537, 0.0019583286131007196), (3538, 0.011026573193847058), (3539, 0.005972548837092955), (3540, 0.018989259893521838), (3541, 0.01537376720204736), (3542, 0.0016213724792048247), (3543, 0.0017690598361928033), (3544, 0.008374136674511467), (3545, 0.0013303436610077274), (3546, 0.017148207878353514), (3547, 0.0024029670499339656), (3548, 0.016328723571924324), (3549, 0.01694564999816382), (3550, 0.011404944979281122), (3551, 0.0), (3552, 0.02095366673822815), (3553, 0.0), (3554, 0.0), (3555, 0.022708225152302156), (3556, 0.011313356203734552), (3557, 0.01660292698146082), (3558, 0.0012972012315712685), (3559, 0.011581384340699101), (3560, 0.0), (3561, 0.0012824470429608074), (3562, 0.0), (3563, 0.0), (3564, 0.00715445839336363), (3565, 0.0), (3566, 0.0), (3567, 0.002319095211364391), (3568, 0.0043757646605643834), (3569, 0.0016308000306711002), (3570, 0.0), (3571, 0.0), (3572, 0.0018124992242133076), (3573, 0.0016726228910602327), (3574, 0.0), (3575, 0.0015693486949119309), (3576, 0.001859750532107398), (3577, 0.0), (3578, 0.0), (3579, 0.0), (3580, 0.0), (3581, 0.0055361324273453735), (3582, 0.002036226697293337), (3583, 0.0), (3584, 0.03541012118624717), (3585, 0.0046288948965062734), (3586, 0.0019359948136079585), (3587, 0.004892092058220192), (3588, 0.0031959082781567796), (3589, 0.002793546576571884), (3590, 0.0073512693764610304), (3591, 0.0), (3592, 0.006584665798251621), (3593, 0.004558961269160365), (3594, 0.0068073175254733395), (3595, 0.01860864490641169), (3596, 0.0), (3597, 0.0), (3598, 0.022919459220450557), (3599, 0.0021125355153078875), (3600, 0.0), (3601, 0.007356355291107241), (3602, 0.0), (3603, 0.0018845492396383648), (3604, 0.007721359540320257), (3605, 0.0), (3606, 0.0), (3607, 0.006533530194579408), (3608, 0.0051641936605025295), (3609, 0.0), (3610, 0.007810779903975621), (3611, 0.0179372924939164), (3612, 0.034106317408170495), (3613, 0.01886375269820728), (3614, 0.006126408660747528), (3615, 0.010102864527667746), (3616, 0.004330741021699775), (3617, 0.0035198771969550536), (3618, 0.004717075870328237), (3619, 0.0014871866510388068), (3620, 0.03092626999682657), (3621, 0.005026169184930877), (3622, 0.005612270336474897), (3623, 0.0), (3624, 0.0), (3625, 0.0), (3626, 0.0073998456949369495), (3627, 0.0), (3628, 0.0), (3629, 0.001895306665529239), (3630, 0.022046772056947564), (3631, 0.004650385615494284), (3632, 0.0016076532116081233), (3633, 0.002150013775168162), (3634, 0.00153903128749234), (3635, 0.0), (3636, 0.021346875958272844), (3637, 0.002687439483745328), (3638, 0.007152225877733098), (3639, 0.0), (3640, 0.0012617622160894456), (3641, 0.001711132012100911), (3642, 0.002049253980361633), (3643, 0.010269591958289933), (3644, 0.0014742932515346466), (3645, 0.005331963563398628), (3646, 0.026447536537916923), (3647, 0.0016905839703278231), (3648, 0.0015843057969890985), (3649, 0.0017757611182201696), (3650, 0.007248516260617198), (3651, 0.0), (3652, 0.010353480864182167), (3653, 0.010456755184341675), (3654, 0.0014874574224927291), (3655, 0.0015116196049377885), (3656, 0.0), (3657, 0.010917298614247985), (3658, 0.006214297402641219), (3659, 0.0013398865279769605), (3660, 0.0), (3661, 0.0), (3662, 0.004602096993277086), (3663, 0.007684025213676936), (3664, 0.006618751685398872), (3665, 0.004643982862399154), (3666, 0.0), (3667, 0.01355103740146622), (3668, 0.0), (3669, 0.01017012329700833), (3670, 0.02901885910280909), (3671, 0.048863819870014986), (3672, 0.009096699770752541), (3673, 0.030395920645686282), (3674, 0.00177655048858634), (3675, 0.04648614532251236), (3676, 0.0015382410081897805), (3677, 0.027640056809418646), (3678, 0.019975405566903116), (3679, 0.008825921073434037), (3680, 0.0), (3681, 0.0015426278627172657), (3682, 0.01494302061194521), (3683, 0.0018135372877098443), (3684, 0.0), (3685, 0.0), (3686, 0.001494825563171071), (3687, 0.027567740710002217), (3688, 0.028058267332806155), (3689, 0.002612717749661801), (3690, 0.0), (3691, 0.005838677325671312), (3692, 0.0), (3693, 0.006696065275020608), (3694, 0.002684236992603666), (3695, 0.005808501585608884), (3696, 0.04306977113089772), (3697, 0.0013785156394265357), (3698, 0.009483100968184504), (3699, 0.012704153828864402), (3700, 0.0012705211697710433), (3701, 0.0), (3702, 0.010408755373692768), (3703, 0.005679250168630314), (3704, 0.0), (3705, 0.006089157248129183), (3706, 0.0054682739960482726), (3707, 0.006195740910758742), (3708, 0.021160138624305436), (3709, 0.008015903261262121), (3710, 0.006925422859945372), (3711, 0.0019539008275874996), (3712, 0.0), (3713, 0.009787762122491044), (3714, 0.0), (3715, 0.0015064608322629919), (3716, 0.0014993471043908465), (3717, 0.007920776716215305), (3718, 0.007493878553348402), (3719, 0.002181198015614931), (3720, 0.015160936950189035), (3721, 0.0), (3722, 0.005928157806788068), (3723, 0.0013930427425721537), (3724, 0.008272146537190704), (3725, 0.005905493861897324), (3726, 0.0016710671783701253), (3727, 0.0), (3728, 0.0), (3729, 0.002187887189663806), (3730, 0.050605788415761986), (3731, 0.0), (3732, 0.001452921195461898), (3733, 0.00518577969875942), (3734, 0.010950191928961966), (3735, 0.003288776421941515), (3736, 0.02492175361188488), (3737, 0.005193171139765949), (3738, 0.004987883630958981), (3739, 0.004924736886347842), (3740, 0.00492909123028198), (3741, 0.009284896745934839), (3742, 0.0), (3743, 0.0), (3744, 0.0), (3745, 0.02107436058606587), (3746, 0.006718612608079098), (3747, 0.019454336150316442), (3748, 0.0046070312520164), (3749, 0.0037208755289934534), (3750, 0.005627033279483285), (3751, 0.0), (3752, 0.017842267459655965), (3753, 0.0), (3754, 0.00226551631537603), (3755, 0.009355500159788449), (3756, 0.0), (3757, 0.0013253253019364967), (3758, 0.008180213595670551), (3759, 0.0), (3760, 0.01580897852092358), (3761, 0.0161660522775804), (3762, 0.0), (3763, 0.01572250503275576), (3764, 0.012095063682985713), (3765, 0.02242850398019253), (3766, 0.009007681800076113), (3767, 0.0), (3768, 0.008097748270282108), (3769, 0.0), (3770, 0.007684406236207432), (3771, 0.002145328237273263), (3772, 0.0), (3773, 0.0), (3774, 0.011457456416118447), (3775, 0.0), (3776, 0.0023504801647772), (3777, 0.0), (3778, 0.0029746641164327585), (3779, 0.005005077169174669), (3780, 0.0063397891795339), (3781, 0.0), (3782, 0.055401813111361844), (3783, 0.0011431033247209304), (3784, 0.004991488066878654), (3785, 0.006793808988352306), (3786, 0.007347620667286111), (3787, 0.002411495088561777), (3788, 0.0034625784194513526), (3789, 0.011348422740897247), (3790, 0.02703866998236603), (3791, 0.004159182966099639), (3792, 0.001389934539141672), (3793, 0.0), (3794, 0.0), (3795, 0.009253648281763062), (3796, 0.00504732402136516), (3797, 0.0), (3798, 0.008344203886060005), (3799, 0.0019140485570081102), (3800, 0.0072509271107978855), (3801, 0.004072565041835467), (3802, 0.0016511128599131888), (3803, 0.015343397060728048), (3804, 0.0022265750634710073), (3805, 0.008626003891080584), (3806, 0.0054729615680652035), (3807, 0.006317863941803026), (3808, 0.001111315494814676), (3809, 0.0016917186989005141), (3810, 0.023019648266477698), (3811, 0.0009612898042614808), (3812, 0.005439826328728998), (3813, 0.0), (3814, 0.0), (3815, 0.0), (3816, 0.01793287391228769), (3817, 0.02668803418105341), (3818, 0.0015233200365236082), (3819, 0.02361252599144813), (3820, 0.0065392946125210575), (3821, 0.0020276010623032957), (3822, 0.0), (3823, 0.0034235220503106905), (3824, 0.0014756664907666038), (3825, 0.01968476622197145), (3826, 0.0071945251289157), (3827, 0.005026202936082766), (3828, 0.006860983774571085), (3829, 0.005866686102198331), (3830, 0.0030437966446518303), (3831, 0.0), (3832, 0.0), (3833, 0.0), (3834, 0.0), (3835, 0.0018484036658734109), (3836, 0.0), (3837, 0.005640030032990725), (3838, 0.006517217303605375), (3839, 0.0014815936977626994), (3840, 0.0020221241435766516), (3841, 0.0025708162588259924), (3842, 0.0041474871357958555), (3843, 0.016837975118711122), (3844, 0.010169204536563557), (3845, 0.020517846188705117), (3846, 0.0060659128675171125), (3847, 0.0), (3848, 0.023464359990663704), (3849, 0.018802390579616725), (3850, 0.0), (3851, 0.003532271786216313), (3852, 0.006681999883097882), (3853, 0.010040638009995422), (3854, 0.03978797384615682), (3855, 0.0), (3856, 0.0), (3857, 0.009463482290033477), (3858, 0.0), (3859, 0.0018991180404851352), (3860, 0.0), (3861, 0.0), (3862, 0.018659036596186698), (3863, 0.006072342791952769), (3864, 0.0024068945371772768), (3865, 0.0020739245132629985), (3866, 0.0), (3867, 0.0), (3868, 0.009753404923261363), (3869, 0.0020006921905061236), (3870, 0.006663553184465473), (3871, 0.002529971084917624), (3872, 0.008113133410063311), (3873, 0.007527526847624191), (3874, 0.00338532226944337), (3875, 0.012187725146504907), (3876, 0.036694882790084545), (3877, 0.018894464324561995), (3878, 0.00988621297714374), (3879, 0.006136926614835834), (3880, 0.0014096524630618928), (3881, 0.0), (3882, 0.010276343931459049), (3883, 0.0017872121512561214), (3884, 0.011975863672182056), (3885, 0.0), (3886, 0.00648132358957312), (3887, 0.006786872410343184), (3888, 0.03419392718980217), (3889, 0.0), (3890, 0.0), (3891, 0.0), (3892, 0.0), (3893, 0.030419638077469655), (3894, 0.001700924242451287), (3895, 0.012955396516599963), (3896, 0.0), (3897, 0.005244918380607369), (3898, 0.003271425580397092), (3899, 0.0019286975443444628), (3900, 0.0037452318068146896), (3901, 0.04236271635584063), (3902, 0.00458772651597604), (3903, 0.008202123367039838), (3904, 0.0), (3905, 0.03657069566080508), (3906, 0.006255048920016752), (3907, 0.012143509670214651), (3908, 0.020029676134289718), (3909, 0.0), (3910, 0.0015384665477727144), (3911, 0.0035218936222080202), (3912, 0.0), (3913, 0.005343631362180392), (3914, 0.0047633095832655915), (3915, 0.0), (3916, 0.0), (3917, 0.0040202475384757425), (3918, 0.011331127018835043), (3919, 0.0), (3920, 0.002583370838733287), (3921, 0.0014184913673480541), (3922, 0.0056156634827700495), (3923, 0.0), (3924, 0.006488245391896611), (3925, 0.03431375449681612), (3926, 0.020304405028869203), (3927, 0.0), (3928, 0.002531463365195555), (3929, 0.01329673716908793), (3930, 0.00483323802580454), (3931, 0.010222162918187852), (3932, 0.004543792968853645), (3933, 0.021912556485149996), (3934, 0.002463821600792749), (3935, 0.008133311574390891), (3936, 0.015404163113241668), (3937, 0.0), (3938, 0.004623516012146541), (3939, 0.0025854284954332694), (3940, 0.0), (3941, 0.006280682911480967), (3942, 0.04920452618522491), (3943, 0.02412370352765401), (3944, 0.0021573093812069016), (3945, 0.003657696243338908), (3946, 0.006715351949882822), (3947, 0.0017951278199897695), (3948, 0.04151652068619985), (3949, 0.0054000443431469584), (3950, 0.0), (3951, 0.02978273561195236), (3952, 0.030343171345525655), (3953, 0.002033379223480122), (3954, 0.004162902537737739), (3955, 0.0), (3956, 0.004966651279501492), (3957, 0.021219697341826306), (3958, 0.0), (3959, 0.013231654241862163), (3960, 0.014348133165541758), (3961, 0.0), (3962, 0.009961905020724995), (3963, 0.015316692061377825), (3964, 0.010621936152506749), (3965, 0.0), (3966, 0.0), (3967, 0.005917251466817765), (3968, 0.0019250995550995095), (3969, 0.018457829984674694), (3970, 0.0), (3971, 0.020240810364065397), (3972, 0.0020034674653943295), (3973, 0.0023530993698525947), (3974, 0.01132560275095658), (3975, 0.006893620006756069), (3976, 0.007328328698656748), (3977, 0.0), (3978, 0.026395659327971013), (3979, 0.0), (3980, 0.005689149623858037), (3981, 0.01735614293612509), (3982, 0.0139108670022358), (3983, 0.007726389342654931), (3984, 0.011037357081451754), (3985, 0.03364195449336241), (3986, 0.0), (3987, 0.010222619122602701), (3988, 0.015502340227154025), (3989, 0.019244904167100004), (3990, 0.002196517113119712), (3991, 0.0037189781910226074), (3992, 0.0), (3993, 0.02187524181570347), (3994, 0.013845778148075884), (3995, 0.008927353447303044), (3996, 0.004949364617778039), (3997, 0.010870796659893349), (3998, 0.0276382842660007), (3999, 0.0), (4000, 0.016304486353783922), (4001, 0.0038606552084025094), (4002, 0.0020755626242027875), (4003, 0.006567870946613784), (4004, 0.0), (4005, 0.004766862822842847), (4006, 0.023373430464326814), (4007, 0.014691503579860106), (4008, 0.0), (4009, 0.0), (4010, 0.0223630676845868), (4011, 0.0026184708775793186), (4012, 0.007210654832316138), (4013, 0.005744539676686644), (4014, 0.01192446777277032), (4015, 0.0), (4016, 0.008120243704139479), (4017, 0.0023136059737632005), (4018, 0.006025441355711651), (4019, 0.0), (4020, 0.008059566915777933), (4021, 0.0), (4022, 0.004133391428478233), (4023, 0.031201003889395246), (4024, 0.03271589577669731), (4025, 0.0), (4026, 0.015532892957392547), (4027, 0.005907175585287513), (4028, 0.011795493737177493), (4029, 0.006847820859632502), (4030, 0.012079140103222117), (4031, 0.008716286478057536), (4032, 0.0), (4033, 0.0015281837423627685), (4034, 0.009063258131492714), (4035, 0.013954502659071296), (4036, 0.0), (4037, 0.006263277418818177), (4038, 0.005242718811530003), (4039, 0.0018878519056774229), (4040, 0.0018464192116023153), (4041, 0.005661738943649648), (4042, 0.0), (4043, 0.0), (4044, 0.0013234076815867033), (4045, 0.0023959469599742758), (4046, 0.0), (4047, 0.0), (4048, 0.0063934743919015664), (4049, 0.0), (4050, 0.0), (4051, 0.014839174971738903), (4052, 0.004957207916324668), (4053, 0.04505517940334902), (4054, 0.006410562054965524), (4055, 0.0), (4056, 0.027507880016739386), (4057, 0.003697446444907955), (4058, 0.007549863031503246), (4059, 0.0), (4060, 0.00483821771476173), (4061, 0.0020294300219778696), (4062, 0.010325230220829897), (4063, 0.005756081692003187), (4064, 0.017617349285375183), (4065, 0.0015667702479921096), (4066, 0.01033828811895736), (4067, 0.005700818444642792), (4068, 0.009553418551249486), (4069, 0.045245299292167945), (4070, 0.030312027620237332), (4071, 0.01676053435682569), (4072, 0.001904115794619881), (4073, 0.0), (4074, 0.005567989730901712), (4075, 0.0), (4076, 0.0), (4077, 0.0027297639260924914), (4078, 0.0), (4079, 0.0), (4080, 0.004261451561182382), (4081, 0.0), (4082, 0.0), (4083, 0.00892146124480656), (4084, 0.0), (4085, 0.013678689497296552), (4086, 0.005756691103320789), (4087, 0.010617978659746962), (4088, 0.0012915783336181267), (4089, 0.016398088886991458), (4090, 0.0017246489155579926), (4091, 0.004762676246742458), (4092, 0.0017348598215290447), (4093, 0.015210826380772166), (4094, 0.001971699793835717), (4095, 0.007265231884183942), (4096, 0.006694499201593188), (4097, 0.004342499303429594), (4098, 0.009448538751063565), (4099, 0.035662383633244206), (4100, 0.0), (4101, 0.007447254436634373), (4102, 0.007764720219398095), (4103, 0.0), (4104, 0.010406630927052107), (4105, 0.010124994335348081), (4106, 0.009337858237981674), (4107, 0.007349648902870067), (4108, 0.006547103619439436), (4109, 0.0061481180383342856), (4110, 0.004719352304873515), (4111, 0.0014255260904558742), (4112, 0.028343874485051917), (4113, 0.0), (4114, 0.005877565895605133), (4115, 0.004895504674987259), (4116, 0.003595698396523082), (4117, 0.0), (4118, 0.0011977781745866468), (4119, 0.0023998259844788053), (4120, 0.0), (4121, 0.0056946347705088265), (4122, 0.002283037340780723), (4123, 0.0), (4124, 0.019374712242038714), (4125, 0.009945146311741806), (4126, 0.0017556218192278875), (4127, 0.0), (4128, 0.01110351744898105), (4129, 0.01065898700458678), (4130, 0.010663317890391499), (4131, 0.002535819145156141), (4132, 0.005747163678211256), (4133, 0.009074896687402327), (4134, 0.0014812794570218644), (4135, 0.0046997770000034664), (4136, 0.01814214531443535), (4137, 0.020326518154064), (4138, 0.024050462283135773), (4139, 0.004398975949196617), (4140, 0.009406483324436396), (4141, 0.006694018472600744), (4142, 0.001978232156306608), (4143, 0.001753128993899241), (4144, 0.0), (4145, 0.0), (4146, 0.0024792779387518104), (4147, 0.0), (4148, 0.0), (4149, 0.0), (4150, 0.006104540729834499), (4151, 0.0020335899957392503), (4152, 0.0), (4153, 0.006434442483977412), (4154, 0.0), (4155, 0.0), (4156, 0.004730107879276059), (4157, 0.0014623275567784923), (4158, 0.0), (4159, 0.007513461440748952), (4160, 0.00655165741583047), (4161, 0.0), (4162, 0.004735559754750375), (4163, 0.0), (4164, 0.001227932843341644), (4165, 0.01581669683206196), (4166, 0.002231135784633051), (4167, 0.00987638550747604), (4168, 0.0), (4169, 0.0016985779580147406), (4170, 0.00520024150710993), (4171, 0.005135663357135348), (4172, 0.001279400331802828), (4173, 0.00483451999793387), (4174, 0.0), (4175, 0.0029783770816709256), (4176, 0.002489052138792973), (4177, 0.004921151626009003), (4178, 0.0037435738234682706), (4179, 0.0017665993953934643), (4180, 0.0013104446160920101), (4181, 0.03849320271648573), (4182, 0.014221235212966234), (4183, 0.0), (4184, 0.007422191643479769), (4185, 0.002630425104869897), (4186, 0.004188983891733568), (4187, 0.0), (4188, 0.0), (4189, 0.005803749798936216), (4190, 0.0), (4191, 0.0028465210629145207), (4192, 0.013548698051521096), (4193, 0.0), (4194, 0.0), (4195, 0.0049333797677049394), (4196, 0.0015112600482699383), (4197, 0.015542172435673046), (4198, 0.008080442563516367), (4199, 0.0019495525738982143), (4200, 0.0), (4201, 0.0047942567021251785), (4202, 0.016038269699064505), (4203, 0.0), (4204, 0.01185899093783855), (4205, 0.04406086956003547), (4206, 0.006157104989059787), (4207, 0.013763052070132413), (4208, 0.00698361018548553), (4209, 0.012232486683029078), (4210, 0.021000528285023717), (4211, 0.0019251598253380246), (4212, 0.0035588179659952544), (4213, 0.005238458195935075), (4214, 0.007114542815056803), (4215, 0.014000198405569632), (4216, 0.005295345841815684), (4217, 0.003580836473380799), (4218, 0.007322119061897503), (4219, 0.009635074149201346), (4220, 0.020195174615677002), (4221, 0.0), (4222, 0.0), (4223, 0.0011838738764630484), (4224, 0.001197601355186977), (4225, 0.00922938950139979), (4226, 0.0), (4227, 0.0031085245557212634), (4228, 0.0012931035464099007), (4229, 0.01857483433943626), (4230, 0.007401452883808567), (4231, 0.005276709242571677), (4232, 0.005448776369398702), (4233, 0.0041966987073126), (4234, 0.0), (4235, 0.004925928587010962), (4236, 0.0034980836712511865), (4237, 0.006642059175812119), (4238, 0.00986250242922313), (4239, 0.004643919648118271), (4240, 0.0), (4241, 0.0), (4242, 0.004008743595149294), (4243, 0.0020981250744337328), (4244, 0.0), (4245, 0.008077249445740698), (4246, 0.013851103810103144), (4247, 0.0), (4248, 0.022989315468962115), (4249, 0.0), (4250, 0.008294190774867238), (4251, 0.006830672907682397), (4252, 0.0), (4253, 0.007365249624218815), (4254, 0.009939330698988346), (4255, 0.0), (4256, 0.00778073417990244), (4257, 0.0033904426880874534), (4258, 0.016879848688726537), (4259, 0.002336560368608492), (4260, 0.0025849099091471033), (4261, 0.0), (4262, 0.03352949686983539), (4263, 0.0), (4264, 0.0022562886220912153), (4265, 0.017143221699202453), (4266, 0.03800235670524269), (4267, 0.0014075922597135886), (4268, 0.0), (4269, 0.009112422107055429), (4270, 0.014393553085869062), (4271, 0.01676981542182475), (4272, 0.0020307146054703274), (4273, 0.01906212568308434), (4274, 0.0), (4275, 0.010143974500995828), (4276, 0.012642844105118619), (4277, 0.010241360736716647), (4278, 0.008330904944055053), (4279, 0.017974072205392665), (4280, 0.0), (4281, 0.006938480281354844), (4282, 0.0), (4283, 0.0), (4284, 0.02595059585036447), (4285, 0.0), (4286, 0.00565546391978584), (4287, 0.002005703901187312), (4288, 0.011965727329059305), (4289, 0.0017056054753576584), (4290, 0.0), (4291, 0.009915767897890526), (4292, 0.0046492028009622035), (4293, 0.001167342887749314), (4294, 0.016562277597515912), (4295, 0.008074773764181047), (4296, 0.002111177114925002), (4297, 0.0), (4298, 0.0), (4299, 0.0), (4300, 0.00883299585016976), (4301, 0.005537200218055071), (4302, 0.010264827572493819), (4303, 0.029978189379414395), (4304, 0.0), (4305, 0.020773418152142595), (4306, 0.0), (4307, 0.015803285334355287), (4308, 0.0), (4309, 0.0011025460823658403), (4310, 0.010998161521954455), (4311, 0.0), (4312, 0.0), (4313, 0.0), (4314, 0.009600922010497247), (4315, 0.018886789765145934), (4316, 0.001319006186496481), (4317, 0.0), (4318, 0.0013542352493770748), (4319, 0.0), (4320, 0.007769935031470638), (4321, 0.0), (4322, 0.0), (4323, 0.041370205772568454), (4324, 0.0), (4325, 0.0), (4326, 0.020060875603861463), (4327, 0.003421305372147457), (4328, 0.0), (4329, 0.004324688166036017), (4330, 0.005811879840609883), (4331, 0.005572136734204267), (4332, 0.0), (4333, 0.0), (4334, 0.0), (4335, 0.006126551172548574), (4336, 0.008628282165521623), (4337, 0.006000575616480508), (4338, 0.0013298666268185162), (4339, 0.0013894448115338515), (4340, 0.010299229731463886), (4341, 0.004356336997339986), (4342, 0.004459408383340152), (4343, 0.001768054180083875), (4344, 0.0022871568907127915), (4345, 0.0), (4346, 0.0), (4347, 0.0), (4348, 0.00241724094353742), (4349, 0.0), (4350, 0.0), (4351, 0.006200101033926637), (4352, 0.015302703167865675), (4353, 0.0), (4354, 0.0018164234734967804), (4355, 0.012467180577163731), (4356, 0.0), (4357, 0.017719914414571908), (4358, 0.0), (4359, 0.0), (4360, 0.016085089743886685), (4361, 0.011835542384981045), (4362, 0.0), (4363, 0.002200711611423374), (4364, 0.010024856008681134), (4365, 0.0014427415662400223), (4366, 0.0075519769043865415), (4367, 0.00547479132463368), (4368, 0.014645403886314646), (4369, 0.0), (4370, 0.008428658276070805), (4371, 0.011293540665333853), (4372, 0.0), (4373, 0.006056391084826319), (4374, 0.005950317066787222), (4375, 0.009681499084569247), (4376, 0.006152263516088136), (4377, 0.0066851100802548715), (4378, 0.004575051951792548), (4379, 0.011765914116361591), (4380, 0.0), (4381, 0.01881042555805523), (4382, 0.0015241144273701957), (4383, 0.00474850256946807), (4384, 0.010136936431393505), (4385, 0.025014779146749783), (4386, 0.01633414391503794), (4387, 0.0), (4388, 0.0), (4389, 0.0), (4390, 0.0010170034965406756), (4391, 0.0), (4392, 0.0017681966588579511), (4393, 0.0), (4394, 0.03792225071231084), (4395, 0.0), (4396, 0.0), (4397, 0.0), (4398, 0.0), (4399, 0.031515715237755954), (4400, 0.0012644532790682978), (4401, 0.0), (4402, 0.005634943636417419), (4403, 0.01738287672272054), (4404, 0.0016697852081600628), (4405, 0.010710648479658021), (4406, 0.0), (4407, 0.0), (4408, 0.002080416508464778), (4409, 0.008020431256334528), (4410, 0.01467200196134183), (4411, 0.006832219378177317), (4412, 0.00517483757962138), (4413, 0.01211163450017711), (4414, 0.002329394454051345), (4415, 0.01306543694495491), (4416, 0.002166663265218755), (4417, 0.0030134822232688644), (4418, 0.002179001357105068), (4419, 0.0), (4420, 0.0), (4421, 0.05801593371117717), (4422, 0.03609449812157476), (4423, 0.015127246496919364), (4424, 0.004017392475464513), (4425, 0.0033386978164041993), (4426, 0.0), (4427, 0.0), (4428, 0.008502340674476612), (4429, 0.0016561895952880506), (4430, 0.0), (4431, 0.0), (4432, 0.004575504002849805), (4433, 0.008353617978837725), (4434, 0.010137764065103465), (4435, 0.001767640504320351), (4436, 0.022747132631478942), (4437, 0.0), (4438, 0.00792049350406989), (4439, 0.0), (4440, 0.0015022713144742946), (4441, 0.0), (4442, 0.0013330132327889436), (4443, 0.015689668115010463), (4444, 0.00845233558804185), (4445, 0.007305717406253966), (4446, 0.019157330071794133), (4447, 0.03381182332205521), (4448, 0.005682456988963755), (4449, 0.013695749171662818), (4450, 0.020580555768033897), (4451, 0.009061305881435836), (4452, 0.0), (4453, 0.010853021825827064), (4454, 0.0046874157999689196), (4455, 0.008634908500167652), (4456, 0.0), (4457, 0.0), (4458, 0.001799277748393641), (4459, 0.0017891131157544713), (4460, 0.002180732778482633), (4461, 0.004615630306434363), (4462, 0.011003762403820408), (4463, 0.014332300527001223), (4464, 0.0), (4465, 0.0025209672530795858), (4466, 0.002426021266825457), (4467, 0.010388645181199987), (4468, 0.01368652223681901), (4469, 0.009718677478715671), (4470, 0.0), (4471, 0.002047612874817211), (4472, 0.0), (4473, 0.00214616661593729), (4474, 0.0), (4475, 0.0), (4476, 0.008655684753890698), (4477, 0.0), (4478, 0.0), (4479, 0.015054592679008978), (4480, 0.0021795160700832737), (4481, 0.0011653696899974603), (4482, 0.002090121258947446), (4483, 0.004117097120718135), (4484, 0.005880875029034684), (4485, 0.0), (4486, 0.0), (4487, 0.010644756292080655), (4488, 0.0018728705056290935), (4489, 0.002313642014437366), (4490, 0.0067656064956225824), (4491, 0.031166336023951555), (4492, 0.009553698733806425), (4493, 0.010572947284220494), (4494, 0.0021263544953782202), (4495, 0.019633790962808526), (4496, 0.0), (4497, 0.0), (4498, 0.017417152937532234), (4499, 0.0024030191904343408), (4500, 0.002464260532492759), (4501, 0.00296148425614624), (4502, 0.021097316224941386), (4503, 0.0), (4504, 0.0), (4505, 0.002635703952115076), (4506, 0.0), (4507, 0.026022008399553757), (4508, 0.024136060130154884), (4509, 0.009803284973909004), (4510, 0.0), (4511, 0.007017262383532004), (4512, 0.029410357460045163), (4513, 0.0), (4514, 0.012731423458374856), (4515, 0.02754338621516217), (4516, 0.015583996493976038), (4517, 0.009506450900035433), (4518, 0.024103484315397338), (4519, 0.0118689025000895), (4520, 0.00216871200591952), (4521, 0.027288342617092926), (4522, 0.0), (4523, 0.0038105953959904444), (4524, 0.0020886737348846775), (4525, 0.01159092912983339), (4526, 0.0), (4527, 0.0), (4528, 0.008314672629833268), (4529, 0.001849054781542915), (4530, 0.01218827443874986), (4531, 0.009920679112939423), (4532, 0.0033758400135347343), (4533, 0.00871550883062348), (4534, 0.0016916078156573916), (4535, 0.018356511836557034), (4536, 0.007381759409385126), (4537, 0.009735146785958538), (4538, 0.013706386673321953), (4539, 0.006598418635689812), (4540, 0.02413438756600109), (4541, 0.0014217392806578117), (4542, 0.0), (4543, 0.011517348343324168), (4544, 0.0), (4545, 0.010836440956034005), (4546, 0.006565914780978651), (4547, 0.03260203272981856), (4548, 0.0013488094302563113), (4549, 0.0013853527621232368), (4550, 0.0), (4551, 0.0), (4552, 0.0), (4553, 0.0), (4554, 0.002581051784425187), (4555, 0.012451943950938248), (4556, 0.0), (4557, 0.0235957099579202), (4558, 0.0), (4559, 0.0042468722311095365), (4560, 0.0), (4561, 0.06059371333061991), (4562, 0.013717450263610395), (4563, 0.011851995319027978), (4564, 0.0), (4565, 0.0), (4566, 0.005755222828438734), (4567, 0.0), (4568, 0.005819195534283646), (4569, 0.0), (4570, 0.003643625063348837), (4571, 0.0022816006249069217), (4572, 0.060416828944343214), (4573, 0.006279630084521049), (4574, 0.0), (4575, 0.0), (4576, 0.003826576409584953), (4577, 0.008193969803621222), (4578, 0.0063770737771824135), (4579, 0.004872019509405496), (4580, 0.0025624982782631194), (4581, 0.004898658989988965), (4582, 0.013429492121186881), (4583, 0.006430859989884207), (4584, 0.0), (4585, 0.0039705822148539795), (4586, 0.017688876396120327), (4587, 0.0), (4588, 0.0016225535685974884), (4589, 0.0), (4590, 0.0), (4591, 0.005534646090834861), (4592, 0.004186072168936749), (4593, 0.00855906850820038), (4594, 0.014814138120179142), (4595, 0.0016727312099837314), (4596, 0.0017895896880616086), (4597, 0.002274079582502522), (4598, 0.00823411808347374), (4599, 0.0), (4600, 0.0036723833709162695), (4601, 0.007775735805139464), (4602, 0.006541002713222049), (4603, 0.0037259927259387354), (4604, 0.0), (4605, 0.0019228463229275167), (4606, 0.027056418079133476), (4607, 0.014574819184764803), (4608, 0.015141594001340538), (4609, 0.0027655201020838137), (4610, 0.024720171081673403), (4611, 0.004329185280177944), (4612, 0.0), (4613, 0.009896007411967245), (4614, 0.008972578097056715), (4615, 0.0037525632238361788), (4616, 0.03172000565351705), (4617, 0.0015856709602708775), (4618, 0.0029809120681700946), (4619, 0.011869319380284928), (4620, 0.003273443235204457), (4621, 0.001913581365439176), (4622, 0.0), (4623, 0.01427675411822969), (4624, 0.0029021093452703123), (4625, 0.0023537073411533296), (4626, 0.008032735502076666), (4627, 0.047110926296435235), (4628, 0.0), (4629, 0.0), (4630, 0.0058442747285010685), (4631, 0.020197993655333847), (4632, 0.005726442882373627), (4633, 0.022035646679928567), (4634, 0.0), (4635, 0.0), (4636, 0.0012504469374686757), (4637, 0.013273472429138712), (4638, 0.0575211536782763), (4639, 0.0), (4640, 0.0024959019118451476), (4641, 0.02182260063703617), (4642, 0.001364363751430135), (4643, 0.005122039672169268), (4644, 0.00523637608754298), (4645, 0.0), (4646, 0.007161928102405359), (4647, 0.0019059666191816264), (4648, 0.002394386637906684), (4649, 0.007964828874323428), (4650, 0.0), (4651, 0.0), (4652, 0.005248714341115743), (4653, 0.007787263633878163), (4654, 0.010072237639255601), (4655, 0.015577205618436066), (4656, 0.0), (4657, 0.0023323880155749206), (4658, 0.0), (4659, 0.03071338046877786), (4660, 0.014867615652721072), (4661, 0.032750617627215234), (4662, 0.023356325751765033), (4663, 0.0), (4664, 0.030710896916280712), (4665, 0.011830903294497938), (4666, 0.0), (4667, 0.016927115960844067), (4668, 0.010359266985743179), (4669, 0.012487135840101622), (4670, 0.008948638632528823), (4671, 0.0), (4672, 0.0), (4673, 0.03120756488872645), (4674, 0.0), (4675, 0.0), (4676, 0.0044426929788525535), (4677, 0.004639197820940403), (4678, 0.017393676401304445), (4679, 0.006008513014974526), (4680, 0.02617249173105761), (4681, 0.03025896318266582), (4682, 0.0028608139133046917), (4683, 0.006287039561264026), (4684, 0.0022666960770664516), (4685, 0.0), (4686, 0.0), (4687, 0.024090039933809388), (4688, 0.0), (4689, 0.027389648160908407), (4690, 0.0044838721808562205), (4691, 0.0), (4692, 0.026343744724175444), (4693, 0.011122798623292386), (4694, 0.0017490448534993772), (4695, 0.0), (4696, 0.029882226424775678), (4697, 0.007345207070383146), (4698, 0.008395493579562105), (4699, 0.02073215338440244), (4700, 0.0028694523987863076), (4701, 0.00568029629262301), (4702, 0.007009277430131314), (4703, 0.004678725823644693), (4704, 0.0), (4705, 0.0015715927115942706), (4706, 0.00815237700439446), (4707, 0.0061722676726545835), (4708, 0.007192911604802314), (4709, 0.02108596558843418), (4710, 0.004929045417692379), (4711, 0.002361599997841059), (4712, 0.0), (4713, 0.007997676615949545), (4714, 0.0010580831578440074), (4715, 0.003325801921070713), (4716, 0.013002735737634935), (4717, 0.0), (4718, 0.0), (4719, 0.0), (4720, 0.016457991537813403), (4721, 0.0026185843438935644), (4722, 0.0028265477752609466), (4723, 0.011028490956079877), (4724, 0.0), (4725, 0.007728856645735468), (4726, 0.002137731972678444), (4727, 0.0), (4728, 0.00243628452430821), (4729, 0.0), (4730, 0.009069426445660044), (4731, 0.0), (4732, 0.005528319328091516), (4733, 0.0015821069205047837), (4734, 0.0), (4735, 0.017454249193023776), (4736, 0.0024654057186652804), (4737, 0.0), (4738, 0.0), (4739, 0.0), (4740, 0.008776961648117464), (4741, 0.0), (4742, 0.0036861673323042633), (4743, 0.0), (4744, 0.0018246313974451935), (4745, 0.006933998904066562), (4746, 0.006435021480468323), (4747, 0.0), (4748, 0.0015382873844939733), (4749, 0.0), (4750, 0.01956160671883212), (4751, 0.0), (4752, 0.01437107681690701), (4753, 0.0025612336032230115), (4754, 0.005331113601250288), (4755, 0.010661000876585183), (4756, 0.002645492458695069), (4757, 0.010563920181070269), (4758, 0.005258679525141016), (4759, 0.005520110745245262), (4760, 0.009117958204023516), (4761, 0.0), (4762, 0.004882538144467275), (4763, 0.0), (4764, 0.007712504374978475), (4765, 0.0), (4766, 0.002827404258697308), (4767, 0.0), (4768, 0.002634006013244376), (4769, 0.0026747795061048455), (4770, 0.0022954325268768464), (4771, 0.0), (4772, 0.0), (4773, 0.006810447387666068), (4774, 0.01609618300642016), (4775, 0.0), (4776, 0.006195886514834168), (4777, 0.0), (4778, 0.005617200259062799), (4779, 0.0), (4780, 0.01832437076248667), (4781, 0.0018095800415734362), (4782, 0.0020261395991019054), (4783, 0.031889151904390164), (4784, 0.0017209865170659717), (4785, 0.0), (4786, 0.0028762767325782907), (4787, 0.005745943346335647), (4788, 0.005274209957885425), (4789, 0.0), (4790, 0.017068821099471783), (4791, 0.0019255684157972075), (4792, 0.011062973374942536), (4793, 0.0), (4794, 0.0), (4795, 0.002395565907086149), (4796, 0.0026518072717497698), (4797, 0.0), (4798, 0.01755203505704037), (4799, 0.008269563656720474), (4800, 0.0), (4801, 0.009739496651104726), (4802, 0.0015583234824326027), (4803, 0.008047436536296077), (4804, 0.0033709307439884068), (4805, 0.006463800293998803), (4806, 0.017737923974501787), (4807, 0.003786211492955629), (4808, 0.0)]\n"
     ]
    }
   ],
   "source": [
    "similarity_score=list(enumerate(similarity[index_of_the_movie]))\n",
    "print(similarity_score)"
   ]
  },
  {
   "cell_type": "code",
   "execution_count": 227,
   "id": "8a11d457",
   "metadata": {},
   "outputs": [
    {
     "data": {
      "text/plain": [
       "4809"
      ]
     },
     "execution_count": 227,
     "metadata": {},
     "output_type": "execute_result"
    }
   ],
   "source": [
    "len(similarity_score)"
   ]
  },
  {
   "cell_type": "code",
   "execution_count": 228,
   "id": "65a387d3",
   "metadata": {},
   "outputs": [],
   "source": [
    "#sorting the movies based on their similarity score"
   ]
  },
  {
   "cell_type": "code",
   "execution_count": 229,
   "id": "c1333c59",
   "metadata": {},
   "outputs": [
    {
     "name": "stdout",
     "output_type": "stream",
     "text": [
      "[(326, 1.0), (1429, 0.25959412073946175), (1032, 0.19333876127835276), (917, 0.13876584817222185), (1790, 0.1296465359565833), (2379, 0.12500663404781828), (784, 0.09427746789568738), (3182, 0.09369248947731527), (989, 0.09289491418190501), (1925, 0.09077457341373844), (591, 0.08528878547172528), (2565, 0.08345438376309496), (3045, 0.07479469613257125), (106, 0.07326247552089124), (781, 0.06926145436015646), (1242, 0.06815239676470161), (565, 0.0679746440235821), (2287, 0.06584987894075614), (81, 0.06467411783335757), (2997, 0.0638327992344038), (143, 0.06314681231642047), (195, 0.06161851997240578), (2455, 0.06110349354897996), (80, 0.06094965447845357), (4561, 0.06059371333061991), (1112, 0.060421260077988724), (4572, 0.060416828944343214), (1810, 0.06036073066316191), (3018, 0.059600725721526734), (1557, 0.05949455651570228), (520, 0.05943432913893036), (534, 0.05844175648697867), (2674, 0.058352732716977426), (4421, 0.05801593371117717), (4638, 0.0575211536782763), (2749, 0.05747237803587373), (743, 0.057344460036805926), (2444, 0.05638439637029671), (3782, 0.055401813111361844), (501, 0.055219119027129004), (138, 0.055027673507175696), (1767, 0.05482962120550636), (100, 0.05420302642541489), (3136, 0.05402805544927423), (698, 0.05369945587875378), (2471, 0.053437847664569875), (1137, 0.05331565410637328), (8, 0.0531673259848431), (2198, 0.053052780494399196), (2850, 0.052858885905253165), (2140, 0.05257756574916779), (3154, 0.05225491821307112), (288, 0.05197839184705463), (3255, 0.05157760832773764), (2349, 0.051538828616945156), (3288, 0.05144860840426544), (769, 0.05130017714582984), (3083, 0.05109964831705002), (2868, 0.050981039953984106), (391, 0.05080504398855273), (3730, 0.050605788415761986), (1539, 0.05029283464666442), (23, 0.050178708478397796), (2802, 0.05014970211756439), (1730, 0.049982059273815854), (1444, 0.04990470389583048), (55, 0.049894532167642745), (6, 0.049210037797851026), (3942, 0.04920452618522491), (1358, 0.04896146252407057), (3671, 0.048863819870014986), (1657, 0.048618572039939315), (328, 0.048518166967164184), (3498, 0.04838733868795507), (3514, 0.047709475055727646), (2457, 0.047419799065746365), (734, 0.04716405792572096), (4627, 0.047110926296435235), (69, 0.04710957425786685), (3536, 0.047079264310732734), (3675, 0.04648614532251236), (3504, 0.04635480079611227), (1740, 0.04609969713028861), (1448, 0.045898139506848235), (403, 0.04574160259606481), (4069, 0.045245299292167945), (1611, 0.045112396915488545), (4053, 0.04505517940334902), (410, 0.04455277050687239), (4205, 0.04406086956003547), (1436, 0.04385455057235965), (2341, 0.04376827227177043), (2562, 0.04359267424160707), (3696, 0.04306977113089772), (471, 0.043057286672683784), (37, 0.04298469074051722), (2122, 0.04294581129358948), (2230, 0.042943236273129765), (1701, 0.042792633375071255), (1135, 0.04268038376515389), (1603, 0.042439849092920395), (1685, 0.042412671296723235), (3901, 0.04236271635584063), (1525, 0.042021886195202945), (2532, 0.04172117180314418), (2841, 0.04168906474849837), (3948, 0.04151652068619985), (4323, 0.041370205772568454), (1450, 0.04134730658427825), (1426, 0.040646946932330535), (331, 0.040506873247541375), (324, 0.04047884393403578), (14, 0.040399427078975675), (791, 0.04030858500195875), (539, 0.04023121552083951), (2221, 0.03989584269482993), (3854, 0.03978797384615682), (737, 0.03976868424200754), (3502, 0.03975855930640541), (2820, 0.039565557360729864), (2580, 0.039524799631150874), (237, 0.03938000562362387), (390, 0.03921147475603418), (191, 0.03915013187868863), (2699, 0.03907645245672132), (2973, 0.038911451922148815), (1782, 0.03886700807018191), (1372, 0.038808586967400714), (1625, 0.038570076277428034), (4181, 0.03849320271648573), (1965, 0.03837148350159975), (48, 0.03834693949061645), (2199, 0.038058864529677223), (4266, 0.03800235670524269), (4394, 0.03792225071231084), (1686, 0.037737776153313925), (586, 0.03771161866390418), (2372, 0.037661275303575895), (2191, 0.037608628165034554), (2573, 0.03754804071881181), (2301, 0.037299906323816925), (2300, 0.037116630755367086), (2108, 0.03708279609847592), (3487, 0.03670313258932115), (3876, 0.036694882790084545), (3905, 0.03657069566080508), (951, 0.036314266100789194), (3011, 0.0362426598918464), (4422, 0.03609449812157476), (4099, 0.035662383633244206), (561, 0.035558501482237645), (3584, 0.03541012118624717), (1881, 0.035380456266754776), (2309, 0.03534055519099519), (2169, 0.03528583672866011), (2273, 0.03526566106170148), (661, 0.03523480104428431), (2181, 0.03508285286151239), (803, 0.03499083173532066), (1477, 0.03489925841233649), (2002, 0.03488450467252446), (666, 0.034872752652192515), (2968, 0.034839430790524234), (1093, 0.034715518572713815), (2212, 0.034608125365628), (1661, 0.03438866061854751), (2422, 0.034340759888338214), (3925, 0.03431375449681612), (3888, 0.03419392718980217), (2066, 0.03418307693476273), (294, 0.034173834211189094), (636, 0.034172562889585374), (38, 0.03415541512735615), (3612, 0.034106317408170495), (4447, 0.03381182332205521), (3985, 0.03364195449336241), (3374, 0.03360183982668282), (4262, 0.03352949686983539), (129, 0.03349627572179798), (397, 0.03335748229691954), (915, 0.03334589566505317), (536, 0.03333699611562118), (3403, 0.03316505172039946), (2239, 0.0329996082114166), (94, 0.03294907180315666), (2661, 0.03293839569841745), (473, 0.032884461809314744), (2937, 0.032855991715733585), (1957, 0.032826980142686944), (4661, 0.032750617627215234), (4024, 0.03271589577669731), (1223, 0.032655992904574827), (1495, 0.032644105986718915), (4547, 0.03260203272981856), (3474, 0.03249445243612825), (1351, 0.03234539622458086), (1243, 0.03218395112389472), (990, 0.03203259778587324), (2137, 0.03200137541349588), (1255, 0.031903242588271624), (4783, 0.031889151904390164), (2634, 0.031880263728822036), (2467, 0.03182739617449919), (2912, 0.03180255155341794), (2339, 0.0317394479595295), (4616, 0.03172000565351705), (1578, 0.031613574263406836), (360, 0.03155447085385155), (4399, 0.031515715237755954), (2672, 0.03148676912798504), (2734, 0.03125072735416769), (4673, 0.03120756488872645), (4023, 0.031201003889395246), (4491, 0.031166336023951555), (50, 0.031123463725063347), (709, 0.031067105555089007), (820, 0.03104985959957207), (2538, 0.031029899999027635), (267, 0.030939652605093924), (3620, 0.03092626999682657), (1125, 0.030853321857411492), (3170, 0.030815662957806435), (4659, 0.03071338046877786), (4664, 0.030710896916280712), (276, 0.030702897798530762), (1295, 0.03068305439499065), (3183, 0.030643090280499777), (463, 0.030634442717540313), (78, 0.03060184309022273), (3092, 0.030584693930814366), (262, 0.030491061581529325), (3036, 0.030423855071558044), (3893, 0.030419638077469655), (3673, 0.030395920645686282), (3952, 0.030343171345525655), (4070, 0.030312027620237332), (1018, 0.030287199836885645), (4681, 0.03025896318266582), (2447, 0.030068226865673293), (853, 0.02997894014897169), (4303, 0.029978189379414395), (2268, 0.029972817426702134), (836, 0.029883176208447198), (4696, 0.029882226424775678), (3951, 0.02978273561195236), (103, 0.029748539310831143), (2785, 0.029672213068439007), (2776, 0.02955053688399201), (1908, 0.029436170932047676), (1743, 0.029413579022746925), (2139, 0.02941040744200038), (4512, 0.029410357460045163), (1754, 0.02935850097896925), (269, 0.029313952497660667), (3290, 0.02914898061553675), (1253, 0.02914656357764811), (2761, 0.029112061297202344), (2806, 0.029078001094315166), (3378, 0.02904432758376326), (3670, 0.02901885910280909), (2165, 0.02896750389515288), (1412, 0.028883571090244163), (2704, 0.028836379006245774), (235, 0.02879555939744937), (2960, 0.028680620488718254), (109, 0.02856956793109476), (399, 0.02855772161653577), (1899, 0.028440295002838893), (4112, 0.028343874485051917), (108, 0.02826940288227715), (2193, 0.0282272954385808), (3295, 0.02811971262096998), (2253, 0.0281166273596106), (3688, 0.028058267332806155), (21, 0.027987887940597107), (2087, 0.027851825086427372), (70, 0.027832344297008958), (2876, 0.027818101474865173), (1905, 0.02766797054361941), (1584, 0.02765533007465437), (1487, 0.027651535384187395), (3677, 0.027640056809418646), (3998, 0.0276382842660007), (1772, 0.027602209154391336), (145, 0.027575329173788563), (3687, 0.027567740710002217), (4515, 0.02754338621516217), (2685, 0.027538126616291084), (2642, 0.027519258770527286), (4056, 0.027507880016739386), (942, 0.02741461996564147), (4689, 0.027389648160908407), (2110, 0.02736892970965793), (1775, 0.027348212249407197), (4521, 0.027288342617092926), (3044, 0.027091636405346974), (1146, 0.027064896217941833), (3424, 0.02706214061814706), (4606, 0.027056418079133476), (3790, 0.02703866998236603), (2123, 0.027013211955398752), (2012, 0.026973133565211922), (3449, 0.026866185874520988), (3407, 0.026833692991873007), (1249, 0.02679891131581266), (1770, 0.026791821513264112), (1737, 0.02676330946619293), (1762, 0.026692197192352173), (3817, 0.02668803418105341), (124, 0.026654747385968902), (998, 0.026616036572489253), (2305, 0.02657626420639653), (2991, 0.026574359099240896), (633, 0.02655926395006537), (46, 0.026557909218193645), (2005, 0.026548404832165504), (1828, 0.026532104846202498), (3389, 0.026509432605840627), (928, 0.026453344526510263), (3646, 0.026447536537916923), (668, 0.02641078368771129), (2491, 0.02640129652656198), (3978, 0.026395659327971013), (4692, 0.026343744724175444), (3398, 0.026328160569250313), (1334, 0.026296460980448265), (566, 0.026288779260288216), (1194, 0.026273379744035288), (555, 0.026231859777892316), (4680, 0.02617249173105761), (527, 0.02616812022656017), (2180, 0.026156908459869094), (4507, 0.026022008399553757), (15, 0.026009922278108718), (1261, 0.02598675831017604), (1120, 0.025967493449198024), (4284, 0.02595059585036447), (2701, 0.025883607761382387), (1738, 0.02584193141855361), (1452, 0.025826705786638746), (234, 0.025782505633640877), (3002, 0.025699034388113835), (667, 0.025695521759640405), (2279, 0.025676644092270006), (178, 0.02554037819309506), (2917, 0.02553367267938554), (3190, 0.02550833883592696), (488, 0.025407992094571095), (2982, 0.02539136465042692), (1220, 0.02536229830696607), (364, 0.02533554601791851), (2128, 0.025335132779945653), (2569, 0.02528080641730828), (3074, 0.025250163370825772), (1600, 0.025245526255159374), (1293, 0.02524500265896743), (2650, 0.025232602877817097), (413, 0.025178751426273526), (2832, 0.02506091613610245), (4385, 0.025014779146749783), (1388, 0.0249570744419306), (812, 0.024929486331863537), (3736, 0.02492175361188488), (1529, 0.024875150476743532), (2513, 0.024832009518796376), (981, 0.024811173600133334), (469, 0.024730289521354528), (4610, 0.024720171081673403), (678, 0.02469201657159521), (1234, 0.024617201613030777), (2456, 0.02459509149393814), (572, 0.02459272203257414), (1466, 0.02459202644279662), (2278, 0.02455804002104077), (151, 0.024529857649148945), (1556, 0.024401074028392894), (1585, 0.024309237771867696), (1751, 0.02429726096046832), (2574, 0.024255179052161846), (3191, 0.024249381456725404), (223, 0.024190746494412184), (2523, 0.024190210103055255), (2327, 0.024179371662419704), (4508, 0.024136060130154884), (3227, 0.024135401433852663), (4540, 0.02413438756600109), (3943, 0.02412370352765401), (4518, 0.024103484315397338), (1846, 0.02410179544769114), (4687, 0.024090039933809388), (1946, 0.024061187868315393), (4138, 0.024050462283135773), (113, 0.023930942619218316), (578, 0.023850007323331077), (175, 0.023840783513474816), (2570, 0.023827504690357264), (197, 0.023817614263800947), (646, 0.023806661954713197), (986, 0.0237645209766997), (2025, 0.02374013031437318), (82, 0.023639151526959487), (1587, 0.023638450511406544), (2536, 0.023618696631917666), (3819, 0.02361252599144813), (4557, 0.0235957099579202), (522, 0.023590534969959172), (1623, 0.023540268100716646), (774, 0.02351604951644202), (2249, 0.0235125034977581), (3848, 0.023464359990663704), (1081, 0.023430812938462917), (1609, 0.023423224113142446), (144, 0.023405813673499674), (3463, 0.023397691721976463), (2126, 0.023375778486042293), (4006, 0.023373430464326814), (4662, 0.023356325751765033), (2291, 0.023305225952097088), (250, 0.023290746656418213), (2085, 0.023220317993141296), (632, 0.023171130644815678), (2911, 0.02315842677913553), (2115, 0.02312521015381458), (2499, 0.02311496226225828), (2280, 0.023060329387147388), (86, 0.023043261327566858), (1421, 0.023034954483426656), (3810, 0.023019648266477698), (1077, 0.023001489913385825), (4248, 0.022989315468962115), (1366, 0.022973694251745568), (722, 0.02296849177190319), (899, 0.022963551429732512), (3196, 0.022943665587972888), (3598, 0.022919459220450557), (2653, 0.022818836512790236), (1541, 0.022806954593099782), (3453, 0.0227636725001674), (4436, 0.022747132631478942), (3513, 0.022745920473928323), (2852, 0.022717947229026765), (3555, 0.022708225152302156), (1174, 0.022597557014675817), (254, 0.02252794341289914), (3765, 0.02242850398019253), (3283, 0.022393390758651904), (53, 0.022383883057968), (1263, 0.022377972962481712), (3139, 0.022374103925058546), (4010, 0.0223630676845868), (1869, 0.02233892037574483), (63, 0.022329670076949006), (114, 0.022277196440610866), (651, 0.022211643369601703), (3630, 0.022046772056947564), (1607, 0.02204450409226511), (940, 0.022043969658025762), (4633, 0.022035646679928567), (3043, 0.022035261797702443), (2413, 0.022028491420455078), (3131, 0.022009492393375376), (982, 0.0219587975365477), (3121, 0.021957243294720784), (3933, 0.021912556485149996), (3993, 0.02187524181570347), (4641, 0.02182260063703617), (73, 0.02173342803425647), (293, 0.0217078074798746), (3048, 0.021703138099493903), (2584, 0.021679692102914462), (1711, 0.021648295845880912), (420, 0.02156839777019733), (2529, 0.021403006081788023), (2901, 0.021396980138531113), (1635, 0.021384298891728288), (464, 0.021382156182980585), (2161, 0.021377812247081365), (614, 0.02137511248988739), (3636, 0.021346875958272844), (3957, 0.021219697341826306), (2686, 0.02119224901842134), (2814, 0.021191312657801345), (3708, 0.021160138624305436), (980, 0.021151572648244337), (1064, 0.02114617233166092), (107, 0.02112754250796659), (363, 0.02109783948827285), (4502, 0.021097316224941386), (2173, 0.021090830710908642), (4709, 0.02108596558843418), (3745, 0.02107436058606587), (10, 0.021065982801015796), (2621, 0.021034488830390455), (776, 0.021013589848905716), (4210, 0.021000528285023717), (3552, 0.02095366673822815), (1877, 0.020925212529433825), (1229, 0.02088217238200006), (1459, 0.020824583551002623), (4305, 0.020773418152142595), (1199, 0.020762916248337513), (587, 0.020735278169816185), (4699, 0.02073215338440244), (1414, 0.020719176530103106), (1697, 0.02068889489498552), (1526, 0.020652197318566445), (611, 0.02064121619834683), (2236, 0.020600202544094122), (4450, 0.020580555768033897), (1236, 0.020568491143720242), (3431, 0.020567402304740304), (1555, 0.020521285534202065), (3845, 0.020517846188705117), (168, 0.020456606828467498), (445, 0.020359460012135), (49, 0.02035604147390414), (1357, 0.02035126734484168), (419, 0.020342182537450876), (4137, 0.020326518154064), (1198, 0.020305511427344606), (3926, 0.020304405028869203), (2269, 0.020303426965384952), (3395, 0.020286107981031875), (832, 0.020283703632552122), (1716, 0.02025811802441857), (547, 0.02024926574883514), (3971, 0.020240810364065397), (2263, 0.020204901411947584), (4631, 0.020197993655333847), (4220, 0.020195174615677002), (2655, 0.020188456554142885), (2396, 0.02013139947355572), (1258, 0.020129895533007057), (459, 0.020127799150893078), (2833, 0.020111899979093538), (309, 0.02007589654396042), (1673, 0.02006639222509163), (4326, 0.020060875603861463), (995, 0.02005995332917461), (1705, 0.020043443136030924), (707, 0.020038547512175545), (3908, 0.020029676134289718), (3274, 0.020025808177092937), (1647, 0.020025213937407336), (1510, 0.019988790125751485), (3678, 0.019975405566903116), (1244, 0.019971219941646263), (1515, 0.019904448689595528), (1971, 0.01990239841443544), (32, 0.01986129396174445), (2861, 0.019832512452082614), (1422, 0.019806798805889706), (728, 0.01979728089503237), (1570, 0.019784177330929856), (1386, 0.01972770125089775), (3825, 0.01968476622197145), (1002, 0.019670600865002476), (2665, 0.01966670515094162), (4495, 0.019633790962808526), (837, 0.019633147735239838), (988, 0.019578282332666702), (4750, 0.01956160671883212), (898, 0.01955365264894645), (172, 0.019513723498806316), (416, 0.019497252955552123), (725, 0.01946113254847324), (3747, 0.019454336150316442), (2046, 0.01943840958224157), (2849, 0.019438405040755256), (2382, 0.01940096357142084), (4124, 0.019374712242038714), (193, 0.019317928298125564), (2877, 0.019291842902944757), (2147, 0.019286151655277833), (1316, 0.019257114702205487), (3989, 0.019244904167100004), (844, 0.0191877761567102), (3194, 0.019168227056880916), (4446, 0.019157330071794133), (2782, 0.019143932240105202), (807, 0.01913655425055366), (2759, 0.019123570682876855), (1855, 0.019102965836477928), (4273, 0.01906212568308434), (3523, 0.018993651798592488), (3540, 0.018989259893521838), (2111, 0.018986336656732918), (1500, 0.018963523558181185), (2743, 0.01894087969364012), (3877, 0.018894464324561995), (4315, 0.018886789765145934), (2298, 0.01888236841504677), (2616, 0.018865172888787828), (3613, 0.01886375269820728), (2429, 0.018851072921167382), (4381, 0.01881042555805523), (3849, 0.018802390579616725), (2446, 0.018800250725498485), (484, 0.018759942607636096), (2158, 0.018742345805826666), (3412, 0.018735552044008223), (3113, 0.018720967696611888), (2358, 0.01870032071658072), (1689, 0.018690749537745546), (117, 0.018668974368902923), (3862, 0.018659036596186698), (289, 0.018646225380232404), (3595, 0.01860864490641169), (2895, 0.018599909190985104), (4229, 0.01857483433943626), (2913, 0.01852316923943713), (3391, 0.01848243523334941), (2794, 0.01846335581586278), (3969, 0.018457829984674694), (2783, 0.018451825866344793), (2132, 0.01845036588467503), (3037, 0.018437705100557387), (1567, 0.018392914992506202), (2709, 0.0183890523889798), (4535, 0.018356511836557034), (4780, 0.01832437076248667), (2331, 0.018318863079226314), (2501, 0.018317939690889684), (2320, 0.018284634770133742), (2470, 0.01826852732229798), (790, 0.018246498780110112), (1341, 0.018239271443209915), (2303, 0.018237748537555512), (3175, 0.0182106704675312), (810, 0.018209668360407574), (1407, 0.018203450472989692), (1679, 0.018185148376476553), (4136, 0.01814214531443535), (2208, 0.01812559614895354), (1993, 0.018114736610807307), (90, 0.018097448046848645), (1924, 0.018083318754829714), (2714, 0.0180688541550691), (2487, 0.017989287196520626), (1717, 0.01798134833897791), (1839, 0.017976975490417796), (4279, 0.017974072205392665), (3611, 0.0179372924939164), (3816, 0.01793287391228769), (1029, 0.017917329191024504), (2322, 0.017846448830963958), (3752, 0.017842267459655965), (1615, 0.01780388521346163), (4806, 0.017737923974501787), (1503, 0.01772539105302958), (4357, 0.017719914414571908), (868, 0.017711491960065655), (519, 0.017689526161720336), (4586, 0.017688876396120327), (1832, 0.017662628432489506), (710, 0.01762744167611264), (4064, 0.017617349285375183), (742, 0.017608599667897885), (2159, 0.0175838533392934), (3471, 0.01757045072996013), (4798, 0.01755203505704037), (2740, 0.017535143169426785), (1043, 0.017532181887126765), (2716, 0.017491380897426904), (228, 0.017473079407481808), (4735, 0.017454249193023776), (4498, 0.017417152937532234), (4678, 0.017393676401304445), (1054, 0.017389971411001428), (4403, 0.01738287672272054), (2804, 0.01736045050950498), (3981, 0.01735614293612509), (1294, 0.017324952450153714), (674, 0.01731326706512175), (327, 0.017246943036999668), (1918, 0.017229953109839654), (1932, 0.017219807281583042), (886, 0.017207711463543274), (104, 0.017200414032024488), (1575, 0.01717724183453675), (1118, 0.01717114565215367), (381, 0.017152331379762704), (3546, 0.017148207878353514), (4265, 0.017143221699202453), (612, 0.017122487434599987), (2830, 0.01712122294962586), (4790, 0.017068821099471783), (1190, 0.01704320964590178), (1340, 0.01699676567235665), (1699, 0.016993768305597495), (2452, 0.01694948241893493), (3549, 0.01694564999816382), (2296, 0.016939907091323956), (296, 0.016933268616277693), (4667, 0.016927115960844067), (2114, 0.016899364459036087), (1455, 0.01688811082582936), (4258, 0.016879848688726537), (3060, 0.01684166944625279), (3843, 0.016837975118711122), (2370, 0.01682409349036886), (3324, 0.016817082569736283), (3089, 0.01681185162509733), (2970, 0.016801060695965587), (2555, 0.016800598340248416), (1794, 0.01679973742706946), (4271, 0.01676981542182475), (4071, 0.01676053435682569), (652, 0.016712621221089997), (932, 0.01664091745854552), (2162, 0.01660712528845), (3557, 0.01660292698146082), (4294, 0.016562277597515912), (3530, 0.016545041788722677), (1501, 0.01653855884776668), (2979, 0.01652842483285332), (2022, 0.01652810689462474), (57, 0.016460225968639906), (4720, 0.016457991537813403), (370, 0.01645516121198785), (4089, 0.016398088886991458), (2250, 0.016367786235718558), (1786, 0.016355696453305164), (1092, 0.016342014976400362), (3261, 0.016334344096889115), (4386, 0.01633414391503794), (3548, 0.016328723571924324), (4000, 0.016304486353783922), (1206, 0.01629323050508017), (3481, 0.016286661443313172), (2307, 0.016283551717431538), (1729, 0.01624173706944649), (395, 0.01622934381625644), (211, 0.016225554984852935), (935, 0.016217299678472213), (2343, 0.01621699739027505), (3484, 0.016203570076074387), (3761, 0.0161660522775804), (1347, 0.01615372332324081), (67, 0.016140815369995273), (994, 0.016125318004297368), (4774, 0.01609618300642016), (1797, 0.016093811185437335), (4360, 0.016085089743886685), (4202, 0.016038269699064505), (2751, 0.016028404972356084), (226, 0.015916079311048936), (1976, 0.015912827588638215), (1675, 0.015830225943769), (2185, 0.015822513394238), (4165, 0.01581669683206196), (3760, 0.01580897852092358), (4307, 0.015803285334355287), (1926, 0.015796202652205656), (583, 0.01578410559327656), (1865, 0.015775161874249908), (890, 0.015754312296162625), (1332, 0.01574541277934282), (2190, 0.015724387803917623), (3763, 0.01572250503275576), (185, 0.015711353289219958), (1473, 0.015696407981742898), (4443, 0.015689668115010463), (3515, 0.01568868769861782), (20, 0.01568176951932965), (3155, 0.01564352471323754), (2559, 0.015595590357406776), (268, 0.015591583885802618), (4516, 0.015583996493976038), (4655, 0.015577205618436066), (1489, 0.01555264815708901), (4197, 0.015542172435673046), (4026, 0.015532892957392547), (3988, 0.015502340227154025), (1378, 0.01547170812403155), (3936, 0.015404163113241668), (284, 0.015396837379367985), (3541, 0.01537376720204736), (1734, 0.015369714365731358), (3242, 0.01534938027959418), (2955, 0.015346283962098004), (3803, 0.015343397060728048), (1307, 0.015329095950792335), (827, 0.015328130579522193), (1327, 0.015319024757629557), (3963, 0.015316692061377825), (1594, 0.015308623272715545), (217, 0.015303964523266617), (4352, 0.015302703167865675), (27, 0.015259289428176752), (811, 0.015258766595939369), (1518, 0.015254383347134434), (19, 0.015247311997988646), (2688, 0.015243425368148624), (4093, 0.015210826380772166), (773, 0.015209527215203526), (563, 0.015208913665575707), (118, 0.01519900250974313), (3720, 0.015160936950189035), (4608, 0.015141594001340538), (4423, 0.015127246496919364), (2620, 0.015122031690682516), (2438, 0.0151093985922759), (517, 0.015101031746299946), (2857, 0.015095001159435519), (1852, 0.015088755616709089), (2015, 0.015070556938826809), (1478, 0.015060170027836245), (4479, 0.015054592679008978), (2186, 0.015043794249045644), (1278, 0.014986018721185712), (2720, 0.014985552188366233), (444, 0.014966309116307284), (3682, 0.01494302061194521), (2033, 0.014925479905945657), (4660, 0.014867615652721072), (954, 0.0148592418106577), (576, 0.014843364427179179), (4051, 0.014839174971738903), (1756, 0.014828971481932183), (4594, 0.014814138120179142), (2217, 0.01478146012883988), (3328, 0.014763078658655263), (1910, 0.014749261022561017), (3285, 0.014746899022332428), (1280, 0.014728569052455676), (564, 0.01472637621968532), (619, 0.014726196606664818), (2953, 0.01472574013240715), (3461, 0.014711985963554209), (2478, 0.01470824656170901), (4007, 0.014691503579860106), (380, 0.014688808090466857), (61, 0.014683616401936292), (184, 0.014673550945795606), (4410, 0.01467200196134183), (1588, 0.014647551112152601), (4368, 0.014645403886314646), (3408, 0.014628502184637225), (2450, 0.014605725719512184), (1745, 0.014599772320720166), (4607, 0.014574819184764803), (2149, 0.014563012008725229), (1692, 0.014549121343403179), (1605, 0.01451764204221534), (225, 0.014517602199087232), (2738, 0.014454355083314234), (3339, 0.014449762450701748), (1209, 0.014433408147232919), (1859, 0.014422243421420356), (627, 0.01442210627522341), (1658, 0.01442032094980237), (1948, 0.014395785946383358), (2583, 0.014395587191014653), (4270, 0.014393553085869062), (387, 0.014385325442370667), (2357, 0.01438345114250005), (2639, 0.0143826917084508), (2214, 0.014382657336749309), (2324, 0.014378931035497878), (4752, 0.01437107681690701), (2673, 0.014366451648684594), (92, 0.014351715593205985), (3960, 0.014348133165541758), (2687, 0.01433981390775577), (4463, 0.014332300527001223), (1519, 0.014320130036888878), (1084, 0.014292233563705651), (1653, 0.014287239232733128), (3476, 0.01427840334399638), (4623, 0.01427675411822969), (4182, 0.014221235212966234), (431, 0.014206202301782416), (1887, 0.01417187161730242), (2554, 0.014116459353945371), (1015, 0.01408907150413647), (1469, 0.014077670935841476), (1201, 0.01407007543860166), (2884, 0.014061920448515574), (2317, 0.014060788134896945), (3233, 0.014036900237303038), (2981, 0.014029181600083412), (302, 0.014010702301988042), (4215, 0.014000198405569632), (4035, 0.013954502659071296), (2879, 0.013928739821198268), (1990, 0.013914336201737536), (3982, 0.0139108670022358), (3107, 0.013906710358721826), (60, 0.013890291717469501), (1326, 0.013873251216215418), (4246, 0.013851103810103144), (3994, 0.013845778148075884), (1805, 0.013843795049385824), (533, 0.01383463454069849), (2381, 0.013813871773240496), (3169, 0.013810099297460044), (2737, 0.013807396145088727), (2906, 0.013794730697801839), (2946, 0.01379359530428109), (2428, 0.013788066480952304), (2506, 0.013774095266300346), (4207, 0.013763052070132413), (1250, 0.013749305242493317), (597, 0.013745236829257712), (1088, 0.013726241832248496), (4562, 0.013717450263610395), (4538, 0.013706386673321953), (2754, 0.013703851034294093), (4449, 0.013695749171662818), (610, 0.013692029693537265), (4468, 0.01368652223681901), (4085, 0.013678689497296552), (1069, 0.013614162067122513), (1760, 0.013608535966547328), (3494, 0.013607584984429499), (2143, 0.013600862705035115), (2071, 0.013593326989844187), (967, 0.013562204730303166), (3127, 0.013562090851688307), (1292, 0.013560152344910205), (3068, 0.013553531706370834), (3667, 0.01355103740146622), (4192, 0.013548698051521096), (2829, 0.0135233529994431), (3224, 0.013521458255168057), (961, 0.013512696541794541), (1225, 0.013493083984225841), (2512, 0.013479600895734424), (1216, 0.013445757509491018), (2989, 0.013441609777956642), (1895, 0.013441078356417422), (4582, 0.013429492121186881), (454, 0.013381995949319107), (2713, 0.013380427087002843), (3032, 0.013370065858175652), (3241, 0.013366189879494571), (2891, 0.013346395188491624), (2120, 0.013342271385794153), (2619, 0.013306486122164375), (1160, 0.013302488186333563), (3929, 0.01329673716908793), (2171, 0.01329255712956695), (4637, 0.013273472429138712), (993, 0.013264410018395865), (2795, 0.013253378984756144), (3959, 0.013231654241862163), (588, 0.013223843282616735), (3015, 0.013223524076524105), (933, 0.013186337857921454), (3005, 0.013171774965335692), (1566, 0.01316187262337849), (760, 0.013147720730921943), (1569, 0.013111720767090322), (2657, 0.013097194889636447), (4415, 0.01306543694495491), (1604, 0.013030511509542802), (1154, 0.013029747188653512), (2344, 0.013028179374796844), (1809, 0.013021568967384697), (443, 0.013009460377918097), (4716, 0.013002735737634935), (2972, 0.012993552315296733), (3485, 0.012991751018360828), (494, 0.01297337949035142), (2075, 0.012955626744745829), (3895, 0.012955396516599963), (3130, 0.012954743504900544), (379, 0.012935061509857695), (3492, 0.012932395598638074), (1226, 0.01289942688894644), (183, 0.01289447170087424), (1983, 0.012870625270666151), (295, 0.012846762420766503), (292, 0.012837890795336102), (931, 0.012832072485194263), (2337, 0.012824330355778745), (2547, 0.012817710362808732), (1861, 0.012809091686204921), (2540, 0.012782322261717471), (1126, 0.012775508468385172), (2127, 0.012748582081839824), (4514, 0.012731423458374856), (2888, 0.012728428558952672), (2210, 0.012711492269831346), (3699, 0.012704153828864402), (1945, 0.012677431163517765), (3510, 0.012668030822657153), (4276, 0.012642844105118619), (2777, 0.012624516085133335), (317, 0.012605336159184154), (2839, 0.012596170620586282), (1723, 0.012593125717593488), (1674, 0.012585640071248284), (1418, 0.012561092061794503), (2401, 0.012560391472925085), (2488, 0.012559925475570843), (3298, 0.01255059993412127), (154, 0.01254643165602725), (911, 0.012540969569204355), (17, 0.012534279062328952), (374, 0.012530818672009877), (482, 0.012518342142538922), (4669, 0.012487135840101622), (4355, 0.012467180577163731), (4555, 0.012451943950938248), (796, 0.012451096910668173), (2031, 0.012436089386973676), (1691, 0.012433269309999068), (2076, 0.012429135799694657), (585, 0.01241961011892569), (2306, 0.012417887017341794), (2016, 0.012398297324138208), (2940, 0.012387511582859785), (893, 0.012381342721545296), (2469, 0.01237235116787382), (655, 0.012336248841677454), (860, 0.012329264820782207), (1979, 0.012326150991616545), (2294, 0.012288233321637643), (467, 0.012287743359311197), (2601, 0.012260718480217463), (1597, 0.012256514991037519), (4209, 0.012232486683029078), (2088, 0.0122017898211304), (4530, 0.01218827443874986), (3875, 0.012187725146504907), (435, 0.012168645488704843), (3907, 0.012143509670214651), (137, 0.012119072017342353), (4413, 0.01211163450017711), (3317, 0.012107117918960752), (1349, 0.012103564299142187), (3764, 0.012095063682985713), (3220, 0.012082668112633886), (4030, 0.012079140103222117), (3332, 0.012077074475110978), (1383, 0.012075321281269282), (2863, 0.012037573670625759), (1072, 0.01202240854788194), (789, 0.01201426523340592), (2209, 0.01199553520185451), (3884, 0.011975863672182056), (4288, 0.011965727329059305), (1381, 0.011962963585081247), (2359, 0.011946321954905059), (2768, 0.011940140981244438), (2712, 0.01193744600425427), (2996, 0.011936922356053908), (1111, 0.011926194584151279), (4014, 0.01192446777277032), (2546, 0.011915891943296907), (3072, 0.011906890304186655), (4619, 0.011869319380284928), (4519, 0.0118689025000895), (1155, 0.011860748941914924), (3001, 0.011860299356419746), (4204, 0.01185899093783855), (2992, 0.011857532454670205), (221, 0.011857333520524902), (4563, 0.011851995319027978), (1291, 0.011838589437873491), (4361, 0.011835542384981045), (1637, 0.011831318952811544), (4665, 0.011830903294497938), (2764, 0.011829673933163358), (2726, 0.011825740918181955), (4028, 0.011795493737177493), (1550, 0.011784435364683644), (2345, 0.011778781924306037), (2054, 0.011778174704275932), (4379, 0.011765914116361591), (2693, 0.011740420272708826), (1873, 0.011704977219064935), (470, 0.01170114975963171), (842, 0.011692745554903012), (1952, 0.011684660866065346), (2773, 0.0116701386146441), (1098, 0.011657646978285564), (1215, 0.011623665804699002), (3088, 0.0116179629800911), (645, 0.011617415306528442), (336, 0.011610799720356562), (4525, 0.01159092912983339), (3559, 0.011581384340699101), (689, 0.011569798861566097), (3292, 0.011562889124158626), (530, 0.011562845844239432), (3091, 0.01155588586749176), (3522, 0.011546669590553104), (404, 0.011543907111250563), (452, 0.011527318648233587), (2177, 0.011527156968830941), (4543, 0.011517348343324168), (3122, 0.011513321845213026), (1309, 0.011510036980730384), (1017, 0.01150084676099293), (3318, 0.01149803401325521), (2649, 0.011491782184371193), (1235, 0.011483204707048255), (3493, 0.011480341321578715), (2803, 0.011474022618491267), (322, 0.011463112410723347), (2993, 0.011457947900430013), (3774, 0.011457456416118447), (1399, 0.011451838765913484), (881, 0.011446043122360968), (1400, 0.01144371081091805), (2183, 0.011443022989700798), (202, 0.011442245105249226), (1724, 0.01143133935018955), (2189, 0.011415654967039345), (135, 0.011407580975086885), (3550, 0.011404944979281122), (3081, 0.011380181310338645), (772, 0.011372174594139726), (1664, 0.011369951273035743), (2423, 0.011357086250918367), (3789, 0.011348422740897247), (2047, 0.011338198657666707), (3918, 0.011331127018835043), (3974, 0.01132560275095658), (3556, 0.011313356203734552), (291, 0.011295288023399576), (4371, 0.011293540665333853), (1089, 0.01127901620614914), (265, 0.011272733522745833), (622, 0.011268890405761752), (1449, 0.011264603078121542), (1343, 0.01126346704710971), (1103, 0.011261374166969772), (3382, 0.011235961021853723), (485, 0.011219476485702758), (1230, 0.011214506291301645), (1157, 0.011200444005254153), (2836, 0.011188597522797859), (923, 0.011187548775668231), (187, 0.011181515631938609), (1891, 0.011174468461789279), (274, 0.011163700094476797), (1468, 0.01115360495286273), (1655, 0.011146831596628222), (368, 0.011127273526066506), (4693, 0.011122798623292386), (4128, 0.01110351744898105), (429, 0.011100497608829866), (4792, 0.011062973374942536), (2196, 0.011042004236826549), (974, 0.011037401195334834), (3984, 0.011037357081451754), (1217, 0.011033704953073374), (4723, 0.011028490956079877), (3538, 0.011026573193847058), (584, 0.011025154738242072), (2254, 0.011014430603728032), (4462, 0.011003762403820408), (4310, 0.010998161521954455), (239, 0.010995706874700261), (3406, 0.010994845238732035), (3512, 0.010977894372397042), (730, 0.010973240188068088), (1800, 0.010971276776123935), (3099, 0.010967779159706197), (2505, 0.010963133794468404), (2729, 0.01095692002919641), (1396, 0.010955405893309211), (3734, 0.010950191928961966), (876, 0.010943736324301002), (2568, 0.010943014080142886), (1812, 0.010930657892177929), (3480, 0.01092082271565588), (3657, 0.010917298614247985), (1467, 0.010915624426675836), (3188, 0.010896631015956912), (3535, 0.010890962366653975), (3186, 0.010887637045074467), (3997, 0.010870796659893349), (2756, 0.01086360041200916), (3420, 0.010853889602483702), (4453, 0.010853021825827064), (394, 0.010848192463624676), (1831, 0.010846648851174697), (3054, 0.010844164438258473), (1937, 0.01083911656811799), (4545, 0.010836440956034005), (2897, 0.010835307432922025), (889, 0.010825906606268369), (2103, 0.010824083416860787), (2465, 0.010771395447210261), (2914, 0.010763043935641715), (975, 0.010753549871050231), (1573, 0.010751657954270738), (1940, 0.010743056935750417), (2064, 0.0107385914249686), (253, 0.010733317727767382), (2018, 0.01073142391699774), (2944, 0.010729762159235622), (3534, 0.01072545349010347), (3438, 0.010721659602707878), (4405, 0.010710648479658021), (2890, 0.010696965439289347), (4130, 0.010663317890391499), (4755, 0.010661000876585183), (4129, 0.01065898700458678), (785, 0.010644985796058184), (4487, 0.010644756292080655), (1302, 0.010635700454011849), (2542, 0.010623458425072478), (3964, 0.010621936152506749), (4087, 0.010617978659746962), (1545, 0.010613811259034085), (3159, 0.010603053432008014), (3070, 0.010587331869511643), (4493, 0.010572947284220494), (0, 0.01057294559946809), (1208, 0.010571261890488992), (2881, 0.010567548135634694), (4757, 0.010563920181070269), (1681, 0.01053998153268686), (341, 0.01053703243360823), (713, 0.010536119891351987), (3046, 0.010534500181067007), (1457, 0.010533460888677501), (1982, 0.010530125130976668), (1741, 0.01052801109995258), (2166, 0.01052226657838755), (84, 0.01052135550208107), (896, 0.010509423740901674), (2507, 0.010506284950147268), (1262, 0.010486353440245538), (2174, 0.010471206096722498), (1771, 0.010463171334982486), (3653, 0.010456755184341675), (3416, 0.010442486249869758), (1207, 0.010437822832446625), (466, 0.010433538574370174), (2957, 0.010433188953588407), (2086, 0.010429068549188446), (3702, 0.010408755373692768), (4104, 0.010406630927052107), (133, 0.010399216427252216), (2466, 0.010393781042174), (4467, 0.010388645181199987), (131, 0.010372643138364331), (2362, 0.010371322806946661), (4668, 0.010359266985743179), (3652, 0.010353480864182167), (1020, 0.010351983016434651), (929, 0.010347123592838662), (4066, 0.01033828811895736), (1037, 0.0103349795910037), (2614, 0.010329787598349991), (3112, 0.010328359117841709), (4062, 0.010325230220829897), (3076, 0.01030995522900877), (1524, 0.01030912635653911), (3258, 0.010307727577433546), (4340, 0.010299229731463886), (2533, 0.010296934876942412), (1391, 0.010289318386209344), (1906, 0.01028527915328699), (3882, 0.010276343931459049), (441, 0.01027511689524693), (3643, 0.010269591958289933), (4302, 0.010264827572493819), (3216, 0.010260634810965414), (3369, 0.010241412173201346), (4277, 0.010241360736716647), (1166, 0.010240733158777774), (2575, 0.01023731374073825), (3987, 0.010222619122602701), (3931, 0.010222162918187852), (861, 0.010205220481142608), (2606, 0.010193351889314521), (3383, 0.010186342935627913), (2409, 0.01017958003293868), (3669, 0.01017012329700833), (3844, 0.010169204536563557), (1590, 0.010167295457505457), (77, 0.010166345441892015), (1698, 0.01014906564663753), (4275, 0.010143974500995828), (792, 0.010143797927393061), (4434, 0.010137764065103465), (4384, 0.010136936431393505), (2860, 0.010136795174535838), (2845, 0.010130294141607953), (4105, 0.010124994335348081), (3525, 0.010123552520077015), (875, 0.01011197090276118), (1425, 0.010111696507291677), (1822, 0.010106867041174637), (3615, 0.010102864527667746), (3361, 0.010100243848064157), (657, 0.010088725791612962), (1870, 0.010088725399414203), (1441, 0.010086986127916555), (2909, 0.010081656996828503), (2172, 0.010076555061144231), (2228, 0.010076111836546357), (4654, 0.010072237639255601), (3370, 0.010068907914712964), (3197, 0.010065114594809159), (1245, 0.010046939731419185), (537, 0.010045736662003686), (3853, 0.010040638009995422), (2862, 0.010029243314115364), (4364, 0.010024856008681134), (3243, 0.010007541226343989), (2179, 0.009995451346897662), (2625, 0.00999464779899679), (953, 0.009991572680158853), (2918, 0.00997663374515261), (2486, 0.009971511465174812), (2609, 0.009968712027998382), (2589, 0.009962517744724366), (3962, 0.009961905020724995), (4125, 0.009945146311741806), (4254, 0.009939330698988346), (2865, 0.0099269670550596), (2119, 0.009921370323045775), (4531, 0.009920679112939423), (4291, 0.009915767897890526), (405, 0.009912356932928775), (3252, 0.009901428381605713), (4613, 0.009896007411967245), (744, 0.009889436457539912), (3878, 0.00988621297714374), (2260, 0.009884222357838375), (1270, 0.009876655782972603), (4167, 0.00987638550747604), (2889, 0.009875815732757708), (2023, 0.00986411723611461), (4238, 0.00986250242922313), (1004, 0.009853157089104215), (2167, 0.009843636313426784), (2522, 0.00984143181990946), (2599, 0.009830787860555754), (4509, 0.009803284973909004), (2063, 0.009801105115793081), (3713, 0.009787762122491044), (51, 0.009778909335231012), (2027, 0.009773813546763356), (3868, 0.009753404923261363), (1632, 0.009753001459135761), (1461, 0.00974022603010287), (1956, 0.009739574177024904), (4801, 0.009739496651104726), (4537, 0.009735146785958538), (1048, 0.009728495449514664), (3200, 0.009722166854690894), (1818, 0.00972078088485196), (4469, 0.009718677478715671), (3205, 0.009716946626495401), (2800, 0.009702692302626749), (2586, 0.009692314633263225), (1549, 0.009691232236870646), (4375, 0.009681499084569247), (2410, 0.009662217098704023), (352, 0.009654464737953311), (1355, 0.009645772113739362), (4219, 0.009635074149201346), (2811, 0.009629046506131155), (2195, 0.009618915270591003), (2168, 0.009615170414297918), (4314, 0.009600922010497247), (1433, 0.009598368562846045), (121, 0.009590597518376615), (4492, 0.009553698733806425), (4068, 0.009553418551249486), (1538, 0.009553001798925872), (3156, 0.009524260095235115), (4517, 0.009506450900035433), (3097, 0.009504491292590893), (3414, 0.009493945407534008), (1277, 0.009483740936053073), (3698, 0.009483100968184504), (1901, 0.00948235813978616), (1505, 0.009481379739621442), (2500, 0.00947891687718341), (589, 0.009464084602562131), (3857, 0.009463482290033477), (2646, 0.009460894996425395), (3150, 0.009452609968152805), (4098, 0.009448538751063565), (1303, 0.00944501217824977), (904, 0.00944271315888616), (2304, 0.009438461908611695), (1027, 0.009430120355297682), (3120, 0.00942748386545585), (2225, 0.009412824637067024), (3020, 0.009408956443419186), (4140, 0.009406483324436396), (229, 0.009402131583155322), (2286, 0.009387538831491427), (2641, 0.009383786027217879), (1700, 0.009375167197146247), (3269, 0.009369440008432432), (757, 0.009363450942220066), (3755, 0.009355500159788449), (2812, 0.00935104113318472), (4106, 0.009337858237981674), (3276, 0.009315235124933745), (1823, 0.009314634214118881), (2976, 0.009310888664538925), (1290, 0.009308238344589735), (907, 0.00929205849505374), (3741, 0.009284896745934839), (216, 0.00928372221860591), (2772, 0.009282425610275043), (3362, 0.00927476980391963), (838, 0.009274436502074834), (2145, 0.009258087366566959), (1070, 0.009256829156254861), (2855, 0.009256297107334301), (3795, 0.009253648281763062), (2965, 0.009250321034217024), (777, 0.009245639985259508), (2264, 0.009236844372814898), (4225, 0.00922938950139979), (3333, 0.009208706773219607), (1267, 0.009201697469967053), (491, 0.009199914320819786), (1522, 0.009170706275149168), (3486, 0.009167494377834793), (2040, 0.0091570238926079), (1888, 0.009144752647308838), (1884, 0.00912827998041382), (2595, 0.009122825380524528), (3028, 0.00911894274586073), (4760, 0.009117958204023516), (1973, 0.009113266987761565), (4269, 0.009112422107055429), (3305, 0.009111744350555255), (460, 0.009107065786590467), (3519, 0.009102679424642657), (1395, 0.009096870912586312), (3672, 0.009096699770752541), (1019, 0.00908987186531295), (4133, 0.009074896687402327), (4730, 0.009069426445660044), (1314, 0.009069146693478337), (4034, 0.009063258131492714), (4451, 0.009061305881435836), (3277, 0.009057773814471608), (1299, 0.009043231679536707), (916, 0.009038121081634449), (1168, 0.009035409651778707), (1939, 0.009025941447326338), (3450, 0.009011233898067718), (3766, 0.009007681800076113), (1630, 0.00900268353355993), (1387, 0.0089988848131483), (2579, 0.008997779804442834), (2842, 0.008979727719339813), (1420, 0.008976487433804688), (4614, 0.008972578097056715), (4670, 0.008948638632528823), (943, 0.008940840849037715), (1254, 0.008938242272032769), (1251, 0.008931816877034485), (1007, 0.008930226085592342), (2178, 0.008928360517339091), (3995, 0.008927353447303044), (4083, 0.00892146124480656), (1616, 0.008918813310363503), (189, 0.008913511167855829), (2631, 0.008908094911637113), (2004, 0.008903813044827465), (1739, 0.008877888723509591), (934, 0.00887405733954522), (2941, 0.00886109422192915), (3286, 0.008844104654525866), (1626, 0.008837687946057597), (2125, 0.00883452833822848), (4300, 0.00883299585016976), (2003, 0.008829411058511927), (3679, 0.008825921073434037), (3342, 0.008821350289621494), (349, 0.00881105104638805), (971, 0.008809339590706771), (1021, 0.008787586915958885), (4740, 0.008776961648117464), (551, 0.008766159766446235), (2353, 0.008755818325851391), (2109, 0.0087487898354948), (1919, 0.008746789043004457), (3145, 0.008744638956641694), (2551, 0.00874397087546641), (2276, 0.008728556343539348), (2951, 0.008718870129187793), (2011, 0.008717856212601438), (4031, 0.008716286478057536), (4533, 0.00871550883062348), (1193, 0.008705748657037618), (2223, 0.00868891077572419), (1650, 0.008688380504997893), (2261, 0.008687939228428525), (1325, 0.008679905573563223), (2577, 0.00866859503264068), (2742, 0.008665323138363837), (4476, 0.008655684753890698), (598, 0.00865488888056004), (3297, 0.008640423685745895), (4455, 0.008634908500167652), (4336, 0.008628282165521623), (3805, 0.008626003891080584), (335, 0.008618549964952444), (1296, 0.008615164529704924), (2133, 0.008615133322925383), (3021, 0.008608536306002623), (1748, 0.008606862411706285), (3348, 0.008600218770589363), (2207, 0.00859903763469419), (1576, 0.008596526276448902), (3526, 0.008591961621776941), (946, 0.008591048743501596), (2813, 0.008582483099465384), (2244, 0.008571832735738813), (2915, 0.0085711236624095), (3135, 0.008563665991762816), (4593, 0.00855906850820038), (16, 0.008558898367554146), (3470, 0.008557549150100182), (2175, 0.008554894460151199), (2858, 0.008525314696469537), (1942, 0.008515231391502006), (2056, 0.008514101323767537), (1319, 0.008512076368365462), (2328, 0.00850306214215188), (4428, 0.008502340674476612), (1821, 0.008499692243093653), (814, 0.008483939604700005), (1854, 0.008473663682854328), (821, 0.008459397933743772), (1577, 0.008454655306116655), (2519, 0.008454314451019417), (1511, 0.008453624325919666), (4444, 0.00845233558804185), (2854, 0.008450545752500016), (505, 0.008448932397179606), (822, 0.008444738914078638), (4370, 0.008428658276070805), (2725, 0.008415702983117251), (3478, 0.008411972708270068), (660, 0.008402117121410247), (624, 0.00839963692391034), (4698, 0.008395493579562105), (1026, 0.008377085534470407), (3544, 0.008374136674511467), (243, 0.008363590812987598), (764, 0.008355630690570413), (4433, 0.008353617978837725), (2454, 0.008347754808748447), (3798, 0.008344203886060005), (2000, 0.00834070908467268), (4278, 0.008330904944055053), (2697, 0.008324080285127588), (2350, 0.00831694085064352), (4528, 0.008314672629833268), (2479, 0.00831168479757571), (562, 0.008309958080885893), (3313, 0.008303720579828784), (2518, 0.00830328368519626), (891, 0.008295591298102806), (4250, 0.008294190774867238), (305, 0.008283616520781096), (270, 0.0082781807419603), (3724, 0.008272146537190704), (4799, 0.008269563656720474), (1532, 0.008266534758513876), (2935, 0.00825853863926881), (1260, 0.00824243128207295), (2831, 0.008236934632821038), (4598, 0.00823411808347374), (901, 0.008218708574047365), (3903, 0.008202123367039838), (4577, 0.008193969803621222), (1638, 0.008181095346658198), (3758, 0.008180213595670551), (377, 0.008170072277791256), (1023, 0.008169240874881691), (2766, 0.00815622733784068), (4706, 0.00815237700439446), (1914, 0.008144356480464719), (198, 0.008141089195880072), (1044, 0.008136372440675912), (3935, 0.008133311574390891), (2971, 0.008130613733527935), (1876, 0.00812655650481581), (4016, 0.008120243704139479), (3872, 0.008113133410063311), (2705, 0.008112034838338503), (232, 0.008111562743036099), (3768, 0.008097748270282108), (903, 0.008096657117991837), (4198, 0.008080442563516367), (4245, 0.008077249445740698), (4295, 0.008074773764181047), (2808, 0.008070805280230431), (194, 0.00807009794946359), (1757, 0.008061508760291169), (4020, 0.008059566915777933), (694, 0.008051592478394518), (4803, 0.008047436536296077), (2964, 0.008044235326237463), (2496, 0.008041985879064973), (1107, 0.00803989617675273), (1848, 0.00803597100853375), (4626, 0.008032735502076666), (859, 0.00802912105991909), (4409, 0.008020431256334528), (3709, 0.008015903261262121), (3231, 0.008013062828527507), (4713, 0.007997676615949545), (2566, 0.007994171093837424), (2164, 0.007983013279951007), (4649, 0.007964828874323428), (161, 0.007955549386526125), (1896, 0.007953100334319436), (3418, 0.007949893432975842), (2494, 0.007946103545722215), (1951, 0.007938975140685577), (1907, 0.007937374092092676), (1362, 0.007928740333422746), (160, 0.007927773344222195), (3409, 0.00792717633396021), (3717, 0.007920776716215305), (4438, 0.00792049350406989), (3222, 0.007919219639001532), (2078, 0.007918687546114331), (2627, 0.007906989313630782), (1641, 0.007905476483105682), (230, 0.007899471360013132), (867, 0.00787752555711717), (2441, 0.00787012647169068), (2038, 0.007869324766437282), (532, 0.007868760815567217), (1725, 0.007867369168245103), (2930, 0.00784677689040583), (3016, 0.007846030729646628), (3267, 0.007845890834398357), (2779, 0.007824774838746957), (2404, 0.007816218554041538), (2231, 0.00781429194149721), (3610, 0.007810779903975621), (105, 0.007798667461296302), (2234, 0.007798396938113329), (1147, 0.007788805653834448), (4653, 0.007787263633878163), (4256, 0.00778073417990244), (4601, 0.007775735805139464), (4320, 0.007769935031470638), (4102, 0.007764720219398095), (1354, 0.007758510308500822), (3087, 0.00774305073996447), (2902, 0.007741308572336487), (4725, 0.007728856645735468), (1348, 0.007728300932109484), (3983, 0.007726389342654931), (3604, 0.007721359540320257), (2388, 0.0077159464572923355), (2461, 0.007712948942872862), (4764, 0.007712504374978475), (1130, 0.007711343757527227), (2116, 0.007699928783821061), (2576, 0.00769909457405779), (3770, 0.007684406236207432), (3663, 0.007684025213676936), (908, 0.007682490239197419), (512, 0.0076820808716979066), (159, 0.00767968957327272), (2695, 0.007678254262953748), (826, 0.00767574842917762), (1241, 0.007664985217633031), (2272, 0.007664703728288626), (1871, 0.007664257124010004), (1298, 0.007663173332373773), (1897, 0.007653937547323945), (316, 0.007653263755455758), (3345, 0.00765237077641104), (39, 0.007644284711082008), (1248, 0.007643609373655123), (3064, 0.007641191189305044), (83, 0.007637271978001416), (3434, 0.0076320488625032995), (3119, 0.007613969481931305), (1825, 0.0076033647187714595), (3164, 0.007566732341842364), (2892, 0.007564096962591281), (696, 0.007556847379095895), (1618, 0.007552960934804483), (4366, 0.0075519769043865415), (4058, 0.007549863031503246), (3873, 0.007527526847624191), (1769, 0.007523665358133874), (2368, 0.007521076006872571), (4159, 0.007513461440748952), (3718, 0.007493878553348402), (1339, 0.007492263200604819), (2319, 0.0074897999423573156), (417, 0.007488368677254007), (2141, 0.0074872779905838386), (2698, 0.0074854544919884455), (1363, 0.007480787955682001), (2921, 0.007464949126982751), (964, 0.007464499879704614), (12, 0.0074628580332752594), (1488, 0.007462840936064491), (2281, 0.007453449178536711), (4101, 0.007447254436634373), (2592, 0.007433905720972955), (311, 0.007433467126435994), (2480, 0.007429392205890157), (2395, 0.007428376712186606), (4184, 0.007422191643479769), (1892, 0.007417518136383024), (580, 0.007412700031353122), (2578, 0.007408952396230554), (4230, 0.007401452883808567), (3626, 0.0073998456949369495), (2293, 0.007388914868844569), (1950, 0.007382985982728914), (4536, 0.007381759409385126), (1602, 0.007380589446695465), (2017, 0.007380077722774801), (1317, 0.007378097482981393), (3009, 0.007375204673013457), (877, 0.007373986106766512), (2658, 0.007372478317864306), (1485, 0.007368478562777605), (2762, 0.007366734608671927), (3413, 0.007366718381517546), (4253, 0.007365249624218815), (733, 0.007360519144370871), (2758, 0.007360380055668598), (3601, 0.007356355291107241), (3590, 0.0073512693764610304), (4107, 0.007349648902870067), (3786, 0.007347620667286111), (2967, 0.007347480219063788), (3293, 0.007346638274904924), (4697, 0.007345207070383146), (1, 0.007343008823982881), (2767, 0.007341250669934946), (3427, 0.0073342163165373625), (1885, 0.007331082729272575), (3976, 0.007328328698656748), (2266, 0.0073234935790289024), (4218, 0.007322119061897503), (486, 0.007320523877724059), (1523, 0.007317568170083431), (3306, 0.007310945591012671), (1369, 0.007310659355007113), (4445, 0.007305717406253966), (207, 0.007290901558386558), (3271, 0.007282822976685014), (299, 0.007277348744998522), (2426, 0.007271211741250241), (4095, 0.007265231884183942), (3457, 0.007263034019896959), (337, 0.00725883342684462), (2526, 0.007258080935652415), (1159, 0.0072580662251246), (71, 0.00725500550294806), (3800, 0.0072509271107978855), (3650, 0.007248516260617198), (559, 0.007241789070071437), (1033, 0.007228682519665077), (3086, 0.007222679277911502), (1678, 0.00721971526411252), (278, 0.007218953211563826), (936, 0.007215488279471957), (968, 0.007214343664566516), (4012, 0.007210654832316138), (3381, 0.007203537695971878), (3826, 0.0071945251289157), (4708, 0.007192911604802314), (1010, 0.007192620850904953), (2245, 0.007188297119973101), (1079, 0.0071837057442046826), (2032, 0.007166371102271829), (1052, 0.007165937280581388), (4646, 0.007161928102405359), (1305, 0.0071568772452357), (3564, 0.00715445839336363), (3638, 0.007152225877733098), (308, 0.007149002027899854), (174, 0.007143281926331679), (2282, 0.007130576744946052), (3294, 0.007130146582622635), (148, 0.007129489184956908), (3201, 0.007124943374653938), (2251, 0.007118186457804723), (1408, 0.00711472527084674), (4214, 0.007114542815056803), (22, 0.007101361849645557), (3263, 0.0070879159923746046), (2371, 0.007082708791270304), (985, 0.007082664806877497), (1417, 0.007080055660588229), (793, 0.007073321838173921), (672, 0.007071128667751277), (3096, 0.007052058988829839), (1068, 0.007048677576590008), (2077, 0.0070478101143750145), (489, 0.007021030873875757), (2594, 0.007020074569573796), (4511, 0.007017262383532004), (1491, 0.007013587278250119), (4702, 0.007009277430131314), (1989, 0.007007045340759991), (1750, 0.007004039238153303), (848, 0.006999792158875582), (1608, 0.006996852593632656), (2718, 0.006990317205609276), (4208, 0.00698361018548553), (690, 0.006981614283552667), (688, 0.006979867142536003), (2091, 0.006969482049722996), (1474, 0.006955216793873349), (3320, 0.0069528343100123844), (2385, 0.006952595878375063), (3110, 0.006952538075150914), (2363, 0.0069459395943985095), (1536, 0.006942023761115614), (4281, 0.006938480281354844), (2958, 0.006937921060399213), (3379, 0.006935722351939769), (4745, 0.006933998904066562), (823, 0.006931755067147649), (3710, 0.006925422859945372), (2312, 0.006912633885231239), (1902, 0.00690753342935779), (1606, 0.006897559463406332), (3975, 0.006893620006756069), (407, 0.0068926966969761975), (2977, 0.006888486180566361), (526, 0.006880892224819501), (1269, 0.006875276024952967), (1872, 0.006870969851159728), (2683, 0.006867345246890171), (3828, 0.006860983774571085), (1009, 0.0068580260247647195), (4029, 0.006847820859632502), (2899, 0.006833379076068629), (4411, 0.006832219378177317), (1113, 0.006831492602817945), (4251, 0.006830672907682397), (1827, 0.0068288664586034714), (1143, 0.006816673658953329), (4773, 0.006810447387666068), (3594, 0.0068073175254733395), (2521, 0.006806531181513751), (1028, 0.006802847605429229), (535, 0.0068017762470484735), (1211, 0.006797315243740063), (3785, 0.006793808988352306), (3517, 0.006790846992188864), (3501, 0.006789059443324979), (3887, 0.006786872410343184), (2691, 0.006781800078099466), (1819, 0.006779829504233181), (472, 0.006778153237705428), (393, 0.006768773661444706), (4490, 0.0067656064956225824), (3300, 0.006754907918015234), (516, 0.006750146401236752), (1431, 0.0067490579352798485), (984, 0.006748946935376292), (156, 0.006742966300284477), (233, 0.0067410601988327325), (2134, 0.006738936225951859), (3217, 0.006735911444446098), (1596, 0.006735643807094091), (509, 0.006733889266030598), (345, 0.006727283091619198), (715, 0.006722315180233541), (3746, 0.006718612608079098), (3946, 0.006715351949882822), (805, 0.006711723691784698), (1517, 0.006708825724094387), (2949, 0.006708371486525639), (2628, 0.006706271531005566), (1142, 0.006701940370938955), (3693, 0.006696065275020608), (4096, 0.006694499201593188), (2692, 0.006694223838274435), (4141, 0.006694018472600744), (1912, 0.006693688437680319), (2497, 0.006685525196000583), (4377, 0.0066851100802548715), (3852, 0.006681999883097882), (1492, 0.006674486960985444), (1353, 0.006672325122514786), (3094, 0.006664410123321514), (3870, 0.006663553184465473), (3093, 0.006656900016590903), (2544, 0.006651662219562755), (3225, 0.006642808152937317), (4237, 0.006642059175812119), (1212, 0.006638570877450784), (879, 0.006632796505103466), (3460, 0.006621386562673418), (786, 0.006621321490852164), (2880, 0.006618964756035735), (3664, 0.006618751685398872), (1713, 0.006602139289145916), (4539, 0.006598418635689812), (2600, 0.006593467398663597), (2869, 0.006593077246525027), (3592, 0.006584665798251621), (72, 0.006581641167762224), (3430, 0.0065810499232227685), (538, 0.006580616439649354), (1013, 0.006577921755443313), (402, 0.006574328640666358), (2517, 0.006572943221395782), (4003, 0.006567870946613784), (4546, 0.006565914780978651), (1963, 0.006555571260712782), (1371, 0.006554599998888937), (4160, 0.00655165741583047), (4108, 0.006547103619439436), (3161, 0.006543942594667923), (3399, 0.006541235537581949), (4602, 0.006541002713222049), (3820, 0.0065392946125210575), (2131, 0.006538591300191203), (208, 0.00653833558948984), (3607, 0.006533530194579408), (1171, 0.006528102038869145), (2138, 0.0065260071094157745), (3838, 0.006517217303605375), (206, 0.006514187482081331), (3439, 0.006510986372395878), (1837, 0.006506544977589488), (2203, 0.00650549137200024), (2636, 0.0064992072133831565), (1514, 0.00649608394204244), (2055, 0.006494605560928216), (1195, 0.006494598140862487), (3924, 0.006488245391896611), (3886, 0.00648132358957312), (4805, 0.006463800293998803), (897, 0.0064623365100881965), (389, 0.0064575568567232285), (2615, 0.006449189395538329), (1464, 0.006445311345438038), (2265, 0.006445176922173376), (329, 0.006441895864638287), (3214, 0.0064408883328334835), (4746, 0.006435021480468323), (4153, 0.006434442483977412), (962, 0.006433681515042869), (4583, 0.006430859989884207), (1551, 0.006420697773815336), (3287, 0.006413277627502148), (2373, 0.00641281464656974), (4054, 0.006410562054965524), (3203, 0.006409383251250271), (816, 0.00640559314562263), (2243, 0.006404518646657383), (323, 0.00640000425288394), (4048, 0.0063934743919015664), (1315, 0.006392618530186635), (414, 0.006391347513437706), (882, 0.006390022658022285), (448, 0.006385204366388634), (4578, 0.0063770737771824135), (2878, 0.006374728250548573), (1920, 0.0063720911185429175), (2722, 0.0063701554479419316), (1780, 0.006369269229137856), (3124, 0.006361139731055718), (3108, 0.006355900217331874), (2163, 0.006353674786005411), (375, 0.006350843078284519), (3780, 0.0063397891795339), (241, 0.00633443621186852), (3499, 0.006324731043048702), (2553, 0.006319966482263673), (3807, 0.006317863941803026), (1617, 0.006308400969833996), (2864, 0.0063062197726226525), (2043, 0.00629046862596082), (4683, 0.006287039561264026), (2057, 0.006280686542101923), (3941, 0.006280682911480967), (613, 0.006279903574900254), (4573, 0.006279630084521049), (625, 0.0062646840888111585), (4037, 0.006263277418818177), (1382, 0.006259767326500397), (1801, 0.006258483130107193), (3906, 0.006255048920016752), (3473, 0.006249715692274468), (1649, 0.006249546414344274), (3023, 0.006246383293201169), (1189, 0.006245888029852402), (3400, 0.0062382176236053), (2484, 0.006234512310756251), (3006, 0.006232041468816294), (259, 0.006231682995874331), (885, 0.006227630724961253), (1153, 0.006226853101036838), (3458, 0.00621950031370448), (3658, 0.006214297402641219), (1038, 0.006214079915715433), (4351, 0.006200101033926637), (2750, 0.006196931545705655), (4776, 0.006195886514834168), (3707, 0.006195740910758742), (1694, 0.006195644927946922), (2044, 0.006195552101442271), (874, 0.006194431473579007), (332, 0.006188235482005937), (25, 0.006186139015004729), (2074, 0.006184394709491051), (894, 0.0061824812923077024), (2130, 0.006179158431369408), (3419, 0.006175108918878751), (4707, 0.0061722676726545835), (2942, 0.006169445826972524), (355, 0.0061619944391214845), (1203, 0.0061585996114018006), (4206, 0.006157104989059787), (637, 0.006154377931333864), (30, 0.006153616099448422), (4376, 0.006152263516088136), (4109, 0.0061481180383342856), (2035, 0.006147956301242129), (656, 0.006143954830199874), (3879, 0.006136926614835834), (2805, 0.0061326399419236975), (4335, 0.006126551172548574), (3614, 0.006126408660747528), (1233, 0.006116161111022646), (1144, 0.006115866214746473), (4150, 0.006104540729834499), (937, 0.006104082566051927), (3101, 0.006103640892460749), (3343, 0.006102806436920462), (344, 0.006100877735097241), (3067, 0.006099565694396652), (3181, 0.006097860186336033), (3705, 0.006089157248129183), (2610, 0.006079345616552923), (3863, 0.006072342791952769), (1521, 0.00607122502784568), (3846, 0.0060659128675171125), (575, 0.00606121420000774), (4373, 0.006056391084826319), (2028, 0.006054594571564528), (126, 0.006051043619423258), (1165, 0.006042266997612523), (2502, 0.0060332067960878425), (2807, 0.0060296008837278856), (4018, 0.006025441355711651), (112, 0.006024468663855312), (681, 0.006014577527639323), (813, 0.006009806174356515), (4679, 0.006008513014974526), (3479, 0.006007736448748897), (699, 0.006003757258589327), (3284, 0.006003268125261734), (1423, 0.006001575451554512), (1688, 0.006000912120535122), (4337, 0.006000575616480508), (3104, 0.005997835388086793), (9, 0.00598841767432776), (210, 0.005985307902753149), (3228, 0.005983060568208989), (3063, 0.005979915531363536), (3539, 0.005972548837092955), (922, 0.0059718075785236925), (870, 0.005968602133884851), (2112, 0.005966278211883041), (2232, 0.005961387994692932), (2295, 0.005953387366905991), (4374, 0.005950317066787222), (2613, 0.0059493508417708535), (2788, 0.005948049608117895), (1271, 0.005947076767371815), (1119, 0.005946878753996441), (258, 0.005934499659398836), (3722, 0.005928157806788068), (2916, 0.005924954561879992), (2036, 0.005923952951354798), (1115, 0.0059239005572443056), (3518, 0.005922286899390181), (3967, 0.005917251466817765), (2352, 0.005911806218940453), (2406, 0.0059112553375941295), (4027, 0.005907175585287513), (215, 0.005906252995018827), (3725, 0.005905493861897324), (746, 0.005903430531918874), (1528, 0.005896143807215044), (1460, 0.005895579695777069), (3371, 0.005892837697290156), (1178, 0.005889554598289412), (1308, 0.005888105998732492), (3280, 0.00588662246291549), (4484, 0.005880875029034684), (3322, 0.005880784224807803), (2408, 0.0058790143944120535), (4114, 0.005877565895605133), (3829, 0.005866686102198331), (1565, 0.005856386226599751), (2744, 0.00584633155840795), (1344, 0.005844475097090277), (4630, 0.0058442747285010685), (3691, 0.005838677325671312), (2041, 0.005838175210526816), (1083, 0.005833691266389251), (824, 0.005823916136390181), (3327, 0.005820502131766637), (2654, 0.005820287430231327), (4568, 0.005819195534283646), (423, 0.005815481706100497), (330, 0.005813830235750605), (4330, 0.005811879840609883), (1671, 0.005810684064787344), (2224, 0.00580867898791322), (3695, 0.005808501585608884), (1480, 0.005806673690814673), (4189, 0.005803749798936216), (1690, 0.005797444369303826), (2416, 0.005789434871621793), (115, 0.005788391976864455), (1512, 0.005786391965545999), (1969, 0.005780008077057406), (2332, 0.005775067737533097), (3229, 0.00577168441421256), (1986, 0.0057715320565162025), (2604, 0.00576615108403898), (2723, 0.005762594908336223), (4086, 0.005756691103320789), (4063, 0.005756081692003187), (111, 0.005756009297575843), (4566, 0.005755222828438734), (98, 0.0057516899879415835), (4132, 0.005747163678211256), (4787, 0.005745943346335647), (4013, 0.005744539676686644), (2340, 0.005743383374548267), (5, 0.005732476911696167), (4632, 0.005726442882373627), (3102, 0.005714908533726332), (1975, 0.005712848163744126), (2106, 0.005709710926284863), (44, 0.0057079650936654935), (1228, 0.005702217672063174), (4067, 0.005700818444642792), (3319, 0.005700703504243316), (101, 0.005695661244442752), (4121, 0.0056946347705088265), (887, 0.0056900135910940095), (2797, 0.005689517736233309), (3980, 0.005689149623858037), (3010, 0.005689027586040475), (2684, 0.00568884728822161), (418, 0.005685204709489817), (4448, 0.005682456988963755), (4701, 0.00568029629262301), (3703, 0.005679250168630314), (3259, 0.005678912723637722), (648, 0.005677838317335253), (2157, 0.0056752396203635464), (902, 0.0056739935407659325), (315, 0.005669865721816744), (4041, 0.005661738943649648), (3257, 0.0056611530613125), (4286, 0.00565546391978584), (1799, 0.005647363790392213), (242, 0.005640459943733736), (3837, 0.005640030032990725), (4402, 0.005634943636417419), (912, 0.005627856361061613), (3750, 0.005627033279483285), (490, 0.005624331677538537), (2367, 0.0056210063219456225), (4778, 0.005617200259062799), (3922, 0.0056156634827700495), (3622, 0.005612270336474897), (2623, 0.005610871986418154), (1123, 0.005607016747381581), (3206, 0.0056030398385439936), (795, 0.005602107151080763), (1868, 0.005599325385790586), (2369, 0.005582426358769087), (2247, 0.005579470537965257), (438, 0.005579101929969746), (4331, 0.005572136734204267), (4074, 0.005567989730901712), (1481, 0.005566089603331205), (2154, 0.0055652911320371624), (1158, 0.005558056532294792), (1047, 0.00554783268107601), (1644, 0.005547627257051968), (2150, 0.005546554310611652), (2919, 0.005545618199206116), (2765, 0.005544855658979621), (2436, 0.005541475767307297), (3334, 0.0055398574971571996), (4301, 0.005537200218055071), (3581, 0.0055361324273453735), (4591, 0.005534646090834861), (4732, 0.005528319328091516), (3273, 0.005526846676801143), (2453, 0.005524106833743916), (4759, 0.005520110745245262), (1808, 0.005514810472963066), (2065, 0.005499691991034237), (768, 0.005498948316737502), (2669, 0.005493271198725978), (2059, 0.005489155228537291), (1639, 0.0054770852238856735), (543, 0.005476650844098153), (4367, 0.00547479132463368), (3806, 0.0054729615680652035), (3410, 0.005471361353774371), (3706, 0.0054682739960482726), (3038, 0.005465837013907085), (1853, 0.005460767707926594), (1817, 0.005455530533958036), (921, 0.005451936277795104), (4232, 0.005448776369398702), (2539, 0.005447846724120251), (3812, 0.005439826328728998), (369, 0.005438205002363493), (2775, 0.00542771111269324), (3100, 0.005427176971054124), (1838, 0.005420723173341706), (1804, 0.005417574342648509), (3310, 0.005414625132489575), (2635, 0.0054127215136155465), (1878, 0.0054043349440715096), (1173, 0.005404119702509602), (3949, 0.0054000443431469584), (1324, 0.00539911134811965), (2826, 0.005392429624246282), (506, 0.005384743415776943), (706, 0.005375752575926699), (2844, 0.005366886839465393), (1471, 0.0053668053501083795), (2351, 0.0053667840820199745), (252, 0.005365726195710813), (3445, 0.005364906953507123), (2617, 0.005359259206955134), (1404, 0.005349969446096974), (2318, 0.005346192159404327), (1875, 0.0053450438649807995), (3913, 0.005343631362180392), (1409, 0.005340512580570878), (440, 0.005340431295740474), (2817, 0.005339502956251406), (3645, 0.005331963563398628), (4754, 0.005331113601250288), (2925, 0.005322149276369852), (2481, 0.005306753418763393), (1938, 0.005304998618094515), (132, 0.005304905749572142), (4216, 0.005295345841815684), (2824, 0.005279919449848596), (2707, 0.005277086501078742), (4231, 0.005276709242571677), (1502, 0.005274300060071216), (4788, 0.005274209957885425), (34, 0.005271705171389727), (3204, 0.005271424614467555), (451, 0.005263797454971918), (1131, 0.005260541572252383), (4758, 0.005258679525141016), (653, 0.005258442643408616), (4652, 0.005248714341115743), (3897, 0.005244918380607369), (4038, 0.005242718811530003), (4213, 0.005238458195935075), (4644, 0.00523637608754298), (1202, 0.005230968639881259), (1003, 0.005228467732289465), (1175, 0.005225563080552934), (2006, 0.005225327750105098), (54, 0.0052077068532031395), (2213, 0.0052060040950266066), (1074, 0.00520097243190283), (4170, 0.00520024150710993), (3737, 0.005193171139765949), (604, 0.00518757636253272), (3733, 0.00518577969875942), (224, 0.005184617423290934), (1104, 0.005179383235099843), (4412, 0.00517483757962138), (1145, 0.005172887702137079), (1205, 0.0051691067613594145), (3608, 0.0051641936605025295), (858, 0.005158596008971321), (2612, 0.005156439666955475), (752, 0.00515479086885781), (3349, 0.005154238147262186), (1086, 0.005150136308136877), (2475, 0.005137125581335762), (4171, 0.005135663357135348), (4643, 0.005122039672169268), (1533, 0.0051218040783981575), (2042, 0.005120450264504209), (2920, 0.00511019592639397), (2947, 0.005107382892702007), (1218, 0.005101587985769492), (238, 0.0050975895390328145), (1376, 0.00509530426681773), (2731, 0.005088314047970668), (199, 0.005081793497328911), (1101, 0.005068382772061112), (1677, 0.0050679751526322425), (1122, 0.005065765820841179), (3344, 0.005050192412114889), (18, 0.00504781558520989), (3796, 0.00504732402136516), (1266, 0.005040554958362404), (261, 0.005040473183934254), (3027, 0.005038491301286974), (1788, 0.0050379642402787715), (1470, 0.005033675977068742), (432, 0.005030402171785329), (141, 0.005029794468787741), (3827, 0.005026202936082766), (3621, 0.005026169184930877), (1364, 0.005022206743780118), (281, 0.005015612815806211), (2752, 0.005014096212930769), (2464, 0.00501379344053102), (3779, 0.005005077169174669), (359, 0.005004284545280362), (2778, 0.005003338651027132), (3066, 0.004995621147866981), (2246, 0.0049924403339135035), (3784, 0.004991488066878654), (1439, 0.004988189815658263), (3738, 0.004987883630958981), (177, 0.004985299216180181), (618, 0.0049846113948543574), (2081, 0.00498127660553907), (1981, 0.004980368626979662), (1595, 0.004980035593842025), (2535, 0.004969034107581812), (2667, 0.00496893099941479), (3956, 0.004966651279501492), (957, 0.004961782124165104), (2113, 0.004958688409746533), (4052, 0.004957207916324668), (1405, 0.004955891746060827), (638, 0.004952821507842202), (3533, 0.004952179733894276), (75, 0.004950204620242774), (3996, 0.004949364617778039), (1834, 0.004949127828530141), (809, 0.004944129322963025), (3069, 0.0049405573283675085), (3218, 0.0049357715958201894), (4195, 0.0049333797677049394), (3740, 0.00492909123028198), (4710, 0.004929045417692379), (300, 0.0049270708964136095), (4235, 0.004925928587010962), (1814, 0.004925036437173783), (3739, 0.004924736886347842), (1498, 0.004923955346433393), (1847, 0.004923888760542361), (1752, 0.004923289990558193), (751, 0.004922802933152256), (4177, 0.004921151626009003), (2735, 0.004919748891413509), (542, 0.004917390847551743), (1720, 0.004909680230823253), (2474, 0.004901226571856539), (654, 0.004900942120625825), (4581, 0.004898658989988965), (1338, 0.004897883049531769), (2473, 0.004895830545607819), (1904, 0.004895703224200783), (4115, 0.004895504674987259), (3587, 0.004892092058220192), (1933, 0.00488580152725817), (4762, 0.004882538144467275), (2792, 0.004874706577809981), (3350, 0.004873891819735067), (4579, 0.004872019509405496), (2932, 0.004868657096290653), (3166, 0.004866199704469651), (45, 0.004863827774248476), (806, 0.004862951018895552), (676, 0.004861251973006738), (4060, 0.00483821771476173), (4173, 0.00483451999793387), (3930, 0.00483323802580454), (927, 0.004831309296153266), (3278, 0.004821585483552012), (966, 0.00482036856830184), (2060, 0.004811095690642408), (756, 0.004807359871432526), (2853, 0.004801201348156973), (4201, 0.0047942567021251785), (3454, 0.004793698148392532), (2875, 0.004791329285891766), (2525, 0.004773607905031453), (1238, 0.004773350956433912), (4005, 0.004766862822842847), (3914, 0.0047633095832655915), (864, 0.004762816859170671), (4091, 0.004762676246742458), (1527, 0.00476136889151603), (3373, 0.004760546758996115), (3429, 0.004755116101312575), (4383, 0.00474850256946807), (1662, 0.004744865991325481), (3477, 0.004743479109950254), (862, 0.004742682857167729), (3448, 0.0047412879233695165), (385, 0.004740492325165513), (4162, 0.004735559754750375), (179, 0.0047340173044406585), (4156, 0.004730107879276059), (313, 0.0047285350900321665), (1035, 0.004727627118949414), (3065, 0.004726333892342876), (1648, 0.0047219362421697), (4110, 0.004719352304873515), (2724, 0.00471908608510005), (1188, 0.004718661905467507), (3316, 0.004718294237883157), (3618, 0.004717075870328237), (1365, 0.0047115676826972805), (3462, 0.004703338920720536), (4135, 0.0046997770000034664), (4454, 0.0046874157999689196), (2796, 0.004686585040529773), (2598, 0.004680504865944554), (4703, 0.004678725823644693), (2338, 0.004672923458299129), (301, 0.004668013921285635), (3631, 0.004650385615494284), (4292, 0.0046492028009622035), (1428, 0.004644916511493782), (3665, 0.004643982862399154), (4239, 0.004643919648118271), (152, 0.004643029309798989), (3014, 0.004639239577502108), (4677, 0.004639197820940403), (3585, 0.0046288948965062734), (3303, 0.004625189710320865), (3365, 0.00462498645617393), (3938, 0.004623516012146541), (4461, 0.004615630306434363), (3386, 0.004611510184947223), (3748, 0.0046070312520164), (2974, 0.004606340101581589), (546, 0.004603748489213845), (3033, 0.004603421770659882), (3662, 0.004602096993277086), (2702, 0.004600130003892041), (2256, 0.004598499627473813), (2690, 0.004594740313802978), (3902, 0.00458772651597604), (4432, 0.004575504002849805), (4378, 0.004575051951792548), (3234, 0.004571641851685122), (972, 0.004570213556938736), (3593, 0.004558961269160365), (1833, 0.0045558332222778), (2118, 0.00454849077615472), (2746, 0.0045439850258996994), (3932, 0.004543792968853645), (778, 0.0045403892064810715), (2380, 0.004539719796509313), (406, 0.00453209541897566), (1219, 0.004531689749801744), (3299, 0.004521657320881474), (1076, 0.004510460886483727), (2445, 0.004507138373895616), (339, 0.004499408043169199), (2961, 0.004495933432107848), (2571, 0.004485665969181416), (4690, 0.0044838721808562205), (3456, 0.004479796598209778), (1183, 0.004478026105604899), (2643, 0.004477962703872142), (996, 0.00446823974692884), (2182, 0.004467968597113119), (1702, 0.004467379469333601), (521, 0.004460910709581996), (4342, 0.004459408383340152), (960, 0.00445605862058857), (592, 0.004450500783603839), (4676, 0.0044426929788525535), (1058, 0.0044347689511681524), (1416, 0.00442803212226742), (457, 0.004417274457833909), (1586, 0.004411324718008249), (196, 0.0044012093098316565), (4139, 0.004398975949196617), (925, 0.00439887052321882), (3137, 0.0043893749006521515), (3568, 0.0043757646605643834), (1507, 0.004372985555233578), (1862, 0.00436648984663797), (686, 0.004361333155660492), (3195, 0.004357992711331651), (4341, 0.004356336997339986), (4097, 0.004342499303429594), (2101, 0.004339927745133478), (428, 0.004334106670029945), (3616, 0.004330741021699775), (4611, 0.004329185280177944), (4329, 0.004324688166036017), (3134, 0.004306648614450882), (2689, 0.004291433873033112), (852, 0.004285915500496953), (426, 0.004281769289189996), (3117, 0.0042757965188650725), (436, 0.0042722628943801435), (504, 0.0042671191566000305), (1312, 0.004265666303801506), (4080, 0.004261451561182382), (1311, 0.0042605567491468335), (2945, 0.004260120399043387), (4559, 0.0042468722311095365), (1034, 0.004233802265763572), (1406, 0.004233202379868424), (2420, 0.004227530463209), (2659, 0.004227326526031563), (358, 0.004222131486889058), (272, 0.004219905751811931), (40, 0.0042130003889062064), (1811, 0.004209270702840497), (4233, 0.0041966987073126), (4186, 0.004188983891733568), (4592, 0.004186072168936749), (2102, 0.004183727994794803), (1571, 0.004175303406134713), (1128, 0.00417509665569888), (348, 0.0041679069185822535), (2745, 0.004167105426005863), (1313, 0.004166690413866938), (973, 0.004166036480774215), (3954, 0.004162902537737739), (3791, 0.004159182966099639), (465, 0.004151126316485051), (1304, 0.004150627083026768), (1991, 0.004150450130580974), (3842, 0.0041474871357958555), (2024, 0.004140343163333465), (4022, 0.004133391428478233), (1643, 0.004131773803097236), (2051, 0.004120536125569431), (515, 0.004118847909111293), (4483, 0.004117097120718135), (130, 0.00411216739278645), (2816, 0.0041090985561698205), (2188, 0.00408905005109271), (461, 0.004082663571843478), (1024, 0.004081700509051678), (1568, 0.004077829751402329), (3801, 0.004072565041835467), (325, 0.004070749655058215), (599, 0.004056889802580218), (2607, 0.0040561379249474845), (2954, 0.004056003007639739), (3467, 0.004055888441555425), (1335, 0.004042295176277937), (3415, 0.004041489285439554), (3355, 0.0040370500047096965), (2828, 0.00403505721713895), (1379, 0.004024444458061242), (3917, 0.0040202475384757425), (4424, 0.004017392475464513), (4242, 0.004008743595149294), (630, 0.004003367757284874), (2083, 0.004002930846346592), (2092, 0.003984818349842566), (754, 0.003979848759213163), (2468, 0.003975893490704994), (4585, 0.0039705822148539795), (900, 0.003965317532492699), (88, 0.003963027864901459), (1581, 0.003938226813363955), (3184, 0.003932776206433217), (2476, 0.0039311593114489465), (493, 0.003929606496076638), (1841, 0.003928997849018396), (815, 0.003927776378329816), (817, 0.0039206772475648115), (2009, 0.003917376663087897), (3437, 0.00389897544293404), (66, 0.00389087378976218), (2397, 0.003883576661546016), (2424, 0.0038823677442858507), (3025, 0.003874488623358555), (1140, 0.003870288032782808), (4001, 0.0038606552084025094), (2050, 0.0038572388211157212), (1732, 0.003852142740578526), (2346, 0.003833073883607146), (4576, 0.003826576409584953), (4523, 0.0038105953959904444), (1546, 0.0038075889358304333), (1695, 0.003805317848164222), (3223, 0.003801850769543811), (4807, 0.003786211492955629), (2662, 0.0037814249915581874), (2819, 0.0037793402976125687), (692, 0.003778596125542903), (87, 0.003774163434236516), (525, 0.0037695113428059795), (3031, 0.0037643345465613372), (255, 0.003762601504378522), (1186, 0.0037543785603898006), (4615, 0.0037525632238361788), (3900, 0.0037452318068146896), (4178, 0.0037435738234682706), (3162, 0.003738744848596539), (231, 0.003736204944405015), (1682, 0.0037321219170361433), (1564, 0.0037281628799930187), (926, 0.0037264436034325442), (1210, 0.003726412837422937), (4603, 0.0037259927259387354), (1056, 0.003723546717904663), (704, 0.003721477685515416), (3749, 0.0037208755289934534), (3991, 0.0037189781910226074), (3062, 0.0037173922406530356), (2437, 0.0037164817230969575), (1108, 0.0037136872412035413), (835, 0.0037125568841511005), (2928, 0.003701296350522915), (4057, 0.003697446444907955), (665, 0.0036918019760129477), (2904, 0.0036861774990918188), (4742, 0.0036861673323042633), (42, 0.0036848483033091028), (4600, 0.0036723833709162695), (110, 0.003671489091917128), (3272, 0.003661505319511167), (2531, 0.0036587529506241076), (3945, 0.003657696243338908), (173, 0.003656363128462218), (4570, 0.003643625063348837), (1390, 0.003638650518044705), (453, 0.0036356636823142684), (2560, 0.003631458401822878), (670, 0.003627293046470414), (705, 0.003619529569289943), (2415, 0.003610816874346193), (1704, 0.0036093845112006497), (1256, 0.00360895246452776), (514, 0.003607472552467716), (503, 0.0035984969483699105), (4116, 0.003595698396523082), (550, 0.003594293276633565), (2215, 0.0035942156553833353), (2950, 0.0035922342032611316), (447, 0.0035834983325489568), (4217, 0.003580836473380799), (3049, 0.003579203752166713), (3140, 0.0035772542914526075), (947, 0.003570620348818672), (869, 0.0035680716741180564), (190, 0.003559454351004521), (4212, 0.0035588179659952544), (347, 0.0035576457212856444), (2220, 0.0035525914059754927), (442, 0.0035517172446299003), (2520, 0.003548440302809462), (142, 0.0035478679494159453), (518, 0.0035392833290142996), (446, 0.0035373892134579533), (3851, 0.003532271786216313), (1053, 0.003529482848887217), (3911, 0.0035218936222080202), (2760, 0.003520747516707104), (1432, 0.0035202152984865195), (682, 0.003520091139662301), (3617, 0.0035198771969550536), (605, 0.00351478039543136), (1170, 0.003511486780569549), (4236, 0.0034980836712511865), (558, 0.0034939688695826486), (47, 0.003492591192447992), (1879, 0.003487017028508413), (3788, 0.0034625784194513526), (766, 0.003460607904194556), (1065, 0.0034600080752861507), (1504, 0.0034590191982217084), (701, 0.0034537961749058687), (567, 0.003450934499349464), (2026, 0.0034498755025400953), (2472, 0.00344675577338211), (2402, 0.0034457218347226115), (371, 0.003444798986854802), (1542, 0.0034432901357116484), (2414, 0.0034264843545595653), (3823, 0.0034235220503106905), (4327, 0.003421305372147457), (1397, 0.003407272706189633), (1282, 0.0033998458230123547), (4257, 0.0033904426880874534), (3874, 0.00338532226944337), (120, 0.0033829868918981306), (4532, 0.0033758400135347343), (3008, 0.0033719391577621037), (4804, 0.0033709307439884068), (1863, 0.003361036865749327), (3380, 0.003356061447029821), (569, 0.0033416857365576296), (450, 0.0033399427397541987), (136, 0.0033394987750789175), (4425, 0.0033386978164041993), (430, 0.003333043283293202), (4715, 0.003325801921070713), (3051, 0.0033094390341564415), (3735, 0.003288776421941515), (2449, 0.003287599491634487), (2541, 0.003275681829131865), (4620, 0.003273443235204457), (3898, 0.003271425580397092), (2596, 0.0032594750548604005), (3488, 0.003246538449290137), (1071, 0.003242379546165623), (1830, 0.003239599634090931), (1561, 0.0032361299816088284), (1813, 0.003235288843023194), (3213, 0.003230156283394846), (2922, 0.003229860268017763), (1687, 0.003219049203317398), (3275, 0.003218091938085866), (1547, 0.003215110730196908), (1783, 0.0032109513465286193), (1075, 0.003203123794183812), (1785, 0.0031967974817003397), (3588, 0.0031959082781567796), (1022, 0.0031829502147043163), (910, 0.00317571975774789), (1124, 0.003173030849390634), (2248, 0.0031604302078344134), (2361, 0.003155180561560501), (3012, 0.003145308797629112), (1997, 0.0031361218780531), (2226, 0.003135357441948118), (2885, 0.0031195530326344626), (4227, 0.0031085245557212634), (2975, 0.0031032267954681017), (496, 0.003092766377453608), (888, 0.003090412817615096), (181, 0.0030865164362046515), (1880, 0.0030629011385438876), (3830, 0.0030437966446518303), (343, 0.0030429596670602365), (631, 0.0030285723288867327), (4417, 0.0030134822232688644), (1955, 0.0030098799308975245), (4618, 0.0029809120681700946), (4175, 0.0029783770816709256), (3778, 0.0029746641164327585), (4501, 0.00296148425614624), (318, 0.002949847947978146), (1959, 0.002940635025010229), (2135, 0.0029388808931559074), (3230, 0.0029370746247409244), (1652, 0.0029343536532757094), (992, 0.002926267885014198), (3289, 0.0029214389631201537), (3249, 0.002915967038152945), (4624, 0.0029021093452703123), (3364, 0.0028961680222993127), (1246, 0.002883322405056829), (214, 0.0028810470828546505), (4786, 0.0028762767325782907), (703, 0.0028754612163775675), (3157, 0.0028702358780502623), (1593, 0.002870019213631245), (4700, 0.0028694523987863076), (4682, 0.0028608139133046917), (481, 0.0028476675558504155), (4191, 0.0028465210629145207), (479, 0.0028434818812425005), (2986, 0.0028409780592351616), (304, 0.002831895050280124), (1736, 0.002829207737733896), (4766, 0.002827404258697308), (4722, 0.0028265477752609466), (2931, 0.0028263987009299876), (727, 0.0028182604827166054), (3326, 0.0028134410987380363), (2442, 0.0028088429636276353), (3589, 0.002793546576571884), (2289, 0.0027854412012648104), (892, 0.002775190354831544), (1375, 0.0027664279735104716), (4609, 0.0027655201020838137), (617, 0.002764239645880883), (2084, 0.002755350085651117), (1629, 0.0027447425714556785), (1276, 0.002740396226612375), (314, 0.00273467027458001), (1424, 0.00273005510841344), (4077, 0.0027297639260924914), (3238, 0.0027247590070324573), (3421, 0.0027115863458958118), (2433, 0.0027048210340289), (59, 0.0027047251955273598), (1476, 0.002695674807429967), (3304, 0.0026944895502651963), (808, 0.002694170875927532), (3637, 0.002687439483745328), (3694, 0.002684236992603666), (3248, 0.0026781265974024516), (2640, 0.0026761208498045437), (4769, 0.0026747795061048455), (1670, 0.002671546950683063), (2070, 0.0026687165416814005), (738, 0.002661716821793631), (2590, 0.0026524671284290117), (4796, 0.0026518072717497698), (4756, 0.002645492458695069), (4505, 0.002635703952115076), (4768, 0.002634006013244376), (357, 0.0026318724921506726), (4185, 0.002630425104869897), (3466, 0.002629376425863132), (458, 0.002623736664315512), (4721, 0.0026185843438935644), (4011, 0.0026184708775793186), (3689, 0.002612717749661801), (1867, 0.0026086344920837824), (3071, 0.0025994635291806587), (3160, 0.002597515838725257), (2274, 0.0025963356908757593), (1272, 0.002587942141587159), (2275, 0.002587906697296488), (3939, 0.0025854284954332694), (4260, 0.0025849099091471033), (3920, 0.002583370838733287), (4554, 0.002581051784425187), (3841, 0.0025708162588259924), (1360, 0.0025699013320497383), (1041, 0.002565640408983939), (4580, 0.0025624982782631194), (4753, 0.0025612336032230115), (2394, 0.002558885197641975), (2676, 0.002558837139306966), (2252, 0.0025564334570355824), (3199, 0.0025539061040508082), (3392, 0.0025478733910323), (850, 0.002547464338576368), (2887, 0.002544889101903477), (2978, 0.0025448766451839286), (1911, 0.002540139508991148), (4131, 0.002535819145156141), (3928, 0.002531463365195555), (3871, 0.002529971084917624), (3078, 0.0025285024810497362), (763, 0.002524605091958362), (1984, 0.0025231071907467896), (1922, 0.0025218412758345934), (4465, 0.0025209672530795858), (560, 0.0025031770701684467), (1680, 0.0025002726754588074), (3337, 0.0024984144188722555), (4640, 0.0024959019118451476), (4176, 0.002489052138792973), (3039, 0.002487084403143881), (2791, 0.0024870720010923275), (1197, 0.0024855327734355725), (2194, 0.0024799690679714066), (2222, 0.0024796198904888387), (4146, 0.0024792779387518104), (1778, 0.0024792216164737004), (3309, 0.0024769134998471175), (2034, 0.0024708730943899136), (4736, 0.0024654057186652804), (4500, 0.002464260532492759), (3934, 0.002463821600792749), (2136, 0.002457878438774675), (800, 0.00245712198801682), (1352, 0.002453114710407288), (1947, 0.0024439000194859104), (2781, 0.0024426404211855403), (2386, 0.002442260097035031), (2427, 0.002441019554220767), (590, 0.0024406945729933153), (4728, 0.00243628452430821), (2511, 0.002430158247664006), (2810, 0.0024284928894636472), (4466, 0.002426021266825457), (146, 0.002418841989876022), (4348, 0.00241724094353742), (1139, 0.0024140940128702625), (3787, 0.002411495088561777), (3864, 0.0024068945371772768), (2870, 0.002405779362934378), (4499, 0.0024030191904343408), (3547, 0.0024029670499339656), (4119, 0.0023998259844788053), (2257, 0.002396609132016189), (4045, 0.0023959469599742758), (4795, 0.002395565907086149), (2637, 0.0023952242319095936), (4648, 0.002394386637906684), (1042, 0.0023917874196943433), (3171, 0.0023913792746814073), (1392, 0.0023907043676438043), (2719, 0.0023905646339502885), (2242, 0.0023894185869944564), (3118, 0.0023890507398060643), (1742, 0.002387282797739417), (1483, 0.0023871641125334897), (3307, 0.002374883358097035), (2262, 0.0023648234149832906), (4711, 0.002361599997841059), (1710, 0.0023613672191481585), (1624, 0.002360220242291976), (2233, 0.0023593701247776972), (3397, 0.0023590903890530843), (2780, 0.0023556070710663277), (4625, 0.0023537073411533296), (3973, 0.0023530993698525947), (3776, 0.0023504801647772), (1055, 0.0023434595947519152), (4259, 0.002336560368608492), (4657, 0.0023323880155749206), (2755, 0.0023322884763191257), (4414, 0.002329394454051345), (1621, 0.002328488214867306), (771, 0.0023276910920735556), (2425, 0.0023206166970347925), (3567, 0.002319095211364391), (1706, 0.002317767052925074), (4489, 0.002313642014437366), (4017, 0.0023136059737632005), (1310, 0.002307136568817356), (2010, 0.0023068844693127735), (1953, 0.002306175903542217), (1660, 0.0023050838549179722), (2558, 0.0022997576492888314), (865, 0.0022957713650427506), (4770, 0.0022954325268768464), (2308, 0.0022936919143624035), (1849, 0.002293515854296722), (3052, 0.0022917738113703745), (1562, 0.0022877295667491455), (4344, 0.0022871568907127915), (3281, 0.002283692445170579), (4122, 0.002283037340780723), (3178, 0.0022818497444978564), (4571, 0.0022816006249069217), (553, 0.0022747036524137054), (4597, 0.002274079582502522), (382, 0.0022720856103271843), (3090, 0.002271293442053428), (2144, 0.002268216189494996), (2383, 0.0022679426554477094), (4684, 0.0022666960770664516), (3754, 0.00226551631537603), (3503, 0.002263019877289948), (1601, 0.002262966951143462), (4264, 0.0022562886220912153), (3532, 0.0022548639454482225), (3346, 0.0022544518504373514), (663, 0.0022543224111449167), (991, 0.002247713340697033), (642, 0.0022466800944143744), (2770, 0.002245549718362107), (2647, 0.0022428380057785808), (3506, 0.0022403599367513973), (1482, 0.0022393507593242404), (2851, 0.002238391515041661), (1328, 0.0022362410864316083), (4166, 0.002231135784633051), (3804, 0.0022265750634710073), (2563, 0.002221403978387166), (2846, 0.0022209206717592233), (2482, 0.0022204166060955785), (3426, 0.0022179618272034807), (2656, 0.0022137242052703877), (983, 0.0022134242852884407), (1787, 0.0022108591550461013), (3368, 0.0022099878659036162), (1968, 0.0022090846646818946), (2124, 0.002207718663145372), (2313, 0.0022065434466397417), (3080, 0.0022057215885373594), (2271, 0.0022056255016231065), (1458, 0.0022023177755257123), (1090, 0.002201534272671299), (825, 0.0022013683767362277), (4363, 0.002200711611423374), (3990, 0.002196517113119712), (2666, 0.0021952058277216824), (2277, 0.0021949402445435376), (2297, 0.0021940529663199474), (3244, 0.0021916859931259817), (3129, 0.002191106555030179), (2784, 0.0021898584407526052), (3729, 0.002187887189663806), (2715, 0.00218435624109756), (1286, 0.002183817856799829), (2999, 0.0021823018406963665), (3719, 0.002181198015614931), (4460, 0.002180732778482633), (2763, 0.0021802733098188975), (4480, 0.0021795160700832737), (4418, 0.002179001357105068), (2588, 0.002174440180128311), (1672, 0.0021735854017801274), (2962, 0.0021715138529578883), (1929, 0.0021708176116074893), (4520, 0.00216871200591952), (761, 0.00216863139365921), (1049, 0.0021667095854117683), (4416, 0.002166663265218755), (3212, 0.002164496573083606), (3125, 0.002159121612081687), (3944, 0.0021573093812069016), (3396, 0.0021567137074499734), (3633, 0.002150013775168162), (4473, 0.00214616661593729), (2405, 0.0021458741665456643), (3771, 0.002145328237273263), (2626, 0.002145150176404485), (1669, 0.0021418962732071122), (924, 0.002141154472712868), (4726, 0.002137731972678444), (684, 0.002136330845368635), (3353, 0.0021315950293613528), (3149, 0.0021291872532206266), (1923, 0.0021268767689451877), (4494, 0.0021263544953782202), (1935, 0.002125606407123562), (1544, 0.0021254707142327398), (1934, 0.002125172231939801), (2058, 0.0021245780115533193), (2375, 0.002123792422039373), (3500, 0.0021215425915660844), (1665, 0.0021209044607786187), (3270, 0.0021148822587213558), (3599, 0.0021125355153078875), (4296, 0.002111177114925002), (2192, 0.0021103565702730773), (1415, 0.0021074437549887313), (2160, 0.0021069391923153953), (1152, 0.002102608747547719), (4243, 0.0020981250744337328), (1330, 0.002094329649488477), (3073, 0.002092203997995978), (1683, 0.0020916530407642745), (2219, 0.0020910968105641446), (4482, 0.002090121258947446), (4524, 0.0020886737348846775), (977, 0.002084397639860204), (2504, 0.002083939144605326), (3385, 0.002082244055589132), (378, 0.002080590991983852), (4408, 0.002080416508464778), (1666, 0.002079924003639766), (4002, 0.0020755626242027875), (3865, 0.0020739245132629985), (1336, 0.002073819736092842), (2510, 0.0020698182359886685), (1733, 0.0020640503745590765), (1909, 0.0020624323154072675), (2908, 0.002057476626910687), (1774, 0.0020568481191097507), (1097, 0.0020533780624596913), (741, 0.002050941561201725), (3642, 0.002049253980361633), (2508, 0.0020492078719301482), (2156, 0.0020483746846493636), (1792, 0.002047891523407432), (4471, 0.002047612874817211), (3030, 0.0020449024628928915), (2530, 0.0020368218792717646), (3582, 0.002036226697293337), (1927, 0.0020349526696050147), (4151, 0.0020335899957392503), (3953, 0.002033379223480122), (1184, 0.0020325523830637925), (408, 0.002031360695898686), (4272, 0.0020307146054703274), (4061, 0.0020294300219778696), (1181, 0.002028795992130163), (1553, 0.0020279413285621906), (3821, 0.0020276010623032957), (693, 0.0020272873737022744), (2014, 0.002027151716468802), (4782, 0.0020261395991019054), (89, 0.002025611057651826), (3352, 0.0020237819789494693), (3840, 0.0020221241435766516), (2342, 0.0020176955698027327), (244, 0.002016758851075232), (2700, 0.0020158424147291255), (3491, 0.0020117726996800233), (4287, 0.002005703901187312), (2952, 0.0020046692287887503), (3972, 0.0020034674653943295), (167, 0.0020031581349105976), (3869, 0.0020006921905061236), (2929, 0.002000334014795814), (2872, 0.0019996486018029535), (621, 0.0019931919942938457), (2548, 0.001993162175230135), (1824, 0.0019931071942894084), (2311, 0.001989372628186747), (439, 0.0019893630410500536), (2564, 0.001984304019054916), (1944, 0.001982272440496078), (2459, 0.001979100119895329), (4142, 0.001978232156306608), (1949, 0.001977746065644013), (762, 0.0019775076579265486), (2310, 0.0019769631430473066), (685, 0.001976162135102476), (3436, 0.0019738252951351414), (4094, 0.001971699793835717), (2493, 0.001969173395673722), (3282, 0.001967982515266548), (1368, 0.0019667745292231576), (3425, 0.001963055084312613), (2703, 0.0019609737494146566), (714, 0.001960344593174217), (3537, 0.0019583286131007196), (2652, 0.0019567224813855357), (3711, 0.0019539008275874996), (4199, 0.0019495525738982143), (1138, 0.0019448221661365734), (2938, 0.0019443304920787234), (3250, 0.0019416222924631872), (2748, 0.0019399566035106007), (1389, 0.001937075912628322), (3586, 0.0019359948136079585), (1094, 0.0019328666603777185), (2790, 0.0019306491869267096), (3899, 0.0019286975443444628), (1114, 0.0019281913030281903), (283, 0.001927200667444352), (2956, 0.0019270297537757688), (4791, 0.0019255684157972075), (4211, 0.0019251598253380246), (3968, 0.0019250995550995095), (3497, 0.0019250760566644418), (1161, 0.00192449088336098), (3262, 0.0019230548519607361), (474, 0.0019228991124865713), (4605, 0.0019228463229275167), (2216, 0.0019224209703221817), (941, 0.0019219461681507911), (3132, 0.001921275120849524), (976, 0.0019203483707279985), (849, 0.0019203201219940324), (3440, 0.00191828521512152), (2391, 0.0019171070761658192), (1766, 0.001915597671462368), (2347, 0.0019150949410098423), (3799, 0.0019140485570081102), (2387, 0.0019137428034302713), (4621, 0.001913581365439176), (2622, 0.0019124360453269915), (2360, 0.0019123967038468367), (2399, 0.0019104919440066559), (4647, 0.0019059666191816264), (3443, 0.0019048222822186456), (4072, 0.001904115794619881), (3024, 0.0019027506398134463), (1493, 0.0019023551054726012), (1826, 0.0019005613370593121), (3859, 0.0018991180404851352), (2677, 0.001897435311893901), (3629, 0.001895306665529239), (2067, 0.0018946493864913246), (1060, 0.001894592814578821), (545, 0.001893364123157182), (920, 0.0018908737291499739), (4039, 0.0018878519056774229), (1958, 0.001887620960063828), (2896, 0.0018862640183142268), (3603, 0.0018845492396383648), (3075, 0.0018837741754543494), (3496, 0.0018832469851669071), (978, 0.0018828541995467613), (905, 0.001882513550008843), (552, 0.0018793400304688882), (2079, 0.0018782999603267892), (524, 0.0018756466732820045), (3017, 0.0018743848866290358), (4488, 0.0018728705056290935), (1921, 0.001867454248572634), (3527, 0.0018619412499569711), (3576, 0.001859750532107398), (758, 0.0018563673170260467), (24, 0.001852955453648527), (729, 0.001850657372894059), (2708, 0.0018501790238601794), (4529, 0.001849054781542915), (2838, 0.0018488180141678406), (3835, 0.0018484036658734109), (157, 0.0018476826753140421), (3210, 0.001847177546370814), (4040, 0.0018464192116023153), (1393, 0.0018454329280803447), (1224, 0.0018440106864920588), (3531, 0.0018439693747761355), (1815, 0.0018389851113438341), (855, 0.0018373934562855045), (970, 0.001836428541345966), (287, 0.0018360276424828435), (2591, 0.0018343758627569358), (938, 0.0018324351935452307), (176, 0.0018293217148345421), (958, 0.0018289538343577664), (2605, 0.0018281103535422289), (2334, 0.0018270744271067405), (4744, 0.0018246313974451935), (909, 0.001822750460792223), (944, 0.0018217485642056277), (257, 0.0018192867981527037), (919, 0.0018186914390023688), (4354, 0.0018164234734967804), (680, 0.0018149279666669184), (3683, 0.0018135372877098443), (3572, 0.0018124992242133076), (1320, 0.0018121635557141458), (346, 0.0018097306992876563), (4781, 0.0018095800415734362), (2068, 0.0018054118813385506), (3315, 0.0018048910766464755), (2799, 0.0018045089231534753), (2537, 0.001800934137125035), (4458, 0.001799277748393641), (2329, 0.0017987105982973954), (3105, 0.0017984094443745133), (720, 0.0017961962729419506), (1758, 0.001795169942699071), (3947, 0.0017951278199897695), (3239, 0.0017945850176570674), (641, 0.0017927913735433557), (2384, 0.0017922249053093876), (1667, 0.0017920217384146142), (510, 0.001791224415810129), (4596, 0.0017895896880616086), (4459, 0.0017891131157544713), (2093, 0.0017883279253700268), (2893, 0.0017882146568492096), (3883, 0.0017872121512561214), (1628, 0.0017868748035209455), (1454, 0.0017811391267753217), (3674, 0.00177655048858634), (1257, 0.0017764053608606356), (3649, 0.0017757611182201696), (1985, 0.001771456939877367), (3363, 0.0017713026272516107), (1116, 0.00177071516671615), (716, 0.0017694015332274863), (1802, 0.0017691236088926135), (3543, 0.0017690598361928033), (801, 0.0017683613684979884), (4392, 0.0017681966588579511), (4343, 0.001768054180083875), (4435, 0.001767640504320351), (1287, 0.001767461402761324), (4179, 0.0017665993953934643), (1078, 0.0017633955351216547), (2389, 0.0017630468700624072), (2201, 0.0017594940417645247), (662, 0.001758935415918122), (712, 0.0017587514978288003), (3177, 0.0017585955414001924), (1012, 0.0017585239261978375), (839, 0.0017570964167126816), (3435, 0.0017569414236689575), (2732, 0.0017556892279401229), (4126, 0.0017556218192278875), (2390, 0.0017548191949430783), (1148, 0.0017537218406348941), (4143, 0.001753128993899241), (872, 0.0017524981591806308), (4694, 0.0017490448534993772), (2998, 0.0017489529397317909), (1619, 0.001748752801044858), (3330, 0.0017425683905885549), (2489, 0.0017417981079145021), (3115, 0.0017410433642123004), (3387, 0.001740097572409894), (2514, 0.0017365266195851971), (677, 0.0017360168393921853), (650, 0.00173501319777676), (4092, 0.0017348598215290447), (724, 0.0017336605474028168), (455, 0.0017321979848694826), (2348, 0.0017312837132895682), (2374, 0.0017304841691727065), (477, 0.001727053187307581), (421, 0.0017268767000755512), (2798, 0.0017258655635332932), (4090, 0.0017246489155579926), (2988, 0.0017242954090223124), (4784, 0.0017209865170659717), (3192, 0.001720191434504585), (1513, 0.001716116317938064), (945, 0.0017152534363905582), (2633, 0.0017128473135951455), (2184, 0.0017126540034400352), (3641, 0.001711132012100911), (4289, 0.0017056054753576584), (3123, 0.0017046277658849082), (1941, 0.001703667383962414), (3894, 0.001700924242451287), (2356, 0.0017000635626526696), (4169, 0.0016985779580147406), (1196, 0.0016981228292251645), (697, 0.001698107803373609), (1731, 0.001697542093339621), (2898, 0.0016934324128850052), (556, 0.0016922607399678718), (3809, 0.0016917186989005141), (4534, 0.0016916078156573916), (3647, 0.0016905839703278231), (2543, 0.001689113923256099), (384, 0.001687880297557047), (1835, 0.0016875369315630373), (2121, 0.0016865522365172034), (3357, 0.0016800364467218951), (1980, 0.0016788736925311902), (3375, 0.0016771747113149323), (298, 0.001676947239077841), (883, 0.001676828188255009), (1992, 0.0016746054930430788), (620, 0.0016738128137243709), (3367, 0.001673021705541481), (4595, 0.0016727312099837314), (3573, 0.0016726228910602327), (3726, 0.0016710671783701253), (3185, 0.0016703547686518995), (4404, 0.0016697852081600628), (1988, 0.0016684413859830622), (140, 0.0016662234556475508), (236, 0.0016655992943841844), (1039, 0.0016651401847097278), (2924, 0.001662172308304937), (1350, 0.0016609851740049942), (1964, 0.0016603870794603091), (2238, 0.0016590632594824723), (1380, 0.001658620915927698), (1928, 0.0016586151086150891), (4429, 0.0016561895952880506), (2037, 0.0016516616580428023), (3802, 0.0016511128599131888), (3509, 0.0016507427639705615), (246, 0.0016495035350573603), (965, 0.0016461578864400456), (333, 0.0016443555652403442), (2069, 0.0016424793495484766), (2651, 0.0016422875540727355), (1850, 0.0016389244683844705), (647, 0.001636275485500498), (1087, 0.0016347547150947024), (1095, 0.001634139841158379), (3569, 0.0016308000306711002), (2528, 0.0016298990287852925), (804, 0.0016283894893332057), (1563, 0.0016255303821481244), (351, 0.001623377798772248), (4588, 0.0016225535685974884), (3542, 0.0016213724792048247), (544, 0.0016212221288476644), (1684, 0.0016187094591630779), (2129, 0.0016181164698710023), (779, 0.0016166460951466757), (2146, 0.0016147534050672512), (2170, 0.0016131845433132706), (2284, 0.0016130700145058324), (3411, 0.001611546506887709), (2240, 0.001610230284059684), (1663, 0.0016098410988908687), (3085, 0.0016088655654130646), (3632, 0.0016076532116081233), (2211, 0.0016052477744403265), (3335, 0.0016039786674700962), (818, 0.001600708070680199), (3446, 0.001598360147838285), (629, 0.0015972507768219832), (3393, 0.001597128528653386), (1508, 0.001596945465582688), (2727, 0.00159656521469189), (434, 0.0015947202697836466), (1281, 0.0015944108926371204), (3422, 0.0015905403673770735), (2959, 0.0015898710686993896), (2403, 0.001589020143877902), (1435, 0.0015889060320779015), (4617, 0.0015856709602708775), (3648, 0.0015843057969890985), (365, 0.001582505130718132), (4733, 0.0015821069205047837), (116, 0.0015791922266665415), (3441, 0.0015790779666128225), (1842, 0.0015770702899069468), (2435, 0.0015757045604497723), (2866, 0.0015743283352872934), (4705, 0.0015715927115942706), (2663, 0.001570349415994773), (3575, 0.0015693486949119309), (1820, 0.0015685097720362841), (4065, 0.0015667702479921096), (1954, 0.0015651865129146592), (2886, 0.0015643361291270467), (2485, 0.0015584744023802324), (4802, 0.0015583234824326027), (2440, 0.0015571325234590109), (878, 0.001552112452856847), (1755, 0.0015504294821158421), (557, 0.0015489310797730106), (2966, 0.0015451652060319552), (3681, 0.0015426278627172657), (165, 0.0015423084761255947), (2736, 0.0015420472740629145), (3390, 0.0015419834661495515), (264, 0.0015404271841664777), (3634, 0.00153903128749234), (3910, 0.0015384665477727144), (4748, 0.0015382873844939733), (3676, 0.0015382410081897805), (2680, 0.0015365645265496856), (918, 0.0015364491614853414), (767, 0.0015348301643939896), (2365, 0.0015343599887725776), (1172, 0.001532981888110213), (1333, 0.0015322407492632947), (396, 0.0015318386156361675), (606, 0.00153137499580198), (2430, 0.0015298414463700638), (1283, 0.001529608500128494), (1110, 0.0015294299588297763), (4033, 0.0015281837423627685), (2019, 0.0015270212596429102), (765, 0.001524643596426882), (119, 0.0015241245128464302), (4382, 0.0015241144273701957), (3818, 0.0015233200365236082), (3266, 0.0015230929570124092), (834, 0.0015171676392919343), (312, 0.0015157201861945816), (386, 0.0015134947059427437), (2648, 0.001512863524925325), (3401, 0.0015119537631127047), (3655, 0.0015116196049377885), (1531, 0.0015112648525744047), (4196, 0.0015112600482699383), (2552, 0.0015078351861535675), (1430, 0.0015072319512300753), (3715, 0.0015064608322629919), (2771, 0.0015061973221092819), (628, 0.001503721788705577), (1105, 0.0015032660707001775), (4440, 0.0015022713144742946), (192, 0.0015019979416583805), (2903, 0.001501856055037597), (1289, 0.0015007405663516977), (2097, 0.0014995944690024353), (3716, 0.0014993471043908465), (3232, 0.001497161752396915), (3312, 0.0014969035848720815), (3321, 0.0014966700596838374), (3686, 0.001494825563171071), (248, 0.0014931102301693007), (1132, 0.0014923208800499948), (3459, 0.0014912179001474418), (3114, 0.0014905602443222824), (1764, 0.0014895025958999444), (2354, 0.0014885945647837386), (3654, 0.0014874574224927291), (3619, 0.0014871866510388068), (97, 0.0014864324193641283), (671, 0.0014853197172300157), (3839, 0.0014815936977626994), (4134, 0.0014812794570218644), (1572, 0.0014791345787021437), (3302, 0.0014776649730018382), (1535, 0.0014774944106344774), (1816, 0.0014771405780180894), (1793, 0.00147634238575337), (3824, 0.0014756664907666038), (2948, 0.00147450261626359), (3644, 0.0014742932515346466), (1930, 0.0014733066662459189), (2364, 0.0014729898925275938), (1646, 0.0014687386828747945), (1765, 0.001468035418828455), (3331, 0.0014651478294945045), (1031, 0.0014650792522654193), (2316, 0.0014649548638720146), (4157, 0.0014623275567784923), (529, 0.0014622568976591836), (475, 0.0014607918862798396), (1331, 0.0014594314550577287), (1744, 0.0014582716270672418), (456, 0.0014582403330614736), (3236, 0.0014576621648617664), (747, 0.0014573912147456333), (1051, 0.0014559751014670962), (851, 0.00145382221217424), (3732, 0.001452921195461898), (1960, 0.0014496112035872102), (3247, 0.0014490285226325989), (2710, 0.0014453227964943405), (3246, 0.0014451573212627298), (4365, 0.0014427415662400223), (1446, 0.001441144715154166), (1285, 0.0014365860982988835), (2644, 0.0014347187700897118), (2153, 0.0014347032376715964), (1284, 0.0014346649532878501), (1008, 0.0014338027189158475), (1151, 0.0014263639279450473), (871, 0.0014263533701092115), (4111, 0.0014255260904558742), (2556, 0.0014247936234774456), (2717, 0.0014228180440134484), (1484, 0.0014228052996106127), (1479, 0.001422366483242706), (1445, 0.0014218492988883808), (4541, 0.0014217392806578117), (593, 0.0014199618233026923), (3921, 0.0014184913673480541), (3452, 0.0014179752189593105), (2392, 0.0014157404035247288), (2302, 0.0014127874702445228), (3880, 0.0014096524630618928), (4267, 0.0014075922597135886), (2176, 0.0014058842045319377), (3372, 0.0014020014782570335), (635, 0.0014014690794481033), (2706, 0.0014012672639284092), (1883, 0.0013990546826167937), (999, 0.0013988460681266758), (1874, 0.0013972178288581092), (2668, 0.0013966633978215555), (1931, 0.001396331897351614), (3165, 0.0013948918896019254), (2549, 0.001393782007594177), (3723, 0.0013930427425721537), (180, 0.0013918192838207426), (280, 0.001390728104083609), (3792, 0.001389934539141672), (4339, 0.0013894448115338515), (1411, 0.0013877024767853813), (2630, 0.00138700754160442), (383, 0.0013854121503446709), (4549, 0.0013853527621232368), (2793, 0.0013848218421538077), (95, 0.0013846169699315777), (950, 0.0013817452880940054), (3455, 0.001381555767603965), (2671, 0.0013814029539055339), (1214, 0.0013810277416119283), (1419, 0.001379735608205612), (3697, 0.0013785156394265357), (1712, 0.001377579985711804), (2458, 0.001374875345539736), (1890, 0.0013711940160347478), (376, 0.0013699619278834633), (749, 0.001369143494733852), (1894, 0.0013691066237074558), (409, 0.00136537725144587), (4642, 0.001364363751430135), (1179, 0.0013589986007288089), (3079, 0.001355735846888667), (4318, 0.0013542352493770748), (3211, 0.0013527215859818187), (4548, 0.0013488094302563113), (2545, 0.0013412257584951635), (3659, 0.0013398865279769605), (1191, 0.0013392571826664349), (3193, 0.0013342906977081405), (2462, 0.0013340127684943323), (4442, 0.0013330132327889436), (286, 0.0013307591553951184), (222, 0.0013306918615602597), (3545, 0.0013303436610077274), (4338, 0.0013298666268185162), (2980, 0.001329551688098679), (297, 0.0013287040084080377), (1858, 0.0013276044565449165), (2283, 0.001326969377430935), (1025, 0.001326682285745948), (3757, 0.0013253253019364967), (3384, 0.0013252218849879047), (1753, 0.001324447711288408), (4044, 0.0013234076815867033), (528, 0.0013213231644042562), (65, 0.0013192535335513971), (4316, 0.001319006186496481), (2151, 0.0013175369644500424), (884, 0.0013168465458715116), (4180, 0.0013104446160920101), (1463, 0.0013065869736728069), (1356, 0.00130470770190096), (1856, 0.0013029890967281978), (3558, 0.0012972012315712685), (1050, 0.0012955332876536786), (4228, 0.0012931035464099007), (4088, 0.0012915783336181267), (2835, 0.0012898847120866941), (3561, 0.0012824470429608074), (3109, 0.001281641784618779), (571, 0.0012800183691921753), (4172, 0.001279400331802828), (1509, 0.0012780761339838012), (2990, 0.0012774916788690592), (1239, 0.001277036989088451), (354, 0.001276305531078161), (845, 0.001273894289929029), (1966, 0.0012708988109044704), (3143, 0.0012706236008220666), (3700, 0.0012705211697710433), (3057, 0.0012645339031950936), (4400, 0.0012644532790682978), (3640, 0.0012617622160894456), (1164, 0.0012583971541618511), (3226, 0.0012522341605304586), (4636, 0.0012504469374686757), (1345, 0.0012477839063725071), (1318, 0.0012318937857407825), (4164, 0.001227932843341644), (1693, 0.0012270558277798732), (3, 0.0012238828489172394), (2030, 0.0012153955123613402), (2509, 0.0012118329793580837), (2730, 0.0012049531062083168), (717, 0.0012038649506592239), (4118, 0.0011977781745866468), (4224, 0.001197601355186977), (2882, 0.0011972338123443817), (3475, 0.0011910438198560183), (1279, 0.0011875066754476727), (3098, 0.0011853011684823328), (4223, 0.0011838738764630484), (3521, 0.0011686812376796659), (4293, 0.001167342887749314), (2733, 0.0011663810871108545), (4481, 0.0011653696899974603), (3442, 0.0011552398498030948), (1781, 0.0011472496453374538), (3783, 0.0011431033247209304), (1462, 0.001135665682727836), (2629, 0.0011222084431738101), (462, 0.001114810176214592), (3808, 0.001111315494814676), (3077, 0.0011071270745836022), (4309, 0.0011025460823658403), (2527, 0.0010803813728250274), (1301, 0.001069813990469535), (4714, 0.0010580831578440074), (310, 0.0010490828404476362), (2448, 0.0010430343934282136), (4390, 0.0010170034965406756), (3202, 0.0009949741431016818), (3811, 0.0009612898042614808), (2434, 0.0009127908971207201), (2664, 0.0008113111681429128), (2, 0.0), (4, 0.0), (7, 0.0), (11, 0.0), (13, 0.0), (26, 0.0), (28, 0.0), (29, 0.0), (31, 0.0), (33, 0.0), (35, 0.0), (36, 0.0), (41, 0.0), (43, 0.0), (52, 0.0), (56, 0.0), (58, 0.0), (62, 0.0), (64, 0.0), (68, 0.0), (74, 0.0), (76, 0.0), (79, 0.0), (85, 0.0), (91, 0.0), (93, 0.0), (96, 0.0), (99, 0.0), (102, 0.0), (122, 0.0), (123, 0.0), (125, 0.0), (127, 0.0), (128, 0.0), (134, 0.0), (139, 0.0), (147, 0.0), (149, 0.0), (150, 0.0), (153, 0.0), (155, 0.0), (158, 0.0), (162, 0.0), (163, 0.0), (164, 0.0), (166, 0.0), (169, 0.0), (170, 0.0), (171, 0.0), (182, 0.0), (186, 0.0), (188, 0.0), (200, 0.0), (201, 0.0), (203, 0.0), (204, 0.0), (205, 0.0), (209, 0.0), (212, 0.0), (213, 0.0), (218, 0.0), (219, 0.0), (220, 0.0), (227, 0.0), (240, 0.0), (245, 0.0), (247, 0.0), (249, 0.0), (251, 0.0), (256, 0.0), (260, 0.0), (263, 0.0), (266, 0.0), (271, 0.0), (273, 0.0), (275, 0.0), (277, 0.0), (279, 0.0), (282, 0.0), (285, 0.0), (290, 0.0), (303, 0.0), (306, 0.0), (307, 0.0), (319, 0.0), (320, 0.0), (321, 0.0), (334, 0.0), (338, 0.0), (340, 0.0), (342, 0.0), (350, 0.0), (353, 0.0), (356, 0.0), (361, 0.0), (362, 0.0), (366, 0.0), (367, 0.0), (372, 0.0), (373, 0.0), (388, 0.0), (392, 0.0), (398, 0.0), (400, 0.0), (401, 0.0), (411, 0.0), (412, 0.0), (415, 0.0), (422, 0.0), (424, 0.0), (425, 0.0), (427, 0.0), (433, 0.0), (437, 0.0), (449, 0.0), (468, 0.0), (476, 0.0), (478, 0.0), (480, 0.0), (483, 0.0), (487, 0.0), (492, 0.0), (495, 0.0), (497, 0.0), (498, 0.0), (499, 0.0), (500, 0.0), (502, 0.0), (507, 0.0), (508, 0.0), (511, 0.0), (513, 0.0), (523, 0.0), (531, 0.0), (540, 0.0), (541, 0.0), (548, 0.0), (549, 0.0), (554, 0.0), (568, 0.0), (570, 0.0), (573, 0.0), (574, 0.0), (577, 0.0), (579, 0.0), (581, 0.0), (582, 0.0), (594, 0.0), (595, 0.0), (596, 0.0), (600, 0.0), (601, 0.0), (602, 0.0), (603, 0.0), (607, 0.0), (608, 0.0), (609, 0.0), (615, 0.0), (616, 0.0), (623, 0.0), (626, 0.0), (634, 0.0), (639, 0.0), (640, 0.0), (643, 0.0), (644, 0.0), (649, 0.0), (658, 0.0), (659, 0.0), (664, 0.0), (669, 0.0), (673, 0.0), (675, 0.0), (679, 0.0), (683, 0.0), (687, 0.0), (691, 0.0), (695, 0.0), (700, 0.0), (702, 0.0), (708, 0.0), (711, 0.0), (718, 0.0), (719, 0.0), (721, 0.0), (723, 0.0), (726, 0.0), (731, 0.0), (732, 0.0), (735, 0.0), (736, 0.0), (739, 0.0), (740, 0.0), (745, 0.0), (748, 0.0), (750, 0.0), (753, 0.0), (755, 0.0), (759, 0.0), (770, 0.0), (775, 0.0), (780, 0.0), (782, 0.0), (783, 0.0), (787, 0.0), (788, 0.0), (794, 0.0), (797, 0.0), (798, 0.0), (799, 0.0), (802, 0.0), (819, 0.0), (828, 0.0), (829, 0.0), (830, 0.0), (831, 0.0), (833, 0.0), (840, 0.0), (841, 0.0), (843, 0.0), (846, 0.0), (847, 0.0), (854, 0.0), (856, 0.0), (857, 0.0), (863, 0.0), (866, 0.0), (873, 0.0), (880, 0.0), (895, 0.0), (906, 0.0), (913, 0.0), (914, 0.0), (930, 0.0), (939, 0.0), (948, 0.0), (949, 0.0), (952, 0.0), (955, 0.0), (956, 0.0), (959, 0.0), (963, 0.0), (969, 0.0), (979, 0.0), (987, 0.0), (997, 0.0), (1000, 0.0), (1001, 0.0), (1005, 0.0), (1006, 0.0), (1011, 0.0), (1014, 0.0), (1016, 0.0), (1030, 0.0), (1036, 0.0), (1040, 0.0), (1045, 0.0), (1046, 0.0), (1057, 0.0), (1059, 0.0), (1061, 0.0), (1062, 0.0), (1063, 0.0), (1066, 0.0), (1067, 0.0), (1073, 0.0), (1080, 0.0), (1082, 0.0), (1085, 0.0), (1091, 0.0), (1096, 0.0), (1099, 0.0), (1100, 0.0), (1102, 0.0), (1106, 0.0), (1109, 0.0), (1117, 0.0), (1121, 0.0), (1127, 0.0), (1129, 0.0), (1133, 0.0), (1134, 0.0), (1136, 0.0), (1141, 0.0), (1149, 0.0), (1150, 0.0), (1156, 0.0), (1162, 0.0), (1163, 0.0), (1167, 0.0), (1169, 0.0), (1176, 0.0), (1177, 0.0), (1180, 0.0), (1182, 0.0), (1185, 0.0), (1187, 0.0), (1192, 0.0), (1200, 0.0), (1204, 0.0), (1213, 0.0), (1221, 0.0), (1222, 0.0), (1227, 0.0), (1231, 0.0), (1232, 0.0), (1237, 0.0), (1240, 0.0), (1247, 0.0), (1252, 0.0), (1259, 0.0), (1264, 0.0), (1265, 0.0), (1268, 0.0), (1273, 0.0), (1274, 0.0), (1275, 0.0), (1288, 0.0), (1297, 0.0), (1300, 0.0), (1306, 0.0), (1321, 0.0), (1322, 0.0), (1323, 0.0), (1329, 0.0), (1337, 0.0), (1342, 0.0), (1346, 0.0), (1359, 0.0), (1361, 0.0), (1367, 0.0), (1370, 0.0), (1373, 0.0), (1374, 0.0), (1377, 0.0), (1384, 0.0), (1385, 0.0), (1394, 0.0), (1398, 0.0), (1401, 0.0), (1402, 0.0), (1403, 0.0), (1410, 0.0), (1413, 0.0), (1427, 0.0), (1434, 0.0), (1437, 0.0), (1438, 0.0), (1440, 0.0), (1442, 0.0), (1443, 0.0), (1447, 0.0), (1451, 0.0), (1453, 0.0), (1456, 0.0), (1465, 0.0), (1472, 0.0), (1475, 0.0), (1486, 0.0), (1490, 0.0), (1494, 0.0), (1496, 0.0), (1497, 0.0), (1499, 0.0), (1506, 0.0), (1516, 0.0), (1520, 0.0), (1530, 0.0), (1534, 0.0), (1537, 0.0), (1540, 0.0), (1543, 0.0), (1548, 0.0), (1552, 0.0), (1554, 0.0), (1558, 0.0), (1559, 0.0), (1560, 0.0), (1574, 0.0), (1579, 0.0), (1580, 0.0), (1582, 0.0), (1583, 0.0), (1589, 0.0), (1591, 0.0), (1592, 0.0), (1598, 0.0), (1599, 0.0), (1610, 0.0), (1612, 0.0), (1613, 0.0), (1614, 0.0), (1620, 0.0), (1622, 0.0), (1627, 0.0), (1631, 0.0), (1633, 0.0), (1634, 0.0), (1636, 0.0), (1640, 0.0), (1642, 0.0), (1645, 0.0), (1651, 0.0), (1654, 0.0), (1656, 0.0), (1659, 0.0), (1668, 0.0), (1676, 0.0), (1696, 0.0), (1703, 0.0), (1707, 0.0), (1708, 0.0), (1709, 0.0), (1714, 0.0), (1715, 0.0), (1718, 0.0), (1719, 0.0), (1721, 0.0), (1722, 0.0), (1726, 0.0), (1727, 0.0), (1728, 0.0), (1735, 0.0), (1746, 0.0), (1747, 0.0), (1749, 0.0), (1759, 0.0), (1761, 0.0), (1763, 0.0), (1768, 0.0), (1773, 0.0), (1776, 0.0), (1777, 0.0), (1779, 0.0), (1784, 0.0), (1789, 0.0), (1791, 0.0), (1795, 0.0), (1796, 0.0), (1798, 0.0), (1803, 0.0), (1806, 0.0), (1807, 0.0), (1829, 0.0), (1836, 0.0), (1840, 0.0), (1843, 0.0), (1844, 0.0), (1845, 0.0), (1851, 0.0), (1857, 0.0), (1860, 0.0), (1864, 0.0), (1866, 0.0), (1882, 0.0), (1886, 0.0), (1889, 0.0), (1893, 0.0), (1898, 0.0), (1900, 0.0), (1903, 0.0), (1913, 0.0), (1915, 0.0), (1916, 0.0), (1917, 0.0), (1936, 0.0), (1943, 0.0), (1961, 0.0), (1962, 0.0), (1967, 0.0), (1970, 0.0), (1972, 0.0), (1974, 0.0), (1977, 0.0), (1978, 0.0), (1987, 0.0), (1994, 0.0), (1995, 0.0), (1996, 0.0), (1998, 0.0), (1999, 0.0), (2001, 0.0), (2007, 0.0), (2008, 0.0), (2013, 0.0), (2020, 0.0), (2021, 0.0), (2029, 0.0), (2039, 0.0), (2045, 0.0), (2048, 0.0), (2049, 0.0), (2052, 0.0), (2053, 0.0), (2061, 0.0), (2062, 0.0), (2072, 0.0), (2073, 0.0), (2080, 0.0), (2082, 0.0), (2089, 0.0), (2090, 0.0), (2094, 0.0), (2095, 0.0), (2096, 0.0), (2098, 0.0), (2099, 0.0), (2100, 0.0), (2104, 0.0), (2105, 0.0), (2107, 0.0), (2117, 0.0), (2142, 0.0), (2148, 0.0), (2152, 0.0), (2155, 0.0), (2187, 0.0), (2197, 0.0), (2200, 0.0), (2202, 0.0), (2204, 0.0), (2205, 0.0), (2206, 0.0), (2218, 0.0), (2227, 0.0), (2229, 0.0), (2235, 0.0), (2237, 0.0), (2241, 0.0), (2255, 0.0), (2258, 0.0), (2259, 0.0), (2267, 0.0), (2270, 0.0), (2285, 0.0), (2288, 0.0), (2290, 0.0), (2292, 0.0), (2299, 0.0), (2314, 0.0), (2315, 0.0), (2321, 0.0), (2323, 0.0), (2325, 0.0), (2326, 0.0), (2330, 0.0), (2333, 0.0), (2335, 0.0), (2336, 0.0), (2355, 0.0), (2366, 0.0), (2376, 0.0), (2377, 0.0), (2378, 0.0), (2393, 0.0), (2398, 0.0), (2400, 0.0), (2407, 0.0), (2411, 0.0), (2412, 0.0), (2417, 0.0), (2418, 0.0), (2419, 0.0), (2421, 0.0), (2431, 0.0), (2432, 0.0), (2439, 0.0), (2443, 0.0), (2451, 0.0), (2460, 0.0), (2463, 0.0), (2477, 0.0), (2483, 0.0), (2490, 0.0), (2492, 0.0), (2495, 0.0), (2498, 0.0), (2503, 0.0), (2515, 0.0), (2516, 0.0), (2524, 0.0), (2534, 0.0), (2550, 0.0), (2557, 0.0), (2561, 0.0), (2567, 0.0), (2572, 0.0), (2581, 0.0), (2582, 0.0), (2585, 0.0), (2587, 0.0), (2593, 0.0), (2597, 0.0), (2602, 0.0), (2603, 0.0), (2608, 0.0), (2611, 0.0), (2618, 0.0), (2624, 0.0), (2632, 0.0), (2638, 0.0), (2645, 0.0), (2660, 0.0), (2670, 0.0), (2675, 0.0), (2678, 0.0), (2679, 0.0), (2681, 0.0), (2682, 0.0), (2694, 0.0), (2696, 0.0), (2711, 0.0), (2721, 0.0), (2728, 0.0), (2739, 0.0), (2741, 0.0), (2747, 0.0), (2753, 0.0), (2757, 0.0), (2769, 0.0), (2774, 0.0), (2786, 0.0), (2787, 0.0), (2789, 0.0), (2801, 0.0), (2809, 0.0), (2815, 0.0), (2818, 0.0), (2821, 0.0), (2822, 0.0), (2823, 0.0), (2825, 0.0), (2827, 0.0), (2834, 0.0), (2837, 0.0), (2840, 0.0), (2843, 0.0), (2847, 0.0), (2848, 0.0), (2856, 0.0), (2859, 0.0), (2867, 0.0), (2871, 0.0), (2873, 0.0), (2874, 0.0), (2883, 0.0), (2894, 0.0), (2900, 0.0), (2905, 0.0), (2907, 0.0), (2910, 0.0), (2923, 0.0), (2926, 0.0), (2927, 0.0), (2933, 0.0), (2934, 0.0), (2936, 0.0), (2939, 0.0), (2943, 0.0), (2963, 0.0), (2969, 0.0), (2983, 0.0), (2984, 0.0), (2985, 0.0), (2987, 0.0), (2994, 0.0), (2995, 0.0), (3000, 0.0), (3003, 0.0), (3004, 0.0), (3007, 0.0), (3013, 0.0), (3019, 0.0), (3022, 0.0), (3026, 0.0), (3029, 0.0), (3034, 0.0), (3035, 0.0), (3040, 0.0), (3041, 0.0), (3042, 0.0), (3047, 0.0), (3050, 0.0), (3053, 0.0), (3055, 0.0), (3056, 0.0), (3058, 0.0), (3059, 0.0), (3061, 0.0), (3082, 0.0), (3084, 0.0), (3095, 0.0), (3103, 0.0), (3106, 0.0), (3111, 0.0), (3116, 0.0), (3126, 0.0), (3128, 0.0), (3133, 0.0), (3138, 0.0), (3141, 0.0), (3142, 0.0), (3144, 0.0), (3146, 0.0), (3147, 0.0), (3148, 0.0), (3151, 0.0), (3152, 0.0), (3153, 0.0), (3158, 0.0), (3163, 0.0), (3167, 0.0), (3168, 0.0), (3172, 0.0), (3173, 0.0), (3174, 0.0), (3176, 0.0), (3179, 0.0), (3180, 0.0), (3187, 0.0), (3189, 0.0), (3198, 0.0), (3207, 0.0), (3208, 0.0), (3209, 0.0), (3215, 0.0), (3219, 0.0), (3221, 0.0), (3235, 0.0), (3237, 0.0), (3240, 0.0), (3245, 0.0), (3251, 0.0), (3253, 0.0), (3254, 0.0), (3256, 0.0), (3260, 0.0), (3264, 0.0), (3265, 0.0), (3268, 0.0), (3279, 0.0), (3291, 0.0), (3296, 0.0), (3301, 0.0), (3308, 0.0), (3311, 0.0), (3314, 0.0), (3323, 0.0), (3325, 0.0), (3329, 0.0), (3336, 0.0), (3338, 0.0), (3340, 0.0), (3341, 0.0), (3347, 0.0), (3351, 0.0), (3354, 0.0), (3356, 0.0), (3358, 0.0), (3359, 0.0), (3360, 0.0), (3366, 0.0), (3376, 0.0), (3377, 0.0), (3388, 0.0), (3394, 0.0), (3402, 0.0), (3404, 0.0), (3405, 0.0), (3417, 0.0), (3423, 0.0), (3428, 0.0), (3432, 0.0), (3433, 0.0), (3444, 0.0), (3447, 0.0), (3451, 0.0), (3464, 0.0), (3465, 0.0), (3468, 0.0), (3469, 0.0), (3472, 0.0), (3482, 0.0), (3483, 0.0), (3489, 0.0), (3490, 0.0), (3495, 0.0), (3505, 0.0), (3507, 0.0), (3508, 0.0), (3511, 0.0), (3516, 0.0), (3520, 0.0), (3524, 0.0), (3528, 0.0), (3529, 0.0), (3551, 0.0), (3553, 0.0), (3554, 0.0), (3560, 0.0), (3562, 0.0), (3563, 0.0), (3565, 0.0), (3566, 0.0), (3570, 0.0), (3571, 0.0), (3574, 0.0), (3577, 0.0), (3578, 0.0), (3579, 0.0), (3580, 0.0), (3583, 0.0), (3591, 0.0), (3596, 0.0), (3597, 0.0), (3600, 0.0), (3602, 0.0), (3605, 0.0), (3606, 0.0), (3609, 0.0), (3623, 0.0), (3624, 0.0), (3625, 0.0), (3627, 0.0), (3628, 0.0), (3635, 0.0), (3639, 0.0), (3651, 0.0), (3656, 0.0), (3660, 0.0), (3661, 0.0), (3666, 0.0), (3668, 0.0), (3680, 0.0), (3684, 0.0), (3685, 0.0), (3690, 0.0), (3692, 0.0), (3701, 0.0), (3704, 0.0), (3712, 0.0), (3714, 0.0), (3721, 0.0), (3727, 0.0), (3728, 0.0), (3731, 0.0), (3742, 0.0), (3743, 0.0), (3744, 0.0), (3751, 0.0), (3753, 0.0), (3756, 0.0), (3759, 0.0), (3762, 0.0), (3767, 0.0), (3769, 0.0), (3772, 0.0), (3773, 0.0), (3775, 0.0), (3777, 0.0), (3781, 0.0), (3793, 0.0), (3794, 0.0), (3797, 0.0), (3813, 0.0), (3814, 0.0), (3815, 0.0), (3822, 0.0), (3831, 0.0), (3832, 0.0), (3833, 0.0), (3834, 0.0), (3836, 0.0), (3847, 0.0), (3850, 0.0), (3855, 0.0), (3856, 0.0), (3858, 0.0), (3860, 0.0), (3861, 0.0), (3866, 0.0), (3867, 0.0), (3881, 0.0), (3885, 0.0), (3889, 0.0), (3890, 0.0), (3891, 0.0), (3892, 0.0), (3896, 0.0), (3904, 0.0), (3909, 0.0), (3912, 0.0), (3915, 0.0), (3916, 0.0), (3919, 0.0), (3923, 0.0), (3927, 0.0), (3937, 0.0), (3940, 0.0), (3950, 0.0), (3955, 0.0), (3958, 0.0), (3961, 0.0), (3965, 0.0), (3966, 0.0), (3970, 0.0), (3977, 0.0), (3979, 0.0), (3986, 0.0), (3992, 0.0), (3999, 0.0), (4004, 0.0), (4008, 0.0), (4009, 0.0), (4015, 0.0), (4019, 0.0), (4021, 0.0), (4025, 0.0), (4032, 0.0), (4036, 0.0), (4042, 0.0), (4043, 0.0), (4046, 0.0), (4047, 0.0), (4049, 0.0), (4050, 0.0), (4055, 0.0), (4059, 0.0), (4073, 0.0), (4075, 0.0), (4076, 0.0), (4078, 0.0), (4079, 0.0), (4081, 0.0), (4082, 0.0), (4084, 0.0), (4100, 0.0), (4103, 0.0), (4113, 0.0), (4117, 0.0), (4120, 0.0), (4123, 0.0), (4127, 0.0), (4144, 0.0), (4145, 0.0), (4147, 0.0), (4148, 0.0), (4149, 0.0), (4152, 0.0), (4154, 0.0), (4155, 0.0), (4158, 0.0), (4161, 0.0), (4163, 0.0), (4168, 0.0), (4174, 0.0), (4183, 0.0), (4187, 0.0), (4188, 0.0), (4190, 0.0), (4193, 0.0), (4194, 0.0), (4200, 0.0), (4203, 0.0), (4221, 0.0), (4222, 0.0), (4226, 0.0), (4234, 0.0), (4240, 0.0), (4241, 0.0), (4244, 0.0), (4247, 0.0), (4249, 0.0), (4252, 0.0), (4255, 0.0), (4261, 0.0), (4263, 0.0), (4268, 0.0), (4274, 0.0), (4280, 0.0), (4282, 0.0), (4283, 0.0), (4285, 0.0), (4290, 0.0), (4297, 0.0), (4298, 0.0), (4299, 0.0), (4304, 0.0), (4306, 0.0), (4308, 0.0), (4311, 0.0), (4312, 0.0), (4313, 0.0), (4317, 0.0), (4319, 0.0), (4321, 0.0), (4322, 0.0), (4324, 0.0), (4325, 0.0), (4328, 0.0), (4332, 0.0), (4333, 0.0), (4334, 0.0), (4345, 0.0), (4346, 0.0), (4347, 0.0), (4349, 0.0), (4350, 0.0), (4353, 0.0), (4356, 0.0), (4358, 0.0), (4359, 0.0), (4362, 0.0), (4369, 0.0), (4372, 0.0), (4380, 0.0), (4387, 0.0), (4388, 0.0), (4389, 0.0), (4391, 0.0), (4393, 0.0), (4395, 0.0), (4396, 0.0), (4397, 0.0), (4398, 0.0), (4401, 0.0), (4406, 0.0), (4407, 0.0), (4419, 0.0), (4420, 0.0), (4426, 0.0), (4427, 0.0), (4430, 0.0), (4431, 0.0), (4437, 0.0), (4439, 0.0), (4441, 0.0), (4452, 0.0), (4456, 0.0), (4457, 0.0), (4464, 0.0), (4470, 0.0), (4472, 0.0), (4474, 0.0), (4475, 0.0), (4477, 0.0), (4478, 0.0), (4485, 0.0), (4486, 0.0), (4496, 0.0), (4497, 0.0), (4503, 0.0), (4504, 0.0), (4506, 0.0), (4510, 0.0), (4513, 0.0), (4522, 0.0), (4526, 0.0), (4527, 0.0), (4542, 0.0), (4544, 0.0), (4550, 0.0), (4551, 0.0), (4552, 0.0), (4553, 0.0), (4556, 0.0), (4558, 0.0), (4560, 0.0), (4564, 0.0), (4565, 0.0), (4567, 0.0), (4569, 0.0), (4574, 0.0), (4575, 0.0), (4584, 0.0), (4587, 0.0), (4589, 0.0), (4590, 0.0), (4599, 0.0), (4604, 0.0), (4612, 0.0), (4622, 0.0), (4628, 0.0), (4629, 0.0), (4634, 0.0), (4635, 0.0), (4639, 0.0), (4645, 0.0), (4650, 0.0), (4651, 0.0), (4656, 0.0), (4658, 0.0), (4663, 0.0), (4666, 0.0), (4671, 0.0), (4672, 0.0), (4674, 0.0), (4675, 0.0), (4685, 0.0), (4686, 0.0), (4688, 0.0), (4691, 0.0), (4695, 0.0), (4704, 0.0), (4712, 0.0), (4717, 0.0), (4718, 0.0), (4719, 0.0), (4724, 0.0), (4727, 0.0), (4729, 0.0), (4731, 0.0), (4734, 0.0), (4737, 0.0), (4738, 0.0), (4739, 0.0), (4741, 0.0), (4743, 0.0), (4747, 0.0), (4749, 0.0), (4751, 0.0), (4761, 0.0), (4763, 0.0), (4765, 0.0), (4767, 0.0), (4771, 0.0), (4772, 0.0), (4775, 0.0), (4777, 0.0), (4779, 0.0), (4785, 0.0), (4789, 0.0), (4793, 0.0), (4794, 0.0), (4797, 0.0), (4800, 0.0), (4808, 0.0)]\n"
     ]
    }
   ],
   "source": [
    "sorted_similar_movies=sorted(similarity_score,key=lambda x:x[1],reverse=True)\n",
    "print(sorted_similar_movies)"
   ]
  },
  {
   "cell_type": "code",
   "execution_count": 230,
   "id": "281ee3e9",
   "metadata": {},
   "outputs": [],
   "source": [
    "#getting the names of movies based on the index"
   ]
  },
  {
   "cell_type": "code",
   "execution_count": 231,
   "id": "4923c43c",
   "metadata": {},
   "outputs": [
    {
     "name": "stdout",
     "output_type": "stream",
     "text": [
      "Recommended movies for you: \n",
      "\n",
      "1 . Cinderella\n",
      "2 . Ella Enchanted\n",
      "3 . Happily N'Ever After\n",
      "4 . Into the Woods\n",
      "5 . Ever After: A Cinderella Story\n",
      "6 . Hamlet\n"
     ]
    }
   ],
   "source": [
    "print('Recommended movies for you: \\n')\n",
    "\n",
    "i=1\n",
    "\n",
    "for movie in sorted_similar_movies:\n",
    "    index=movie[0]\n",
    "    title_from_index=df_clean[df_clean.index==index]['title'].values[0]\n",
    "    if(i<7):\n",
    "        print(i,'.',title_from_index)\n",
    "        i+=1"
   ]
  },
  {
   "cell_type": "code",
   "execution_count": 233,
   "id": "e201d959",
   "metadata": {},
   "outputs": [
    {
     "name": "stdout",
     "output_type": "stream",
     "text": [
      "Enter your favorite movie: interstellar\n",
      "Recommended movies for you: \n",
      "\n",
      "1 . Interstellar\n",
      "2 . Contact\n",
      "3 . Apollo 13\n",
      "4 . The Martian\n",
      "5 . Space Cowboys\n",
      "6 . Space Pirate Captain Harlock\n"
     ]
    }
   ],
   "source": [
    "movie_name=input('Enter your favorite movie: ')\n",
    "\n",
    "list_of_all_titles=df_clean['title'].to_list()\n",
    "\n",
    "find_close_match=difflib.get_close_matches(movie_name,list_of_all_titles)\n",
    "\n",
    "close_match=find_close_match[0]\n",
    "\n",
    "index_of_the_movie=df_clean[df_clean.title==close_match]['mov_index'].values[0]\n",
    "\n",
    "similarity_score=list(enumerate(similarity[index_of_the_movie]))\n",
    "\n",
    "sorted_similar_movies=sorted(similarity_score,key=lambda x:x[1],reverse=True)\n",
    "\n",
    "print('Recommended movies for you: \\n')\n",
    "\n",
    "i=1\n",
    "\n",
    "for movie in sorted_similar_movies:\n",
    "    index=movie[0]\n",
    "    title_from_index=df_clean[df_clean.index==index]['title'].values[0]\n",
    "    if(i<7):\n",
    "        print(i,'.',title_from_index)\n",
    "        i+=1"
   ]
  },
  {
   "cell_type": "code",
   "execution_count": null,
   "id": "06eeee54",
   "metadata": {},
   "outputs": [],
   "source": []
  }
 ],
 "metadata": {
  "kernelspec": {
   "display_name": "Python 3 (ipykernel)",
   "language": "python",
   "name": "python3"
  },
  "language_info": {
   "codemirror_mode": {
    "name": "ipython",
    "version": 3
   },
   "file_extension": ".py",
   "mimetype": "text/x-python",
   "name": "python",
   "nbconvert_exporter": "python",
   "pygments_lexer": "ipython3",
   "version": "3.9.12"
  }
 },
 "nbformat": 4,
 "nbformat_minor": 5
}
